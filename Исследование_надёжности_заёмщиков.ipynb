{
 "cells": [
  {
   "cell_type": "markdown",
   "metadata": {},
   "source": [
    "# Исследование надёжности заёмщиков\n",
    "\n",
    "**Заказчик исследования** — кредитный отдел банка. Нужно разобраться, влияет ли семейное положение и количество детей клиента на факт погашения кредита в срок. Входные данные от банка — статистика о платёжеспособности клиентов, а именно таблица с данными, на основе которых необходимо выявить зависимости.\n",
    "\n",
    "Результаты исследования будут учтены при построении модели **кредитного скоринга** — специальной системы, которая оценивает способность потенциального заёмщика вернуть кредит банку."
   ]
  },
  {
   "cell_type": "markdown",
   "metadata": {},
   "source": [
    "## Обзор данных"
   ]
  },
  {
   "cell_type": "code",
   "execution_count": 90,
   "metadata": {},
   "outputs": [],
   "source": [
    "# импорт библиотек и методов\n",
    "import pandas as pd\n",
    "from IPython.display import display"
   ]
  },
  {
   "cell_type": "code",
   "execution_count": 91,
   "metadata": {},
   "outputs": [],
   "source": [
    "# чтение файла\n",
    "df = pd.read_csv('/datasets/data.csv')"
   ]
  },
  {
   "cell_type": "code",
   "execution_count": 92,
   "metadata": {},
   "outputs": [
    {
     "data": {
      "text/html": [
       "<div>\n",
       "<style scoped>\n",
       "    .dataframe tbody tr th:only-of-type {\n",
       "        vertical-align: middle;\n",
       "    }\n",
       "\n",
       "    .dataframe tbody tr th {\n",
       "        vertical-align: top;\n",
       "    }\n",
       "\n",
       "    .dataframe thead th {\n",
       "        text-align: right;\n",
       "    }\n",
       "</style>\n",
       "<table border=\"1\" class=\"dataframe\">\n",
       "  <thead>\n",
       "    <tr style=\"text-align: right;\">\n",
       "      <th></th>\n",
       "      <th>children</th>\n",
       "      <th>days_employed</th>\n",
       "      <th>dob_years</th>\n",
       "      <th>education</th>\n",
       "      <th>education_id</th>\n",
       "      <th>family_status</th>\n",
       "      <th>family_status_id</th>\n",
       "      <th>gender</th>\n",
       "      <th>income_type</th>\n",
       "      <th>debt</th>\n",
       "      <th>total_income</th>\n",
       "      <th>purpose</th>\n",
       "    </tr>\n",
       "  </thead>\n",
       "  <tbody>\n",
       "    <tr>\n",
       "      <td>0</td>\n",
       "      <td>1</td>\n",
       "      <td>-8437.673028</td>\n",
       "      <td>42</td>\n",
       "      <td>высшее</td>\n",
       "      <td>0</td>\n",
       "      <td>женат / замужем</td>\n",
       "      <td>0</td>\n",
       "      <td>F</td>\n",
       "      <td>сотрудник</td>\n",
       "      <td>0</td>\n",
       "      <td>253875.639453</td>\n",
       "      <td>покупка жилья</td>\n",
       "    </tr>\n",
       "    <tr>\n",
       "      <td>1</td>\n",
       "      <td>1</td>\n",
       "      <td>-4024.803754</td>\n",
       "      <td>36</td>\n",
       "      <td>среднее</td>\n",
       "      <td>1</td>\n",
       "      <td>женат / замужем</td>\n",
       "      <td>0</td>\n",
       "      <td>F</td>\n",
       "      <td>сотрудник</td>\n",
       "      <td>0</td>\n",
       "      <td>112080.014102</td>\n",
       "      <td>приобретение автомобиля</td>\n",
       "    </tr>\n",
       "    <tr>\n",
       "      <td>2</td>\n",
       "      <td>0</td>\n",
       "      <td>-5623.422610</td>\n",
       "      <td>33</td>\n",
       "      <td>Среднее</td>\n",
       "      <td>1</td>\n",
       "      <td>женат / замужем</td>\n",
       "      <td>0</td>\n",
       "      <td>M</td>\n",
       "      <td>сотрудник</td>\n",
       "      <td>0</td>\n",
       "      <td>145885.952297</td>\n",
       "      <td>покупка жилья</td>\n",
       "    </tr>\n",
       "    <tr>\n",
       "      <td>3</td>\n",
       "      <td>3</td>\n",
       "      <td>-4124.747207</td>\n",
       "      <td>32</td>\n",
       "      <td>среднее</td>\n",
       "      <td>1</td>\n",
       "      <td>женат / замужем</td>\n",
       "      <td>0</td>\n",
       "      <td>M</td>\n",
       "      <td>сотрудник</td>\n",
       "      <td>0</td>\n",
       "      <td>267628.550329</td>\n",
       "      <td>дополнительное образование</td>\n",
       "    </tr>\n",
       "    <tr>\n",
       "      <td>4</td>\n",
       "      <td>0</td>\n",
       "      <td>340266.072047</td>\n",
       "      <td>53</td>\n",
       "      <td>среднее</td>\n",
       "      <td>1</td>\n",
       "      <td>гражданский брак</td>\n",
       "      <td>1</td>\n",
       "      <td>F</td>\n",
       "      <td>пенсионер</td>\n",
       "      <td>0</td>\n",
       "      <td>158616.077870</td>\n",
       "      <td>сыграть свадьбу</td>\n",
       "    </tr>\n",
       "    <tr>\n",
       "      <td>5</td>\n",
       "      <td>0</td>\n",
       "      <td>-926.185831</td>\n",
       "      <td>27</td>\n",
       "      <td>высшее</td>\n",
       "      <td>0</td>\n",
       "      <td>гражданский брак</td>\n",
       "      <td>1</td>\n",
       "      <td>M</td>\n",
       "      <td>компаньон</td>\n",
       "      <td>0</td>\n",
       "      <td>255763.565419</td>\n",
       "      <td>покупка жилья</td>\n",
       "    </tr>\n",
       "    <tr>\n",
       "      <td>6</td>\n",
       "      <td>0</td>\n",
       "      <td>-2879.202052</td>\n",
       "      <td>43</td>\n",
       "      <td>высшее</td>\n",
       "      <td>0</td>\n",
       "      <td>женат / замужем</td>\n",
       "      <td>0</td>\n",
       "      <td>F</td>\n",
       "      <td>компаньон</td>\n",
       "      <td>0</td>\n",
       "      <td>240525.971920</td>\n",
       "      <td>операции с жильем</td>\n",
       "    </tr>\n",
       "    <tr>\n",
       "      <td>7</td>\n",
       "      <td>0</td>\n",
       "      <td>-152.779569</td>\n",
       "      <td>50</td>\n",
       "      <td>СРЕДНЕЕ</td>\n",
       "      <td>1</td>\n",
       "      <td>женат / замужем</td>\n",
       "      <td>0</td>\n",
       "      <td>M</td>\n",
       "      <td>сотрудник</td>\n",
       "      <td>0</td>\n",
       "      <td>135823.934197</td>\n",
       "      <td>образование</td>\n",
       "    </tr>\n",
       "    <tr>\n",
       "      <td>8</td>\n",
       "      <td>2</td>\n",
       "      <td>-6929.865299</td>\n",
       "      <td>35</td>\n",
       "      <td>ВЫСШЕЕ</td>\n",
       "      <td>0</td>\n",
       "      <td>гражданский брак</td>\n",
       "      <td>1</td>\n",
       "      <td>F</td>\n",
       "      <td>сотрудник</td>\n",
       "      <td>0</td>\n",
       "      <td>95856.832424</td>\n",
       "      <td>на проведение свадьбы</td>\n",
       "    </tr>\n",
       "    <tr>\n",
       "      <td>9</td>\n",
       "      <td>0</td>\n",
       "      <td>-2188.756445</td>\n",
       "      <td>41</td>\n",
       "      <td>среднее</td>\n",
       "      <td>1</td>\n",
       "      <td>женат / замужем</td>\n",
       "      <td>0</td>\n",
       "      <td>M</td>\n",
       "      <td>сотрудник</td>\n",
       "      <td>0</td>\n",
       "      <td>144425.938277</td>\n",
       "      <td>покупка жилья для семьи</td>\n",
       "    </tr>\n",
       "  </tbody>\n",
       "</table>\n",
       "</div>"
      ],
      "text/plain": [
       "   children  days_employed  dob_years education  education_id  \\\n",
       "0         1   -8437.673028         42    высшее             0   \n",
       "1         1   -4024.803754         36   среднее             1   \n",
       "2         0   -5623.422610         33   Среднее             1   \n",
       "3         3   -4124.747207         32   среднее             1   \n",
       "4         0  340266.072047         53   среднее             1   \n",
       "5         0    -926.185831         27    высшее             0   \n",
       "6         0   -2879.202052         43    высшее             0   \n",
       "7         0    -152.779569         50   СРЕДНЕЕ             1   \n",
       "8         2   -6929.865299         35    ВЫСШЕЕ             0   \n",
       "9         0   -2188.756445         41   среднее             1   \n",
       "\n",
       "      family_status  family_status_id gender income_type  debt   total_income  \\\n",
       "0   женат / замужем                 0      F   сотрудник     0  253875.639453   \n",
       "1   женат / замужем                 0      F   сотрудник     0  112080.014102   \n",
       "2   женат / замужем                 0      M   сотрудник     0  145885.952297   \n",
       "3   женат / замужем                 0      M   сотрудник     0  267628.550329   \n",
       "4  гражданский брак                 1      F   пенсионер     0  158616.077870   \n",
       "5  гражданский брак                 1      M   компаньон     0  255763.565419   \n",
       "6   женат / замужем                 0      F   компаньон     0  240525.971920   \n",
       "7   женат / замужем                 0      M   сотрудник     0  135823.934197   \n",
       "8  гражданский брак                 1      F   сотрудник     0   95856.832424   \n",
       "9   женат / замужем                 0      M   сотрудник     0  144425.938277   \n",
       "\n",
       "                      purpose  \n",
       "0               покупка жилья  \n",
       "1     приобретение автомобиля  \n",
       "2               покупка жилья  \n",
       "3  дополнительное образование  \n",
       "4             сыграть свадьбу  \n",
       "5               покупка жилья  \n",
       "6           операции с жильем  \n",
       "7                 образование  \n",
       "8       на проведение свадьбы  \n",
       "9     покупка жилья для семьи  "
      ]
     },
     "execution_count": 92,
     "metadata": {},
     "output_type": "execute_result"
    }
   ],
   "source": [
    "# вывод первых десяти строк таблицы\n",
    "df.head(10)"
   ]
  },
  {
   "cell_type": "code",
   "execution_count": 93,
   "metadata": {
    "scrolled": true
   },
   "outputs": [
    {
     "name": "stdout",
     "output_type": "stream",
     "text": [
      "<class 'pandas.core.frame.DataFrame'>\n",
      "RangeIndex: 21525 entries, 0 to 21524\n",
      "Data columns (total 12 columns):\n",
      "children            21525 non-null int64\n",
      "days_employed       19351 non-null float64\n",
      "dob_years           21525 non-null int64\n",
      "education           21525 non-null object\n",
      "education_id        21525 non-null int64\n",
      "family_status       21525 non-null object\n",
      "family_status_id    21525 non-null int64\n",
      "gender              21525 non-null object\n",
      "income_type         21525 non-null object\n",
      "debt                21525 non-null int64\n",
      "total_income        19351 non-null float64\n",
      "purpose             21525 non-null object\n",
      "dtypes: float64(2), int64(5), object(5)\n",
      "memory usage: 2.0+ MB\n"
     ]
    }
   ],
   "source": [
    "# получение общей информации о данных в таблице df\n",
    "df.info()"
   ]
  },
  {
   "cell_type": "code",
   "execution_count": 94,
   "metadata": {},
   "outputs": [
    {
     "data": {
      "text/html": [
       "<div>\n",
       "<style scoped>\n",
       "    .dataframe tbody tr th:only-of-type {\n",
       "        vertical-align: middle;\n",
       "    }\n",
       "\n",
       "    .dataframe tbody tr th {\n",
       "        vertical-align: top;\n",
       "    }\n",
       "\n",
       "    .dataframe thead th {\n",
       "        text-align: right;\n",
       "    }\n",
       "</style>\n",
       "<table border=\"1\" class=\"dataframe\">\n",
       "  <thead>\n",
       "    <tr style=\"text-align: right;\">\n",
       "      <th></th>\n",
       "      <th>children</th>\n",
       "      <th>days_employed</th>\n",
       "      <th>dob_years</th>\n",
       "      <th>education_id</th>\n",
       "      <th>family_status_id</th>\n",
       "      <th>debt</th>\n",
       "      <th>total_income</th>\n",
       "    </tr>\n",
       "  </thead>\n",
       "  <tbody>\n",
       "    <tr>\n",
       "      <td>count</td>\n",
       "      <td>21525.000000</td>\n",
       "      <td>19351.000000</td>\n",
       "      <td>21525.000000</td>\n",
       "      <td>21525.000000</td>\n",
       "      <td>21525.000000</td>\n",
       "      <td>21525.000000</td>\n",
       "      <td>1.935100e+04</td>\n",
       "    </tr>\n",
       "    <tr>\n",
       "      <td>mean</td>\n",
       "      <td>0.538908</td>\n",
       "      <td>63046.497661</td>\n",
       "      <td>43.293380</td>\n",
       "      <td>0.817236</td>\n",
       "      <td>0.972544</td>\n",
       "      <td>0.080883</td>\n",
       "      <td>1.674223e+05</td>\n",
       "    </tr>\n",
       "    <tr>\n",
       "      <td>std</td>\n",
       "      <td>1.381587</td>\n",
       "      <td>140827.311974</td>\n",
       "      <td>12.574584</td>\n",
       "      <td>0.548138</td>\n",
       "      <td>1.420324</td>\n",
       "      <td>0.272661</td>\n",
       "      <td>1.029716e+05</td>\n",
       "    </tr>\n",
       "    <tr>\n",
       "      <td>min</td>\n",
       "      <td>-1.000000</td>\n",
       "      <td>-18388.949901</td>\n",
       "      <td>0.000000</td>\n",
       "      <td>0.000000</td>\n",
       "      <td>0.000000</td>\n",
       "      <td>0.000000</td>\n",
       "      <td>2.066726e+04</td>\n",
       "    </tr>\n",
       "    <tr>\n",
       "      <td>25%</td>\n",
       "      <td>0.000000</td>\n",
       "      <td>-2747.423625</td>\n",
       "      <td>33.000000</td>\n",
       "      <td>1.000000</td>\n",
       "      <td>0.000000</td>\n",
       "      <td>0.000000</td>\n",
       "      <td>1.030532e+05</td>\n",
       "    </tr>\n",
       "    <tr>\n",
       "      <td>50%</td>\n",
       "      <td>0.000000</td>\n",
       "      <td>-1203.369529</td>\n",
       "      <td>42.000000</td>\n",
       "      <td>1.000000</td>\n",
       "      <td>0.000000</td>\n",
       "      <td>0.000000</td>\n",
       "      <td>1.450179e+05</td>\n",
       "    </tr>\n",
       "    <tr>\n",
       "      <td>75%</td>\n",
       "      <td>1.000000</td>\n",
       "      <td>-291.095954</td>\n",
       "      <td>53.000000</td>\n",
       "      <td>1.000000</td>\n",
       "      <td>1.000000</td>\n",
       "      <td>0.000000</td>\n",
       "      <td>2.034351e+05</td>\n",
       "    </tr>\n",
       "    <tr>\n",
       "      <td>max</td>\n",
       "      <td>20.000000</td>\n",
       "      <td>401755.400475</td>\n",
       "      <td>75.000000</td>\n",
       "      <td>4.000000</td>\n",
       "      <td>4.000000</td>\n",
       "      <td>1.000000</td>\n",
       "      <td>2.265604e+06</td>\n",
       "    </tr>\n",
       "  </tbody>\n",
       "</table>\n",
       "</div>"
      ],
      "text/plain": [
       "           children  days_employed     dob_years  education_id  \\\n",
       "count  21525.000000   19351.000000  21525.000000  21525.000000   \n",
       "mean       0.538908   63046.497661     43.293380      0.817236   \n",
       "std        1.381587  140827.311974     12.574584      0.548138   \n",
       "min       -1.000000  -18388.949901      0.000000      0.000000   \n",
       "25%        0.000000   -2747.423625     33.000000      1.000000   \n",
       "50%        0.000000   -1203.369529     42.000000      1.000000   \n",
       "75%        1.000000    -291.095954     53.000000      1.000000   \n",
       "max       20.000000  401755.400475     75.000000      4.000000   \n",
       "\n",
       "       family_status_id          debt  total_income  \n",
       "count      21525.000000  21525.000000  1.935100e+04  \n",
       "mean           0.972544      0.080883  1.674223e+05  \n",
       "std            1.420324      0.272661  1.029716e+05  \n",
       "min            0.000000      0.000000  2.066726e+04  \n",
       "25%            0.000000      0.000000  1.030532e+05  \n",
       "50%            0.000000      0.000000  1.450179e+05  \n",
       "75%            1.000000      0.000000  2.034351e+05  \n",
       "max            4.000000      1.000000  2.265604e+06  "
      ]
     },
     "execution_count": 94,
     "metadata": {},
     "output_type": "execute_result"
    }
   ],
   "source": [
    "# получение сводки числовых значений данных в таблице df\n",
    "df.describe()"
   ]
  },
  {
   "cell_type": "markdown",
   "metadata": {},
   "source": [
    "Из полученной информации следует, что таблица содержит 12 столбцов с типами данных:\n",
    "\n",
    "- `float64`\n",
    "- `int64`\n",
    "- `object`"
   ]
  },
  {
   "cell_type": "markdown",
   "metadata": {},
   "source": [
    "**Исходные данные:**\n",
    "\n",
    "- `children` — количество детей в семье\n",
    "- `days_employed` — общий трудовой стаж в днях\n",
    "- `dob_years` — возраст клиента в годах\n",
    "- `education` — уровень образования клиента\n",
    "- `education_id` — идентификатор уровня образования\n",
    "- `family_status` — семейное положение\n",
    "- `family_status_id` — идентификатор семейного положения\n",
    "- `gender` — пол клиента\n",
    "- `income_type` — тип занятости\n",
    "- `debt` — имел ли задолженность по возврату кредитов\n",
    "- `total_income` — ежемесячный доход\n",
    "- `purpose` — цель получения кредита\n",
    "\n",
    "\n",
    "В названиях колонок отсутствуют нарушения стиля.\n",
    "Количество значений в столбцах различается. Следовательно, в данных есть пропущенные значения. В столбцах `children` и `days_employed` присутствуют отрицательные значения, чего быть не должно."
   ]
  },
  {
   "cell_type": "markdown",
   "metadata": {},
   "source": [
    "**Выводы**"
   ]
  },
  {
   "cell_type": "markdown",
   "metadata": {},
   "source": [
    "Каждая строка таблицы  —  данные о потенциальном клиенте кредитного отдела банка. Колонки входной таблицы предоставляют информацию о поле и возрасте клиента, его семейной жизни *(количество детей в семье, семейное положение, идентификатор семейного положения)*, карьерно-образовательном статусе *(уровень образования клиента, идентификатор уровня образования, тип занятости, ежемесячный доход)*, а такаже о цели получения кредита и имеющейся задолженности по возврату кредитов в срок.\n",
    "\n",
    "Предварительно можно утверждать, что данных достаточно для исследования надёжности заёмщиков. Однако в данных встречаются пропуски, дубликаты, некорректно введенные значения. \n",
    "\n",
    "Чтобы проводить исследование, необходимо прежде всего устранить проблемы в данных."
   ]
  },
  {
   "cell_type": "markdown",
   "metadata": {},
   "source": [
    "## Шаг 2. Предобработка данных"
   ]
  },
  {
   "cell_type": "markdown",
   "metadata": {},
   "source": [
    "### Обработка пропусков"
   ]
  },
  {
   "cell_type": "code",
   "execution_count": 95,
   "metadata": {},
   "outputs": [
    {
     "data": {
      "text/plain": [
       "children            0.000000\n",
       "days_employed       0.100999\n",
       "dob_years           0.000000\n",
       "education           0.000000\n",
       "education_id        0.000000\n",
       "family_status       0.000000\n",
       "family_status_id    0.000000\n",
       "gender              0.000000\n",
       "income_type         0.000000\n",
       "debt                0.000000\n",
       "total_income        0.100999\n",
       "purpose             0.000000\n",
       "dtype: float64"
      ]
     },
     "execution_count": 95,
     "metadata": {},
     "output_type": "execute_result"
    }
   ],
   "source": [
    "# подсчёт доли пропусков\n",
    "df.isna().mean()"
   ]
  },
  {
   "cell_type": "markdown",
   "metadata": {},
   "source": [
    "В таблице обнаружены пропуски количественных переменных в `days_employed` и `total_income`. Возможные причины пропусков — отсутствие рабочего стажа у потенциальных клиентов, нежелание отражать свой заработок, подсчитывать общий трудовой стаж в днях. Пропуски составляют 10% от общего количества информации - доля значительная, поэтому необходимо заполнить их адекватными значениями. "
   ]
  },
  {
   "cell_type": "markdown",
   "metadata": {},
   "source": [
    "Для начала заполним пропуски в столбцах `days_employed` и `total_income` переменными типа *unknown*, чтобы впоследствии можно было совершать операции с этими ячейками:"
   ]
  },
  {
   "cell_type": "code",
   "execution_count": 96,
   "metadata": {},
   "outputs": [],
   "source": [
    "# заполнение пропусков столбцов \"days_employed\" и \"total_income\"\n",
    "df['days_employed'] = df['days_employed'].fillna('unknown')\n",
    "df['total_income'] = df['total_income'].fillna('unknown')"
   ]
  },
  {
   "cell_type": "code",
   "execution_count": 97,
   "metadata": {},
   "outputs": [
    {
     "data": {
      "text/plain": [
       "children            0\n",
       "days_employed       0\n",
       "dob_years           0\n",
       "education           0\n",
       "education_id        0\n",
       "family_status       0\n",
       "family_status_id    0\n",
       "gender              0\n",
       "income_type         0\n",
       "debt                0\n",
       "total_income        0\n",
       "purpose             0\n",
       "dtype: int64"
      ]
     },
     "execution_count": 97,
     "metadata": {},
     "output_type": "execute_result"
    }
   ],
   "source": [
    "# проверка наличия пропусков\n",
    "df.isna().sum()"
   ]
  },
  {
   "cell_type": "markdown",
   "metadata": {},
   "source": [
    "Чтобы заполнить пропуски в столбце `total_income` адекватными значениями, необходимо определить: данные из каких колонок могут влиять на значения в указанном столбце. В нашем случае на ежемесячный доход могут влиять образование `education`, общий трудовой стаж в днях `days_employed`, тип занятости `income_type`."
   ]
  },
  {
   "cell_type": "markdown",
   "metadata": {},
   "source": [
    "Будем заполнять пропуски в столбце `total_income` зависимости от типа занятости `income_type`."
   ]
  },
  {
   "cell_type": "markdown",
   "metadata": {},
   "source": [
    "Отфильтруем таблицу данных таким образом, чтобы в ней осталась информация только о тех данных, которые нужно заменить адекватными значениями. Запишем отфильтрованную таблицу в новую переменную. "
   ]
  },
  {
   "cell_type": "code",
   "execution_count": 98,
   "metadata": {
    "scrolled": true
   },
   "outputs": [
    {
     "data": {
      "text/html": [
       "<div>\n",
       "<style scoped>\n",
       "    .dataframe tbody tr th:only-of-type {\n",
       "        vertical-align: middle;\n",
       "    }\n",
       "\n",
       "    .dataframe tbody tr th {\n",
       "        vertical-align: top;\n",
       "    }\n",
       "\n",
       "    .dataframe thead th {\n",
       "        text-align: right;\n",
       "    }\n",
       "</style>\n",
       "<table border=\"1\" class=\"dataframe\">\n",
       "  <thead>\n",
       "    <tr style=\"text-align: right;\">\n",
       "      <th></th>\n",
       "      <th>children</th>\n",
       "      <th>days_employed</th>\n",
       "      <th>dob_years</th>\n",
       "      <th>education</th>\n",
       "      <th>education_id</th>\n",
       "      <th>family_status</th>\n",
       "      <th>family_status_id</th>\n",
       "      <th>gender</th>\n",
       "      <th>income_type</th>\n",
       "      <th>debt</th>\n",
       "      <th>total_income</th>\n",
       "      <th>purpose</th>\n",
       "    </tr>\n",
       "  </thead>\n",
       "  <tbody>\n",
       "    <tr>\n",
       "      <td>12</td>\n",
       "      <td>0</td>\n",
       "      <td>unknown</td>\n",
       "      <td>65</td>\n",
       "      <td>среднее</td>\n",
       "      <td>1</td>\n",
       "      <td>гражданский брак</td>\n",
       "      <td>1</td>\n",
       "      <td>M</td>\n",
       "      <td>пенсионер</td>\n",
       "      <td>0</td>\n",
       "      <td>unknown</td>\n",
       "      <td>сыграть свадьбу</td>\n",
       "    </tr>\n",
       "    <tr>\n",
       "      <td>26</td>\n",
       "      <td>0</td>\n",
       "      <td>unknown</td>\n",
       "      <td>41</td>\n",
       "      <td>среднее</td>\n",
       "      <td>1</td>\n",
       "      <td>женат / замужем</td>\n",
       "      <td>0</td>\n",
       "      <td>M</td>\n",
       "      <td>госслужащий</td>\n",
       "      <td>0</td>\n",
       "      <td>unknown</td>\n",
       "      <td>образование</td>\n",
       "    </tr>\n",
       "    <tr>\n",
       "      <td>29</td>\n",
       "      <td>0</td>\n",
       "      <td>unknown</td>\n",
       "      <td>63</td>\n",
       "      <td>среднее</td>\n",
       "      <td>1</td>\n",
       "      <td>Не женат / не замужем</td>\n",
       "      <td>4</td>\n",
       "      <td>F</td>\n",
       "      <td>пенсионер</td>\n",
       "      <td>0</td>\n",
       "      <td>unknown</td>\n",
       "      <td>строительство жилой недвижимости</td>\n",
       "    </tr>\n",
       "    <tr>\n",
       "      <td>41</td>\n",
       "      <td>0</td>\n",
       "      <td>unknown</td>\n",
       "      <td>50</td>\n",
       "      <td>среднее</td>\n",
       "      <td>1</td>\n",
       "      <td>женат / замужем</td>\n",
       "      <td>0</td>\n",
       "      <td>F</td>\n",
       "      <td>госслужащий</td>\n",
       "      <td>0</td>\n",
       "      <td>unknown</td>\n",
       "      <td>сделка с подержанным автомобилем</td>\n",
       "    </tr>\n",
       "    <tr>\n",
       "      <td>55</td>\n",
       "      <td>0</td>\n",
       "      <td>unknown</td>\n",
       "      <td>54</td>\n",
       "      <td>среднее</td>\n",
       "      <td>1</td>\n",
       "      <td>гражданский брак</td>\n",
       "      <td>1</td>\n",
       "      <td>F</td>\n",
       "      <td>пенсионер</td>\n",
       "      <td>1</td>\n",
       "      <td>unknown</td>\n",
       "      <td>сыграть свадьбу</td>\n",
       "    </tr>\n",
       "    <tr>\n",
       "      <td>...</td>\n",
       "      <td>...</td>\n",
       "      <td>...</td>\n",
       "      <td>...</td>\n",
       "      <td>...</td>\n",
       "      <td>...</td>\n",
       "      <td>...</td>\n",
       "      <td>...</td>\n",
       "      <td>...</td>\n",
       "      <td>...</td>\n",
       "      <td>...</td>\n",
       "      <td>...</td>\n",
       "      <td>...</td>\n",
       "    </tr>\n",
       "    <tr>\n",
       "      <td>21489</td>\n",
       "      <td>2</td>\n",
       "      <td>unknown</td>\n",
       "      <td>47</td>\n",
       "      <td>Среднее</td>\n",
       "      <td>1</td>\n",
       "      <td>женат / замужем</td>\n",
       "      <td>0</td>\n",
       "      <td>M</td>\n",
       "      <td>компаньон</td>\n",
       "      <td>0</td>\n",
       "      <td>unknown</td>\n",
       "      <td>сделка с автомобилем</td>\n",
       "    </tr>\n",
       "    <tr>\n",
       "      <td>21495</td>\n",
       "      <td>1</td>\n",
       "      <td>unknown</td>\n",
       "      <td>50</td>\n",
       "      <td>среднее</td>\n",
       "      <td>1</td>\n",
       "      <td>гражданский брак</td>\n",
       "      <td>1</td>\n",
       "      <td>F</td>\n",
       "      <td>сотрудник</td>\n",
       "      <td>0</td>\n",
       "      <td>unknown</td>\n",
       "      <td>свадьба</td>\n",
       "    </tr>\n",
       "    <tr>\n",
       "      <td>21497</td>\n",
       "      <td>0</td>\n",
       "      <td>unknown</td>\n",
       "      <td>48</td>\n",
       "      <td>ВЫСШЕЕ</td>\n",
       "      <td>0</td>\n",
       "      <td>женат / замужем</td>\n",
       "      <td>0</td>\n",
       "      <td>F</td>\n",
       "      <td>компаньон</td>\n",
       "      <td>0</td>\n",
       "      <td>unknown</td>\n",
       "      <td>строительство недвижимости</td>\n",
       "    </tr>\n",
       "    <tr>\n",
       "      <td>21502</td>\n",
       "      <td>1</td>\n",
       "      <td>unknown</td>\n",
       "      <td>42</td>\n",
       "      <td>среднее</td>\n",
       "      <td>1</td>\n",
       "      <td>женат / замужем</td>\n",
       "      <td>0</td>\n",
       "      <td>F</td>\n",
       "      <td>сотрудник</td>\n",
       "      <td>0</td>\n",
       "      <td>unknown</td>\n",
       "      <td>строительство жилой недвижимости</td>\n",
       "    </tr>\n",
       "    <tr>\n",
       "      <td>21510</td>\n",
       "      <td>2</td>\n",
       "      <td>unknown</td>\n",
       "      <td>28</td>\n",
       "      <td>среднее</td>\n",
       "      <td>1</td>\n",
       "      <td>женат / замужем</td>\n",
       "      <td>0</td>\n",
       "      <td>F</td>\n",
       "      <td>сотрудник</td>\n",
       "      <td>0</td>\n",
       "      <td>unknown</td>\n",
       "      <td>приобретение автомобиля</td>\n",
       "    </tr>\n",
       "  </tbody>\n",
       "</table>\n",
       "<p>2174 rows × 12 columns</p>\n",
       "</div>"
      ],
      "text/plain": [
       "       children days_employed  dob_years education  education_id  \\\n",
       "12            0       unknown         65   среднее             1   \n",
       "26            0       unknown         41   среднее             1   \n",
       "29            0       unknown         63   среднее             1   \n",
       "41            0       unknown         50   среднее             1   \n",
       "55            0       unknown         54   среднее             1   \n",
       "...         ...           ...        ...       ...           ...   \n",
       "21489         2       unknown         47   Среднее             1   \n",
       "21495         1       unknown         50   среднее             1   \n",
       "21497         0       unknown         48    ВЫСШЕЕ             0   \n",
       "21502         1       unknown         42   среднее             1   \n",
       "21510         2       unknown         28   среднее             1   \n",
       "\n",
       "               family_status  family_status_id gender  income_type  debt  \\\n",
       "12          гражданский брак                 1      M    пенсионер     0   \n",
       "26           женат / замужем                 0      M  госслужащий     0   \n",
       "29     Не женат / не замужем                 4      F    пенсионер     0   \n",
       "41           женат / замужем                 0      F  госслужащий     0   \n",
       "55          гражданский брак                 1      F    пенсионер     1   \n",
       "...                      ...               ...    ...          ...   ...   \n",
       "21489        женат / замужем                 0      M    компаньон     0   \n",
       "21495       гражданский брак                 1      F    сотрудник     0   \n",
       "21497        женат / замужем                 0      F    компаньон     0   \n",
       "21502        женат / замужем                 0      F    сотрудник     0   \n",
       "21510        женат / замужем                 0      F    сотрудник     0   \n",
       "\n",
       "      total_income                           purpose  \n",
       "12         unknown                   сыграть свадьбу  \n",
       "26         unknown                       образование  \n",
       "29         unknown  строительство жилой недвижимости  \n",
       "41         unknown  сделка с подержанным автомобилем  \n",
       "55         unknown                   сыграть свадьбу  \n",
       "...            ...                               ...  \n",
       "21489      unknown              сделка с автомобилем  \n",
       "21495      unknown                           свадьба  \n",
       "21497      unknown        строительство недвижимости  \n",
       "21502      unknown  строительство жилой недвижимости  \n",
       "21510      unknown           приобретение автомобиля  \n",
       "\n",
       "[2174 rows x 12 columns]"
      ]
     },
     "metadata": {},
     "output_type": "display_data"
    }
   ],
   "source": [
    "# создание таблицы данных, подлежащих обработке\n",
    "df_filtered = df[df['total_income'] == 'unknown']\n",
    "df_filtered = df_filtered[df_filtered['days_employed'] == 'unknown']\n",
    "display(df_filtered)"
   ]
  },
  {
   "cell_type": "markdown",
   "metadata": {},
   "source": [
    "Посмотрим, какие типы занятости представлены в отфильтрованной таблице:"
   ]
  },
  {
   "cell_type": "code",
   "execution_count": 99,
   "metadata": {},
   "outputs": [
    {
     "data": {
      "text/plain": [
       "сотрудник          1105\n",
       "компаньон           508\n",
       "пенсионер           413\n",
       "госслужащий         147\n",
       "предприниматель       1\n",
       "Name: income_type, dtype: int64"
      ]
     },
     "execution_count": 99,
     "metadata": {},
     "output_type": "execute_result"
    }
   ],
   "source": [
    "# вывод уникальных значений столбца \"income_type\"\n",
    "df_filtered['income_type'].value_counts()"
   ]
  },
  {
   "cell_type": "markdown",
   "metadata": {},
   "source": [
    "Значения типа *unknown* в столбце `total_income` таблицы *df* заполним медианными значениями в зависимости от типа занятости. Для каждого типа занятости найдём медианное значение ежемесячного дохода."
   ]
  },
  {
   "cell_type": "code",
   "execution_count": 100,
   "metadata": {},
   "outputs": [
    {
     "name": "stdout",
     "output_type": "stream",
     "text": [
      "[142594, 172357, 118514, 150447, 499163]\n"
     ]
    }
   ],
   "source": [
    "# цикл для нахождения медианных значений\n",
    "income_types = ['сотрудник', 'компаньон', 'пенсионер', 'госслужащий', 'предприниматель']\n",
    "median_values_income_type = []\n",
    "\n",
    "for income_type in income_types:\n",
    "    df_filtered = df[df['income_type'] == income_type]\n",
    "    df_filtered = df_filtered[df_filtered['total_income'] != 'unknown']\n",
    "    median_values_income_type.append(df_filtered['total_income'].median().astype('int'))\n",
    "    \n",
    "print(median_values_income_type)"
   ]
  },
  {
   "cell_type": "markdown",
   "metadata": {},
   "source": [
    "Создадим функцию, которая будет присваивать медианное значение ежемесячного дохода в зависимости от типа занятости:"
   ]
  },
  {
   "cell_type": "code",
   "execution_count": 101,
   "metadata": {},
   "outputs": [],
   "source": [
    "# функция медианных значений ежемесячного дохода\n",
    "def median_income_type(income_type):\n",
    "    \"\"\"\n",
    "    Присваивает медианное значение ежемесячного дохода по значению типа занятости, используя правила:\n",
    "    - '142594', если 'income_type' = 'сотрудник',\n",
    "    - '172357', если 'income_type' = 'компаньон',\n",
    "    - '118514', если 'income_type' = 'пенсионер',\n",
    "    - '150447', если 'income_type' = 'госслужащий',\n",
    "    - '499163', если 'income_type' = 'предприниматель',\n",
    "    \"\"\"\n",
    "    if income_type == 'сотрудник':\n",
    "        return 142594\n",
    "    if income_type == 'компаньон':\n",
    "        return 172357\n",
    "    if income_type == 'пенсионер':\n",
    "        return 118514\n",
    "    if income_type == 'госслужащий':\n",
    "        return 150447\n",
    "    if income_type == 'предприниматель':\n",
    "        return 499163"
   ]
  },
  {
   "cell_type": "markdown",
   "metadata": {},
   "source": [
    "Проверка работы функции:"
   ]
  },
  {
   "cell_type": "code",
   "execution_count": 102,
   "metadata": {},
   "outputs": [
    {
     "name": "stdout",
     "output_type": "stream",
     "text": [
      "142594\n",
      "172357\n",
      "118514\n",
      "150447\n",
      "499163\n"
     ]
    }
   ],
   "source": [
    "print(median_income_type('сотрудник'))\n",
    "print(median_income_type('компаньон'))\n",
    "print(median_income_type('пенсионер'))\n",
    "print(median_income_type('госслужащий'))\n",
    "print(median_income_type('предприниматель'))"
   ]
  },
  {
   "cell_type": "markdown",
   "metadata": {},
   "source": [
    "Функция работает корректно."
   ]
  },
  {
   "cell_type": "markdown",
   "metadata": {},
   "source": [
    "Применяем функцию `median_income_type` к столбцу `income_type`. Результаты записываем в новый столбец."
   ]
  },
  {
   "cell_type": "code",
   "execution_count": 103,
   "metadata": {},
   "outputs": [
    {
     "data": {
      "text/html": [
       "<div>\n",
       "<style scoped>\n",
       "    .dataframe tbody tr th:only-of-type {\n",
       "        vertical-align: middle;\n",
       "    }\n",
       "\n",
       "    .dataframe tbody tr th {\n",
       "        vertical-align: top;\n",
       "    }\n",
       "\n",
       "    .dataframe thead th {\n",
       "        text-align: right;\n",
       "    }\n",
       "</style>\n",
       "<table border=\"1\" class=\"dataframe\">\n",
       "  <thead>\n",
       "    <tr style=\"text-align: right;\">\n",
       "      <th></th>\n",
       "      <th>children</th>\n",
       "      <th>days_employed</th>\n",
       "      <th>dob_years</th>\n",
       "      <th>education</th>\n",
       "      <th>education_id</th>\n",
       "      <th>family_status</th>\n",
       "      <th>family_status_id</th>\n",
       "      <th>gender</th>\n",
       "      <th>income_type</th>\n",
       "      <th>debt</th>\n",
       "      <th>total_income</th>\n",
       "      <th>purpose</th>\n",
       "      <th>total_income_median</th>\n",
       "    </tr>\n",
       "  </thead>\n",
       "  <tbody>\n",
       "    <tr>\n",
       "      <td>0</td>\n",
       "      <td>1</td>\n",
       "      <td>-8437.67</td>\n",
       "      <td>42</td>\n",
       "      <td>высшее</td>\n",
       "      <td>0</td>\n",
       "      <td>женат / замужем</td>\n",
       "      <td>0</td>\n",
       "      <td>F</td>\n",
       "      <td>сотрудник</td>\n",
       "      <td>0</td>\n",
       "      <td>253876</td>\n",
       "      <td>покупка жилья</td>\n",
       "      <td>142594.0</td>\n",
       "    </tr>\n",
       "    <tr>\n",
       "      <td>1</td>\n",
       "      <td>1</td>\n",
       "      <td>-4024.8</td>\n",
       "      <td>36</td>\n",
       "      <td>среднее</td>\n",
       "      <td>1</td>\n",
       "      <td>женат / замужем</td>\n",
       "      <td>0</td>\n",
       "      <td>F</td>\n",
       "      <td>сотрудник</td>\n",
       "      <td>0</td>\n",
       "      <td>112080</td>\n",
       "      <td>приобретение автомобиля</td>\n",
       "      <td>142594.0</td>\n",
       "    </tr>\n",
       "    <tr>\n",
       "      <td>2</td>\n",
       "      <td>0</td>\n",
       "      <td>-5623.42</td>\n",
       "      <td>33</td>\n",
       "      <td>Среднее</td>\n",
       "      <td>1</td>\n",
       "      <td>женат / замужем</td>\n",
       "      <td>0</td>\n",
       "      <td>M</td>\n",
       "      <td>сотрудник</td>\n",
       "      <td>0</td>\n",
       "      <td>145886</td>\n",
       "      <td>покупка жилья</td>\n",
       "      <td>142594.0</td>\n",
       "    </tr>\n",
       "    <tr>\n",
       "      <td>3</td>\n",
       "      <td>3</td>\n",
       "      <td>-4124.75</td>\n",
       "      <td>32</td>\n",
       "      <td>среднее</td>\n",
       "      <td>1</td>\n",
       "      <td>женат / замужем</td>\n",
       "      <td>0</td>\n",
       "      <td>M</td>\n",
       "      <td>сотрудник</td>\n",
       "      <td>0</td>\n",
       "      <td>267629</td>\n",
       "      <td>дополнительное образование</td>\n",
       "      <td>142594.0</td>\n",
       "    </tr>\n",
       "    <tr>\n",
       "      <td>4</td>\n",
       "      <td>0</td>\n",
       "      <td>340266</td>\n",
       "      <td>53</td>\n",
       "      <td>среднее</td>\n",
       "      <td>1</td>\n",
       "      <td>гражданский брак</td>\n",
       "      <td>1</td>\n",
       "      <td>F</td>\n",
       "      <td>пенсионер</td>\n",
       "      <td>0</td>\n",
       "      <td>158616</td>\n",
       "      <td>сыграть свадьбу</td>\n",
       "      <td>118514.0</td>\n",
       "    </tr>\n",
       "    <tr>\n",
       "      <td>5</td>\n",
       "      <td>0</td>\n",
       "      <td>-926.186</td>\n",
       "      <td>27</td>\n",
       "      <td>высшее</td>\n",
       "      <td>0</td>\n",
       "      <td>гражданский брак</td>\n",
       "      <td>1</td>\n",
       "      <td>M</td>\n",
       "      <td>компаньон</td>\n",
       "      <td>0</td>\n",
       "      <td>255764</td>\n",
       "      <td>покупка жилья</td>\n",
       "      <td>172357.0</td>\n",
       "    </tr>\n",
       "    <tr>\n",
       "      <td>6</td>\n",
       "      <td>0</td>\n",
       "      <td>-2879.2</td>\n",
       "      <td>43</td>\n",
       "      <td>высшее</td>\n",
       "      <td>0</td>\n",
       "      <td>женат / замужем</td>\n",
       "      <td>0</td>\n",
       "      <td>F</td>\n",
       "      <td>компаньон</td>\n",
       "      <td>0</td>\n",
       "      <td>240526</td>\n",
       "      <td>операции с жильем</td>\n",
       "      <td>172357.0</td>\n",
       "    </tr>\n",
       "    <tr>\n",
       "      <td>7</td>\n",
       "      <td>0</td>\n",
       "      <td>-152.78</td>\n",
       "      <td>50</td>\n",
       "      <td>СРЕДНЕЕ</td>\n",
       "      <td>1</td>\n",
       "      <td>женат / замужем</td>\n",
       "      <td>0</td>\n",
       "      <td>M</td>\n",
       "      <td>сотрудник</td>\n",
       "      <td>0</td>\n",
       "      <td>135824</td>\n",
       "      <td>образование</td>\n",
       "      <td>142594.0</td>\n",
       "    </tr>\n",
       "    <tr>\n",
       "      <td>8</td>\n",
       "      <td>2</td>\n",
       "      <td>-6929.87</td>\n",
       "      <td>35</td>\n",
       "      <td>ВЫСШЕЕ</td>\n",
       "      <td>0</td>\n",
       "      <td>гражданский брак</td>\n",
       "      <td>1</td>\n",
       "      <td>F</td>\n",
       "      <td>сотрудник</td>\n",
       "      <td>0</td>\n",
       "      <td>95856.8</td>\n",
       "      <td>на проведение свадьбы</td>\n",
       "      <td>142594.0</td>\n",
       "    </tr>\n",
       "    <tr>\n",
       "      <td>9</td>\n",
       "      <td>0</td>\n",
       "      <td>-2188.76</td>\n",
       "      <td>41</td>\n",
       "      <td>среднее</td>\n",
       "      <td>1</td>\n",
       "      <td>женат / замужем</td>\n",
       "      <td>0</td>\n",
       "      <td>M</td>\n",
       "      <td>сотрудник</td>\n",
       "      <td>0</td>\n",
       "      <td>144426</td>\n",
       "      <td>покупка жилья для семьи</td>\n",
       "      <td>142594.0</td>\n",
       "    </tr>\n",
       "    <tr>\n",
       "      <td>10</td>\n",
       "      <td>2</td>\n",
       "      <td>-4171.48</td>\n",
       "      <td>36</td>\n",
       "      <td>высшее</td>\n",
       "      <td>0</td>\n",
       "      <td>женат / замужем</td>\n",
       "      <td>0</td>\n",
       "      <td>M</td>\n",
       "      <td>компаньон</td>\n",
       "      <td>0</td>\n",
       "      <td>113943</td>\n",
       "      <td>покупка недвижимости</td>\n",
       "      <td>172357.0</td>\n",
       "    </tr>\n",
       "    <tr>\n",
       "      <td>11</td>\n",
       "      <td>0</td>\n",
       "      <td>-792.702</td>\n",
       "      <td>40</td>\n",
       "      <td>среднее</td>\n",
       "      <td>1</td>\n",
       "      <td>женат / замужем</td>\n",
       "      <td>0</td>\n",
       "      <td>F</td>\n",
       "      <td>сотрудник</td>\n",
       "      <td>0</td>\n",
       "      <td>77069.2</td>\n",
       "      <td>покупка коммерческой недвижимости</td>\n",
       "      <td>142594.0</td>\n",
       "    </tr>\n",
       "    <tr>\n",
       "      <td>12</td>\n",
       "      <td>0</td>\n",
       "      <td>unknown</td>\n",
       "      <td>65</td>\n",
       "      <td>среднее</td>\n",
       "      <td>1</td>\n",
       "      <td>гражданский брак</td>\n",
       "      <td>1</td>\n",
       "      <td>M</td>\n",
       "      <td>пенсионер</td>\n",
       "      <td>0</td>\n",
       "      <td>unknown</td>\n",
       "      <td>сыграть свадьбу</td>\n",
       "      <td>118514.0</td>\n",
       "    </tr>\n",
       "    <tr>\n",
       "      <td>13</td>\n",
       "      <td>0</td>\n",
       "      <td>-1846.64</td>\n",
       "      <td>54</td>\n",
       "      <td>неоконченное высшее</td>\n",
       "      <td>2</td>\n",
       "      <td>женат / замужем</td>\n",
       "      <td>0</td>\n",
       "      <td>F</td>\n",
       "      <td>сотрудник</td>\n",
       "      <td>0</td>\n",
       "      <td>130458</td>\n",
       "      <td>приобретение автомобиля</td>\n",
       "      <td>142594.0</td>\n",
       "    </tr>\n",
       "    <tr>\n",
       "      <td>14</td>\n",
       "      <td>0</td>\n",
       "      <td>-1844.96</td>\n",
       "      <td>56</td>\n",
       "      <td>высшее</td>\n",
       "      <td>0</td>\n",
       "      <td>гражданский брак</td>\n",
       "      <td>1</td>\n",
       "      <td>F</td>\n",
       "      <td>компаньон</td>\n",
       "      <td>1</td>\n",
       "      <td>165128</td>\n",
       "      <td>покупка жилой недвижимости</td>\n",
       "      <td>172357.0</td>\n",
       "    </tr>\n",
       "  </tbody>\n",
       "</table>\n",
       "</div>"
      ],
      "text/plain": [
       "    children days_employed  dob_years            education  education_id  \\\n",
       "0          1      -8437.67         42               высшее             0   \n",
       "1          1       -4024.8         36              среднее             1   \n",
       "2          0      -5623.42         33              Среднее             1   \n",
       "3          3      -4124.75         32              среднее             1   \n",
       "4          0        340266         53              среднее             1   \n",
       "5          0      -926.186         27               высшее             0   \n",
       "6          0       -2879.2         43               высшее             0   \n",
       "7          0       -152.78         50              СРЕДНЕЕ             1   \n",
       "8          2      -6929.87         35               ВЫСШЕЕ             0   \n",
       "9          0      -2188.76         41              среднее             1   \n",
       "10         2      -4171.48         36               высшее             0   \n",
       "11         0      -792.702         40              среднее             1   \n",
       "12         0       unknown         65              среднее             1   \n",
       "13         0      -1846.64         54  неоконченное высшее             2   \n",
       "14         0      -1844.96         56               высшее             0   \n",
       "\n",
       "       family_status  family_status_id gender income_type  debt total_income  \\\n",
       "0    женат / замужем                 0      F   сотрудник     0       253876   \n",
       "1    женат / замужем                 0      F   сотрудник     0       112080   \n",
       "2    женат / замужем                 0      M   сотрудник     0       145886   \n",
       "3    женат / замужем                 0      M   сотрудник     0       267629   \n",
       "4   гражданский брак                 1      F   пенсионер     0       158616   \n",
       "5   гражданский брак                 1      M   компаньон     0       255764   \n",
       "6    женат / замужем                 0      F   компаньон     0       240526   \n",
       "7    женат / замужем                 0      M   сотрудник     0       135824   \n",
       "8   гражданский брак                 1      F   сотрудник     0      95856.8   \n",
       "9    женат / замужем                 0      M   сотрудник     0       144426   \n",
       "10   женат / замужем                 0      M   компаньон     0       113943   \n",
       "11   женат / замужем                 0      F   сотрудник     0      77069.2   \n",
       "12  гражданский брак                 1      M   пенсионер     0      unknown   \n",
       "13   женат / замужем                 0      F   сотрудник     0       130458   \n",
       "14  гражданский брак                 1      F   компаньон     1       165128   \n",
       "\n",
       "                              purpose  total_income_median  \n",
       "0                       покупка жилья             142594.0  \n",
       "1             приобретение автомобиля             142594.0  \n",
       "2                       покупка жилья             142594.0  \n",
       "3          дополнительное образование             142594.0  \n",
       "4                     сыграть свадьбу             118514.0  \n",
       "5                       покупка жилья             172357.0  \n",
       "6                   операции с жильем             172357.0  \n",
       "7                         образование             142594.0  \n",
       "8               на проведение свадьбы             142594.0  \n",
       "9             покупка жилья для семьи             142594.0  \n",
       "10               покупка недвижимости             172357.0  \n",
       "11  покупка коммерческой недвижимости             142594.0  \n",
       "12                    сыграть свадьбу             118514.0  \n",
       "13            приобретение автомобиля             142594.0  \n",
       "14         покупка жилой недвижимости             172357.0  "
      ]
     },
     "execution_count": 103,
     "metadata": {},
     "output_type": "execute_result"
    }
   ],
   "source": [
    "# применение функции\n",
    "df['total_income_median'] = df['income_type'].apply(median_income_type)  \n",
    "df.head(15)"
   ]
  },
  {
   "cell_type": "markdown",
   "metadata": {},
   "source": [
    "Заменяем значения типа *unknown* значениями из нового столбца:"
   ]
  },
  {
   "cell_type": "code",
   "execution_count": 104,
   "metadata": {
    "scrolled": true
   },
   "outputs": [
    {
     "data": {
      "text/html": [
       "<div>\n",
       "<style scoped>\n",
       "    .dataframe tbody tr th:only-of-type {\n",
       "        vertical-align: middle;\n",
       "    }\n",
       "\n",
       "    .dataframe tbody tr th {\n",
       "        vertical-align: top;\n",
       "    }\n",
       "\n",
       "    .dataframe thead th {\n",
       "        text-align: right;\n",
       "    }\n",
       "</style>\n",
       "<table border=\"1\" class=\"dataframe\">\n",
       "  <thead>\n",
       "    <tr style=\"text-align: right;\">\n",
       "      <th></th>\n",
       "      <th>children</th>\n",
       "      <th>days_employed</th>\n",
       "      <th>dob_years</th>\n",
       "      <th>education</th>\n",
       "      <th>education_id</th>\n",
       "      <th>family_status</th>\n",
       "      <th>family_status_id</th>\n",
       "      <th>gender</th>\n",
       "      <th>income_type</th>\n",
       "      <th>debt</th>\n",
       "      <th>total_income</th>\n",
       "      <th>purpose</th>\n",
       "      <th>total_income_median</th>\n",
       "    </tr>\n",
       "  </thead>\n",
       "  <tbody>\n",
       "    <tr>\n",
       "      <td>0</td>\n",
       "      <td>1</td>\n",
       "      <td>-8437.67</td>\n",
       "      <td>42</td>\n",
       "      <td>высшее</td>\n",
       "      <td>0</td>\n",
       "      <td>женат / замужем</td>\n",
       "      <td>0</td>\n",
       "      <td>F</td>\n",
       "      <td>сотрудник</td>\n",
       "      <td>0</td>\n",
       "      <td>253876</td>\n",
       "      <td>покупка жилья</td>\n",
       "      <td>142594.0</td>\n",
       "    </tr>\n",
       "    <tr>\n",
       "      <td>1</td>\n",
       "      <td>1</td>\n",
       "      <td>-4024.8</td>\n",
       "      <td>36</td>\n",
       "      <td>среднее</td>\n",
       "      <td>1</td>\n",
       "      <td>женат / замужем</td>\n",
       "      <td>0</td>\n",
       "      <td>F</td>\n",
       "      <td>сотрудник</td>\n",
       "      <td>0</td>\n",
       "      <td>112080</td>\n",
       "      <td>приобретение автомобиля</td>\n",
       "      <td>142594.0</td>\n",
       "    </tr>\n",
       "    <tr>\n",
       "      <td>2</td>\n",
       "      <td>0</td>\n",
       "      <td>-5623.42</td>\n",
       "      <td>33</td>\n",
       "      <td>Среднее</td>\n",
       "      <td>1</td>\n",
       "      <td>женат / замужем</td>\n",
       "      <td>0</td>\n",
       "      <td>M</td>\n",
       "      <td>сотрудник</td>\n",
       "      <td>0</td>\n",
       "      <td>145886</td>\n",
       "      <td>покупка жилья</td>\n",
       "      <td>142594.0</td>\n",
       "    </tr>\n",
       "    <tr>\n",
       "      <td>3</td>\n",
       "      <td>3</td>\n",
       "      <td>-4124.75</td>\n",
       "      <td>32</td>\n",
       "      <td>среднее</td>\n",
       "      <td>1</td>\n",
       "      <td>женат / замужем</td>\n",
       "      <td>0</td>\n",
       "      <td>M</td>\n",
       "      <td>сотрудник</td>\n",
       "      <td>0</td>\n",
       "      <td>267629</td>\n",
       "      <td>дополнительное образование</td>\n",
       "      <td>142594.0</td>\n",
       "    </tr>\n",
       "    <tr>\n",
       "      <td>4</td>\n",
       "      <td>0</td>\n",
       "      <td>340266</td>\n",
       "      <td>53</td>\n",
       "      <td>среднее</td>\n",
       "      <td>1</td>\n",
       "      <td>гражданский брак</td>\n",
       "      <td>1</td>\n",
       "      <td>F</td>\n",
       "      <td>пенсионер</td>\n",
       "      <td>0</td>\n",
       "      <td>158616</td>\n",
       "      <td>сыграть свадьбу</td>\n",
       "      <td>118514.0</td>\n",
       "    </tr>\n",
       "    <tr>\n",
       "      <td>5</td>\n",
       "      <td>0</td>\n",
       "      <td>-926.186</td>\n",
       "      <td>27</td>\n",
       "      <td>высшее</td>\n",
       "      <td>0</td>\n",
       "      <td>гражданский брак</td>\n",
       "      <td>1</td>\n",
       "      <td>M</td>\n",
       "      <td>компаньон</td>\n",
       "      <td>0</td>\n",
       "      <td>255764</td>\n",
       "      <td>покупка жилья</td>\n",
       "      <td>172357.0</td>\n",
       "    </tr>\n",
       "    <tr>\n",
       "      <td>6</td>\n",
       "      <td>0</td>\n",
       "      <td>-2879.2</td>\n",
       "      <td>43</td>\n",
       "      <td>высшее</td>\n",
       "      <td>0</td>\n",
       "      <td>женат / замужем</td>\n",
       "      <td>0</td>\n",
       "      <td>F</td>\n",
       "      <td>компаньон</td>\n",
       "      <td>0</td>\n",
       "      <td>240526</td>\n",
       "      <td>операции с жильем</td>\n",
       "      <td>172357.0</td>\n",
       "    </tr>\n",
       "    <tr>\n",
       "      <td>7</td>\n",
       "      <td>0</td>\n",
       "      <td>-152.78</td>\n",
       "      <td>50</td>\n",
       "      <td>СРЕДНЕЕ</td>\n",
       "      <td>1</td>\n",
       "      <td>женат / замужем</td>\n",
       "      <td>0</td>\n",
       "      <td>M</td>\n",
       "      <td>сотрудник</td>\n",
       "      <td>0</td>\n",
       "      <td>135824</td>\n",
       "      <td>образование</td>\n",
       "      <td>142594.0</td>\n",
       "    </tr>\n",
       "    <tr>\n",
       "      <td>8</td>\n",
       "      <td>2</td>\n",
       "      <td>-6929.87</td>\n",
       "      <td>35</td>\n",
       "      <td>ВЫСШЕЕ</td>\n",
       "      <td>0</td>\n",
       "      <td>гражданский брак</td>\n",
       "      <td>1</td>\n",
       "      <td>F</td>\n",
       "      <td>сотрудник</td>\n",
       "      <td>0</td>\n",
       "      <td>95856.8</td>\n",
       "      <td>на проведение свадьбы</td>\n",
       "      <td>142594.0</td>\n",
       "    </tr>\n",
       "    <tr>\n",
       "      <td>9</td>\n",
       "      <td>0</td>\n",
       "      <td>-2188.76</td>\n",
       "      <td>41</td>\n",
       "      <td>среднее</td>\n",
       "      <td>1</td>\n",
       "      <td>женат / замужем</td>\n",
       "      <td>0</td>\n",
       "      <td>M</td>\n",
       "      <td>сотрудник</td>\n",
       "      <td>0</td>\n",
       "      <td>144426</td>\n",
       "      <td>покупка жилья для семьи</td>\n",
       "      <td>142594.0</td>\n",
       "    </tr>\n",
       "    <tr>\n",
       "      <td>10</td>\n",
       "      <td>2</td>\n",
       "      <td>-4171.48</td>\n",
       "      <td>36</td>\n",
       "      <td>высшее</td>\n",
       "      <td>0</td>\n",
       "      <td>женат / замужем</td>\n",
       "      <td>0</td>\n",
       "      <td>M</td>\n",
       "      <td>компаньон</td>\n",
       "      <td>0</td>\n",
       "      <td>113943</td>\n",
       "      <td>покупка недвижимости</td>\n",
       "      <td>172357.0</td>\n",
       "    </tr>\n",
       "    <tr>\n",
       "      <td>11</td>\n",
       "      <td>0</td>\n",
       "      <td>-792.702</td>\n",
       "      <td>40</td>\n",
       "      <td>среднее</td>\n",
       "      <td>1</td>\n",
       "      <td>женат / замужем</td>\n",
       "      <td>0</td>\n",
       "      <td>F</td>\n",
       "      <td>сотрудник</td>\n",
       "      <td>0</td>\n",
       "      <td>77069.2</td>\n",
       "      <td>покупка коммерческой недвижимости</td>\n",
       "      <td>142594.0</td>\n",
       "    </tr>\n",
       "    <tr>\n",
       "      <td>12</td>\n",
       "      <td>0</td>\n",
       "      <td>unknown</td>\n",
       "      <td>65</td>\n",
       "      <td>среднее</td>\n",
       "      <td>1</td>\n",
       "      <td>гражданский брак</td>\n",
       "      <td>1</td>\n",
       "      <td>M</td>\n",
       "      <td>пенсионер</td>\n",
       "      <td>0</td>\n",
       "      <td>118514</td>\n",
       "      <td>сыграть свадьбу</td>\n",
       "      <td>118514.0</td>\n",
       "    </tr>\n",
       "    <tr>\n",
       "      <td>13</td>\n",
       "      <td>0</td>\n",
       "      <td>-1846.64</td>\n",
       "      <td>54</td>\n",
       "      <td>неоконченное высшее</td>\n",
       "      <td>2</td>\n",
       "      <td>женат / замужем</td>\n",
       "      <td>0</td>\n",
       "      <td>F</td>\n",
       "      <td>сотрудник</td>\n",
       "      <td>0</td>\n",
       "      <td>130458</td>\n",
       "      <td>приобретение автомобиля</td>\n",
       "      <td>142594.0</td>\n",
       "    </tr>\n",
       "    <tr>\n",
       "      <td>14</td>\n",
       "      <td>0</td>\n",
       "      <td>-1844.96</td>\n",
       "      <td>56</td>\n",
       "      <td>высшее</td>\n",
       "      <td>0</td>\n",
       "      <td>гражданский брак</td>\n",
       "      <td>1</td>\n",
       "      <td>F</td>\n",
       "      <td>компаньон</td>\n",
       "      <td>1</td>\n",
       "      <td>165128</td>\n",
       "      <td>покупка жилой недвижимости</td>\n",
       "      <td>172357.0</td>\n",
       "    </tr>\n",
       "  </tbody>\n",
       "</table>\n",
       "</div>"
      ],
      "text/plain": [
       "    children days_employed  dob_years            education  education_id  \\\n",
       "0          1      -8437.67         42               высшее             0   \n",
       "1          1       -4024.8         36              среднее             1   \n",
       "2          0      -5623.42         33              Среднее             1   \n",
       "3          3      -4124.75         32              среднее             1   \n",
       "4          0        340266         53              среднее             1   \n",
       "5          0      -926.186         27               высшее             0   \n",
       "6          0       -2879.2         43               высшее             0   \n",
       "7          0       -152.78         50              СРЕДНЕЕ             1   \n",
       "8          2      -6929.87         35               ВЫСШЕЕ             0   \n",
       "9          0      -2188.76         41              среднее             1   \n",
       "10         2      -4171.48         36               высшее             0   \n",
       "11         0      -792.702         40              среднее             1   \n",
       "12         0       unknown         65              среднее             1   \n",
       "13         0      -1846.64         54  неоконченное высшее             2   \n",
       "14         0      -1844.96         56               высшее             0   \n",
       "\n",
       "       family_status  family_status_id gender income_type  debt total_income  \\\n",
       "0    женат / замужем                 0      F   сотрудник     0       253876   \n",
       "1    женат / замужем                 0      F   сотрудник     0       112080   \n",
       "2    женат / замужем                 0      M   сотрудник     0       145886   \n",
       "3    женат / замужем                 0      M   сотрудник     0       267629   \n",
       "4   гражданский брак                 1      F   пенсионер     0       158616   \n",
       "5   гражданский брак                 1      M   компаньон     0       255764   \n",
       "6    женат / замужем                 0      F   компаньон     0       240526   \n",
       "7    женат / замужем                 0      M   сотрудник     0       135824   \n",
       "8   гражданский брак                 1      F   сотрудник     0      95856.8   \n",
       "9    женат / замужем                 0      M   сотрудник     0       144426   \n",
       "10   женат / замужем                 0      M   компаньон     0       113943   \n",
       "11   женат / замужем                 0      F   сотрудник     0      77069.2   \n",
       "12  гражданский брак                 1      M   пенсионер     0       118514   \n",
       "13   женат / замужем                 0      F   сотрудник     0       130458   \n",
       "14  гражданский брак                 1      F   компаньон     1       165128   \n",
       "\n",
       "                              purpose  total_income_median  \n",
       "0                       покупка жилья             142594.0  \n",
       "1             приобретение автомобиля             142594.0  \n",
       "2                       покупка жилья             142594.0  \n",
       "3          дополнительное образование             142594.0  \n",
       "4                     сыграть свадьбу             118514.0  \n",
       "5                       покупка жилья             172357.0  \n",
       "6                   операции с жильем             172357.0  \n",
       "7                         образование             142594.0  \n",
       "8               на проведение свадьбы             142594.0  \n",
       "9             покупка жилья для семьи             142594.0  \n",
       "10               покупка недвижимости             172357.0  \n",
       "11  покупка коммерческой недвижимости             142594.0  \n",
       "12                    сыграть свадьбу             118514.0  \n",
       "13            приобретение автомобиля             142594.0  \n",
       "14         покупка жилой недвижимости             172357.0  "
      ]
     },
     "metadata": {},
     "output_type": "display_data"
    }
   ],
   "source": [
    "# замена пропусков адекватными значениями\n",
    "df.loc[df['total_income'] == 'unknown', 'total_income'] = df['total_income_median']\n",
    "display(df.head(15))"
   ]
  },
  {
   "cell_type": "markdown",
   "metadata": {},
   "source": [
    "Проверяем столбец `total_income` на наличие переменных типа *unknown*:"
   ]
  },
  {
   "cell_type": "code",
   "execution_count": 105,
   "metadata": {},
   "outputs": [
    {
     "name": "stdout",
     "output_type": "stream",
     "text": [
      "Empty DataFrame\n",
      "Columns: [children, days_employed, dob_years, education, education_id, family_status, family_status_id, gender, income_type, debt, total_income, purpose, total_income_median]\n",
      "Index: []\n"
     ]
    }
   ],
   "source": [
    "# проверка\n",
    "print(df[df['total_income'] == 'unknown'])"
   ]
  },
  {
   "cell_type": "markdown",
   "metadata": {},
   "source": [
    "Удаляем столбец `total_income_median`, т.к. он больше не нужен."
   ]
  },
  {
   "cell_type": "code",
   "execution_count": 106,
   "metadata": {},
   "outputs": [
    {
     "data": {
      "text/html": [
       "<div>\n",
       "<style scoped>\n",
       "    .dataframe tbody tr th:only-of-type {\n",
       "        vertical-align: middle;\n",
       "    }\n",
       "\n",
       "    .dataframe tbody tr th {\n",
       "        vertical-align: top;\n",
       "    }\n",
       "\n",
       "    .dataframe thead th {\n",
       "        text-align: right;\n",
       "    }\n",
       "</style>\n",
       "<table border=\"1\" class=\"dataframe\">\n",
       "  <thead>\n",
       "    <tr style=\"text-align: right;\">\n",
       "      <th></th>\n",
       "      <th>children</th>\n",
       "      <th>days_employed</th>\n",
       "      <th>dob_years</th>\n",
       "      <th>education</th>\n",
       "      <th>education_id</th>\n",
       "      <th>family_status</th>\n",
       "      <th>family_status_id</th>\n",
       "      <th>gender</th>\n",
       "      <th>income_type</th>\n",
       "      <th>debt</th>\n",
       "      <th>total_income</th>\n",
       "      <th>purpose</th>\n",
       "    </tr>\n",
       "  </thead>\n",
       "  <tbody>\n",
       "    <tr>\n",
       "      <td>0</td>\n",
       "      <td>1</td>\n",
       "      <td>-8437.67</td>\n",
       "      <td>42</td>\n",
       "      <td>высшее</td>\n",
       "      <td>0</td>\n",
       "      <td>женат / замужем</td>\n",
       "      <td>0</td>\n",
       "      <td>F</td>\n",
       "      <td>сотрудник</td>\n",
       "      <td>0</td>\n",
       "      <td>253876</td>\n",
       "      <td>покупка жилья</td>\n",
       "    </tr>\n",
       "    <tr>\n",
       "      <td>1</td>\n",
       "      <td>1</td>\n",
       "      <td>-4024.8</td>\n",
       "      <td>36</td>\n",
       "      <td>среднее</td>\n",
       "      <td>1</td>\n",
       "      <td>женат / замужем</td>\n",
       "      <td>0</td>\n",
       "      <td>F</td>\n",
       "      <td>сотрудник</td>\n",
       "      <td>0</td>\n",
       "      <td>112080</td>\n",
       "      <td>приобретение автомобиля</td>\n",
       "    </tr>\n",
       "    <tr>\n",
       "      <td>2</td>\n",
       "      <td>0</td>\n",
       "      <td>-5623.42</td>\n",
       "      <td>33</td>\n",
       "      <td>Среднее</td>\n",
       "      <td>1</td>\n",
       "      <td>женат / замужем</td>\n",
       "      <td>0</td>\n",
       "      <td>M</td>\n",
       "      <td>сотрудник</td>\n",
       "      <td>0</td>\n",
       "      <td>145886</td>\n",
       "      <td>покупка жилья</td>\n",
       "    </tr>\n",
       "    <tr>\n",
       "      <td>3</td>\n",
       "      <td>3</td>\n",
       "      <td>-4124.75</td>\n",
       "      <td>32</td>\n",
       "      <td>среднее</td>\n",
       "      <td>1</td>\n",
       "      <td>женат / замужем</td>\n",
       "      <td>0</td>\n",
       "      <td>M</td>\n",
       "      <td>сотрудник</td>\n",
       "      <td>0</td>\n",
       "      <td>267629</td>\n",
       "      <td>дополнительное образование</td>\n",
       "    </tr>\n",
       "    <tr>\n",
       "      <td>4</td>\n",
       "      <td>0</td>\n",
       "      <td>340266</td>\n",
       "      <td>53</td>\n",
       "      <td>среднее</td>\n",
       "      <td>1</td>\n",
       "      <td>гражданский брак</td>\n",
       "      <td>1</td>\n",
       "      <td>F</td>\n",
       "      <td>пенсионер</td>\n",
       "      <td>0</td>\n",
       "      <td>158616</td>\n",
       "      <td>сыграть свадьбу</td>\n",
       "    </tr>\n",
       "  </tbody>\n",
       "</table>\n",
       "</div>"
      ],
      "text/plain": [
       "   children days_employed  dob_years education  education_id  \\\n",
       "0         1      -8437.67         42    высшее             0   \n",
       "1         1       -4024.8         36   среднее             1   \n",
       "2         0      -5623.42         33   Среднее             1   \n",
       "3         3      -4124.75         32   среднее             1   \n",
       "4         0        340266         53   среднее             1   \n",
       "\n",
       "      family_status  family_status_id gender income_type  debt total_income  \\\n",
       "0   женат / замужем                 0      F   сотрудник     0       253876   \n",
       "1   женат / замужем                 0      F   сотрудник     0       112080   \n",
       "2   женат / замужем                 0      M   сотрудник     0       145886   \n",
       "3   женат / замужем                 0      M   сотрудник     0       267629   \n",
       "4  гражданский брак                 1      F   пенсионер     0       158616   \n",
       "\n",
       "                      purpose  \n",
       "0               покупка жилья  \n",
       "1     приобретение автомобиля  \n",
       "2               покупка жилья  \n",
       "3  дополнительное образование  \n",
       "4             сыграть свадьбу  "
      ]
     },
     "execution_count": 106,
     "metadata": {},
     "output_type": "execute_result"
    }
   ],
   "source": [
    "# удаление ненужного столбца\n",
    "df = df.drop('total_income_median', axis=1)\n",
    "df.head()"
   ]
  },
  {
   "cell_type": "markdown",
   "metadata": {},
   "source": [
    "Приступаем к обработке значений типа *unknown* в столбце `days_employed`. Чтобы получить адекватные значения в колонке `days_employed`, необходимо определить: данные из каких колонок могут влиять на значения в указанном столбце. На общий трудовой стаж в днях могут влиять возраст клиента в годах `dob_years`, уровень образования `education`, тип занятости `income_type`."
   ]
  },
  {
   "cell_type": "markdown",
   "metadata": {},
   "source": [
    "Будем заполнять столбец `days_employed` в зависимости от возраста клиента в годах `dob_years`."
   ]
  },
  {
   "cell_type": "markdown",
   "metadata": {},
   "source": [
    "Однако сначала нужно привести данные в столбце `days_employed` к абсолютным значениям, т.к. отрицательного трудового стажа быть не может. Вероятно возникла ошибка при вводе данных, т.к. процент отрицательных перменных значительный, что видно из процентилей сводки числовых значений данных таблицы *df* (25%, 50%, 75%)."
   ]
  },
  {
   "cell_type": "code",
   "execution_count": 24,
   "metadata": {},
   "outputs": [],
   "source": [
    "# замена переменных типа \"unknown\" для последующей обработки методом \"abs()\"\n",
    "df.loc[df['days_employed'] == 'unknown', 'days_employed'] = 0"
   ]
  },
  {
   "cell_type": "markdown",
   "metadata": {},
   "source": [
    "Используем метод *astype()* для приведения данных к типу `int` и метод *abs()* для получения модулей переменных:"
   ]
  },
  {
   "cell_type": "code",
   "execution_count": 25,
   "metadata": {},
   "outputs": [],
   "source": [
    "# замена переменных абсолютными значения\n",
    "df['days_employed'] = df['days_employed'].astype('int').abs()"
   ]
  },
  {
   "cell_type": "markdown",
   "metadata": {},
   "source": [
    "Проверяем наличие отрицательных значений:"
   ]
  },
  {
   "cell_type": "code",
   "execution_count": 26,
   "metadata": {},
   "outputs": [
    {
     "name": "stdout",
     "output_type": "stream",
     "text": [
      "Empty DataFrame\n",
      "Columns: [children, days_employed, dob_years, education, education_id, family_status, family_status_id, gender, income_type, debt, total_income, purpose]\n",
      "Index: []\n"
     ]
    }
   ],
   "source": [
    "# проверка\n",
    "print(df[df['days_employed'] < 0])"
   ]
  },
  {
   "cell_type": "code",
   "execution_count": 27,
   "metadata": {
    "scrolled": true
   },
   "outputs": [
    {
     "data": {
      "text/html": [
       "<div>\n",
       "<style scoped>\n",
       "    .dataframe tbody tr th:only-of-type {\n",
       "        vertical-align: middle;\n",
       "    }\n",
       "\n",
       "    .dataframe tbody tr th {\n",
       "        vertical-align: top;\n",
       "    }\n",
       "\n",
       "    .dataframe thead th {\n",
       "        text-align: right;\n",
       "    }\n",
       "</style>\n",
       "<table border=\"1\" class=\"dataframe\">\n",
       "  <thead>\n",
       "    <tr style=\"text-align: right;\">\n",
       "      <th></th>\n",
       "      <th>children</th>\n",
       "      <th>days_employed</th>\n",
       "      <th>dob_years</th>\n",
       "      <th>education</th>\n",
       "      <th>education_id</th>\n",
       "      <th>family_status</th>\n",
       "      <th>family_status_id</th>\n",
       "      <th>gender</th>\n",
       "      <th>income_type</th>\n",
       "      <th>debt</th>\n",
       "      <th>total_income</th>\n",
       "      <th>purpose</th>\n",
       "    </tr>\n",
       "  </thead>\n",
       "  <tbody>\n",
       "    <tr>\n",
       "      <td>0</td>\n",
       "      <td>1</td>\n",
       "      <td>8437</td>\n",
       "      <td>42</td>\n",
       "      <td>высшее</td>\n",
       "      <td>0</td>\n",
       "      <td>женат / замужем</td>\n",
       "      <td>0</td>\n",
       "      <td>F</td>\n",
       "      <td>сотрудник</td>\n",
       "      <td>0</td>\n",
       "      <td>253876</td>\n",
       "      <td>покупка жилья</td>\n",
       "    </tr>\n",
       "    <tr>\n",
       "      <td>1</td>\n",
       "      <td>1</td>\n",
       "      <td>4024</td>\n",
       "      <td>36</td>\n",
       "      <td>среднее</td>\n",
       "      <td>1</td>\n",
       "      <td>женат / замужем</td>\n",
       "      <td>0</td>\n",
       "      <td>F</td>\n",
       "      <td>сотрудник</td>\n",
       "      <td>0</td>\n",
       "      <td>112080</td>\n",
       "      <td>приобретение автомобиля</td>\n",
       "    </tr>\n",
       "    <tr>\n",
       "      <td>2</td>\n",
       "      <td>0</td>\n",
       "      <td>5623</td>\n",
       "      <td>33</td>\n",
       "      <td>Среднее</td>\n",
       "      <td>1</td>\n",
       "      <td>женат / замужем</td>\n",
       "      <td>0</td>\n",
       "      <td>M</td>\n",
       "      <td>сотрудник</td>\n",
       "      <td>0</td>\n",
       "      <td>145886</td>\n",
       "      <td>покупка жилья</td>\n",
       "    </tr>\n",
       "    <tr>\n",
       "      <td>3</td>\n",
       "      <td>3</td>\n",
       "      <td>4124</td>\n",
       "      <td>32</td>\n",
       "      <td>среднее</td>\n",
       "      <td>1</td>\n",
       "      <td>женат / замужем</td>\n",
       "      <td>0</td>\n",
       "      <td>M</td>\n",
       "      <td>сотрудник</td>\n",
       "      <td>0</td>\n",
       "      <td>267629</td>\n",
       "      <td>дополнительное образование</td>\n",
       "    </tr>\n",
       "    <tr>\n",
       "      <td>4</td>\n",
       "      <td>0</td>\n",
       "      <td>340266</td>\n",
       "      <td>53</td>\n",
       "      <td>среднее</td>\n",
       "      <td>1</td>\n",
       "      <td>гражданский брак</td>\n",
       "      <td>1</td>\n",
       "      <td>F</td>\n",
       "      <td>пенсионер</td>\n",
       "      <td>0</td>\n",
       "      <td>158616</td>\n",
       "      <td>сыграть свадьбу</td>\n",
       "    </tr>\n",
       "    <tr>\n",
       "      <td>5</td>\n",
       "      <td>0</td>\n",
       "      <td>926</td>\n",
       "      <td>27</td>\n",
       "      <td>высшее</td>\n",
       "      <td>0</td>\n",
       "      <td>гражданский брак</td>\n",
       "      <td>1</td>\n",
       "      <td>M</td>\n",
       "      <td>компаньон</td>\n",
       "      <td>0</td>\n",
       "      <td>255764</td>\n",
       "      <td>покупка жилья</td>\n",
       "    </tr>\n",
       "    <tr>\n",
       "      <td>6</td>\n",
       "      <td>0</td>\n",
       "      <td>2879</td>\n",
       "      <td>43</td>\n",
       "      <td>высшее</td>\n",
       "      <td>0</td>\n",
       "      <td>женат / замужем</td>\n",
       "      <td>0</td>\n",
       "      <td>F</td>\n",
       "      <td>компаньон</td>\n",
       "      <td>0</td>\n",
       "      <td>240526</td>\n",
       "      <td>операции с жильем</td>\n",
       "    </tr>\n",
       "    <tr>\n",
       "      <td>7</td>\n",
       "      <td>0</td>\n",
       "      <td>152</td>\n",
       "      <td>50</td>\n",
       "      <td>СРЕДНЕЕ</td>\n",
       "      <td>1</td>\n",
       "      <td>женат / замужем</td>\n",
       "      <td>0</td>\n",
       "      <td>M</td>\n",
       "      <td>сотрудник</td>\n",
       "      <td>0</td>\n",
       "      <td>135824</td>\n",
       "      <td>образование</td>\n",
       "    </tr>\n",
       "    <tr>\n",
       "      <td>8</td>\n",
       "      <td>2</td>\n",
       "      <td>6929</td>\n",
       "      <td>35</td>\n",
       "      <td>ВЫСШЕЕ</td>\n",
       "      <td>0</td>\n",
       "      <td>гражданский брак</td>\n",
       "      <td>1</td>\n",
       "      <td>F</td>\n",
       "      <td>сотрудник</td>\n",
       "      <td>0</td>\n",
       "      <td>95856.8</td>\n",
       "      <td>на проведение свадьбы</td>\n",
       "    </tr>\n",
       "    <tr>\n",
       "      <td>9</td>\n",
       "      <td>0</td>\n",
       "      <td>2188</td>\n",
       "      <td>41</td>\n",
       "      <td>среднее</td>\n",
       "      <td>1</td>\n",
       "      <td>женат / замужем</td>\n",
       "      <td>0</td>\n",
       "      <td>M</td>\n",
       "      <td>сотрудник</td>\n",
       "      <td>0</td>\n",
       "      <td>144426</td>\n",
       "      <td>покупка жилья для семьи</td>\n",
       "    </tr>\n",
       "  </tbody>\n",
       "</table>\n",
       "</div>"
      ],
      "text/plain": [
       "   children  days_employed  dob_years education  education_id  \\\n",
       "0         1           8437         42    высшее             0   \n",
       "1         1           4024         36   среднее             1   \n",
       "2         0           5623         33   Среднее             1   \n",
       "3         3           4124         32   среднее             1   \n",
       "4         0         340266         53   среднее             1   \n",
       "5         0            926         27    высшее             0   \n",
       "6         0           2879         43    высшее             0   \n",
       "7         0            152         50   СРЕДНЕЕ             1   \n",
       "8         2           6929         35    ВЫСШЕЕ             0   \n",
       "9         0           2188         41   среднее             1   \n",
       "\n",
       "      family_status  family_status_id gender income_type  debt total_income  \\\n",
       "0   женат / замужем                 0      F   сотрудник     0       253876   \n",
       "1   женат / замужем                 0      F   сотрудник     0       112080   \n",
       "2   женат / замужем                 0      M   сотрудник     0       145886   \n",
       "3   женат / замужем                 0      M   сотрудник     0       267629   \n",
       "4  гражданский брак                 1      F   пенсионер     0       158616   \n",
       "5  гражданский брак                 1      M   компаньон     0       255764   \n",
       "6   женат / замужем                 0      F   компаньон     0       240526   \n",
       "7   женат / замужем                 0      M   сотрудник     0       135824   \n",
       "8  гражданский брак                 1      F   сотрудник     0      95856.8   \n",
       "9   женат / замужем                 0      M   сотрудник     0       144426   \n",
       "\n",
       "                      purpose  \n",
       "0               покупка жилья  \n",
       "1     приобретение автомобиля  \n",
       "2               покупка жилья  \n",
       "3  дополнительное образование  \n",
       "4             сыграть свадьбу  \n",
       "5               покупка жилья  \n",
       "6           операции с жильем  \n",
       "7                 образование  \n",
       "8       на проведение свадьбы  \n",
       "9     покупка жилья для семьи  "
      ]
     },
     "metadata": {},
     "output_type": "display_data"
    }
   ],
   "source": [
    "# вывод части таблицы\n",
    "df.head(10)"
   ]
  },
  {
   "cell_type": "markdown",
   "metadata": {},
   "source": [
    "Формируем три возрастные группы, относительно которых будут подсчитаны медианные значения в столбце `days_employed`:"
   ]
  },
  {
   "cell_type": "code",
   "execution_count": 28,
   "metadata": {},
   "outputs": [
    {
     "name": "stdout",
     "output_type": "stream",
     "text": [
      "744\n"
     ]
    }
   ],
   "source": [
    "# формирование первой возрастной группы и подсчёт медианного значения\n",
    "df_filtered_0_25 = df[df['dob_years'] <= 25]\n",
    "median_days_employed_0_25 = df_filtered_0_25['days_employed'].median().astype('int')\n",
    "print(median_days_employed_0_25)"
   ]
  },
  {
   "cell_type": "code",
   "execution_count": 29,
   "metadata": {},
   "outputs": [
    {
     "name": "stdout",
     "output_type": "stream",
     "text": [
      "1466\n"
     ]
    }
   ],
   "source": [
    "# формирование второй возрастной группы и подсчёт медианного значения\n",
    "df_filtered_25_50 = df[(df['dob_years'] > 25)&(df['dob_years'] <= 50)]\n",
    "median_days_employed_25_50 = df_filtered_25_50['days_employed'].median().astype('int')\n",
    "print(median_days_employed_25_50)"
   ]
  },
  {
   "cell_type": "code",
   "execution_count": 30,
   "metadata": {},
   "outputs": [
    {
     "name": "stdout",
     "output_type": "stream",
     "text": [
      "10950\n"
     ]
    }
   ],
   "source": [
    "# формирование третьей возрастной группы и подсчёт медианного значения\n",
    "df_filtered_50_75 = df[df['dob_years'] > 50]\n",
    "median_days_employed_50_75 = df_filtered_50_75['days_employed'].median().astype('int')\n",
    "print(median_days_employed_50_75)"
   ]
  },
  {
   "cell_type": "markdown",
   "metadata": {},
   "source": [
    "Напишем функцию, которая будет присваивать значение общего трудового стажа в днях в зависимости от возраста клиента в годах:"
   ]
  },
  {
   "cell_type": "code",
   "execution_count": 31,
   "metadata": {},
   "outputs": [],
   "source": [
    "# функция присваивания значения трудового стажа в годах\n",
    "def median_days_employed(dob_years):\n",
    "    \"\"\"\n",
    "    Присваивает медианное значение общего трудового стажа в днях по значению возраста клиента в годах, используя правила:\n",
    "    - '744', если 'dob_years' <= 25,\n",
    "    - '1466', если 'dob_years' > 25 и <= 50,\n",
    "    - '10950', если 'dob_years' > 75\n",
    "\n",
    "    \"\"\"\n",
    "    if dob_years <= 25:\n",
    "        return 744\n",
    "    if (dob_years > 25) and (dob_years <= 50):\n",
    "        return 1466\n",
    "    if dob_years > 50:\n",
    "        return 10950"
   ]
  },
  {
   "cell_type": "markdown",
   "metadata": {},
   "source": [
    "Проверяем работу функции:"
   ]
  },
  {
   "cell_type": "code",
   "execution_count": 32,
   "metadata": {},
   "outputs": [
    {
     "name": "stdout",
     "output_type": "stream",
     "text": [
      "744\n",
      "1466\n",
      "10950\n"
     ]
    }
   ],
   "source": [
    "# проверка работы функции\n",
    "print(median_days_employed(15))\n",
    "print(median_days_employed(30))\n",
    "print(median_days_employed(70))"
   ]
  },
  {
   "cell_type": "markdown",
   "metadata": {},
   "source": [
    "Функция работает корректно."
   ]
  },
  {
   "cell_type": "markdown",
   "metadata": {},
   "source": [
    "Применяем функцию `median_days_employed` к столбцу `dob_years`. Результаты записываем в новый столбец."
   ]
  },
  {
   "cell_type": "code",
   "execution_count": 33,
   "metadata": {},
   "outputs": [
    {
     "data": {
      "text/html": [
       "<div>\n",
       "<style scoped>\n",
       "    .dataframe tbody tr th:only-of-type {\n",
       "        vertical-align: middle;\n",
       "    }\n",
       "\n",
       "    .dataframe tbody tr th {\n",
       "        vertical-align: top;\n",
       "    }\n",
       "\n",
       "    .dataframe thead th {\n",
       "        text-align: right;\n",
       "    }\n",
       "</style>\n",
       "<table border=\"1\" class=\"dataframe\">\n",
       "  <thead>\n",
       "    <tr style=\"text-align: right;\">\n",
       "      <th></th>\n",
       "      <th>children</th>\n",
       "      <th>days_employed</th>\n",
       "      <th>dob_years</th>\n",
       "      <th>education</th>\n",
       "      <th>education_id</th>\n",
       "      <th>family_status</th>\n",
       "      <th>family_status_id</th>\n",
       "      <th>gender</th>\n",
       "      <th>income_type</th>\n",
       "      <th>debt</th>\n",
       "      <th>total_income</th>\n",
       "      <th>purpose</th>\n",
       "      <th>days_employed_median</th>\n",
       "    </tr>\n",
       "  </thead>\n",
       "  <tbody>\n",
       "    <tr>\n",
       "      <td>0</td>\n",
       "      <td>1</td>\n",
       "      <td>8437</td>\n",
       "      <td>42</td>\n",
       "      <td>высшее</td>\n",
       "      <td>0</td>\n",
       "      <td>женат / замужем</td>\n",
       "      <td>0</td>\n",
       "      <td>F</td>\n",
       "      <td>сотрудник</td>\n",
       "      <td>0</td>\n",
       "      <td>253876</td>\n",
       "      <td>покупка жилья</td>\n",
       "      <td>1466</td>\n",
       "    </tr>\n",
       "    <tr>\n",
       "      <td>1</td>\n",
       "      <td>1</td>\n",
       "      <td>4024</td>\n",
       "      <td>36</td>\n",
       "      <td>среднее</td>\n",
       "      <td>1</td>\n",
       "      <td>женат / замужем</td>\n",
       "      <td>0</td>\n",
       "      <td>F</td>\n",
       "      <td>сотрудник</td>\n",
       "      <td>0</td>\n",
       "      <td>112080</td>\n",
       "      <td>приобретение автомобиля</td>\n",
       "      <td>1466</td>\n",
       "    </tr>\n",
       "    <tr>\n",
       "      <td>2</td>\n",
       "      <td>0</td>\n",
       "      <td>5623</td>\n",
       "      <td>33</td>\n",
       "      <td>Среднее</td>\n",
       "      <td>1</td>\n",
       "      <td>женат / замужем</td>\n",
       "      <td>0</td>\n",
       "      <td>M</td>\n",
       "      <td>сотрудник</td>\n",
       "      <td>0</td>\n",
       "      <td>145886</td>\n",
       "      <td>покупка жилья</td>\n",
       "      <td>1466</td>\n",
       "    </tr>\n",
       "    <tr>\n",
       "      <td>3</td>\n",
       "      <td>3</td>\n",
       "      <td>4124</td>\n",
       "      <td>32</td>\n",
       "      <td>среднее</td>\n",
       "      <td>1</td>\n",
       "      <td>женат / замужем</td>\n",
       "      <td>0</td>\n",
       "      <td>M</td>\n",
       "      <td>сотрудник</td>\n",
       "      <td>0</td>\n",
       "      <td>267629</td>\n",
       "      <td>дополнительное образование</td>\n",
       "      <td>1466</td>\n",
       "    </tr>\n",
       "    <tr>\n",
       "      <td>4</td>\n",
       "      <td>0</td>\n",
       "      <td>340266</td>\n",
       "      <td>53</td>\n",
       "      <td>среднее</td>\n",
       "      <td>1</td>\n",
       "      <td>гражданский брак</td>\n",
       "      <td>1</td>\n",
       "      <td>F</td>\n",
       "      <td>пенсионер</td>\n",
       "      <td>0</td>\n",
       "      <td>158616</td>\n",
       "      <td>сыграть свадьбу</td>\n",
       "      <td>10950</td>\n",
       "    </tr>\n",
       "    <tr>\n",
       "      <td>5</td>\n",
       "      <td>0</td>\n",
       "      <td>926</td>\n",
       "      <td>27</td>\n",
       "      <td>высшее</td>\n",
       "      <td>0</td>\n",
       "      <td>гражданский брак</td>\n",
       "      <td>1</td>\n",
       "      <td>M</td>\n",
       "      <td>компаньон</td>\n",
       "      <td>0</td>\n",
       "      <td>255764</td>\n",
       "      <td>покупка жилья</td>\n",
       "      <td>1466</td>\n",
       "    </tr>\n",
       "    <tr>\n",
       "      <td>6</td>\n",
       "      <td>0</td>\n",
       "      <td>2879</td>\n",
       "      <td>43</td>\n",
       "      <td>высшее</td>\n",
       "      <td>0</td>\n",
       "      <td>женат / замужем</td>\n",
       "      <td>0</td>\n",
       "      <td>F</td>\n",
       "      <td>компаньон</td>\n",
       "      <td>0</td>\n",
       "      <td>240526</td>\n",
       "      <td>операции с жильем</td>\n",
       "      <td>1466</td>\n",
       "    </tr>\n",
       "    <tr>\n",
       "      <td>7</td>\n",
       "      <td>0</td>\n",
       "      <td>152</td>\n",
       "      <td>50</td>\n",
       "      <td>СРЕДНЕЕ</td>\n",
       "      <td>1</td>\n",
       "      <td>женат / замужем</td>\n",
       "      <td>0</td>\n",
       "      <td>M</td>\n",
       "      <td>сотрудник</td>\n",
       "      <td>0</td>\n",
       "      <td>135824</td>\n",
       "      <td>образование</td>\n",
       "      <td>1466</td>\n",
       "    </tr>\n",
       "    <tr>\n",
       "      <td>8</td>\n",
       "      <td>2</td>\n",
       "      <td>6929</td>\n",
       "      <td>35</td>\n",
       "      <td>ВЫСШЕЕ</td>\n",
       "      <td>0</td>\n",
       "      <td>гражданский брак</td>\n",
       "      <td>1</td>\n",
       "      <td>F</td>\n",
       "      <td>сотрудник</td>\n",
       "      <td>0</td>\n",
       "      <td>95856.8</td>\n",
       "      <td>на проведение свадьбы</td>\n",
       "      <td>1466</td>\n",
       "    </tr>\n",
       "    <tr>\n",
       "      <td>9</td>\n",
       "      <td>0</td>\n",
       "      <td>2188</td>\n",
       "      <td>41</td>\n",
       "      <td>среднее</td>\n",
       "      <td>1</td>\n",
       "      <td>женат / замужем</td>\n",
       "      <td>0</td>\n",
       "      <td>M</td>\n",
       "      <td>сотрудник</td>\n",
       "      <td>0</td>\n",
       "      <td>144426</td>\n",
       "      <td>покупка жилья для семьи</td>\n",
       "      <td>1466</td>\n",
       "    </tr>\n",
       "    <tr>\n",
       "      <td>10</td>\n",
       "      <td>2</td>\n",
       "      <td>4171</td>\n",
       "      <td>36</td>\n",
       "      <td>высшее</td>\n",
       "      <td>0</td>\n",
       "      <td>женат / замужем</td>\n",
       "      <td>0</td>\n",
       "      <td>M</td>\n",
       "      <td>компаньон</td>\n",
       "      <td>0</td>\n",
       "      <td>113943</td>\n",
       "      <td>покупка недвижимости</td>\n",
       "      <td>1466</td>\n",
       "    </tr>\n",
       "    <tr>\n",
       "      <td>11</td>\n",
       "      <td>0</td>\n",
       "      <td>792</td>\n",
       "      <td>40</td>\n",
       "      <td>среднее</td>\n",
       "      <td>1</td>\n",
       "      <td>женат / замужем</td>\n",
       "      <td>0</td>\n",
       "      <td>F</td>\n",
       "      <td>сотрудник</td>\n",
       "      <td>0</td>\n",
       "      <td>77069.2</td>\n",
       "      <td>покупка коммерческой недвижимости</td>\n",
       "      <td>1466</td>\n",
       "    </tr>\n",
       "    <tr>\n",
       "      <td>12</td>\n",
       "      <td>0</td>\n",
       "      <td>0</td>\n",
       "      <td>65</td>\n",
       "      <td>среднее</td>\n",
       "      <td>1</td>\n",
       "      <td>гражданский брак</td>\n",
       "      <td>1</td>\n",
       "      <td>M</td>\n",
       "      <td>пенсионер</td>\n",
       "      <td>0</td>\n",
       "      <td>118514</td>\n",
       "      <td>сыграть свадьбу</td>\n",
       "      <td>10950</td>\n",
       "    </tr>\n",
       "    <tr>\n",
       "      <td>13</td>\n",
       "      <td>0</td>\n",
       "      <td>1846</td>\n",
       "      <td>54</td>\n",
       "      <td>неоконченное высшее</td>\n",
       "      <td>2</td>\n",
       "      <td>женат / замужем</td>\n",
       "      <td>0</td>\n",
       "      <td>F</td>\n",
       "      <td>сотрудник</td>\n",
       "      <td>0</td>\n",
       "      <td>130458</td>\n",
       "      <td>приобретение автомобиля</td>\n",
       "      <td>10950</td>\n",
       "    </tr>\n",
       "    <tr>\n",
       "      <td>14</td>\n",
       "      <td>0</td>\n",
       "      <td>1844</td>\n",
       "      <td>56</td>\n",
       "      <td>высшее</td>\n",
       "      <td>0</td>\n",
       "      <td>гражданский брак</td>\n",
       "      <td>1</td>\n",
       "      <td>F</td>\n",
       "      <td>компаньон</td>\n",
       "      <td>1</td>\n",
       "      <td>165128</td>\n",
       "      <td>покупка жилой недвижимости</td>\n",
       "      <td>10950</td>\n",
       "    </tr>\n",
       "  </tbody>\n",
       "</table>\n",
       "</div>"
      ],
      "text/plain": [
       "    children  days_employed  dob_years            education  education_id  \\\n",
       "0          1           8437         42               высшее             0   \n",
       "1          1           4024         36              среднее             1   \n",
       "2          0           5623         33              Среднее             1   \n",
       "3          3           4124         32              среднее             1   \n",
       "4          0         340266         53              среднее             1   \n",
       "5          0            926         27               высшее             0   \n",
       "6          0           2879         43               высшее             0   \n",
       "7          0            152         50              СРЕДНЕЕ             1   \n",
       "8          2           6929         35               ВЫСШЕЕ             0   \n",
       "9          0           2188         41              среднее             1   \n",
       "10         2           4171         36               высшее             0   \n",
       "11         0            792         40              среднее             1   \n",
       "12         0              0         65              среднее             1   \n",
       "13         0           1846         54  неоконченное высшее             2   \n",
       "14         0           1844         56               высшее             0   \n",
       "\n",
       "       family_status  family_status_id gender income_type  debt total_income  \\\n",
       "0    женат / замужем                 0      F   сотрудник     0       253876   \n",
       "1    женат / замужем                 0      F   сотрудник     0       112080   \n",
       "2    женат / замужем                 0      M   сотрудник     0       145886   \n",
       "3    женат / замужем                 0      M   сотрудник     0       267629   \n",
       "4   гражданский брак                 1      F   пенсионер     0       158616   \n",
       "5   гражданский брак                 1      M   компаньон     0       255764   \n",
       "6    женат / замужем                 0      F   компаньон     0       240526   \n",
       "7    женат / замужем                 0      M   сотрудник     0       135824   \n",
       "8   гражданский брак                 1      F   сотрудник     0      95856.8   \n",
       "9    женат / замужем                 0      M   сотрудник     0       144426   \n",
       "10   женат / замужем                 0      M   компаньон     0       113943   \n",
       "11   женат / замужем                 0      F   сотрудник     0      77069.2   \n",
       "12  гражданский брак                 1      M   пенсионер     0       118514   \n",
       "13   женат / замужем                 0      F   сотрудник     0       130458   \n",
       "14  гражданский брак                 1      F   компаньон     1       165128   \n",
       "\n",
       "                              purpose  days_employed_median  \n",
       "0                       покупка жилья                  1466  \n",
       "1             приобретение автомобиля                  1466  \n",
       "2                       покупка жилья                  1466  \n",
       "3          дополнительное образование                  1466  \n",
       "4                     сыграть свадьбу                 10950  \n",
       "5                       покупка жилья                  1466  \n",
       "6                   операции с жильем                  1466  \n",
       "7                         образование                  1466  \n",
       "8               на проведение свадьбы                  1466  \n",
       "9             покупка жилья для семьи                  1466  \n",
       "10               покупка недвижимости                  1466  \n",
       "11  покупка коммерческой недвижимости                  1466  \n",
       "12                    сыграть свадьбу                 10950  \n",
       "13            приобретение автомобиля                 10950  \n",
       "14         покупка жилой недвижимости                 10950  "
      ]
     },
     "metadata": {},
     "output_type": "display_data"
    }
   ],
   "source": [
    "# применение функции\n",
    "df['days_employed_median'] = df['dob_years'].apply(median_days_employed)    \n",
    "df.head(15)"
   ]
  },
  {
   "cell_type": "markdown",
   "metadata": {},
   "source": [
    "Заменяем значения типа *unknown* значениями из нового столбца:"
   ]
  },
  {
   "cell_type": "code",
   "execution_count": 34,
   "metadata": {},
   "outputs": [
    {
     "data": {
      "text/html": [
       "<div>\n",
       "<style scoped>\n",
       "    .dataframe tbody tr th:only-of-type {\n",
       "        vertical-align: middle;\n",
       "    }\n",
       "\n",
       "    .dataframe tbody tr th {\n",
       "        vertical-align: top;\n",
       "    }\n",
       "\n",
       "    .dataframe thead th {\n",
       "        text-align: right;\n",
       "    }\n",
       "</style>\n",
       "<table border=\"1\" class=\"dataframe\">\n",
       "  <thead>\n",
       "    <tr style=\"text-align: right;\">\n",
       "      <th></th>\n",
       "      <th>children</th>\n",
       "      <th>days_employed</th>\n",
       "      <th>dob_years</th>\n",
       "      <th>education</th>\n",
       "      <th>education_id</th>\n",
       "      <th>family_status</th>\n",
       "      <th>family_status_id</th>\n",
       "      <th>gender</th>\n",
       "      <th>income_type</th>\n",
       "      <th>debt</th>\n",
       "      <th>total_income</th>\n",
       "      <th>purpose</th>\n",
       "      <th>days_employed_median</th>\n",
       "    </tr>\n",
       "  </thead>\n",
       "  <tbody>\n",
       "    <tr>\n",
       "      <td>0</td>\n",
       "      <td>1</td>\n",
       "      <td>8437</td>\n",
       "      <td>42</td>\n",
       "      <td>высшее</td>\n",
       "      <td>0</td>\n",
       "      <td>женат / замужем</td>\n",
       "      <td>0</td>\n",
       "      <td>F</td>\n",
       "      <td>сотрудник</td>\n",
       "      <td>0</td>\n",
       "      <td>253876</td>\n",
       "      <td>покупка жилья</td>\n",
       "      <td>1466</td>\n",
       "    </tr>\n",
       "    <tr>\n",
       "      <td>1</td>\n",
       "      <td>1</td>\n",
       "      <td>4024</td>\n",
       "      <td>36</td>\n",
       "      <td>среднее</td>\n",
       "      <td>1</td>\n",
       "      <td>женат / замужем</td>\n",
       "      <td>0</td>\n",
       "      <td>F</td>\n",
       "      <td>сотрудник</td>\n",
       "      <td>0</td>\n",
       "      <td>112080</td>\n",
       "      <td>приобретение автомобиля</td>\n",
       "      <td>1466</td>\n",
       "    </tr>\n",
       "    <tr>\n",
       "      <td>2</td>\n",
       "      <td>0</td>\n",
       "      <td>5623</td>\n",
       "      <td>33</td>\n",
       "      <td>Среднее</td>\n",
       "      <td>1</td>\n",
       "      <td>женат / замужем</td>\n",
       "      <td>0</td>\n",
       "      <td>M</td>\n",
       "      <td>сотрудник</td>\n",
       "      <td>0</td>\n",
       "      <td>145886</td>\n",
       "      <td>покупка жилья</td>\n",
       "      <td>1466</td>\n",
       "    </tr>\n",
       "    <tr>\n",
       "      <td>3</td>\n",
       "      <td>3</td>\n",
       "      <td>4124</td>\n",
       "      <td>32</td>\n",
       "      <td>среднее</td>\n",
       "      <td>1</td>\n",
       "      <td>женат / замужем</td>\n",
       "      <td>0</td>\n",
       "      <td>M</td>\n",
       "      <td>сотрудник</td>\n",
       "      <td>0</td>\n",
       "      <td>267629</td>\n",
       "      <td>дополнительное образование</td>\n",
       "      <td>1466</td>\n",
       "    </tr>\n",
       "    <tr>\n",
       "      <td>4</td>\n",
       "      <td>0</td>\n",
       "      <td>340266</td>\n",
       "      <td>53</td>\n",
       "      <td>среднее</td>\n",
       "      <td>1</td>\n",
       "      <td>гражданский брак</td>\n",
       "      <td>1</td>\n",
       "      <td>F</td>\n",
       "      <td>пенсионер</td>\n",
       "      <td>0</td>\n",
       "      <td>158616</td>\n",
       "      <td>сыграть свадьбу</td>\n",
       "      <td>10950</td>\n",
       "    </tr>\n",
       "    <tr>\n",
       "      <td>5</td>\n",
       "      <td>0</td>\n",
       "      <td>926</td>\n",
       "      <td>27</td>\n",
       "      <td>высшее</td>\n",
       "      <td>0</td>\n",
       "      <td>гражданский брак</td>\n",
       "      <td>1</td>\n",
       "      <td>M</td>\n",
       "      <td>компаньон</td>\n",
       "      <td>0</td>\n",
       "      <td>255764</td>\n",
       "      <td>покупка жилья</td>\n",
       "      <td>1466</td>\n",
       "    </tr>\n",
       "    <tr>\n",
       "      <td>6</td>\n",
       "      <td>0</td>\n",
       "      <td>2879</td>\n",
       "      <td>43</td>\n",
       "      <td>высшее</td>\n",
       "      <td>0</td>\n",
       "      <td>женат / замужем</td>\n",
       "      <td>0</td>\n",
       "      <td>F</td>\n",
       "      <td>компаньон</td>\n",
       "      <td>0</td>\n",
       "      <td>240526</td>\n",
       "      <td>операции с жильем</td>\n",
       "      <td>1466</td>\n",
       "    </tr>\n",
       "    <tr>\n",
       "      <td>7</td>\n",
       "      <td>0</td>\n",
       "      <td>152</td>\n",
       "      <td>50</td>\n",
       "      <td>СРЕДНЕЕ</td>\n",
       "      <td>1</td>\n",
       "      <td>женат / замужем</td>\n",
       "      <td>0</td>\n",
       "      <td>M</td>\n",
       "      <td>сотрудник</td>\n",
       "      <td>0</td>\n",
       "      <td>135824</td>\n",
       "      <td>образование</td>\n",
       "      <td>1466</td>\n",
       "    </tr>\n",
       "    <tr>\n",
       "      <td>8</td>\n",
       "      <td>2</td>\n",
       "      <td>6929</td>\n",
       "      <td>35</td>\n",
       "      <td>ВЫСШЕЕ</td>\n",
       "      <td>0</td>\n",
       "      <td>гражданский брак</td>\n",
       "      <td>1</td>\n",
       "      <td>F</td>\n",
       "      <td>сотрудник</td>\n",
       "      <td>0</td>\n",
       "      <td>95856.8</td>\n",
       "      <td>на проведение свадьбы</td>\n",
       "      <td>1466</td>\n",
       "    </tr>\n",
       "    <tr>\n",
       "      <td>9</td>\n",
       "      <td>0</td>\n",
       "      <td>2188</td>\n",
       "      <td>41</td>\n",
       "      <td>среднее</td>\n",
       "      <td>1</td>\n",
       "      <td>женат / замужем</td>\n",
       "      <td>0</td>\n",
       "      <td>M</td>\n",
       "      <td>сотрудник</td>\n",
       "      <td>0</td>\n",
       "      <td>144426</td>\n",
       "      <td>покупка жилья для семьи</td>\n",
       "      <td>1466</td>\n",
       "    </tr>\n",
       "    <tr>\n",
       "      <td>10</td>\n",
       "      <td>2</td>\n",
       "      <td>4171</td>\n",
       "      <td>36</td>\n",
       "      <td>высшее</td>\n",
       "      <td>0</td>\n",
       "      <td>женат / замужем</td>\n",
       "      <td>0</td>\n",
       "      <td>M</td>\n",
       "      <td>компаньон</td>\n",
       "      <td>0</td>\n",
       "      <td>113943</td>\n",
       "      <td>покупка недвижимости</td>\n",
       "      <td>1466</td>\n",
       "    </tr>\n",
       "    <tr>\n",
       "      <td>11</td>\n",
       "      <td>0</td>\n",
       "      <td>792</td>\n",
       "      <td>40</td>\n",
       "      <td>среднее</td>\n",
       "      <td>1</td>\n",
       "      <td>женат / замужем</td>\n",
       "      <td>0</td>\n",
       "      <td>F</td>\n",
       "      <td>сотрудник</td>\n",
       "      <td>0</td>\n",
       "      <td>77069.2</td>\n",
       "      <td>покупка коммерческой недвижимости</td>\n",
       "      <td>1466</td>\n",
       "    </tr>\n",
       "    <tr>\n",
       "      <td>12</td>\n",
       "      <td>0</td>\n",
       "      <td>10950</td>\n",
       "      <td>65</td>\n",
       "      <td>среднее</td>\n",
       "      <td>1</td>\n",
       "      <td>гражданский брак</td>\n",
       "      <td>1</td>\n",
       "      <td>M</td>\n",
       "      <td>пенсионер</td>\n",
       "      <td>0</td>\n",
       "      <td>118514</td>\n",
       "      <td>сыграть свадьбу</td>\n",
       "      <td>10950</td>\n",
       "    </tr>\n",
       "    <tr>\n",
       "      <td>13</td>\n",
       "      <td>0</td>\n",
       "      <td>1846</td>\n",
       "      <td>54</td>\n",
       "      <td>неоконченное высшее</td>\n",
       "      <td>2</td>\n",
       "      <td>женат / замужем</td>\n",
       "      <td>0</td>\n",
       "      <td>F</td>\n",
       "      <td>сотрудник</td>\n",
       "      <td>0</td>\n",
       "      <td>130458</td>\n",
       "      <td>приобретение автомобиля</td>\n",
       "      <td>10950</td>\n",
       "    </tr>\n",
       "    <tr>\n",
       "      <td>14</td>\n",
       "      <td>0</td>\n",
       "      <td>1844</td>\n",
       "      <td>56</td>\n",
       "      <td>высшее</td>\n",
       "      <td>0</td>\n",
       "      <td>гражданский брак</td>\n",
       "      <td>1</td>\n",
       "      <td>F</td>\n",
       "      <td>компаньон</td>\n",
       "      <td>1</td>\n",
       "      <td>165128</td>\n",
       "      <td>покупка жилой недвижимости</td>\n",
       "      <td>10950</td>\n",
       "    </tr>\n",
       "  </tbody>\n",
       "</table>\n",
       "</div>"
      ],
      "text/plain": [
       "    children  days_employed  dob_years            education  education_id  \\\n",
       "0          1           8437         42               высшее             0   \n",
       "1          1           4024         36              среднее             1   \n",
       "2          0           5623         33              Среднее             1   \n",
       "3          3           4124         32              среднее             1   \n",
       "4          0         340266         53              среднее             1   \n",
       "5          0            926         27               высшее             0   \n",
       "6          0           2879         43               высшее             0   \n",
       "7          0            152         50              СРЕДНЕЕ             1   \n",
       "8          2           6929         35               ВЫСШЕЕ             0   \n",
       "9          0           2188         41              среднее             1   \n",
       "10         2           4171         36               высшее             0   \n",
       "11         0            792         40              среднее             1   \n",
       "12         0          10950         65              среднее             1   \n",
       "13         0           1846         54  неоконченное высшее             2   \n",
       "14         0           1844         56               высшее             0   \n",
       "\n",
       "       family_status  family_status_id gender income_type  debt total_income  \\\n",
       "0    женат / замужем                 0      F   сотрудник     0       253876   \n",
       "1    женат / замужем                 0      F   сотрудник     0       112080   \n",
       "2    женат / замужем                 0      M   сотрудник     0       145886   \n",
       "3    женат / замужем                 0      M   сотрудник     0       267629   \n",
       "4   гражданский брак                 1      F   пенсионер     0       158616   \n",
       "5   гражданский брак                 1      M   компаньон     0       255764   \n",
       "6    женат / замужем                 0      F   компаньон     0       240526   \n",
       "7    женат / замужем                 0      M   сотрудник     0       135824   \n",
       "8   гражданский брак                 1      F   сотрудник     0      95856.8   \n",
       "9    женат / замужем                 0      M   сотрудник     0       144426   \n",
       "10   женат / замужем                 0      M   компаньон     0       113943   \n",
       "11   женат / замужем                 0      F   сотрудник     0      77069.2   \n",
       "12  гражданский брак                 1      M   пенсионер     0       118514   \n",
       "13   женат / замужем                 0      F   сотрудник     0       130458   \n",
       "14  гражданский брак                 1      F   компаньон     1       165128   \n",
       "\n",
       "                              purpose  days_employed_median  \n",
       "0                       покупка жилья                  1466  \n",
       "1             приобретение автомобиля                  1466  \n",
       "2                       покупка жилья                  1466  \n",
       "3          дополнительное образование                  1466  \n",
       "4                     сыграть свадьбу                 10950  \n",
       "5                       покупка жилья                  1466  \n",
       "6                   операции с жильем                  1466  \n",
       "7                         образование                  1466  \n",
       "8               на проведение свадьбы                  1466  \n",
       "9             покупка жилья для семьи                  1466  \n",
       "10               покупка недвижимости                  1466  \n",
       "11  покупка коммерческой недвижимости                  1466  \n",
       "12                    сыграть свадьбу                 10950  \n",
       "13            приобретение автомобиля                 10950  \n",
       "14         покупка жилой недвижимости                 10950  "
      ]
     },
     "metadata": {},
     "output_type": "display_data"
    }
   ],
   "source": [
    "# замена пропусков адекватными значениями\n",
    "df.loc[df['days_employed'] == 0, 'days_employed'] = df['days_employed_median']\n",
    "df.head(15)"
   ]
  },
  {
   "cell_type": "markdown",
   "metadata": {},
   "source": [
    "Проверяем столбец `days_employed` на наличие нулевых значений, присвоенных ранее:"
   ]
  },
  {
   "cell_type": "code",
   "execution_count": 35,
   "metadata": {},
   "outputs": [
    {
     "name": "stdout",
     "output_type": "stream",
     "text": [
      "Empty DataFrame\n",
      "Columns: [children, days_employed, dob_years, education, education_id, family_status, family_status_id, gender, income_type, debt, total_income, purpose, days_employed_median]\n",
      "Index: []\n"
     ]
    }
   ],
   "source": [
    "# проверка\n",
    "print(df[df['days_employed'] == 0])"
   ]
  },
  {
   "cell_type": "markdown",
   "metadata": {},
   "source": [
    "Удаляем столбец `days_employed_median`, т.к. он больше не нужен."
   ]
  },
  {
   "cell_type": "code",
   "execution_count": 36,
   "metadata": {},
   "outputs": [
    {
     "data": {
      "text/html": [
       "<div>\n",
       "<style scoped>\n",
       "    .dataframe tbody tr th:only-of-type {\n",
       "        vertical-align: middle;\n",
       "    }\n",
       "\n",
       "    .dataframe tbody tr th {\n",
       "        vertical-align: top;\n",
       "    }\n",
       "\n",
       "    .dataframe thead th {\n",
       "        text-align: right;\n",
       "    }\n",
       "</style>\n",
       "<table border=\"1\" class=\"dataframe\">\n",
       "  <thead>\n",
       "    <tr style=\"text-align: right;\">\n",
       "      <th></th>\n",
       "      <th>children</th>\n",
       "      <th>days_employed</th>\n",
       "      <th>dob_years</th>\n",
       "      <th>education</th>\n",
       "      <th>education_id</th>\n",
       "      <th>family_status</th>\n",
       "      <th>family_status_id</th>\n",
       "      <th>gender</th>\n",
       "      <th>income_type</th>\n",
       "      <th>debt</th>\n",
       "      <th>total_income</th>\n",
       "      <th>purpose</th>\n",
       "    </tr>\n",
       "  </thead>\n",
       "  <tbody>\n",
       "    <tr>\n",
       "      <td>0</td>\n",
       "      <td>1</td>\n",
       "      <td>8437</td>\n",
       "      <td>42</td>\n",
       "      <td>высшее</td>\n",
       "      <td>0</td>\n",
       "      <td>женат / замужем</td>\n",
       "      <td>0</td>\n",
       "      <td>F</td>\n",
       "      <td>сотрудник</td>\n",
       "      <td>0</td>\n",
       "      <td>253876</td>\n",
       "      <td>покупка жилья</td>\n",
       "    </tr>\n",
       "    <tr>\n",
       "      <td>1</td>\n",
       "      <td>1</td>\n",
       "      <td>4024</td>\n",
       "      <td>36</td>\n",
       "      <td>среднее</td>\n",
       "      <td>1</td>\n",
       "      <td>женат / замужем</td>\n",
       "      <td>0</td>\n",
       "      <td>F</td>\n",
       "      <td>сотрудник</td>\n",
       "      <td>0</td>\n",
       "      <td>112080</td>\n",
       "      <td>приобретение автомобиля</td>\n",
       "    </tr>\n",
       "    <tr>\n",
       "      <td>2</td>\n",
       "      <td>0</td>\n",
       "      <td>5623</td>\n",
       "      <td>33</td>\n",
       "      <td>Среднее</td>\n",
       "      <td>1</td>\n",
       "      <td>женат / замужем</td>\n",
       "      <td>0</td>\n",
       "      <td>M</td>\n",
       "      <td>сотрудник</td>\n",
       "      <td>0</td>\n",
       "      <td>145886</td>\n",
       "      <td>покупка жилья</td>\n",
       "    </tr>\n",
       "    <tr>\n",
       "      <td>3</td>\n",
       "      <td>3</td>\n",
       "      <td>4124</td>\n",
       "      <td>32</td>\n",
       "      <td>среднее</td>\n",
       "      <td>1</td>\n",
       "      <td>женат / замужем</td>\n",
       "      <td>0</td>\n",
       "      <td>M</td>\n",
       "      <td>сотрудник</td>\n",
       "      <td>0</td>\n",
       "      <td>267629</td>\n",
       "      <td>дополнительное образование</td>\n",
       "    </tr>\n",
       "    <tr>\n",
       "      <td>4</td>\n",
       "      <td>0</td>\n",
       "      <td>340266</td>\n",
       "      <td>53</td>\n",
       "      <td>среднее</td>\n",
       "      <td>1</td>\n",
       "      <td>гражданский брак</td>\n",
       "      <td>1</td>\n",
       "      <td>F</td>\n",
       "      <td>пенсионер</td>\n",
       "      <td>0</td>\n",
       "      <td>158616</td>\n",
       "      <td>сыграть свадьбу</td>\n",
       "    </tr>\n",
       "  </tbody>\n",
       "</table>\n",
       "</div>"
      ],
      "text/plain": [
       "   children  days_employed  dob_years education  education_id  \\\n",
       "0         1           8437         42    высшее             0   \n",
       "1         1           4024         36   среднее             1   \n",
       "2         0           5623         33   Среднее             1   \n",
       "3         3           4124         32   среднее             1   \n",
       "4         0         340266         53   среднее             1   \n",
       "\n",
       "      family_status  family_status_id gender income_type  debt total_income  \\\n",
       "0   женат / замужем                 0      F   сотрудник     0       253876   \n",
       "1   женат / замужем                 0      F   сотрудник     0       112080   \n",
       "2   женат / замужем                 0      M   сотрудник     0       145886   \n",
       "3   женат / замужем                 0      M   сотрудник     0       267629   \n",
       "4  гражданский брак                 1      F   пенсионер     0       158616   \n",
       "\n",
       "                      purpose  \n",
       "0               покупка жилья  \n",
       "1     приобретение автомобиля  \n",
       "2               покупка жилья  \n",
       "3  дополнительное образование  \n",
       "4             сыграть свадьбу  "
      ]
     },
     "metadata": {},
     "output_type": "display_data"
    }
   ],
   "source": [
    "df = df.drop('days_employed_median', axis=1)\n",
    "df.head()"
   ]
  },
  {
   "cell_type": "markdown",
   "metadata": {},
   "source": [
    "Убедимся, что в таблице не осталось пропусков. Для этого ещё раз считаем пропущенные значения."
   ]
  },
  {
   "cell_type": "code",
   "execution_count": 37,
   "metadata": {},
   "outputs": [
    {
     "data": {
      "text/plain": [
       "children            0\n",
       "days_employed       0\n",
       "dob_years           0\n",
       "education           0\n",
       "education_id        0\n",
       "family_status       0\n",
       "family_status_id    0\n",
       "gender              0\n",
       "income_type         0\n",
       "debt                0\n",
       "total_income        0\n",
       "purpose             0\n",
       "dtype: int64"
      ]
     },
     "execution_count": 37,
     "metadata": {},
     "output_type": "execute_result"
    }
   ],
   "source": [
    "# подсчёт пропусков\n",
    "df.isna().sum()"
   ]
  },
  {
   "cell_type": "markdown",
   "metadata": {},
   "source": [
    "**Вывод**"
   ]
  },
  {
   "cell_type": "markdown",
   "metadata": {},
   "source": [
    "Пропуски значений заполнены. Продолжаем предобработку данных."
   ]
  },
  {
   "cell_type": "markdown",
   "metadata": {},
   "source": [
    "### Замена типа данных"
   ]
  },
  {
   "cell_type": "markdown",
   "metadata": {},
   "source": [
    "Для более удобной работы с данными необходимо, чтобы все числовые значения являлись целочисленными. Проверим типы данных атрибутом датафрейма `.info()`."
   ]
  },
  {
   "cell_type": "code",
   "execution_count": 38,
   "metadata": {
    "scrolled": true
   },
   "outputs": [
    {
     "name": "stdout",
     "output_type": "stream",
     "text": [
      "<class 'pandas.core.frame.DataFrame'>\n",
      "RangeIndex: 21525 entries, 0 to 21524\n",
      "Data columns (total 12 columns):\n",
      "children            21525 non-null int64\n",
      "days_employed       21525 non-null int64\n",
      "dob_years           21525 non-null int64\n",
      "education           21525 non-null object\n",
      "education_id        21525 non-null int64\n",
      "family_status       21525 non-null object\n",
      "family_status_id    21525 non-null int64\n",
      "gender              21525 non-null object\n",
      "income_type         21525 non-null object\n",
      "debt                21525 non-null int64\n",
      "total_income        21525 non-null object\n",
      "purpose             21525 non-null object\n",
      "dtypes: int64(6), object(6)\n",
      "memory usage: 2.0+ MB\n"
     ]
    }
   ],
   "source": [
    "# проверка типов данных\n",
    "df.info()"
   ]
  },
  {
   "cell_type": "markdown",
   "metadata": {},
   "source": [
    "Данные в столбце `total_income` представлены типом `object`. Приведём их к типу `int`."
   ]
  },
  {
   "cell_type": "code",
   "execution_count": 39,
   "metadata": {},
   "outputs": [],
   "source": [
    "# приведение данных к типу \"int\" \n",
    "df['total_income'] = df['total_income'].astype('int')"
   ]
  },
  {
   "cell_type": "markdown",
   "metadata": {},
   "source": [
    "Снова проверяем типы данных:"
   ]
  },
  {
   "cell_type": "code",
   "execution_count": 40,
   "metadata": {},
   "outputs": [
    {
     "name": "stdout",
     "output_type": "stream",
     "text": [
      "<class 'pandas.core.frame.DataFrame'>\n",
      "RangeIndex: 21525 entries, 0 to 21524\n",
      "Data columns (total 12 columns):\n",
      "children            21525 non-null int64\n",
      "days_employed       21525 non-null int64\n",
      "dob_years           21525 non-null int64\n",
      "education           21525 non-null object\n",
      "education_id        21525 non-null int64\n",
      "family_status       21525 non-null object\n",
      "family_status_id    21525 non-null int64\n",
      "gender              21525 non-null object\n",
      "income_type         21525 non-null object\n",
      "debt                21525 non-null int64\n",
      "total_income        21525 non-null int64\n",
      "purpose             21525 non-null object\n",
      "dtypes: int64(7), object(5)\n",
      "memory usage: 2.0+ MB\n"
     ]
    }
   ],
   "source": [
    "# проверка типов данных\n",
    "df.info()"
   ]
  },
  {
   "cell_type": "markdown",
   "metadata": {},
   "source": [
    "Из сводки числовых значений данных *df* видим, что в столбце `children` присутствуют отрицательные значени, т.е. аномальные величины. Оценим количество аномальных величин, используя метод *value_counts()*."
   ]
  },
  {
   "cell_type": "code",
   "execution_count": 41,
   "metadata": {},
   "outputs": [
    {
     "data": {
      "text/plain": [
       " 0     14149\n",
       " 1      4818\n",
       " 2      2055\n",
       " 3       330\n",
       " 20       76\n",
       "-1        47\n",
       " 4        41\n",
       " 5         9\n",
       "Name: children, dtype: int64"
      ]
     },
     "execution_count": 41,
     "metadata": {},
     "output_type": "execute_result"
    }
   ],
   "source": [
    "# вывод уникальных значений\n",
    "df['children'].value_counts()"
   ]
  },
  {
   "cell_type": "markdown",
   "metadata": {},
   "source": [
    "Оценим процентное соотношение аномальных величин и общего количества значений:"
   ]
  },
  {
   "cell_type": "code",
   "execution_count": 42,
   "metadata": {},
   "outputs": [
    {
     "name": "stdout",
     "output_type": "stream",
     "text": [
      "0.004051724137931034\n"
     ]
    }
   ],
   "source": [
    "# оценка доли отрицательных значений в столбце \"children\"\n",
    "children_amount = df['children'].sum()\n",
    "children_less_than_0_amount = 47\n",
    "children_percent_less_than_0 = children_less_than_0_amount / children_amount\n",
    "print(children_percent_less_than_0)"
   ]
  },
  {
   "cell_type": "markdown",
   "metadata": {},
   "source": [
    "Доля аномальных величин составляет меньше 1%, следовательно эти данные не имеют значительного влияния на результат. Поэтому предположим, что при заполнение данных возникла ошибка. Вместо положительного значения ввели отрицательное."
   ]
  },
  {
   "cell_type": "markdown",
   "metadata": {},
   "source": [
    "Заменим отрицательные значения столбца `children` абсолютными величинами:"
   ]
  },
  {
   "cell_type": "code",
   "execution_count": 43,
   "metadata": {},
   "outputs": [],
   "source": [
    "# приведение целочисленных значений к абсолютным величинам\n",
    "df['children'] = df['children'].abs()"
   ]
  },
  {
   "cell_type": "markdown",
   "metadata": {},
   "source": [
    "Проверим наличие отрицательных значений:"
   ]
  },
  {
   "cell_type": "code",
   "execution_count": 44,
   "metadata": {},
   "outputs": [
    {
     "name": "stdout",
     "output_type": "stream",
     "text": [
      "Empty DataFrame\n",
      "Columns: [children, days_employed, dob_years, education, education_id, family_status, family_status_id, gender, income_type, debt, total_income, purpose]\n",
      "Index: []\n"
     ]
    }
   ],
   "source": [
    "# проверка на наличие отрицательных значений\n",
    "print(df[df['children'] < 0])"
   ]
  },
  {
   "cell_type": "markdown",
   "metadata": {},
   "source": [
    "Остальные колонки обработаны в предыдущем подразделе."
   ]
  },
  {
   "cell_type": "markdown",
   "metadata": {},
   "source": [
    "**Вывод**"
   ]
  },
  {
   "cell_type": "markdown",
   "metadata": {},
   "source": [
    "Типы данных в количественных переменных приведены к единому формату. Приступаем к обработке дубликатов."
   ]
  },
  {
   "cell_type": "markdown",
   "metadata": {},
   "source": [
    "### Обработка дубликатов"
   ]
  },
  {
   "cell_type": "markdown",
   "metadata": {},
   "source": [
    "Явные дубликаты в таблице, вероятно, появились из-за ошибки программы при сборе данных. На наличие неявных дубликатов мог повлиять свободный формат ввода данных в ячейку, при котором невозможно выбрать один из указанных вариантов ответа."
   ]
  },
  {
   "cell_type": "markdown",
   "metadata": {},
   "source": [
    "Перед тем как приступать к подсчёту дубликатов, приведем все данные в таблице к *нижнему регистру*, чтобы не упускать дубликаты:"
   ]
  },
  {
   "cell_type": "code",
   "execution_count": 45,
   "metadata": {},
   "outputs": [],
   "source": [
    "# приведение данных к нижнему регистру\n",
    "columns_to_change = ['education', 'family_status', 'gender', 'income_type', 'purpose']\n",
    "for column in columns_to_change:\n",
    "    df[column] = df[column].str.lower()"
   ]
  },
  {
   "cell_type": "markdown",
   "metadata": {},
   "source": [
    "Теперь можно вести подсчёт дубликатов:"
   ]
  },
  {
   "cell_type": "code",
   "execution_count": 46,
   "metadata": {},
   "outputs": [
    {
     "name": "stdout",
     "output_type": "stream",
     "text": [
      "Количество явных дубликатов: 71\n"
     ]
    }
   ],
   "source": [
    "# подсчёт дуликатов\n",
    "print('Количество явных дубликатов: {}'.format(df.duplicated().sum()))"
   ]
  },
  {
   "cell_type": "markdown",
   "metadata": {},
   "source": [
    "Вызываем специальный метод `pandas`, чтобы удалить дубликаты:"
   ]
  },
  {
   "cell_type": "code",
   "execution_count": 47,
   "metadata": {},
   "outputs": [],
   "source": [
    "# удаление дубликатов (с удалением старых индексов и формированием новых)\n",
    "df = df.drop_duplicates().reset_index(drop = True)"
   ]
  },
  {
   "cell_type": "markdown",
   "metadata": {},
   "source": [
    "Ещё раз подсчитываем количество дубликатов, чтобы убедиться, что мы полностью от них избавились:"
   ]
  },
  {
   "cell_type": "code",
   "execution_count": 48,
   "metadata": {},
   "outputs": [
    {
     "name": "stdout",
     "output_type": "stream",
     "text": [
      "Количество явных дубликатов: 0\n"
     ]
    }
   ],
   "source": [
    "# подсчёт дубликатов\n",
    "print('Количество явных дубликатов: {}'.format(df.duplicated().sum()))"
   ]
  },
  {
   "cell_type": "markdown",
   "metadata": {},
   "source": [
    "**Вывод**"
   ]
  },
  {
   "cell_type": "markdown",
   "metadata": {},
   "source": [
    "Обработка данных на наличие дубликатов завершена. Явные и неявные дубликаты удалены."
   ]
  },
  {
   "cell_type": "markdown",
   "metadata": {},
   "source": [
    "### Лемматизация"
   ]
  },
  {
   "cell_type": "markdown",
   "metadata": {},
   "source": [
    "Выделим леммы в значениях столбца `purpose`."
   ]
  },
  {
   "cell_type": "markdown",
   "metadata": {},
   "source": [
    "Для этого сначала импортируем библиотеку с функцией лемматизации на русском языке `pymystem3` и специальный контейнер `Counter` для подсчёта упоминаний лемматизированных слов:"
   ]
  },
  {
   "cell_type": "code",
   "execution_count": 49,
   "metadata": {},
   "outputs": [],
   "source": [
    "# импорт библиотеки и специального контейнера\n",
    "from pymystem3 import Mystem\n",
    "from collections import Counter\n",
    "m = Mystem()"
   ]
  },
  {
   "cell_type": "markdown",
   "metadata": {},
   "source": [
    "Проводим лемматизацию в столбце `purpose`:"
   ]
  },
  {
   "cell_type": "code",
   "execution_count": null,
   "metadata": {
    "tags": []
   },
   "outputs": [],
   "source": [
    "# создание пустого списка для хранения лемм\n",
    "lemmas_purpose = []\n",
    "# цикл для нахождения лемм в столбцe 'purpose'\n",
    "for index in range(len(df)):\n",
    "    lemmas = m.lemmatize(df.loc[index,'purpose'])\n",
    "    lemmas_purpose += lemmas"
   ]
  },
  {
   "cell_type": "markdown",
   "metadata": {},
   "source": [
    "Выводим число упоминаний лемматизированных слов:"
   ]
  },
  {
   "cell_type": "code",
   "execution_count": 51,
   "metadata": {},
   "outputs": [
    {
     "name": "stdout",
     "output_type": "stream",
     "text": [
      "Counter({' ': 33570, '\\n': 21454, 'недвижимость': 6351, 'покупка': 5897, 'жилье': 4460, 'автомобиль': 4306, 'образование': 4013, 'с': 2918, 'операция': 2604, 'свадьба': 2324, 'свой': 2230, 'на': 2222, 'строительство': 1878, 'высокий': 1374, 'получение': 1314, 'коммерческий': 1311, 'для': 1289, 'жилой': 1230, 'сделка': 941, 'дополнительный': 906, 'заниматься': 904, 'проведение': 768, 'сыграть': 765, 'сдача': 651, 'семья': 638, 'собственный': 635, 'со': 627, 'ремонт': 607, 'подержанный': 486, 'подержать': 478, 'приобретение': 461, 'профильный': 436})\n"
     ]
    }
   ],
   "source": [
    "print(Counter(lemmas_purpose))"
   ]
  },
  {
   "cell_type": "markdown",
   "metadata": {},
   "source": [
    "**Вывод**"
   ]
  },
  {
   "cell_type": "markdown",
   "metadata": {},
   "source": [
    "Проведена лемматизация столбца `purpose`. Подсчитано количество упоминаний лемм. "
   ]
  },
  {
   "cell_type": "markdown",
   "metadata": {},
   "source": [
    "### Категоризация данных"
   ]
  },
  {
   "cell_type": "markdown",
   "metadata": {},
   "source": [
    "Проанализировав столбцы таблицы, можно сразу отметить колонки `education`, `education_id` и `family_status`, `family_status_id`.\n",
    "Эти колонки содержат одну и ту же информацию, но представленную в разных форматах."
   ]
  },
  {
   "cell_type": "markdown",
   "metadata": {},
   "source": [
    "Поделим таблицу на 3 части: \n",
    "- в первой оставим все столбцы, кроме *education* и *family_status*\n",
    "- вторая станет \"словарём\" к столбцу *education_id*: будет содержать уровень образования клиента\n",
    "- третья станет \"словарём\" к столбцу *family_status_id*: будет содержать семейное положение\n"
   ]
  },
  {
   "cell_type": "code",
   "execution_count": 52,
   "metadata": {},
   "outputs": [
    {
     "data": {
      "text/html": [
       "<div>\n",
       "<style scoped>\n",
       "    .dataframe tbody tr th:only-of-type {\n",
       "        vertical-align: middle;\n",
       "    }\n",
       "\n",
       "    .dataframe tbody tr th {\n",
       "        vertical-align: top;\n",
       "    }\n",
       "\n",
       "    .dataframe thead th {\n",
       "        text-align: right;\n",
       "    }\n",
       "</style>\n",
       "<table border=\"1\" class=\"dataframe\">\n",
       "  <thead>\n",
       "    <tr style=\"text-align: right;\">\n",
       "      <th></th>\n",
       "      <th>children</th>\n",
       "      <th>days_employed</th>\n",
       "      <th>dob_years</th>\n",
       "      <th>education_id</th>\n",
       "      <th>family_status_id</th>\n",
       "      <th>gender</th>\n",
       "      <th>income_type</th>\n",
       "      <th>debt</th>\n",
       "      <th>total_income</th>\n",
       "      <th>purpose</th>\n",
       "    </tr>\n",
       "  </thead>\n",
       "  <tbody>\n",
       "    <tr>\n",
       "      <td>0</td>\n",
       "      <td>1</td>\n",
       "      <td>8437</td>\n",
       "      <td>42</td>\n",
       "      <td>0</td>\n",
       "      <td>0</td>\n",
       "      <td>f</td>\n",
       "      <td>сотрудник</td>\n",
       "      <td>0</td>\n",
       "      <td>253875</td>\n",
       "      <td>покупка жилья</td>\n",
       "    </tr>\n",
       "    <tr>\n",
       "      <td>1</td>\n",
       "      <td>1</td>\n",
       "      <td>4024</td>\n",
       "      <td>36</td>\n",
       "      <td>1</td>\n",
       "      <td>0</td>\n",
       "      <td>f</td>\n",
       "      <td>сотрудник</td>\n",
       "      <td>0</td>\n",
       "      <td>112080</td>\n",
       "      <td>приобретение автомобиля</td>\n",
       "    </tr>\n",
       "    <tr>\n",
       "      <td>2</td>\n",
       "      <td>0</td>\n",
       "      <td>5623</td>\n",
       "      <td>33</td>\n",
       "      <td>1</td>\n",
       "      <td>0</td>\n",
       "      <td>m</td>\n",
       "      <td>сотрудник</td>\n",
       "      <td>0</td>\n",
       "      <td>145885</td>\n",
       "      <td>покупка жилья</td>\n",
       "    </tr>\n",
       "    <tr>\n",
       "      <td>3</td>\n",
       "      <td>3</td>\n",
       "      <td>4124</td>\n",
       "      <td>32</td>\n",
       "      <td>1</td>\n",
       "      <td>0</td>\n",
       "      <td>m</td>\n",
       "      <td>сотрудник</td>\n",
       "      <td>0</td>\n",
       "      <td>267628</td>\n",
       "      <td>дополнительное образование</td>\n",
       "    </tr>\n",
       "    <tr>\n",
       "      <td>4</td>\n",
       "      <td>0</td>\n",
       "      <td>340266</td>\n",
       "      <td>53</td>\n",
       "      <td>1</td>\n",
       "      <td>1</td>\n",
       "      <td>f</td>\n",
       "      <td>пенсионер</td>\n",
       "      <td>0</td>\n",
       "      <td>158616</td>\n",
       "      <td>сыграть свадьбу</td>\n",
       "    </tr>\n",
       "    <tr>\n",
       "      <td>5</td>\n",
       "      <td>0</td>\n",
       "      <td>926</td>\n",
       "      <td>27</td>\n",
       "      <td>0</td>\n",
       "      <td>1</td>\n",
       "      <td>m</td>\n",
       "      <td>компаньон</td>\n",
       "      <td>0</td>\n",
       "      <td>255763</td>\n",
       "      <td>покупка жилья</td>\n",
       "    </tr>\n",
       "    <tr>\n",
       "      <td>6</td>\n",
       "      <td>0</td>\n",
       "      <td>2879</td>\n",
       "      <td>43</td>\n",
       "      <td>0</td>\n",
       "      <td>0</td>\n",
       "      <td>f</td>\n",
       "      <td>компаньон</td>\n",
       "      <td>0</td>\n",
       "      <td>240525</td>\n",
       "      <td>операции с жильем</td>\n",
       "    </tr>\n",
       "    <tr>\n",
       "      <td>7</td>\n",
       "      <td>0</td>\n",
       "      <td>152</td>\n",
       "      <td>50</td>\n",
       "      <td>1</td>\n",
       "      <td>0</td>\n",
       "      <td>m</td>\n",
       "      <td>сотрудник</td>\n",
       "      <td>0</td>\n",
       "      <td>135823</td>\n",
       "      <td>образование</td>\n",
       "    </tr>\n",
       "    <tr>\n",
       "      <td>8</td>\n",
       "      <td>2</td>\n",
       "      <td>6929</td>\n",
       "      <td>35</td>\n",
       "      <td>0</td>\n",
       "      <td>1</td>\n",
       "      <td>f</td>\n",
       "      <td>сотрудник</td>\n",
       "      <td>0</td>\n",
       "      <td>95856</td>\n",
       "      <td>на проведение свадьбы</td>\n",
       "    </tr>\n",
       "    <tr>\n",
       "      <td>9</td>\n",
       "      <td>0</td>\n",
       "      <td>2188</td>\n",
       "      <td>41</td>\n",
       "      <td>1</td>\n",
       "      <td>0</td>\n",
       "      <td>m</td>\n",
       "      <td>сотрудник</td>\n",
       "      <td>0</td>\n",
       "      <td>144425</td>\n",
       "      <td>покупка жилья для семьи</td>\n",
       "    </tr>\n",
       "  </tbody>\n",
       "</table>\n",
       "</div>"
      ],
      "text/plain": [
       "   children  days_employed  dob_years  education_id  family_status_id gender  \\\n",
       "0         1           8437         42             0                 0      f   \n",
       "1         1           4024         36             1                 0      f   \n",
       "2         0           5623         33             1                 0      m   \n",
       "3         3           4124         32             1                 0      m   \n",
       "4         0         340266         53             1                 1      f   \n",
       "5         0            926         27             0                 1      m   \n",
       "6         0           2879         43             0                 0      f   \n",
       "7         0            152         50             1                 0      m   \n",
       "8         2           6929         35             0                 1      f   \n",
       "9         0           2188         41             1                 0      m   \n",
       "\n",
       "  income_type  debt  total_income                     purpose  \n",
       "0   сотрудник     0        253875               покупка жилья  \n",
       "1   сотрудник     0        112080     приобретение автомобиля  \n",
       "2   сотрудник     0        145885               покупка жилья  \n",
       "3   сотрудник     0        267628  дополнительное образование  \n",
       "4   пенсионер     0        158616             сыграть свадьбу  \n",
       "5   компаньон     0        255763               покупка жилья  \n",
       "6   компаньон     0        240525           операции с жильем  \n",
       "7   сотрудник     0        135823                 образование  \n",
       "8   сотрудник     0         95856       на проведение свадьбы  \n",
       "9   сотрудник     0        144425     покупка жилья для семьи  "
      ]
     },
     "metadata": {},
     "output_type": "display_data"
    }
   ],
   "source": [
    "# формирование первой части таблицы\n",
    "df_log = df[['children',\n",
    "             'days_employed',\n",
    "             'dob_years',\n",
    "             'education_id',\n",
    "             'family_status_id',\n",
    "             'gender',\n",
    "             'income_type',\n",
    "             'debt',\n",
    "             'total_income',\n",
    "             'purpose']]\n",
    "\n",
    "# вывод первых 10 строк полученной части таблицы\n",
    "df_log.head(10)"
   ]
  },
  {
   "cell_type": "code",
   "execution_count": 53,
   "metadata": {
    "scrolled": true
   },
   "outputs": [
    {
     "data": {
      "text/html": [
       "<div>\n",
       "<style scoped>\n",
       "    .dataframe tbody tr th:only-of-type {\n",
       "        vertical-align: middle;\n",
       "    }\n",
       "\n",
       "    .dataframe tbody tr th {\n",
       "        vertical-align: top;\n",
       "    }\n",
       "\n",
       "    .dataframe thead th {\n",
       "        text-align: right;\n",
       "    }\n",
       "</style>\n",
       "<table border=\"1\" class=\"dataframe\">\n",
       "  <thead>\n",
       "    <tr style=\"text-align: right;\">\n",
       "      <th></th>\n",
       "      <th>education_id</th>\n",
       "      <th>education</th>\n",
       "    </tr>\n",
       "  </thead>\n",
       "  <tbody>\n",
       "    <tr>\n",
       "      <td>0</td>\n",
       "      <td>0</td>\n",
       "      <td>высшее</td>\n",
       "    </tr>\n",
       "    <tr>\n",
       "      <td>1</td>\n",
       "      <td>1</td>\n",
       "      <td>среднее</td>\n",
       "    </tr>\n",
       "    <tr>\n",
       "      <td>2</td>\n",
       "      <td>1</td>\n",
       "      <td>среднее</td>\n",
       "    </tr>\n",
       "    <tr>\n",
       "      <td>3</td>\n",
       "      <td>1</td>\n",
       "      <td>среднее</td>\n",
       "    </tr>\n",
       "    <tr>\n",
       "      <td>4</td>\n",
       "      <td>1</td>\n",
       "      <td>среднее</td>\n",
       "    </tr>\n",
       "    <tr>\n",
       "      <td>5</td>\n",
       "      <td>0</td>\n",
       "      <td>высшее</td>\n",
       "    </tr>\n",
       "    <tr>\n",
       "      <td>6</td>\n",
       "      <td>0</td>\n",
       "      <td>высшее</td>\n",
       "    </tr>\n",
       "    <tr>\n",
       "      <td>7</td>\n",
       "      <td>1</td>\n",
       "      <td>среднее</td>\n",
       "    </tr>\n",
       "    <tr>\n",
       "      <td>8</td>\n",
       "      <td>0</td>\n",
       "      <td>высшее</td>\n",
       "    </tr>\n",
       "    <tr>\n",
       "      <td>9</td>\n",
       "      <td>1</td>\n",
       "      <td>среднее</td>\n",
       "    </tr>\n",
       "  </tbody>\n",
       "</table>\n",
       "</div>"
      ],
      "text/plain": [
       "   education_id education\n",
       "0             0    высшее\n",
       "1             1   среднее\n",
       "2             1   среднее\n",
       "3             1   среднее\n",
       "4             1   среднее\n",
       "5             0    высшее\n",
       "6             0    высшее\n",
       "7             1   среднее\n",
       "8             0    высшее\n",
       "9             1   среднее"
      ]
     },
     "metadata": {},
     "output_type": "display_data"
    }
   ],
   "source": [
    "# формирование второй части таблицы/\"словаря\"\n",
    "df_dict_education = df[['education_id', 'education']]\n",
    "# вывод первых 10 строк таблицы\n",
    "display(df_dict_education.head(10))"
   ]
  },
  {
   "cell_type": "code",
   "execution_count": 54,
   "metadata": {
    "scrolled": true
   },
   "outputs": [
    {
     "data": {
      "text/html": [
       "<div>\n",
       "<style scoped>\n",
       "    .dataframe tbody tr th:only-of-type {\n",
       "        vertical-align: middle;\n",
       "    }\n",
       "\n",
       "    .dataframe tbody tr th {\n",
       "        vertical-align: top;\n",
       "    }\n",
       "\n",
       "    .dataframe thead th {\n",
       "        text-align: right;\n",
       "    }\n",
       "</style>\n",
       "<table border=\"1\" class=\"dataframe\">\n",
       "  <thead>\n",
       "    <tr style=\"text-align: right;\">\n",
       "      <th></th>\n",
       "      <th>education_id</th>\n",
       "      <th>education</th>\n",
       "    </tr>\n",
       "  </thead>\n",
       "  <tbody>\n",
       "    <tr>\n",
       "      <td>0</td>\n",
       "      <td>0</td>\n",
       "      <td>высшее</td>\n",
       "    </tr>\n",
       "    <tr>\n",
       "      <td>1</td>\n",
       "      <td>1</td>\n",
       "      <td>среднее</td>\n",
       "    </tr>\n",
       "    <tr>\n",
       "      <td>2</td>\n",
       "      <td>2</td>\n",
       "      <td>неоконченное высшее</td>\n",
       "    </tr>\n",
       "    <tr>\n",
       "      <td>3</td>\n",
       "      <td>3</td>\n",
       "      <td>начальное</td>\n",
       "    </tr>\n",
       "    <tr>\n",
       "      <td>4</td>\n",
       "      <td>4</td>\n",
       "      <td>ученая степень</td>\n",
       "    </tr>\n",
       "  </tbody>\n",
       "</table>\n",
       "</div>"
      ],
      "text/plain": [
       "   education_id            education\n",
       "0             0               высшее\n",
       "1             1              среднее\n",
       "2             2  неоконченное высшее\n",
       "3             3            начальное\n",
       "4             4       ученая степень"
      ]
     },
     "metadata": {},
     "output_type": "display_data"
    }
   ],
   "source": [
    "# удаление дубликатов и вывод таблицы\n",
    "df_dict_education = df_dict_education.drop_duplicates().reset_index(drop = True)\n",
    "display(df_dict_education)"
   ]
  },
  {
   "cell_type": "code",
   "execution_count": 55,
   "metadata": {},
   "outputs": [
    {
     "data": {
      "text/html": [
       "<div>\n",
       "<style scoped>\n",
       "    .dataframe tbody tr th:only-of-type {\n",
       "        vertical-align: middle;\n",
       "    }\n",
       "\n",
       "    .dataframe tbody tr th {\n",
       "        vertical-align: top;\n",
       "    }\n",
       "\n",
       "    .dataframe thead th {\n",
       "        text-align: right;\n",
       "    }\n",
       "</style>\n",
       "<table border=\"1\" class=\"dataframe\">\n",
       "  <thead>\n",
       "    <tr style=\"text-align: right;\">\n",
       "      <th></th>\n",
       "      <th>family_status_id</th>\n",
       "      <th>family_status</th>\n",
       "    </tr>\n",
       "  </thead>\n",
       "  <tbody>\n",
       "    <tr>\n",
       "      <td>0</td>\n",
       "      <td>0</td>\n",
       "      <td>женат / замужем</td>\n",
       "    </tr>\n",
       "    <tr>\n",
       "      <td>1</td>\n",
       "      <td>0</td>\n",
       "      <td>женат / замужем</td>\n",
       "    </tr>\n",
       "    <tr>\n",
       "      <td>2</td>\n",
       "      <td>0</td>\n",
       "      <td>женат / замужем</td>\n",
       "    </tr>\n",
       "    <tr>\n",
       "      <td>3</td>\n",
       "      <td>0</td>\n",
       "      <td>женат / замужем</td>\n",
       "    </tr>\n",
       "    <tr>\n",
       "      <td>4</td>\n",
       "      <td>1</td>\n",
       "      <td>гражданский брак</td>\n",
       "    </tr>\n",
       "    <tr>\n",
       "      <td>5</td>\n",
       "      <td>1</td>\n",
       "      <td>гражданский брак</td>\n",
       "    </tr>\n",
       "    <tr>\n",
       "      <td>6</td>\n",
       "      <td>0</td>\n",
       "      <td>женат / замужем</td>\n",
       "    </tr>\n",
       "    <tr>\n",
       "      <td>7</td>\n",
       "      <td>0</td>\n",
       "      <td>женат / замужем</td>\n",
       "    </tr>\n",
       "    <tr>\n",
       "      <td>8</td>\n",
       "      <td>1</td>\n",
       "      <td>гражданский брак</td>\n",
       "    </tr>\n",
       "    <tr>\n",
       "      <td>9</td>\n",
       "      <td>0</td>\n",
       "      <td>женат / замужем</td>\n",
       "    </tr>\n",
       "  </tbody>\n",
       "</table>\n",
       "</div>"
      ],
      "text/plain": [
       "   family_status_id     family_status\n",
       "0                 0   женат / замужем\n",
       "1                 0   женат / замужем\n",
       "2                 0   женат / замужем\n",
       "3                 0   женат / замужем\n",
       "4                 1  гражданский брак\n",
       "5                 1  гражданский брак\n",
       "6                 0   женат / замужем\n",
       "7                 0   женат / замужем\n",
       "8                 1  гражданский брак\n",
       "9                 0   женат / замужем"
      ]
     },
     "metadata": {},
     "output_type": "display_data"
    }
   ],
   "source": [
    "# формирование третьей части таблицы/\"словаря\"\n",
    "df_dict_family_status = df[['family_status_id', 'family_status']]\n",
    "# вывод первых 10 строк таблицы\n",
    "display(df_dict_family_status.head(10))"
   ]
  },
  {
   "cell_type": "code",
   "execution_count": 56,
   "metadata": {
    "scrolled": true
   },
   "outputs": [
    {
     "data": {
      "text/html": [
       "<div>\n",
       "<style scoped>\n",
       "    .dataframe tbody tr th:only-of-type {\n",
       "        vertical-align: middle;\n",
       "    }\n",
       "\n",
       "    .dataframe tbody tr th {\n",
       "        vertical-align: top;\n",
       "    }\n",
       "\n",
       "    .dataframe thead th {\n",
       "        text-align: right;\n",
       "    }\n",
       "</style>\n",
       "<table border=\"1\" class=\"dataframe\">\n",
       "  <thead>\n",
       "    <tr style=\"text-align: right;\">\n",
       "      <th></th>\n",
       "      <th>family_status_id</th>\n",
       "      <th>family_status</th>\n",
       "    </tr>\n",
       "  </thead>\n",
       "  <tbody>\n",
       "    <tr>\n",
       "      <td>0</td>\n",
       "      <td>0</td>\n",
       "      <td>женат / замужем</td>\n",
       "    </tr>\n",
       "    <tr>\n",
       "      <td>1</td>\n",
       "      <td>1</td>\n",
       "      <td>гражданский брак</td>\n",
       "    </tr>\n",
       "    <tr>\n",
       "      <td>2</td>\n",
       "      <td>2</td>\n",
       "      <td>вдовец / вдова</td>\n",
       "    </tr>\n",
       "    <tr>\n",
       "      <td>3</td>\n",
       "      <td>3</td>\n",
       "      <td>в разводе</td>\n",
       "    </tr>\n",
       "    <tr>\n",
       "      <td>4</td>\n",
       "      <td>4</td>\n",
       "      <td>не женат / не замужем</td>\n",
       "    </tr>\n",
       "  </tbody>\n",
       "</table>\n",
       "</div>"
      ],
      "text/plain": [
       "   family_status_id          family_status\n",
       "0                 0        женат / замужем\n",
       "1                 1       гражданский брак\n",
       "2                 2         вдовец / вдова\n",
       "3                 3              в разводе\n",
       "4                 4  не женат / не замужем"
      ]
     },
     "metadata": {},
     "output_type": "display_data"
    }
   ],
   "source": [
    "# удаление дубликатов и вывод таблицы\n",
    "df_dict_family_status = df_dict_family_status.drop_duplicates().reset_index(drop = True)\n",
    "display(df_dict_family_status)"
   ]
  },
  {
   "cell_type": "markdown",
   "metadata": {},
   "source": [
    "Текстовая информация, которая занимает много места, осталась в столбцах `income_type` и `purpose`. Начнем с категоризации в столбце `income_type`."
   ]
  },
  {
   "cell_type": "markdown",
   "metadata": {},
   "source": [
    "Чтобы представить информацию более компактно, необходимо каждому типу занятости в `income_type` присвоить свой id. Для этого сначала посмотрим: какие типы занятости задействованы в таблице. Воспользуемся методом *unique()*."
   ]
  },
  {
   "cell_type": "code",
   "execution_count": 57,
   "metadata": {
    "scrolled": true
   },
   "outputs": [
    {
     "name": "stdout",
     "output_type": "stream",
     "text": [
      "['сотрудник' 'пенсионер' 'компаньон' 'госслужащий' 'безработный'\n",
      " 'предприниматель' 'студент' 'в декрете']\n"
     ]
    }
   ],
   "source": [
    "# вывод уникальных значений типа занятости\n",
    "print(df['income_type'].unique())"
   ]
  },
  {
   "cell_type": "markdown",
   "metadata": {},
   "source": [
    "Теперь напишем функцию, которая приваивает id каждому типу занятости:"
   ]
  },
  {
   "cell_type": "code",
   "execution_count": 58,
   "metadata": {},
   "outputs": [],
   "source": [
    "# функция присваивания id типам занятости\n",
    "def income_type_id(income_type):\n",
    "    \"\"\"\n",
    "    Присваивает номер группы по значению типа занятости, используя правила:\n",
    "    - '0', если 'income_type' = 'сотрудник',\n",
    "    - '1', если 'income_type' = 'пенсионер',\n",
    "    - '2', если 'income_type' = 'компаньон',\n",
    "    - '3', если 'income_type' = 'госслужащий',\n",
    "    - '4', если 'income_type' = 'безработный',\n",
    "    - '5', если 'income_type' = 'предприниматель',\n",
    "    - '6', если 'income_type' = 'студент',\n",
    "    - '7', если 'income_type' = 'в декрете',\n",
    "    \"\"\"\n",
    "    if income_type == 'сотрудник':\n",
    "        return 0\n",
    "    if income_type == 'пенсионер':\n",
    "        return 1\n",
    "    if income_type == 'компаньон':\n",
    "        return 2\n",
    "    if income_type == 'госслужащий':\n",
    "        return 3\n",
    "    if income_type == 'безработный':\n",
    "        return 4\n",
    "    if income_type == 'предприниматель':\n",
    "        return 5\n",
    "    if income_type == 'студент':\n",
    "        return 6\n",
    "    if income_type == 'в декрете':\n",
    "        return 7"
   ]
  },
  {
   "cell_type": "markdown",
   "metadata": {},
   "source": [
    "Проверка работоспособности функции:"
   ]
  },
  {
   "cell_type": "code",
   "execution_count": 59,
   "metadata": {
    "scrolled": true
   },
   "outputs": [
    {
     "name": "stdout",
     "output_type": "stream",
     "text": [
      "0\n",
      "1\n",
      "2\n",
      "3\n",
      "4\n",
      "5\n",
      "6\n",
      "7\n"
     ]
    }
   ],
   "source": [
    "# вывод значений \n",
    "print(income_type_id('сотрудник'))\n",
    "print(income_type_id('пенсионер'))\n",
    "print(income_type_id('компаньон'))\n",
    "print(income_type_id('госслужащий'))\n",
    "print(income_type_id('безработный'))\n",
    "print(income_type_id('предприниматель'))\n",
    "print(income_type_id('студент'))\n",
    "print(income_type_id('в декрете'))"
   ]
  },
  {
   "cell_type": "markdown",
   "metadata": {},
   "source": [
    "Функция работает корректно."
   ]
  },
  {
   "cell_type": "markdown",
   "metadata": {},
   "source": [
    "Создаём столбец `income_type_id` c присвоенными id, используя метод *apply()* и функцию *income_type_id*. Столбец добавляем не в конец таблицы, а следующим за столбцом `income_type` для большей наглядности. Применяем метод *insert()*."
   ]
  },
  {
   "cell_type": "code",
   "execution_count": 60,
   "metadata": {},
   "outputs": [
    {
     "data": {
      "text/html": [
       "<div>\n",
       "<style scoped>\n",
       "    .dataframe tbody tr th:only-of-type {\n",
       "        vertical-align: middle;\n",
       "    }\n",
       "\n",
       "    .dataframe tbody tr th {\n",
       "        vertical-align: top;\n",
       "    }\n",
       "\n",
       "    .dataframe thead th {\n",
       "        text-align: right;\n",
       "    }\n",
       "</style>\n",
       "<table border=\"1\" class=\"dataframe\">\n",
       "  <thead>\n",
       "    <tr style=\"text-align: right;\">\n",
       "      <th></th>\n",
       "      <th>children</th>\n",
       "      <th>days_employed</th>\n",
       "      <th>dob_years</th>\n",
       "      <th>education</th>\n",
       "      <th>education_id</th>\n",
       "      <th>family_status</th>\n",
       "      <th>family_status_id</th>\n",
       "      <th>gender</th>\n",
       "      <th>income_type</th>\n",
       "      <th>income_type_id</th>\n",
       "      <th>debt</th>\n",
       "      <th>total_income</th>\n",
       "      <th>purpose</th>\n",
       "    </tr>\n",
       "  </thead>\n",
       "  <tbody>\n",
       "    <tr>\n",
       "      <td>0</td>\n",
       "      <td>1</td>\n",
       "      <td>8437</td>\n",
       "      <td>42</td>\n",
       "      <td>высшее</td>\n",
       "      <td>0</td>\n",
       "      <td>женат / замужем</td>\n",
       "      <td>0</td>\n",
       "      <td>f</td>\n",
       "      <td>сотрудник</td>\n",
       "      <td>0</td>\n",
       "      <td>0</td>\n",
       "      <td>253875</td>\n",
       "      <td>покупка жилья</td>\n",
       "    </tr>\n",
       "    <tr>\n",
       "      <td>1</td>\n",
       "      <td>1</td>\n",
       "      <td>4024</td>\n",
       "      <td>36</td>\n",
       "      <td>среднее</td>\n",
       "      <td>1</td>\n",
       "      <td>женат / замужем</td>\n",
       "      <td>0</td>\n",
       "      <td>f</td>\n",
       "      <td>сотрудник</td>\n",
       "      <td>0</td>\n",
       "      <td>0</td>\n",
       "      <td>112080</td>\n",
       "      <td>приобретение автомобиля</td>\n",
       "    </tr>\n",
       "    <tr>\n",
       "      <td>2</td>\n",
       "      <td>0</td>\n",
       "      <td>5623</td>\n",
       "      <td>33</td>\n",
       "      <td>среднее</td>\n",
       "      <td>1</td>\n",
       "      <td>женат / замужем</td>\n",
       "      <td>0</td>\n",
       "      <td>m</td>\n",
       "      <td>сотрудник</td>\n",
       "      <td>0</td>\n",
       "      <td>0</td>\n",
       "      <td>145885</td>\n",
       "      <td>покупка жилья</td>\n",
       "    </tr>\n",
       "    <tr>\n",
       "      <td>3</td>\n",
       "      <td>3</td>\n",
       "      <td>4124</td>\n",
       "      <td>32</td>\n",
       "      <td>среднее</td>\n",
       "      <td>1</td>\n",
       "      <td>женат / замужем</td>\n",
       "      <td>0</td>\n",
       "      <td>m</td>\n",
       "      <td>сотрудник</td>\n",
       "      <td>0</td>\n",
       "      <td>0</td>\n",
       "      <td>267628</td>\n",
       "      <td>дополнительное образование</td>\n",
       "    </tr>\n",
       "    <tr>\n",
       "      <td>4</td>\n",
       "      <td>0</td>\n",
       "      <td>340266</td>\n",
       "      <td>53</td>\n",
       "      <td>среднее</td>\n",
       "      <td>1</td>\n",
       "      <td>гражданский брак</td>\n",
       "      <td>1</td>\n",
       "      <td>f</td>\n",
       "      <td>пенсионер</td>\n",
       "      <td>1</td>\n",
       "      <td>0</td>\n",
       "      <td>158616</td>\n",
       "      <td>сыграть свадьбу</td>\n",
       "    </tr>\n",
       "    <tr>\n",
       "      <td>5</td>\n",
       "      <td>0</td>\n",
       "      <td>926</td>\n",
       "      <td>27</td>\n",
       "      <td>высшее</td>\n",
       "      <td>0</td>\n",
       "      <td>гражданский брак</td>\n",
       "      <td>1</td>\n",
       "      <td>m</td>\n",
       "      <td>компаньон</td>\n",
       "      <td>2</td>\n",
       "      <td>0</td>\n",
       "      <td>255763</td>\n",
       "      <td>покупка жилья</td>\n",
       "    </tr>\n",
       "    <tr>\n",
       "      <td>6</td>\n",
       "      <td>0</td>\n",
       "      <td>2879</td>\n",
       "      <td>43</td>\n",
       "      <td>высшее</td>\n",
       "      <td>0</td>\n",
       "      <td>женат / замужем</td>\n",
       "      <td>0</td>\n",
       "      <td>f</td>\n",
       "      <td>компаньон</td>\n",
       "      <td>2</td>\n",
       "      <td>0</td>\n",
       "      <td>240525</td>\n",
       "      <td>операции с жильем</td>\n",
       "    </tr>\n",
       "    <tr>\n",
       "      <td>7</td>\n",
       "      <td>0</td>\n",
       "      <td>152</td>\n",
       "      <td>50</td>\n",
       "      <td>среднее</td>\n",
       "      <td>1</td>\n",
       "      <td>женат / замужем</td>\n",
       "      <td>0</td>\n",
       "      <td>m</td>\n",
       "      <td>сотрудник</td>\n",
       "      <td>0</td>\n",
       "      <td>0</td>\n",
       "      <td>135823</td>\n",
       "      <td>образование</td>\n",
       "    </tr>\n",
       "    <tr>\n",
       "      <td>8</td>\n",
       "      <td>2</td>\n",
       "      <td>6929</td>\n",
       "      <td>35</td>\n",
       "      <td>высшее</td>\n",
       "      <td>0</td>\n",
       "      <td>гражданский брак</td>\n",
       "      <td>1</td>\n",
       "      <td>f</td>\n",
       "      <td>сотрудник</td>\n",
       "      <td>0</td>\n",
       "      <td>0</td>\n",
       "      <td>95856</td>\n",
       "      <td>на проведение свадьбы</td>\n",
       "    </tr>\n",
       "    <tr>\n",
       "      <td>9</td>\n",
       "      <td>0</td>\n",
       "      <td>2188</td>\n",
       "      <td>41</td>\n",
       "      <td>среднее</td>\n",
       "      <td>1</td>\n",
       "      <td>женат / замужем</td>\n",
       "      <td>0</td>\n",
       "      <td>m</td>\n",
       "      <td>сотрудник</td>\n",
       "      <td>0</td>\n",
       "      <td>0</td>\n",
       "      <td>144425</td>\n",
       "      <td>покупка жилья для семьи</td>\n",
       "    </tr>\n",
       "  </tbody>\n",
       "</table>\n",
       "</div>"
      ],
      "text/plain": [
       "   children  days_employed  dob_years education  education_id  \\\n",
       "0         1           8437         42    высшее             0   \n",
       "1         1           4024         36   среднее             1   \n",
       "2         0           5623         33   среднее             1   \n",
       "3         3           4124         32   среднее             1   \n",
       "4         0         340266         53   среднее             1   \n",
       "5         0            926         27    высшее             0   \n",
       "6         0           2879         43    высшее             0   \n",
       "7         0            152         50   среднее             1   \n",
       "8         2           6929         35    высшее             0   \n",
       "9         0           2188         41   среднее             1   \n",
       "\n",
       "      family_status  family_status_id gender income_type  income_type_id  \\\n",
       "0   женат / замужем                 0      f   сотрудник               0   \n",
       "1   женат / замужем                 0      f   сотрудник               0   \n",
       "2   женат / замужем                 0      m   сотрудник               0   \n",
       "3   женат / замужем                 0      m   сотрудник               0   \n",
       "4  гражданский брак                 1      f   пенсионер               1   \n",
       "5  гражданский брак                 1      m   компаньон               2   \n",
       "6   женат / замужем                 0      f   компаньон               2   \n",
       "7   женат / замужем                 0      m   сотрудник               0   \n",
       "8  гражданский брак                 1      f   сотрудник               0   \n",
       "9   женат / замужем                 0      m   сотрудник               0   \n",
       "\n",
       "   debt  total_income                     purpose  \n",
       "0     0        253875               покупка жилья  \n",
       "1     0        112080     приобретение автомобиля  \n",
       "2     0        145885               покупка жилья  \n",
       "3     0        267628  дополнительное образование  \n",
       "4     0        158616             сыграть свадьбу  \n",
       "5     0        255763               покупка жилья  \n",
       "6     0        240525           операции с жильем  \n",
       "7     0        135823                 образование  \n",
       "8     0         95856       на проведение свадьбы  \n",
       "9     0        144425     покупка жилья для семьи  "
      ]
     },
     "metadata": {},
     "output_type": "display_data"
    }
   ],
   "source": [
    "# добавление колонки \"income_type_id\" в таблицу\n",
    "df.insert(9,'income_type_id',df['income_type'].apply(income_type_id))\n",
    "# вывод первых 10 строк таблицы\n",
    "df.head(10)"
   ]
  },
  {
   "cell_type": "markdown",
   "metadata": {},
   "source": [
    "Создаём третий словарь-таблицу, который содержит информацию о типе занятости:"
   ]
  },
  {
   "cell_type": "code",
   "execution_count": 61,
   "metadata": {},
   "outputs": [
    {
     "data": {
      "text/html": [
       "<div>\n",
       "<style scoped>\n",
       "    .dataframe tbody tr th:only-of-type {\n",
       "        vertical-align: middle;\n",
       "    }\n",
       "\n",
       "    .dataframe tbody tr th {\n",
       "        vertical-align: top;\n",
       "    }\n",
       "\n",
       "    .dataframe thead th {\n",
       "        text-align: right;\n",
       "    }\n",
       "</style>\n",
       "<table border=\"1\" class=\"dataframe\">\n",
       "  <thead>\n",
       "    <tr style=\"text-align: right;\">\n",
       "      <th></th>\n",
       "      <th>income_type_id</th>\n",
       "      <th>income_type</th>\n",
       "    </tr>\n",
       "  </thead>\n",
       "  <tbody>\n",
       "    <tr>\n",
       "      <td>0</td>\n",
       "      <td>0</td>\n",
       "      <td>сотрудник</td>\n",
       "    </tr>\n",
       "    <tr>\n",
       "      <td>1</td>\n",
       "      <td>0</td>\n",
       "      <td>сотрудник</td>\n",
       "    </tr>\n",
       "    <tr>\n",
       "      <td>2</td>\n",
       "      <td>0</td>\n",
       "      <td>сотрудник</td>\n",
       "    </tr>\n",
       "    <tr>\n",
       "      <td>3</td>\n",
       "      <td>0</td>\n",
       "      <td>сотрудник</td>\n",
       "    </tr>\n",
       "    <tr>\n",
       "      <td>4</td>\n",
       "      <td>1</td>\n",
       "      <td>пенсионер</td>\n",
       "    </tr>\n",
       "    <tr>\n",
       "      <td>5</td>\n",
       "      <td>2</td>\n",
       "      <td>компаньон</td>\n",
       "    </tr>\n",
       "    <tr>\n",
       "      <td>6</td>\n",
       "      <td>2</td>\n",
       "      <td>компаньон</td>\n",
       "    </tr>\n",
       "    <tr>\n",
       "      <td>7</td>\n",
       "      <td>0</td>\n",
       "      <td>сотрудник</td>\n",
       "    </tr>\n",
       "    <tr>\n",
       "      <td>8</td>\n",
       "      <td>0</td>\n",
       "      <td>сотрудник</td>\n",
       "    </tr>\n",
       "    <tr>\n",
       "      <td>9</td>\n",
       "      <td>0</td>\n",
       "      <td>сотрудник</td>\n",
       "    </tr>\n",
       "  </tbody>\n",
       "</table>\n",
       "</div>"
      ],
      "text/plain": [
       "   income_type_id income_type\n",
       "0               0   сотрудник\n",
       "1               0   сотрудник\n",
       "2               0   сотрудник\n",
       "3               0   сотрудник\n",
       "4               1   пенсионер\n",
       "5               2   компаньон\n",
       "6               2   компаньон\n",
       "7               0   сотрудник\n",
       "8               0   сотрудник\n",
       "9               0   сотрудник"
      ]
     },
     "metadata": {},
     "output_type": "display_data"
    }
   ],
   "source": [
    "# формирование словаря-таблицы типов занятости\n",
    "df_dict_income_type = df[['income_type_id', 'income_type']]\n",
    "# вывод первых 10 строк таблицы\n",
    "df_dict_income_type.head(10)"
   ]
  },
  {
   "cell_type": "code",
   "execution_count": 62,
   "metadata": {
    "scrolled": true
   },
   "outputs": [
    {
     "data": {
      "text/html": [
       "<div>\n",
       "<style scoped>\n",
       "    .dataframe tbody tr th:only-of-type {\n",
       "        vertical-align: middle;\n",
       "    }\n",
       "\n",
       "    .dataframe tbody tr th {\n",
       "        vertical-align: top;\n",
       "    }\n",
       "\n",
       "    .dataframe thead th {\n",
       "        text-align: right;\n",
       "    }\n",
       "</style>\n",
       "<table border=\"1\" class=\"dataframe\">\n",
       "  <thead>\n",
       "    <tr style=\"text-align: right;\">\n",
       "      <th></th>\n",
       "      <th>income_type_id</th>\n",
       "      <th>income_type</th>\n",
       "    </tr>\n",
       "  </thead>\n",
       "  <tbody>\n",
       "    <tr>\n",
       "      <td>0</td>\n",
       "      <td>0</td>\n",
       "      <td>сотрудник</td>\n",
       "    </tr>\n",
       "    <tr>\n",
       "      <td>1</td>\n",
       "      <td>1</td>\n",
       "      <td>пенсионер</td>\n",
       "    </tr>\n",
       "    <tr>\n",
       "      <td>2</td>\n",
       "      <td>2</td>\n",
       "      <td>компаньон</td>\n",
       "    </tr>\n",
       "    <tr>\n",
       "      <td>3</td>\n",
       "      <td>3</td>\n",
       "      <td>госслужащий</td>\n",
       "    </tr>\n",
       "    <tr>\n",
       "      <td>4</td>\n",
       "      <td>4</td>\n",
       "      <td>безработный</td>\n",
       "    </tr>\n",
       "    <tr>\n",
       "      <td>5</td>\n",
       "      <td>5</td>\n",
       "      <td>предприниматель</td>\n",
       "    </tr>\n",
       "    <tr>\n",
       "      <td>6</td>\n",
       "      <td>6</td>\n",
       "      <td>студент</td>\n",
       "    </tr>\n",
       "    <tr>\n",
       "      <td>7</td>\n",
       "      <td>7</td>\n",
       "      <td>в декрете</td>\n",
       "    </tr>\n",
       "  </tbody>\n",
       "</table>\n",
       "</div>"
      ],
      "text/plain": [
       "   income_type_id      income_type\n",
       "0               0        сотрудник\n",
       "1               1        пенсионер\n",
       "2               2        компаньон\n",
       "3               3      госслужащий\n",
       "4               4      безработный\n",
       "5               5  предприниматель\n",
       "6               6          студент\n",
       "7               7        в декрете"
      ]
     },
     "metadata": {},
     "output_type": "display_data"
    }
   ],
   "source": [
    "# удаление дубликтов и вывод таблицы\n",
    "df_dict_income_type = df_dict_income_type.drop_duplicates().reset_index(drop = True)\n",
    "display(df_dict_income_type)"
   ]
  },
  {
   "cell_type": "markdown",
   "metadata": {},
   "source": [
    "Обновим первую часть таблицы df_log. Удалим столбец `income_type` и добавим столбец `income_type_id`."
   ]
  },
  {
   "cell_type": "code",
   "execution_count": 63,
   "metadata": {
    "scrolled": true
   },
   "outputs": [
    {
     "data": {
      "text/html": [
       "<div>\n",
       "<style scoped>\n",
       "    .dataframe tbody tr th:only-of-type {\n",
       "        vertical-align: middle;\n",
       "    }\n",
       "\n",
       "    .dataframe tbody tr th {\n",
       "        vertical-align: top;\n",
       "    }\n",
       "\n",
       "    .dataframe thead th {\n",
       "        text-align: right;\n",
       "    }\n",
       "</style>\n",
       "<table border=\"1\" class=\"dataframe\">\n",
       "  <thead>\n",
       "    <tr style=\"text-align: right;\">\n",
       "      <th></th>\n",
       "      <th>children</th>\n",
       "      <th>days_employed</th>\n",
       "      <th>dob_years</th>\n",
       "      <th>education_id</th>\n",
       "      <th>family_status_id</th>\n",
       "      <th>gender</th>\n",
       "      <th>income_type_id</th>\n",
       "      <th>debt</th>\n",
       "      <th>total_income</th>\n",
       "      <th>purpose</th>\n",
       "    </tr>\n",
       "  </thead>\n",
       "  <tbody>\n",
       "    <tr>\n",
       "      <td>0</td>\n",
       "      <td>1</td>\n",
       "      <td>8437</td>\n",
       "      <td>42</td>\n",
       "      <td>0</td>\n",
       "      <td>0</td>\n",
       "      <td>f</td>\n",
       "      <td>0</td>\n",
       "      <td>0</td>\n",
       "      <td>253875</td>\n",
       "      <td>покупка жилья</td>\n",
       "    </tr>\n",
       "    <tr>\n",
       "      <td>1</td>\n",
       "      <td>1</td>\n",
       "      <td>4024</td>\n",
       "      <td>36</td>\n",
       "      <td>1</td>\n",
       "      <td>0</td>\n",
       "      <td>f</td>\n",
       "      <td>0</td>\n",
       "      <td>0</td>\n",
       "      <td>112080</td>\n",
       "      <td>приобретение автомобиля</td>\n",
       "    </tr>\n",
       "    <tr>\n",
       "      <td>2</td>\n",
       "      <td>0</td>\n",
       "      <td>5623</td>\n",
       "      <td>33</td>\n",
       "      <td>1</td>\n",
       "      <td>0</td>\n",
       "      <td>m</td>\n",
       "      <td>0</td>\n",
       "      <td>0</td>\n",
       "      <td>145885</td>\n",
       "      <td>покупка жилья</td>\n",
       "    </tr>\n",
       "    <tr>\n",
       "      <td>3</td>\n",
       "      <td>3</td>\n",
       "      <td>4124</td>\n",
       "      <td>32</td>\n",
       "      <td>1</td>\n",
       "      <td>0</td>\n",
       "      <td>m</td>\n",
       "      <td>0</td>\n",
       "      <td>0</td>\n",
       "      <td>267628</td>\n",
       "      <td>дополнительное образование</td>\n",
       "    </tr>\n",
       "    <tr>\n",
       "      <td>4</td>\n",
       "      <td>0</td>\n",
       "      <td>340266</td>\n",
       "      <td>53</td>\n",
       "      <td>1</td>\n",
       "      <td>1</td>\n",
       "      <td>f</td>\n",
       "      <td>1</td>\n",
       "      <td>0</td>\n",
       "      <td>158616</td>\n",
       "      <td>сыграть свадьбу</td>\n",
       "    </tr>\n",
       "    <tr>\n",
       "      <td>5</td>\n",
       "      <td>0</td>\n",
       "      <td>926</td>\n",
       "      <td>27</td>\n",
       "      <td>0</td>\n",
       "      <td>1</td>\n",
       "      <td>m</td>\n",
       "      <td>2</td>\n",
       "      <td>0</td>\n",
       "      <td>255763</td>\n",
       "      <td>покупка жилья</td>\n",
       "    </tr>\n",
       "    <tr>\n",
       "      <td>6</td>\n",
       "      <td>0</td>\n",
       "      <td>2879</td>\n",
       "      <td>43</td>\n",
       "      <td>0</td>\n",
       "      <td>0</td>\n",
       "      <td>f</td>\n",
       "      <td>2</td>\n",
       "      <td>0</td>\n",
       "      <td>240525</td>\n",
       "      <td>операции с жильем</td>\n",
       "    </tr>\n",
       "    <tr>\n",
       "      <td>7</td>\n",
       "      <td>0</td>\n",
       "      <td>152</td>\n",
       "      <td>50</td>\n",
       "      <td>1</td>\n",
       "      <td>0</td>\n",
       "      <td>m</td>\n",
       "      <td>0</td>\n",
       "      <td>0</td>\n",
       "      <td>135823</td>\n",
       "      <td>образование</td>\n",
       "    </tr>\n",
       "    <tr>\n",
       "      <td>8</td>\n",
       "      <td>2</td>\n",
       "      <td>6929</td>\n",
       "      <td>35</td>\n",
       "      <td>0</td>\n",
       "      <td>1</td>\n",
       "      <td>f</td>\n",
       "      <td>0</td>\n",
       "      <td>0</td>\n",
       "      <td>95856</td>\n",
       "      <td>на проведение свадьбы</td>\n",
       "    </tr>\n",
       "    <tr>\n",
       "      <td>9</td>\n",
       "      <td>0</td>\n",
       "      <td>2188</td>\n",
       "      <td>41</td>\n",
       "      <td>1</td>\n",
       "      <td>0</td>\n",
       "      <td>m</td>\n",
       "      <td>0</td>\n",
       "      <td>0</td>\n",
       "      <td>144425</td>\n",
       "      <td>покупка жилья для семьи</td>\n",
       "    </tr>\n",
       "  </tbody>\n",
       "</table>\n",
       "</div>"
      ],
      "text/plain": [
       "   children  days_employed  dob_years  education_id  family_status_id gender  \\\n",
       "0         1           8437         42             0                 0      f   \n",
       "1         1           4024         36             1                 0      f   \n",
       "2         0           5623         33             1                 0      m   \n",
       "3         3           4124         32             1                 0      m   \n",
       "4         0         340266         53             1                 1      f   \n",
       "5         0            926         27             0                 1      m   \n",
       "6         0           2879         43             0                 0      f   \n",
       "7         0            152         50             1                 0      m   \n",
       "8         2           6929         35             0                 1      f   \n",
       "9         0           2188         41             1                 0      m   \n",
       "\n",
       "   income_type_id  debt  total_income                     purpose  \n",
       "0               0     0        253875               покупка жилья  \n",
       "1               0     0        112080     приобретение автомобиля  \n",
       "2               0     0        145885               покупка жилья  \n",
       "3               0     0        267628  дополнительное образование  \n",
       "4               1     0        158616             сыграть свадьбу  \n",
       "5               2     0        255763               покупка жилья  \n",
       "6               2     0        240525           операции с жильем  \n",
       "7               0     0        135823                 образование  \n",
       "8               0     0         95856       на проведение свадьбы  \n",
       "9               0     0        144425     покупка жилья для семьи  "
      ]
     },
     "metadata": {},
     "output_type": "display_data"
    }
   ],
   "source": [
    "# обновление первой части таблицы и вывод первых 10 значений\n",
    "df_log = df[['children',\n",
    "             'days_employed',\n",
    "             'dob_years',\n",
    "             'education_id',\n",
    "             'family_status_id',\n",
    "             'gender',\n",
    "             'income_type_id',\n",
    "             'debt',\n",
    "             'total_income',\n",
    "             'purpose']]\n",
    "\n",
    "df_log.head(10)"
   ]
  },
  {
   "cell_type": "markdown",
   "metadata": {},
   "source": [
    "Приступаем к столбцу `purpose`. "
   ]
  },
  {
   "cell_type": "markdown",
   "metadata": {},
   "source": [
    "В разделе *лемматизации* мы находили леммы слов. Выведем уникальные значения столбца `purpose`, чтобы подобрать леммы, которые помогут категоризировать данные:"
   ]
  },
  {
   "cell_type": "code",
   "execution_count": 64,
   "metadata": {},
   "outputs": [
    {
     "name": "stdout",
     "output_type": "stream",
     "text": [
      "['покупка жилья' 'приобретение автомобиля' 'дополнительное образование'\n",
      " 'сыграть свадьбу' 'операции с жильем' 'образование'\n",
      " 'на проведение свадьбы' 'покупка жилья для семьи' 'покупка недвижимости'\n",
      " 'покупка коммерческой недвижимости' 'покупка жилой недвижимости'\n",
      " 'строительство собственной недвижимости' 'недвижимость'\n",
      " 'строительство недвижимости' 'на покупку подержанного автомобиля'\n",
      " 'на покупку своего автомобиля' 'операции с коммерческой недвижимостью'\n",
      " 'строительство жилой недвижимости' 'жилье'\n",
      " 'операции со своей недвижимостью' 'автомобили' 'заняться образованием'\n",
      " 'сделка с подержанным автомобилем' 'получение образования' 'автомобиль'\n",
      " 'свадьба' 'получение дополнительного образования' 'покупка своего жилья'\n",
      " 'операции с недвижимостью' 'получение высшего образования'\n",
      " 'свой автомобиль' 'сделка с автомобилем' 'профильное образование'\n",
      " 'высшее образование' 'покупка жилья для сдачи' 'на покупку автомобиля'\n",
      " 'ремонт жилью' 'заняться высшим образованием']\n"
     ]
    }
   ],
   "source": [
    "# вывод уникальных значений столбца \"purpose\"\n",
    "print(df['purpose'].unique())"
   ]
  },
  {
   "cell_type": "markdown",
   "metadata": {},
   "source": [
    "Напишем функцию, которая категоризирует данные столбца `purpose` c использованием лемм:"
   ]
  },
  {
   "cell_type": "code",
   "execution_count": 65,
   "metadata": {},
   "outputs": [],
   "source": [
    "# функция присваивания категории значениям в столбце \"purpose\"\n",
    "def purpose_group(purpose):\n",
    "    \"\"\"\n",
    "    Возвращает категорию цели по значению цели purpose, используя правила:\n",
    "    - 'операции с недвижимостью' при значении лемм 'жилье' или 'недвижимость' в purpose,\n",
    "    - 'образовательные услуги' при значении леммы 'образование' в purpose,\n",
    "    - 'сделки с автомобилем' при значении леммы 'автомобиль' в purpose,\n",
    "    - 'свадебные расходы' при остальных значениях леммы в purpose\n",
    "    \"\"\"\n",
    "    lemmas = m.lemmatize(purpose)\n",
    "    if ('жилье' or 'недвижимость') in lemmas:\n",
    "        return 'операции с недвижимостью'\n",
    "    elif 'образование' in lemmas:\n",
    "        return 'образовательные услуги'\n",
    "    elif 'автомобиль' in lemmas:\n",
    "        return 'сделки с автомобилем'\n",
    "    else:\n",
    "        return 'свадебные расходы'\n",
    "    "
   ]
  },
  {
   "cell_type": "markdown",
   "metadata": {},
   "source": [
    "Проверим работу функции:"
   ]
  },
  {
   "cell_type": "code",
   "execution_count": 66,
   "metadata": {
    "scrolled": true
   },
   "outputs": [
    {
     "name": "stdout",
     "output_type": "stream",
     "text": [
      "свадебные расходы\n",
      "сделки с автомобилем\n",
      "образовательные услуги\n",
      "операции с недвижимостью\n"
     ]
    }
   ],
   "source": [
    "# вывод значений\n",
    "print(purpose_group('хочу свадьбу'))\n",
    "print(purpose_group('ремонт автомобиля'))\n",
    "print(purpose_group('получить высшее образование'))\n",
    "print(purpose_group('сниму жилье'))"
   ]
  },
  {
   "cell_type": "markdown",
   "metadata": {},
   "source": [
    "Функция работает корректно."
   ]
  },
  {
   "cell_type": "markdown",
   "metadata": {},
   "source": [
    "Создаём столбец `purpose_group`, используя метод *apply()* и функцию *purpose_group*. Столбец добавляем в конец таблицы."
   ]
  },
  {
   "cell_type": "code",
   "execution_count": 67,
   "metadata": {},
   "outputs": [
    {
     "data": {
      "text/html": [
       "<div>\n",
       "<style scoped>\n",
       "    .dataframe tbody tr th:only-of-type {\n",
       "        vertical-align: middle;\n",
       "    }\n",
       "\n",
       "    .dataframe tbody tr th {\n",
       "        vertical-align: top;\n",
       "    }\n",
       "\n",
       "    .dataframe thead th {\n",
       "        text-align: right;\n",
       "    }\n",
       "</style>\n",
       "<table border=\"1\" class=\"dataframe\">\n",
       "  <thead>\n",
       "    <tr style=\"text-align: right;\">\n",
       "      <th></th>\n",
       "      <th>children</th>\n",
       "      <th>days_employed</th>\n",
       "      <th>dob_years</th>\n",
       "      <th>education</th>\n",
       "      <th>education_id</th>\n",
       "      <th>family_status</th>\n",
       "      <th>family_status_id</th>\n",
       "      <th>gender</th>\n",
       "      <th>income_type</th>\n",
       "      <th>income_type_id</th>\n",
       "      <th>debt</th>\n",
       "      <th>total_income</th>\n",
       "      <th>purpose</th>\n",
       "      <th>purpose_group</th>\n",
       "    </tr>\n",
       "  </thead>\n",
       "  <tbody>\n",
       "    <tr>\n",
       "      <td>0</td>\n",
       "      <td>1</td>\n",
       "      <td>8437</td>\n",
       "      <td>42</td>\n",
       "      <td>высшее</td>\n",
       "      <td>0</td>\n",
       "      <td>женат / замужем</td>\n",
       "      <td>0</td>\n",
       "      <td>f</td>\n",
       "      <td>сотрудник</td>\n",
       "      <td>0</td>\n",
       "      <td>0</td>\n",
       "      <td>253875</td>\n",
       "      <td>покупка жилья</td>\n",
       "      <td>операции с недвижимостью</td>\n",
       "    </tr>\n",
       "    <tr>\n",
       "      <td>1</td>\n",
       "      <td>1</td>\n",
       "      <td>4024</td>\n",
       "      <td>36</td>\n",
       "      <td>среднее</td>\n",
       "      <td>1</td>\n",
       "      <td>женат / замужем</td>\n",
       "      <td>0</td>\n",
       "      <td>f</td>\n",
       "      <td>сотрудник</td>\n",
       "      <td>0</td>\n",
       "      <td>0</td>\n",
       "      <td>112080</td>\n",
       "      <td>приобретение автомобиля</td>\n",
       "      <td>сделки с автомобилем</td>\n",
       "    </tr>\n",
       "    <tr>\n",
       "      <td>2</td>\n",
       "      <td>0</td>\n",
       "      <td>5623</td>\n",
       "      <td>33</td>\n",
       "      <td>среднее</td>\n",
       "      <td>1</td>\n",
       "      <td>женат / замужем</td>\n",
       "      <td>0</td>\n",
       "      <td>m</td>\n",
       "      <td>сотрудник</td>\n",
       "      <td>0</td>\n",
       "      <td>0</td>\n",
       "      <td>145885</td>\n",
       "      <td>покупка жилья</td>\n",
       "      <td>операции с недвижимостью</td>\n",
       "    </tr>\n",
       "    <tr>\n",
       "      <td>3</td>\n",
       "      <td>3</td>\n",
       "      <td>4124</td>\n",
       "      <td>32</td>\n",
       "      <td>среднее</td>\n",
       "      <td>1</td>\n",
       "      <td>женат / замужем</td>\n",
       "      <td>0</td>\n",
       "      <td>m</td>\n",
       "      <td>сотрудник</td>\n",
       "      <td>0</td>\n",
       "      <td>0</td>\n",
       "      <td>267628</td>\n",
       "      <td>дополнительное образование</td>\n",
       "      <td>образовательные услуги</td>\n",
       "    </tr>\n",
       "    <tr>\n",
       "      <td>4</td>\n",
       "      <td>0</td>\n",
       "      <td>340266</td>\n",
       "      <td>53</td>\n",
       "      <td>среднее</td>\n",
       "      <td>1</td>\n",
       "      <td>гражданский брак</td>\n",
       "      <td>1</td>\n",
       "      <td>f</td>\n",
       "      <td>пенсионер</td>\n",
       "      <td>1</td>\n",
       "      <td>0</td>\n",
       "      <td>158616</td>\n",
       "      <td>сыграть свадьбу</td>\n",
       "      <td>свадебные расходы</td>\n",
       "    </tr>\n",
       "    <tr>\n",
       "      <td>5</td>\n",
       "      <td>0</td>\n",
       "      <td>926</td>\n",
       "      <td>27</td>\n",
       "      <td>высшее</td>\n",
       "      <td>0</td>\n",
       "      <td>гражданский брак</td>\n",
       "      <td>1</td>\n",
       "      <td>m</td>\n",
       "      <td>компаньон</td>\n",
       "      <td>2</td>\n",
       "      <td>0</td>\n",
       "      <td>255763</td>\n",
       "      <td>покупка жилья</td>\n",
       "      <td>операции с недвижимостью</td>\n",
       "    </tr>\n",
       "    <tr>\n",
       "      <td>6</td>\n",
       "      <td>0</td>\n",
       "      <td>2879</td>\n",
       "      <td>43</td>\n",
       "      <td>высшее</td>\n",
       "      <td>0</td>\n",
       "      <td>женат / замужем</td>\n",
       "      <td>0</td>\n",
       "      <td>f</td>\n",
       "      <td>компаньон</td>\n",
       "      <td>2</td>\n",
       "      <td>0</td>\n",
       "      <td>240525</td>\n",
       "      <td>операции с жильем</td>\n",
       "      <td>операции с недвижимостью</td>\n",
       "    </tr>\n",
       "    <tr>\n",
       "      <td>7</td>\n",
       "      <td>0</td>\n",
       "      <td>152</td>\n",
       "      <td>50</td>\n",
       "      <td>среднее</td>\n",
       "      <td>1</td>\n",
       "      <td>женат / замужем</td>\n",
       "      <td>0</td>\n",
       "      <td>m</td>\n",
       "      <td>сотрудник</td>\n",
       "      <td>0</td>\n",
       "      <td>0</td>\n",
       "      <td>135823</td>\n",
       "      <td>образование</td>\n",
       "      <td>образовательные услуги</td>\n",
       "    </tr>\n",
       "    <tr>\n",
       "      <td>8</td>\n",
       "      <td>2</td>\n",
       "      <td>6929</td>\n",
       "      <td>35</td>\n",
       "      <td>высшее</td>\n",
       "      <td>0</td>\n",
       "      <td>гражданский брак</td>\n",
       "      <td>1</td>\n",
       "      <td>f</td>\n",
       "      <td>сотрудник</td>\n",
       "      <td>0</td>\n",
       "      <td>0</td>\n",
       "      <td>95856</td>\n",
       "      <td>на проведение свадьбы</td>\n",
       "      <td>свадебные расходы</td>\n",
       "    </tr>\n",
       "    <tr>\n",
       "      <td>9</td>\n",
       "      <td>0</td>\n",
       "      <td>2188</td>\n",
       "      <td>41</td>\n",
       "      <td>среднее</td>\n",
       "      <td>1</td>\n",
       "      <td>женат / замужем</td>\n",
       "      <td>0</td>\n",
       "      <td>m</td>\n",
       "      <td>сотрудник</td>\n",
       "      <td>0</td>\n",
       "      <td>0</td>\n",
       "      <td>144425</td>\n",
       "      <td>покупка жилья для семьи</td>\n",
       "      <td>операции с недвижимостью</td>\n",
       "    </tr>\n",
       "  </tbody>\n",
       "</table>\n",
       "</div>"
      ],
      "text/plain": [
       "   children  days_employed  dob_years education  education_id  \\\n",
       "0         1           8437         42    высшее             0   \n",
       "1         1           4024         36   среднее             1   \n",
       "2         0           5623         33   среднее             1   \n",
       "3         3           4124         32   среднее             1   \n",
       "4         0         340266         53   среднее             1   \n",
       "5         0            926         27    высшее             0   \n",
       "6         0           2879         43    высшее             0   \n",
       "7         0            152         50   среднее             1   \n",
       "8         2           6929         35    высшее             0   \n",
       "9         0           2188         41   среднее             1   \n",
       "\n",
       "      family_status  family_status_id gender income_type  income_type_id  \\\n",
       "0   женат / замужем                 0      f   сотрудник               0   \n",
       "1   женат / замужем                 0      f   сотрудник               0   \n",
       "2   женат / замужем                 0      m   сотрудник               0   \n",
       "3   женат / замужем                 0      m   сотрудник               0   \n",
       "4  гражданский брак                 1      f   пенсионер               1   \n",
       "5  гражданский брак                 1      m   компаньон               2   \n",
       "6   женат / замужем                 0      f   компаньон               2   \n",
       "7   женат / замужем                 0      m   сотрудник               0   \n",
       "8  гражданский брак                 1      f   сотрудник               0   \n",
       "9   женат / замужем                 0      m   сотрудник               0   \n",
       "\n",
       "   debt  total_income                     purpose             purpose_group  \n",
       "0     0        253875               покупка жилья  операции с недвижимостью  \n",
       "1     0        112080     приобретение автомобиля      сделки с автомобилем  \n",
       "2     0        145885               покупка жилья  операции с недвижимостью  \n",
       "3     0        267628  дополнительное образование    образовательные услуги  \n",
       "4     0        158616             сыграть свадьбу         свадебные расходы  \n",
       "5     0        255763               покупка жилья  операции с недвижимостью  \n",
       "6     0        240525           операции с жильем  операции с недвижимостью  \n",
       "7     0        135823                 образование    образовательные услуги  \n",
       "8     0         95856       на проведение свадьбы         свадебные расходы  \n",
       "9     0        144425     покупка жилья для семьи  операции с недвижимостью  "
      ]
     },
     "metadata": {},
     "output_type": "display_data"
    }
   ],
   "source": [
    "# добавление колонки \"purpose_group\" в таблицу\n",
    "df['purpose_group'] = df['purpose'].apply(purpose_group)\n",
    "# вывод первых 10 строк таблицы\n",
    "df.head(10)"
   ]
  },
  {
   "cell_type": "markdown",
   "metadata": {},
   "source": [
    "Каждой категории в `purpose_group` присвоим id с помощью функции *purpose_group_id*:"
   ]
  },
  {
   "cell_type": "code",
   "execution_count": 68,
   "metadata": {},
   "outputs": [],
   "source": [
    "# функция присваивания id целевым группам в \"purpose_group\"\n",
    "def purpose_group_id(purpose_group):\n",
    "    \"\"\"\n",
    "    Присваивает номер целевой группы по значению целевой группы purpose_group, используя правила:\n",
    "    - '0', если 'purpose_group' = 'операции с недвижимостью',\n",
    "    - '1', если 'purpose_group' = 'образовательные услуги',\n",
    "    - '2', если 'purpose_group' = 'сделки с автомобилем',\n",
    "    - '3', если 'purpose_group' = 'другое'\n",
    "    \"\"\"\n",
    "    if purpose_group == 'операции с недвижимостью':\n",
    "        return 0\n",
    "    if purpose_group == 'образовательные услуги':\n",
    "        return 1\n",
    "    if purpose_group == 'сделки с автомобилем':\n",
    "        return 2\n",
    "    if purpose_group == 'свадебные расходы':\n",
    "        return 3"
   ]
  },
  {
   "cell_type": "markdown",
   "metadata": {},
   "source": [
    "Создаём столбец `purpose_group_id`, используя метод *apply()* и функцию *purpose_group_id*. Столбец добавляем в конец таблицы."
   ]
  },
  {
   "cell_type": "code",
   "execution_count": 69,
   "metadata": {
    "scrolled": true
   },
   "outputs": [
    {
     "data": {
      "text/html": [
       "<div>\n",
       "<style scoped>\n",
       "    .dataframe tbody tr th:only-of-type {\n",
       "        vertical-align: middle;\n",
       "    }\n",
       "\n",
       "    .dataframe tbody tr th {\n",
       "        vertical-align: top;\n",
       "    }\n",
       "\n",
       "    .dataframe thead th {\n",
       "        text-align: right;\n",
       "    }\n",
       "</style>\n",
       "<table border=\"1\" class=\"dataframe\">\n",
       "  <thead>\n",
       "    <tr style=\"text-align: right;\">\n",
       "      <th></th>\n",
       "      <th>children</th>\n",
       "      <th>days_employed</th>\n",
       "      <th>dob_years</th>\n",
       "      <th>education</th>\n",
       "      <th>education_id</th>\n",
       "      <th>family_status</th>\n",
       "      <th>family_status_id</th>\n",
       "      <th>gender</th>\n",
       "      <th>income_type</th>\n",
       "      <th>income_type_id</th>\n",
       "      <th>debt</th>\n",
       "      <th>total_income</th>\n",
       "      <th>purpose</th>\n",
       "      <th>purpose_group</th>\n",
       "      <th>purpose_group_id</th>\n",
       "    </tr>\n",
       "  </thead>\n",
       "  <tbody>\n",
       "    <tr>\n",
       "      <td>0</td>\n",
       "      <td>1</td>\n",
       "      <td>8437</td>\n",
       "      <td>42</td>\n",
       "      <td>высшее</td>\n",
       "      <td>0</td>\n",
       "      <td>женат / замужем</td>\n",
       "      <td>0</td>\n",
       "      <td>f</td>\n",
       "      <td>сотрудник</td>\n",
       "      <td>0</td>\n",
       "      <td>0</td>\n",
       "      <td>253875</td>\n",
       "      <td>покупка жилья</td>\n",
       "      <td>операции с недвижимостью</td>\n",
       "      <td>0</td>\n",
       "    </tr>\n",
       "    <tr>\n",
       "      <td>1</td>\n",
       "      <td>1</td>\n",
       "      <td>4024</td>\n",
       "      <td>36</td>\n",
       "      <td>среднее</td>\n",
       "      <td>1</td>\n",
       "      <td>женат / замужем</td>\n",
       "      <td>0</td>\n",
       "      <td>f</td>\n",
       "      <td>сотрудник</td>\n",
       "      <td>0</td>\n",
       "      <td>0</td>\n",
       "      <td>112080</td>\n",
       "      <td>приобретение автомобиля</td>\n",
       "      <td>сделки с автомобилем</td>\n",
       "      <td>2</td>\n",
       "    </tr>\n",
       "    <tr>\n",
       "      <td>2</td>\n",
       "      <td>0</td>\n",
       "      <td>5623</td>\n",
       "      <td>33</td>\n",
       "      <td>среднее</td>\n",
       "      <td>1</td>\n",
       "      <td>женат / замужем</td>\n",
       "      <td>0</td>\n",
       "      <td>m</td>\n",
       "      <td>сотрудник</td>\n",
       "      <td>0</td>\n",
       "      <td>0</td>\n",
       "      <td>145885</td>\n",
       "      <td>покупка жилья</td>\n",
       "      <td>операции с недвижимостью</td>\n",
       "      <td>0</td>\n",
       "    </tr>\n",
       "    <tr>\n",
       "      <td>3</td>\n",
       "      <td>3</td>\n",
       "      <td>4124</td>\n",
       "      <td>32</td>\n",
       "      <td>среднее</td>\n",
       "      <td>1</td>\n",
       "      <td>женат / замужем</td>\n",
       "      <td>0</td>\n",
       "      <td>m</td>\n",
       "      <td>сотрудник</td>\n",
       "      <td>0</td>\n",
       "      <td>0</td>\n",
       "      <td>267628</td>\n",
       "      <td>дополнительное образование</td>\n",
       "      <td>образовательные услуги</td>\n",
       "      <td>1</td>\n",
       "    </tr>\n",
       "    <tr>\n",
       "      <td>4</td>\n",
       "      <td>0</td>\n",
       "      <td>340266</td>\n",
       "      <td>53</td>\n",
       "      <td>среднее</td>\n",
       "      <td>1</td>\n",
       "      <td>гражданский брак</td>\n",
       "      <td>1</td>\n",
       "      <td>f</td>\n",
       "      <td>пенсионер</td>\n",
       "      <td>1</td>\n",
       "      <td>0</td>\n",
       "      <td>158616</td>\n",
       "      <td>сыграть свадьбу</td>\n",
       "      <td>свадебные расходы</td>\n",
       "      <td>3</td>\n",
       "    </tr>\n",
       "    <tr>\n",
       "      <td>5</td>\n",
       "      <td>0</td>\n",
       "      <td>926</td>\n",
       "      <td>27</td>\n",
       "      <td>высшее</td>\n",
       "      <td>0</td>\n",
       "      <td>гражданский брак</td>\n",
       "      <td>1</td>\n",
       "      <td>m</td>\n",
       "      <td>компаньон</td>\n",
       "      <td>2</td>\n",
       "      <td>0</td>\n",
       "      <td>255763</td>\n",
       "      <td>покупка жилья</td>\n",
       "      <td>операции с недвижимостью</td>\n",
       "      <td>0</td>\n",
       "    </tr>\n",
       "    <tr>\n",
       "      <td>6</td>\n",
       "      <td>0</td>\n",
       "      <td>2879</td>\n",
       "      <td>43</td>\n",
       "      <td>высшее</td>\n",
       "      <td>0</td>\n",
       "      <td>женат / замужем</td>\n",
       "      <td>0</td>\n",
       "      <td>f</td>\n",
       "      <td>компаньон</td>\n",
       "      <td>2</td>\n",
       "      <td>0</td>\n",
       "      <td>240525</td>\n",
       "      <td>операции с жильем</td>\n",
       "      <td>операции с недвижимостью</td>\n",
       "      <td>0</td>\n",
       "    </tr>\n",
       "    <tr>\n",
       "      <td>7</td>\n",
       "      <td>0</td>\n",
       "      <td>152</td>\n",
       "      <td>50</td>\n",
       "      <td>среднее</td>\n",
       "      <td>1</td>\n",
       "      <td>женат / замужем</td>\n",
       "      <td>0</td>\n",
       "      <td>m</td>\n",
       "      <td>сотрудник</td>\n",
       "      <td>0</td>\n",
       "      <td>0</td>\n",
       "      <td>135823</td>\n",
       "      <td>образование</td>\n",
       "      <td>образовательные услуги</td>\n",
       "      <td>1</td>\n",
       "    </tr>\n",
       "    <tr>\n",
       "      <td>8</td>\n",
       "      <td>2</td>\n",
       "      <td>6929</td>\n",
       "      <td>35</td>\n",
       "      <td>высшее</td>\n",
       "      <td>0</td>\n",
       "      <td>гражданский брак</td>\n",
       "      <td>1</td>\n",
       "      <td>f</td>\n",
       "      <td>сотрудник</td>\n",
       "      <td>0</td>\n",
       "      <td>0</td>\n",
       "      <td>95856</td>\n",
       "      <td>на проведение свадьбы</td>\n",
       "      <td>свадебные расходы</td>\n",
       "      <td>3</td>\n",
       "    </tr>\n",
       "    <tr>\n",
       "      <td>9</td>\n",
       "      <td>0</td>\n",
       "      <td>2188</td>\n",
       "      <td>41</td>\n",
       "      <td>среднее</td>\n",
       "      <td>1</td>\n",
       "      <td>женат / замужем</td>\n",
       "      <td>0</td>\n",
       "      <td>m</td>\n",
       "      <td>сотрудник</td>\n",
       "      <td>0</td>\n",
       "      <td>0</td>\n",
       "      <td>144425</td>\n",
       "      <td>покупка жилья для семьи</td>\n",
       "      <td>операции с недвижимостью</td>\n",
       "      <td>0</td>\n",
       "    </tr>\n",
       "  </tbody>\n",
       "</table>\n",
       "</div>"
      ],
      "text/plain": [
       "   children  days_employed  dob_years education  education_id  \\\n",
       "0         1           8437         42    высшее             0   \n",
       "1         1           4024         36   среднее             1   \n",
       "2         0           5623         33   среднее             1   \n",
       "3         3           4124         32   среднее             1   \n",
       "4         0         340266         53   среднее             1   \n",
       "5         0            926         27    высшее             0   \n",
       "6         0           2879         43    высшее             0   \n",
       "7         0            152         50   среднее             1   \n",
       "8         2           6929         35    высшее             0   \n",
       "9         0           2188         41   среднее             1   \n",
       "\n",
       "      family_status  family_status_id gender income_type  income_type_id  \\\n",
       "0   женат / замужем                 0      f   сотрудник               0   \n",
       "1   женат / замужем                 0      f   сотрудник               0   \n",
       "2   женат / замужем                 0      m   сотрудник               0   \n",
       "3   женат / замужем                 0      m   сотрудник               0   \n",
       "4  гражданский брак                 1      f   пенсионер               1   \n",
       "5  гражданский брак                 1      m   компаньон               2   \n",
       "6   женат / замужем                 0      f   компаньон               2   \n",
       "7   женат / замужем                 0      m   сотрудник               0   \n",
       "8  гражданский брак                 1      f   сотрудник               0   \n",
       "9   женат / замужем                 0      m   сотрудник               0   \n",
       "\n",
       "   debt  total_income                     purpose             purpose_group  \\\n",
       "0     0        253875               покупка жилья  операции с недвижимостью   \n",
       "1     0        112080     приобретение автомобиля      сделки с автомобилем   \n",
       "2     0        145885               покупка жилья  операции с недвижимостью   \n",
       "3     0        267628  дополнительное образование    образовательные услуги   \n",
       "4     0        158616             сыграть свадьбу         свадебные расходы   \n",
       "5     0        255763               покупка жилья  операции с недвижимостью   \n",
       "6     0        240525           операции с жильем  операции с недвижимостью   \n",
       "7     0        135823                 образование    образовательные услуги   \n",
       "8     0         95856       на проведение свадьбы         свадебные расходы   \n",
       "9     0        144425     покупка жилья для семьи  операции с недвижимостью   \n",
       "\n",
       "   purpose_group_id  \n",
       "0                 0  \n",
       "1                 2  \n",
       "2                 0  \n",
       "3                 1  \n",
       "4                 3  \n",
       "5                 0  \n",
       "6                 0  \n",
       "7                 1  \n",
       "8                 3  \n",
       "9                 0  "
      ]
     },
     "metadata": {},
     "output_type": "display_data"
    }
   ],
   "source": [
    "# добавление колонки \"purpose_group_id\" в таблицу\n",
    "df['purpose_group_id'] = df['purpose_group'].apply(purpose_group_id)\n",
    "# вывод первых 10 строк таблицы\n",
    "df.head(10)"
   ]
  },
  {
   "cell_type": "markdown",
   "metadata": {},
   "source": [
    "Создаём четвертый словарь-таблицу, который содержит информацию о цели получения кредита."
   ]
  },
  {
   "cell_type": "code",
   "execution_count": 70,
   "metadata": {},
   "outputs": [
    {
     "data": {
      "text/html": [
       "<div>\n",
       "<style scoped>\n",
       "    .dataframe tbody tr th:only-of-type {\n",
       "        vertical-align: middle;\n",
       "    }\n",
       "\n",
       "    .dataframe tbody tr th {\n",
       "        vertical-align: top;\n",
       "    }\n",
       "\n",
       "    .dataframe thead th {\n",
       "        text-align: right;\n",
       "    }\n",
       "</style>\n",
       "<table border=\"1\" class=\"dataframe\">\n",
       "  <thead>\n",
       "    <tr style=\"text-align: right;\">\n",
       "      <th></th>\n",
       "      <th>purpose_group_id</th>\n",
       "      <th>purpose_group</th>\n",
       "    </tr>\n",
       "  </thead>\n",
       "  <tbody>\n",
       "    <tr>\n",
       "      <td>0</td>\n",
       "      <td>0</td>\n",
       "      <td>операции с недвижимостью</td>\n",
       "    </tr>\n",
       "    <tr>\n",
       "      <td>1</td>\n",
       "      <td>2</td>\n",
       "      <td>сделки с автомобилем</td>\n",
       "    </tr>\n",
       "    <tr>\n",
       "      <td>2</td>\n",
       "      <td>0</td>\n",
       "      <td>операции с недвижимостью</td>\n",
       "    </tr>\n",
       "    <tr>\n",
       "      <td>3</td>\n",
       "      <td>1</td>\n",
       "      <td>образовательные услуги</td>\n",
       "    </tr>\n",
       "    <tr>\n",
       "      <td>4</td>\n",
       "      <td>3</td>\n",
       "      <td>свадебные расходы</td>\n",
       "    </tr>\n",
       "    <tr>\n",
       "      <td>5</td>\n",
       "      <td>0</td>\n",
       "      <td>операции с недвижимостью</td>\n",
       "    </tr>\n",
       "    <tr>\n",
       "      <td>6</td>\n",
       "      <td>0</td>\n",
       "      <td>операции с недвижимостью</td>\n",
       "    </tr>\n",
       "    <tr>\n",
       "      <td>7</td>\n",
       "      <td>1</td>\n",
       "      <td>образовательные услуги</td>\n",
       "    </tr>\n",
       "    <tr>\n",
       "      <td>8</td>\n",
       "      <td>3</td>\n",
       "      <td>свадебные расходы</td>\n",
       "    </tr>\n",
       "    <tr>\n",
       "      <td>9</td>\n",
       "      <td>0</td>\n",
       "      <td>операции с недвижимостью</td>\n",
       "    </tr>\n",
       "  </tbody>\n",
       "</table>\n",
       "</div>"
      ],
      "text/plain": [
       "   purpose_group_id             purpose_group\n",
       "0                 0  операции с недвижимостью\n",
       "1                 2      сделки с автомобилем\n",
       "2                 0  операции с недвижимостью\n",
       "3                 1    образовательные услуги\n",
       "4                 3         свадебные расходы\n",
       "5                 0  операции с недвижимостью\n",
       "6                 0  операции с недвижимостью\n",
       "7                 1    образовательные услуги\n",
       "8                 3         свадебные расходы\n",
       "9                 0  операции с недвижимостью"
      ]
     },
     "metadata": {},
     "output_type": "display_data"
    }
   ],
   "source": [
    "# формирование словаря-таблицы целей получения кредита\n",
    "df_dict_purpose_group = df[['purpose_group_id', 'purpose_group']]\n",
    "# вывод первых 10 строк таблицы\n",
    "df_dict_purpose_group.head(10)"
   ]
  },
  {
   "cell_type": "code",
   "execution_count": 71,
   "metadata": {
    "scrolled": true
   },
   "outputs": [
    {
     "data": {
      "text/html": [
       "<div>\n",
       "<style scoped>\n",
       "    .dataframe tbody tr th:only-of-type {\n",
       "        vertical-align: middle;\n",
       "    }\n",
       "\n",
       "    .dataframe tbody tr th {\n",
       "        vertical-align: top;\n",
       "    }\n",
       "\n",
       "    .dataframe thead th {\n",
       "        text-align: right;\n",
       "    }\n",
       "</style>\n",
       "<table border=\"1\" class=\"dataframe\">\n",
       "  <thead>\n",
       "    <tr style=\"text-align: right;\">\n",
       "      <th></th>\n",
       "      <th>purpose_group_id</th>\n",
       "      <th>purpose_group</th>\n",
       "    </tr>\n",
       "  </thead>\n",
       "  <tbody>\n",
       "    <tr>\n",
       "      <td>0</td>\n",
       "      <td>0</td>\n",
       "      <td>операции с недвижимостью</td>\n",
       "    </tr>\n",
       "    <tr>\n",
       "      <td>1</td>\n",
       "      <td>2</td>\n",
       "      <td>сделки с автомобилем</td>\n",
       "    </tr>\n",
       "    <tr>\n",
       "      <td>2</td>\n",
       "      <td>1</td>\n",
       "      <td>образовательные услуги</td>\n",
       "    </tr>\n",
       "    <tr>\n",
       "      <td>3</td>\n",
       "      <td>3</td>\n",
       "      <td>свадебные расходы</td>\n",
       "    </tr>\n",
       "  </tbody>\n",
       "</table>\n",
       "</div>"
      ],
      "text/plain": [
       "   purpose_group_id             purpose_group\n",
       "0                 0  операции с недвижимостью\n",
       "1                 2      сделки с автомобилем\n",
       "2                 1    образовательные услуги\n",
       "3                 3         свадебные расходы"
      ]
     },
     "metadata": {},
     "output_type": "display_data"
    }
   ],
   "source": [
    "# удаление дубликатов и вывод таблицы\n",
    "df_dict_purpose_group = df_dict_purpose_group.drop_duplicates().reset_index(drop = True)\n",
    "display(df_dict_purpose_group)"
   ]
  },
  {
   "cell_type": "markdown",
   "metadata": {},
   "source": [
    "Обновим первую часть таблицы df_log. Удалим столбец `purpose` и добавим столбец `purpose_group_id`."
   ]
  },
  {
   "cell_type": "code",
   "execution_count": 72,
   "metadata": {},
   "outputs": [
    {
     "data": {
      "text/html": [
       "<div>\n",
       "<style scoped>\n",
       "    .dataframe tbody tr th:only-of-type {\n",
       "        vertical-align: middle;\n",
       "    }\n",
       "\n",
       "    .dataframe tbody tr th {\n",
       "        vertical-align: top;\n",
       "    }\n",
       "\n",
       "    .dataframe thead th {\n",
       "        text-align: right;\n",
       "    }\n",
       "</style>\n",
       "<table border=\"1\" class=\"dataframe\">\n",
       "  <thead>\n",
       "    <tr style=\"text-align: right;\">\n",
       "      <th></th>\n",
       "      <th>children</th>\n",
       "      <th>days_employed</th>\n",
       "      <th>dob_years</th>\n",
       "      <th>education_id</th>\n",
       "      <th>family_status_id</th>\n",
       "      <th>gender</th>\n",
       "      <th>income_type_id</th>\n",
       "      <th>debt</th>\n",
       "      <th>total_income</th>\n",
       "      <th>purpose_group_id</th>\n",
       "    </tr>\n",
       "  </thead>\n",
       "  <tbody>\n",
       "    <tr>\n",
       "      <td>0</td>\n",
       "      <td>1</td>\n",
       "      <td>8437</td>\n",
       "      <td>42</td>\n",
       "      <td>0</td>\n",
       "      <td>0</td>\n",
       "      <td>f</td>\n",
       "      <td>0</td>\n",
       "      <td>0</td>\n",
       "      <td>253875</td>\n",
       "      <td>0</td>\n",
       "    </tr>\n",
       "    <tr>\n",
       "      <td>1</td>\n",
       "      <td>1</td>\n",
       "      <td>4024</td>\n",
       "      <td>36</td>\n",
       "      <td>1</td>\n",
       "      <td>0</td>\n",
       "      <td>f</td>\n",
       "      <td>0</td>\n",
       "      <td>0</td>\n",
       "      <td>112080</td>\n",
       "      <td>2</td>\n",
       "    </tr>\n",
       "    <tr>\n",
       "      <td>2</td>\n",
       "      <td>0</td>\n",
       "      <td>5623</td>\n",
       "      <td>33</td>\n",
       "      <td>1</td>\n",
       "      <td>0</td>\n",
       "      <td>m</td>\n",
       "      <td>0</td>\n",
       "      <td>0</td>\n",
       "      <td>145885</td>\n",
       "      <td>0</td>\n",
       "    </tr>\n",
       "    <tr>\n",
       "      <td>3</td>\n",
       "      <td>3</td>\n",
       "      <td>4124</td>\n",
       "      <td>32</td>\n",
       "      <td>1</td>\n",
       "      <td>0</td>\n",
       "      <td>m</td>\n",
       "      <td>0</td>\n",
       "      <td>0</td>\n",
       "      <td>267628</td>\n",
       "      <td>1</td>\n",
       "    </tr>\n",
       "    <tr>\n",
       "      <td>4</td>\n",
       "      <td>0</td>\n",
       "      <td>340266</td>\n",
       "      <td>53</td>\n",
       "      <td>1</td>\n",
       "      <td>1</td>\n",
       "      <td>f</td>\n",
       "      <td>1</td>\n",
       "      <td>0</td>\n",
       "      <td>158616</td>\n",
       "      <td>3</td>\n",
       "    </tr>\n",
       "    <tr>\n",
       "      <td>5</td>\n",
       "      <td>0</td>\n",
       "      <td>926</td>\n",
       "      <td>27</td>\n",
       "      <td>0</td>\n",
       "      <td>1</td>\n",
       "      <td>m</td>\n",
       "      <td>2</td>\n",
       "      <td>0</td>\n",
       "      <td>255763</td>\n",
       "      <td>0</td>\n",
       "    </tr>\n",
       "    <tr>\n",
       "      <td>6</td>\n",
       "      <td>0</td>\n",
       "      <td>2879</td>\n",
       "      <td>43</td>\n",
       "      <td>0</td>\n",
       "      <td>0</td>\n",
       "      <td>f</td>\n",
       "      <td>2</td>\n",
       "      <td>0</td>\n",
       "      <td>240525</td>\n",
       "      <td>0</td>\n",
       "    </tr>\n",
       "    <tr>\n",
       "      <td>7</td>\n",
       "      <td>0</td>\n",
       "      <td>152</td>\n",
       "      <td>50</td>\n",
       "      <td>1</td>\n",
       "      <td>0</td>\n",
       "      <td>m</td>\n",
       "      <td>0</td>\n",
       "      <td>0</td>\n",
       "      <td>135823</td>\n",
       "      <td>1</td>\n",
       "    </tr>\n",
       "    <tr>\n",
       "      <td>8</td>\n",
       "      <td>2</td>\n",
       "      <td>6929</td>\n",
       "      <td>35</td>\n",
       "      <td>0</td>\n",
       "      <td>1</td>\n",
       "      <td>f</td>\n",
       "      <td>0</td>\n",
       "      <td>0</td>\n",
       "      <td>95856</td>\n",
       "      <td>3</td>\n",
       "    </tr>\n",
       "    <tr>\n",
       "      <td>9</td>\n",
       "      <td>0</td>\n",
       "      <td>2188</td>\n",
       "      <td>41</td>\n",
       "      <td>1</td>\n",
       "      <td>0</td>\n",
       "      <td>m</td>\n",
       "      <td>0</td>\n",
       "      <td>0</td>\n",
       "      <td>144425</td>\n",
       "      <td>0</td>\n",
       "    </tr>\n",
       "  </tbody>\n",
       "</table>\n",
       "</div>"
      ],
      "text/plain": [
       "   children  days_employed  dob_years  education_id  family_status_id gender  \\\n",
       "0         1           8437         42             0                 0      f   \n",
       "1         1           4024         36             1                 0      f   \n",
       "2         0           5623         33             1                 0      m   \n",
       "3         3           4124         32             1                 0      m   \n",
       "4         0         340266         53             1                 1      f   \n",
       "5         0            926         27             0                 1      m   \n",
       "6         0           2879         43             0                 0      f   \n",
       "7         0            152         50             1                 0      m   \n",
       "8         2           6929         35             0                 1      f   \n",
       "9         0           2188         41             1                 0      m   \n",
       "\n",
       "   income_type_id  debt  total_income  purpose_group_id  \n",
       "0               0     0        253875                 0  \n",
       "1               0     0        112080                 2  \n",
       "2               0     0        145885                 0  \n",
       "3               0     0        267628                 1  \n",
       "4               1     0        158616                 3  \n",
       "5               2     0        255763                 0  \n",
       "6               2     0        240525                 0  \n",
       "7               0     0        135823                 1  \n",
       "8               0     0         95856                 3  \n",
       "9               0     0        144425                 0  "
      ]
     },
     "metadata": {},
     "output_type": "display_data"
    }
   ],
   "source": [
    "# обновление первой части таблицы и вывод первых 10 значений\n",
    "df_log = df[['children',\n",
    "             'days_employed',\n",
    "             'dob_years',\n",
    "             'education_id',\n",
    "             'family_status_id',\n",
    "             'gender',\n",
    "             'income_type_id',\n",
    "             'debt',\n",
    "             'total_income',\n",
    "             'purpose_group_id']]\n",
    "\n",
    "df_log.head(10)"
   ]
  },
  {
   "cell_type": "markdown",
   "metadata": {},
   "source": [
    "**Вывод**"
   ]
  },
  {
   "cell_type": "markdown",
   "metadata": {},
   "source": [
    "В процессе категоризация исходная таблица *df* была поделена на части:\n",
    "- первая часть — *df_log*, из которой исключены столбцы `education`, `family_status`, `income_type`, `purpose` таблицы *df*\n",
    "- вторая часть — таблицы-словари к *df_log*: `df_dict_education`, `df_dict_family_status`, `df_dict_income_type`, `df_dict_purpose_group`\n",
    "\n",
    "Столбец `purpose` исключен в процессе категоризации, т.к. для исследования информации столбца `purpose_group` будет достаточно.\n"
   ]
  },
  {
   "cell_type": "markdown",
   "metadata": {},
   "source": [
    "## Шаг 3. Ответьте на вопросы"
   ]
  },
  {
   "cell_type": "markdown",
   "metadata": {},
   "source": [
    "- **Есть ли зависимость между наличием детей и возвратом кредита в срок?**"
   ]
  },
  {
   "cell_type": "markdown",
   "metadata": {},
   "source": [
    "Для того чтобы оценить влияние наличия детей на возврат кредита в срок, необходимо построить 2 столбчатые диаграммы: для клиентов с детьми и без детей, используя колонки `children` и `debt`."
   ]
  },
  {
   "cell_type": "code",
   "execution_count": 73,
   "metadata": {
    "scrolled": true
   },
   "outputs": [],
   "source": [
    "# импорт библиотеки \"seaborn\" для построения столбчатых диаграмм\n",
    "import seaborn as sns"
   ]
  },
  {
   "cell_type": "code",
   "execution_count": 74,
   "metadata": {},
   "outputs": [
    {
     "name": "stdout",
     "output_type": "stream",
     "text": [
      "Диаграмма наличия задолженности у клиентов без детей\n"
     ]
    },
    {
     "data": {
      "image/png": "[encoded data removed]",
      "text/plain": [
       "<Figure size 432x288 with 1 Axes>"
      ]
     },
     "metadata": {
      "needs_background": "light"
     },
     "output_type": "display_data"
    }
   ],
   "source": [
    "# построение диаграммы для клиентов без детей\n",
    "children_amount_0 = df_log[df_log['children'] == 0]\n",
    "sns.countplot(children_amount_0['debt'])\n",
    "print('Диаграмма наличия задолженности у клиентов без детей')"
   ]
  },
  {
   "cell_type": "code",
   "execution_count": 75,
   "metadata": {},
   "outputs": [
    {
     "name": "stdout",
     "output_type": "stream",
     "text": [
      "Диаграмма наличия задолженности у клиентов с детьми\n"
     ]
    },
    {
     "data": {
      "image/png": "[encoded data removed]",
      "text/plain": [
       "<Figure size 432x288 with 1 Axes>"
      ]
     },
     "metadata": {
      "needs_background": "light"
     },
     "output_type": "display_data"
    }
   ],
   "source": [
    "# построение диаграммы для клиентов с детьми\n",
    "children_amount_not_0 = df_log[df_log['children'] != 0]\n",
    "sns.countplot(children_amount_not_0['debt'])\n",
    "print('Диаграмма наличия задолженности у клиентов с детьми')"
   ]
  },
  {
   "cell_type": "markdown",
   "metadata": {},
   "source": [
    "Напишем функцию, которая в процентах посчитает долю клиентов с задолженностью в зависимости от наличия детей:"
   ]
  },
  {
   "cell_type": "code",
   "execution_count": 76,
   "metadata": {
    "scrolled": true
   },
   "outputs": [
    {
     "name": "stdout",
     "output_type": "stream",
     "text": [
      "Наличие задолженности у клиентов без детей: 8 %\n",
      "Наличие задолженности у клиентов c детьми: 9 %\n"
     ]
    }
   ],
   "source": [
    "# функция для подсчёта клиентов с задолженностью в процентах\n",
    "def children_debt_percent(data):\n",
    "    return int(round(data['debt'].mean() * 100))\n",
    "\n",
    "print('Наличие задолженности у клиентов без детей:', children_debt_percent(children_amount_0), '%')\n",
    "print('Наличие задолженности у клиентов c детьми:', children_debt_percent(children_amount_not_0), '%')"
   ]
  },
  {
   "cell_type": "markdown",
   "metadata": {},
   "source": [
    "**Вывод**"
   ]
  },
  {
   "cell_type": "markdown",
   "metadata": {},
   "source": [
    "Доля клиентов с задолженностью среди клиентов с детьми больше доли клиентов с задолженностью среди клиентов без детей на 1%. Т.е. можно сказать, что при наличии детей у клиента вероятность возврата кредита в срок ниже, чем у клиента без детей. "
   ]
  },
  {
   "cell_type": "markdown",
   "metadata": {},
   "source": [
    "- **Есть ли зависимость между семейным положением и возвратом кредита в срок?**"
   ]
  },
  {
   "cell_type": "markdown",
   "metadata": {},
   "source": [
    "Для того чтобы оценить влияние семейного положения на возврат кредита в срок, необходимо построить 2 столбчатые диаграммы: для клиентов в браке/гражданском браке и клиентов, не состоящих в браке/гражданском браке. Для построения используем колонки `family_status_id` и `debt`."
   ]
  },
  {
   "cell_type": "code",
   "execution_count": 77,
   "metadata": {},
   "outputs": [
    {
     "name": "stdout",
     "output_type": "stream",
     "text": [
      "Диаграмма наличия задолженности у клиентов, состоящих в браке/гражданском браке\n"
     ]
    },
    {
     "data": {
      "image/png": "[encoded data removed]",
      "text/plain": [
       "<Figure size 432x288 with 1 Axes>"
      ]
     },
     "metadata": {
      "needs_background": "light"
     },
     "output_type": "display_data"
    }
   ],
   "source": [
    "# построение диаграммы для клиентов, состоящих в браке/гражданском браке\n",
    "clients_in_family = df_log[df_log['family_status_id'] == (0 or 1)]\n",
    "sns.countplot(clients_in_family['debt'])\n",
    "print('Диаграмма наличия задолженности у клиентов, состоящих в браке/гражданском браке')"
   ]
  },
  {
   "cell_type": "code",
   "execution_count": 78,
   "metadata": {
    "scrolled": true
   },
   "outputs": [
    {
     "name": "stdout",
     "output_type": "stream",
     "text": [
      "Диаграмма наличия задолженности у клиентов, не состоящих в браке/гражданском браке\n"
     ]
    },
    {
     "data": {
      "image/png": "[encoded data removed]",
      "text/plain": [
       "<Figure size 432x288 with 1 Axes>"
      ]
     },
     "metadata": {
      "needs_background": "light"
     },
     "output_type": "display_data"
    }
   ],
   "source": [
    "# построение диаграммы для клиентов, не состоящих в браке/гражданском браке\n",
    "clients_not_in_family = df_log[df_log['family_status_id'] != (0 or 1)]\n",
    "sns.countplot(clients_not_in_family['debt'])\n",
    "print('Диаграмма наличия задолженности у клиентов, не состоящих в браке/гражданском браке')"
   ]
  },
  {
   "cell_type": "markdown",
   "metadata": {},
   "source": [
    "Напишем функцию, которая в процентах посчитает долю клиентов с задолженностью в зависимости от семейного положения:"
   ]
  },
  {
   "cell_type": "code",
   "execution_count": 79,
   "metadata": {},
   "outputs": [
    {
     "name": "stdout",
     "output_type": "stream",
     "text": [
      "Наличие задолженности у клиентов в браке: 9 %\n",
      "Наличие задолженности у клиентов не в браке: 8 %\n"
     ]
    }
   ],
   "source": [
    "# функция для подсчёта клиентов с задолженностью в процентах\n",
    "def family_status_debt_percent(data):\n",
    "    return int(round(data['debt'].mean() * 100))\n",
    "\n",
    "print('Наличие задолженности у клиентов в браке:', family_status_debt_percent(clients_in_family), '%')\n",
    "print('Наличие задолженности у клиентов не в браке:', family_status_debt_percent(clients_not_in_family), '%')"
   ]
  },
  {
   "cell_type": "markdown",
   "metadata": {},
   "source": [
    "**Вывод**"
   ]
  },
  {
   "cell_type": "markdown",
   "metadata": {},
   "source": [
    "Доля клиентов с задолженностью, состоящих в браке, среди клиентов данной группы больше доли клиентов с задолженностью, не состоящих в браке, среди клиентов этой группый на 1%. Т.е. можно утверждать, что у клиентов, состоящих в браке, вероятность наличия задолженности выше, чем у клиентов, не состоящих в браке."
   ]
  },
  {
   "cell_type": "markdown",
   "metadata": {},
   "source": [
    "- **Есть ли зависимость между уровнем дохода и возвратом кредита в срок?**"
   ]
  },
  {
   "cell_type": "markdown",
   "metadata": {},
   "source": [
    "Чтобы оценить влияние уровня дохода на возврат кредита в срок, необходимо построить  столбчатые диаграммы для клиентов разного уровня дохода."
   ]
  },
  {
   "cell_type": "markdown",
   "metadata": {},
   "source": [
    "Для начала нужно классифицировать клиентов по уровню дохода. Найдём средний уровень дохода и создадим 2 группы:\n",
    "- клиенты со средним уровнем дохода и ниже\n",
    "- клиенты с уровнем дохода выше среднего"
   ]
  },
  {
   "cell_type": "code",
   "execution_count": 80,
   "metadata": {
    "scrolled": true
   },
   "outputs": [
    {
     "name": "stdout",
     "output_type": "stream",
     "text": [
      "165320\n"
     ]
    }
   ],
   "source": [
    "# расчёт среднего уровня дохода\n",
    "all_income = df_log['total_income'].sum()\n",
    "clients_quontity = df_log['total_income'].count()\n",
    "average_income = round(all_income/clients_quontity)\n",
    "print(average_income)"
   ]
  },
  {
   "cell_type": "markdown",
   "metadata": {},
   "source": [
    "Построим столбчатую диаграмму для клиентов со средним уровнем дохода и ниже, используя колонки `total_income`,`debt`, а также рассчитанный выше *average_income*:"
   ]
  },
  {
   "cell_type": "code",
   "execution_count": 81,
   "metadata": {},
   "outputs": [
    {
     "name": "stdout",
     "output_type": "stream",
     "text": [
      "Диаграмма наличия задолженности у клиентов со средним уровнем дохода и ниже\n"
     ]
    },
    {
     "data": {
      "image/png": "[encoded data removed]",
      "text/plain": [
       "<Figure size 432x288 with 1 Axes>"
      ]
     },
     "metadata": {
      "needs_background": "light"
     },
     "output_type": "display_data"
    }
   ],
   "source": [
    "# вывод диаграммы для клиентов со средним уровнем дохода и ниже\n",
    "average_lower_clients = df_log[df_log['total_income'] <= average_income]\n",
    "sns.countplot(average_lower_clients['debt'])\n",
    "print('Диаграмма наличия задолженности у клиентов со средним уровнем дохода и ниже')"
   ]
  },
  {
   "cell_type": "markdown",
   "metadata": {},
   "source": [
    "То же самое проделаем для клиентов с уровнем дохода выше среднего:"
   ]
  },
  {
   "cell_type": "code",
   "execution_count": 82,
   "metadata": {
    "scrolled": true
   },
   "outputs": [
    {
     "name": "stdout",
     "output_type": "stream",
     "text": [
      "Диаграмма наличия задолженности у клиентов с уровнем дохода выше среднего\n"
     ]
    },
    {
     "data": {
      "image/png": "[encoded data removed]",
      "text/plain": [
       "<Figure size 432x288 with 1 Axes>"
      ]
     },
     "metadata": {
      "needs_background": "light"
     },
     "output_type": "display_data"
    }
   ],
   "source": [
    "# вывод диаграммы для клиентов с уровнем дохода выше среднего\n",
    "average_upper_clients = df_log[df_log['total_income'] > average_income]\n",
    "sns.countplot(average_upper_clients['debt'])\n",
    "print('Диаграмма наличия задолженности у клиентов с уровнем дохода выше среднего')"
   ]
  },
  {
   "cell_type": "markdown",
   "metadata": {},
   "source": [
    "Напишем функцию, которая в процентах посчитает долю клиентов с задолженностью в зависимости от уровня дохода:"
   ]
  },
  {
   "cell_type": "code",
   "execution_count": 83,
   "metadata": {},
   "outputs": [
    {
     "name": "stdout",
     "output_type": "stream",
     "text": [
      "Наличие задолженности у клиентов со средним уровнем дохода и ниже: 8 %\n",
      "Наличие задолженности у клиентов c детьми: 8 %\n"
     ]
    }
   ],
   "source": [
    "# функция для подсчёта клиентов с задолженностью в процентах\n",
    "def total_income_debt_percent(data):\n",
    "    return int(round(data['debt'].mean() * 100))\n",
    "\n",
    "print('Наличие задолженности у клиентов со средним уровнем дохода и ниже:', total_income_debt_percent(average_lower_clients), '%')\n",
    "print('Наличие задолженности у клиентов c детьми:', total_income_debt_percent(average_upper_clients), '%')"
   ]
  },
  {
   "cell_type": "markdown",
   "metadata": {},
   "source": [
    "**Вывод**"
   ]
  },
  {
   "cell_type": "markdown",
   "metadata": {},
   "source": [
    "Доли клиентов с задолженностью со средним уровнем дохода и ниже и с уровнем дохода выше среднего среди клиентов указанных групп равны. Т.е. в рамках названных групп фактор уровня дохода влияния не имеет."
   ]
  },
  {
   "cell_type": "markdown",
   "metadata": {},
   "source": [
    "- **Как разные цели кредита влияют на его возврат в срок?**"
   ]
  },
  {
   "cell_type": "markdown",
   "metadata": {},
   "source": [
    "Теперь чтобы оценить влияние цели кредита на его возврат в срок, нужно построить столбчатые диаграммы для клиентов с разными кредитными целями *(классификацию целей мы провели при лемматизации)*."
   ]
  },
  {
   "cell_type": "markdown",
   "metadata": {},
   "source": [
    "Воспользуемся колонкой `purpose_group_id` для фильтрации *df_log* в зависимости от категории цели. Для каждой цели строим отдельную диаграмму со значениями колонки `debt` по горизонтали и количеством клиентов данной группы по вертикали."
   ]
  },
  {
   "cell_type": "code",
   "execution_count": 84,
   "metadata": {},
   "outputs": [
    {
     "name": "stdout",
     "output_type": "stream",
     "text": [
      "Диаграмма наличия задолженности у клиентов с кредитной целью из категории \"операции с недвижимостью\"\n"
     ]
    },
    {
     "data": {
      "image/png": "[encoded data removed]",
      "text/plain": [
       "<Figure size 432x288 with 1 Axes>"
      ]
     },
     "metadata": {
      "needs_background": "light"
     },
     "output_type": "display_data"
    }
   ],
   "source": [
    "# построение диаграммы для кредитной цели из категории \"операции с недвижимостью\"\n",
    "clients_purpose_group_0 = df_log[df_log['purpose_group_id'] == 0]\n",
    "sns.countplot(clients_purpose_group_0['debt'])\n",
    "print('Диаграмма наличия задолженности у клиентов с кредитной целью из категории \"операции с недвижимостью\"')"
   ]
  },
  {
   "cell_type": "code",
   "execution_count": 85,
   "metadata": {},
   "outputs": [
    {
     "name": "stdout",
     "output_type": "stream",
     "text": [
      "Диаграмма наличия задолженности у клиентов с кредитной целью из категории \"сделки с автомобилем\"\n"
     ]
    },
    {
     "data": {
      "image/png": "[encoded data removed]",
      "text/plain": [
       "<Figure size 432x288 with 1 Axes>"
      ]
     },
     "metadata": {
      "needs_background": "light"
     },
     "output_type": "display_data"
    }
   ],
   "source": [
    "# построение диаграммы для кредитной цели из категории \"сделки с автомобилем\"\n",
    "clients_purpose_group_1 = df_log[df_log['purpose_group_id'] == 1]\n",
    "sns.countplot(clients_purpose_group_1['debt'])\n",
    "print('Диаграмма наличия задолженности у клиентов с кредитной целью из категории \"сделки с автомобилем\"')"
   ]
  },
  {
   "cell_type": "code",
   "execution_count": 86,
   "metadata": {},
   "outputs": [
    {
     "name": "stdout",
     "output_type": "stream",
     "text": [
      "Диаграмма наличия задолженности у клиентов с кредитной целью из категории \"образовательные услуги\"\n"
     ]
    },
    {
     "data": {
      "image/png": "[encoded data removed]",
      "text/plain": [
       "<Figure size 432x288 with 1 Axes>"
      ]
     },
     "metadata": {
      "needs_background": "light"
     },
     "output_type": "display_data"
    }
   ],
   "source": [
    "# построение диаграммы для кредитной цели из категории \"образовательные услуги\"\n",
    "clients_purpose_group_2 = df_log[df_log['purpose_group_id'] == 2]\n",
    "sns.countplot(clients_purpose_group_2['debt'])\n",
    "print('Диаграмма наличия задолженности у клиентов с кредитной целью из категории \"образовательные услуги\"')"
   ]
  },
  {
   "cell_type": "code",
   "execution_count": 87,
   "metadata": {},
   "outputs": [
    {
     "name": "stdout",
     "output_type": "stream",
     "text": [
      "Диаграмма наличия задолженности у клиентов с кредитной целью из категории \"свадебные расходы\"\n"
     ]
    },
    {
     "data": {
      "image/png": "[encoded data removed]",
      "text/plain": [
       "<Figure size 432x288 with 1 Axes>"
      ]
     },
     "metadata": {
      "needs_background": "light"
     },
     "output_type": "display_data"
    }
   ],
   "source": [
    "# построение диаграммы для кредитной цели из категории \"свадебные расходы\"\n",
    "clients_purpose_group_3 = df_log[df_log['purpose_group_id'] == 3]\n",
    "sns.countplot(clients_purpose_group_3['debt'])\n",
    "print('Диаграмма наличия задолженности у клиентов с кредитной целью из категории \"свадебные расходы\"')"
   ]
  },
  {
   "cell_type": "markdown",
   "metadata": {},
   "source": [
    "Чтобы проанализировать общую картину распределения задолженностей по категорям цели кредита, напишем функцию, которая в процентах посчитает долю клиентов с задолженностью в зависимости от кредитной цели:"
   ]
  },
  {
   "cell_type": "code",
   "execution_count": 88,
   "metadata": {},
   "outputs": [
    {
     "name": "stdout",
     "output_type": "stream",
     "text": [
      "Наличие задолженности у клиентов c кредитной целью из категории \"операции с недвижимостью\": 7 %\n",
      "Наличие задолженности у клиентов c кредитной целью из категории \"сделки с автомобилем\": 9 %\n",
      "Наличие задолженности у клиентов c кредитной целью из категории \"образовательные услуги\": 9 %\n",
      "Наличие задолженности у клиентов c кредитной целью из категории \"свадебные расходы\": 8 %\n"
     ]
    }
   ],
   "source": [
    "# функция для подсчёта клиентов с задолженностью в процентах\n",
    "def purpose_group_debt_percent(data):\n",
    "    return int(round(data['debt'].mean() * 100))\n",
    "\n",
    "print('Наличие задолженности у клиентов c кредитной целью из категории \"операции с недвижимостью\":', purpose_group_debt_percent(clients_purpose_group_0), '%')\n",
    "print('Наличие задолженности у клиентов c кредитной целью из категории \"сделки с автомобилем\":', purpose_group_debt_percent(clients_purpose_group_1), '%')\n",
    "print('Наличие задолженности у клиентов c кредитной целью из категории \"образовательные услуги\":', purpose_group_debt_percent(clients_purpose_group_2), '%')\n",
    "print('Наличие задолженности у клиентов c кредитной целью из категории \"свадебные расходы\":', purpose_group_debt_percent(clients_purpose_group_3), '%')"
   ]
  },
  {
   "cell_type": "markdown",
   "metadata": {},
   "source": [
    "**Вывод**"
   ]
  },
  {
   "cell_type": "markdown",
   "metadata": {},
   "source": [
    "Цель кредита влияет на его возврат в срок. Больше всего задолженностей у клиентов, которые берут кредит на сделки с автомобилем и на образовательные услуги. Меньше всего задолженностей у клиентов с кредитной целью \"операции с недвижимостью\". Вероятно, клиенты очень ответственно подходят к покупке недвижимости и рассчитывают собственные средства, т.к. сумма кредита может быть значительной. Клиенты с задолженностью по кредиту с целью покрытия свадебных расходов занимают среднюю позицию, однако по численности группа клиентов с кредитной целью \"свадебные расходы\" является самой многочисленной."
   ]
  },
  {
   "cell_type": "markdown",
   "metadata": {},
   "source": [
    "## Шаг 4. Общий вывод"
   ]
  },
  {
   "cell_type": "markdown",
   "metadata": {},
   "source": [
    "В результате исследования выяснено следующее: семейное положение потенциального клиента и наличие у него детей влияет на возврат кредита в срок. Вероятность возврата кредита в срок выше у клиентов, не состоящих в браке. Аналогичная зависимость прослеживается у клиентов без детей. Также найден дополнительный фактор, который влияет на возврат кредита в срок - цель кредита."
   ]
  }
 ],
 "metadata": {
  "ExecuteTimeLog": [
   {
    "duration": 376,
    "start_time": "2021-10-13T17:01:44.436Z"
   },
   {
    "duration": 727,
    "start_time": "2021-10-13T17:01:59.213Z"
   },
   {
    "duration": 105,
    "start_time": "2021-10-13T17:02:00.611Z"
   },
   {
    "duration": 62,
    "start_time": "2021-10-13T17:02:56.710Z"
   },
   {
    "duration": 19,
    "start_time": "2021-10-13T17:03:54.518Z"
   },
   {
    "duration": 4,
    "start_time": "2021-10-13T17:05:08.554Z"
   },
   {
    "duration": 16,
    "start_time": "2021-10-13T17:05:16.755Z"
   },
   {
    "duration": 13,
    "start_time": "2021-10-13T18:45:40.024Z"
   },
   {
    "duration": 296,
    "start_time": "2021-10-14T16:34:53.532Z"
   },
   {
    "duration": 276,
    "start_time": "2021-10-14T16:35:42.200Z"
   },
   {
    "duration": 252,
    "start_time": "2021-10-14T16:37:24.950Z"
   },
   {
    "duration": 558,
    "start_time": "2021-10-14T16:37:47.488Z"
   },
   {
    "duration": 53,
    "start_time": "2021-10-14T16:37:48.048Z"
   },
   {
    "duration": 19,
    "start_time": "2021-10-14T16:37:48.103Z"
   },
   {
    "duration": 28,
    "start_time": "2021-10-14T16:37:48.124Z"
   },
   {
    "duration": 22,
    "start_time": "2021-10-14T16:37:48.154Z"
   },
   {
    "duration": 265,
    "start_time": "2021-10-14T16:37:51.336Z"
   },
   {
    "duration": 290,
    "start_time": "2021-10-14T16:37:58.390Z"
   },
   {
    "duration": 7,
    "start_time": "2021-10-14T16:38:05.701Z"
   },
   {
    "duration": 7,
    "start_time": "2021-10-14T16:38:26.181Z"
   },
   {
    "duration": 4,
    "start_time": "2021-10-14T19:44:15.109Z"
   },
   {
    "duration": 9,
    "start_time": "2021-10-14T19:44:38.993Z"
   },
   {
    "duration": 5,
    "start_time": "2021-10-14T19:46:11.534Z"
   },
   {
    "duration": 10,
    "start_time": "2021-10-14T19:46:12.875Z"
   },
   {
    "duration": 10,
    "start_time": "2021-10-14T19:46:25.388Z"
   },
   {
    "duration": 81,
    "start_time": "2021-10-14T19:47:35.214Z"
   },
   {
    "duration": 13,
    "start_time": "2021-10-14T19:47:51.131Z"
   },
   {
    "duration": 14,
    "start_time": "2021-10-14T19:48:21.880Z"
   },
   {
    "duration": 14,
    "start_time": "2021-10-14T19:48:44.669Z"
   },
   {
    "duration": 7,
    "start_time": "2021-10-14T19:49:15.980Z"
   },
   {
    "duration": 11,
    "start_time": "2021-10-14T19:49:40.044Z"
   },
   {
    "duration": 19,
    "start_time": "2021-10-14T19:49:59.244Z"
   },
   {
    "duration": 8,
    "start_time": "2021-10-14T19:50:19.314Z"
   },
   {
    "duration": 7,
    "start_time": "2021-10-14T19:51:01.051Z"
   },
   {
    "duration": 7,
    "start_time": "2021-10-14T19:51:28.684Z"
   },
   {
    "duration": 312,
    "start_time": "2021-10-16T08:16:27.774Z"
   },
   {
    "duration": 722,
    "start_time": "2021-10-16T08:16:33.068Z"
   },
   {
    "duration": 68,
    "start_time": "2021-10-16T08:16:33.793Z"
   },
   {
    "duration": 31,
    "start_time": "2021-10-16T08:16:33.865Z"
   },
   {
    "duration": 38,
    "start_time": "2021-10-16T08:16:33.899Z"
   },
   {
    "duration": 41,
    "start_time": "2021-10-16T08:16:33.939Z"
   },
   {
    "duration": 24,
    "start_time": "2021-10-16T08:16:33.983Z"
   },
   {
    "duration": 20,
    "start_time": "2021-10-16T08:16:34.010Z"
   },
   {
    "duration": 6,
    "start_time": "2021-10-16T08:16:34.033Z"
   },
   {
    "duration": 27,
    "start_time": "2021-10-16T08:16:34.043Z"
   },
   {
    "duration": 15,
    "start_time": "2021-10-16T08:16:34.073Z"
   },
   {
    "duration": 44,
    "start_time": "2021-10-16T08:16:34.091Z"
   },
   {
    "duration": 24,
    "start_time": "2021-10-16T08:16:34.137Z"
   },
   {
    "duration": 20,
    "start_time": "2021-10-16T08:16:34.164Z"
   },
   {
    "duration": 37,
    "start_time": "2021-10-16T08:16:34.186Z"
   },
   {
    "duration": 16,
    "start_time": "2021-10-16T08:16:34.225Z"
   },
   {
    "duration": 33,
    "start_time": "2021-10-16T08:16:34.243Z"
   },
   {
    "duration": 11,
    "start_time": "2021-10-16T08:16:34.278Z"
   },
   {
    "duration": 37,
    "start_time": "2021-10-16T08:16:34.291Z"
   },
   {
    "duration": 11,
    "start_time": "2021-10-16T08:16:34.330Z"
   },
   {
    "duration": 284,
    "start_time": "2021-10-16T08:16:36.172Z"
   },
   {
    "duration": 429,
    "start_time": "2021-10-16T08:26:42.730Z"
   },
   {
    "duration": 259,
    "start_time": "2021-10-16T08:26:45.190Z"
   },
   {
    "duration": 5013,
    "start_time": "2021-10-16T08:26:49.446Z"
   },
   {
    "duration": 6215,
    "start_time": "2021-10-16T08:26:58.369Z"
   },
   {
    "duration": 418,
    "start_time": "2021-10-16T08:27:04.170Z"
   },
   {
    "duration": 413,
    "start_time": "2021-10-16T08:27:04.176Z"
   },
   {
    "duration": 411,
    "start_time": "2021-10-16T08:27:04.180Z"
   },
   {
    "duration": 409,
    "start_time": "2021-10-16T08:27:04.184Z"
   },
   {
    "duration": 403,
    "start_time": "2021-10-16T08:27:04.191Z"
   },
   {
    "duration": 380,
    "start_time": "2021-10-16T08:27:04.216Z"
   },
   {
    "duration": 375,
    "start_time": "2021-10-16T08:27:04.222Z"
   },
   {
    "duration": 374,
    "start_time": "2021-10-16T08:27:04.225Z"
   },
   {
    "duration": 372,
    "start_time": "2021-10-16T08:27:04.228Z"
   },
   {
    "duration": 369,
    "start_time": "2021-10-16T08:27:04.232Z"
   },
   {
    "duration": 367,
    "start_time": "2021-10-16T08:27:04.236Z"
   },
   {
    "duration": 366,
    "start_time": "2021-10-16T08:27:04.238Z"
   },
   {
    "duration": 360,
    "start_time": "2021-10-16T08:27:04.246Z"
   },
   {
    "duration": 357,
    "start_time": "2021-10-16T08:27:04.250Z"
   },
   {
    "duration": 355,
    "start_time": "2021-10-16T08:27:04.253Z"
   },
   {
    "duration": 352,
    "start_time": "2021-10-16T08:27:04.258Z"
   },
   {
    "duration": 348,
    "start_time": "2021-10-16T08:27:04.263Z"
   },
   {
    "duration": 346,
    "start_time": "2021-10-16T08:27:04.267Z"
   },
   {
    "duration": 341,
    "start_time": "2021-10-16T08:27:04.273Z"
   },
   {
    "duration": 431,
    "start_time": "2021-10-16T08:27:11.230Z"
   },
   {
    "duration": 4697,
    "start_time": "2021-10-16T08:27:13.429Z"
   },
   {
    "duration": 387,
    "start_time": "2021-10-16T08:27:17.743Z"
   },
   {
    "duration": 385,
    "start_time": "2021-10-16T08:27:17.747Z"
   },
   {
    "duration": 383,
    "start_time": "2021-10-16T08:27:17.750Z"
   },
   {
    "duration": 380,
    "start_time": "2021-10-16T08:27:17.755Z"
   },
   {
    "duration": 378,
    "start_time": "2021-10-16T08:27:17.759Z"
   },
   {
    "duration": 373,
    "start_time": "2021-10-16T08:27:17.766Z"
   },
   {
    "duration": 370,
    "start_time": "2021-10-16T08:27:17.770Z"
   },
   {
    "duration": 369,
    "start_time": "2021-10-16T08:27:17.773Z"
   },
   {
    "duration": 368,
    "start_time": "2021-10-16T08:27:17.776Z"
   },
   {
    "duration": 365,
    "start_time": "2021-10-16T08:27:17.780Z"
   },
   {
    "duration": 363,
    "start_time": "2021-10-16T08:27:17.784Z"
   },
   {
    "duration": 360,
    "start_time": "2021-10-16T08:27:17.788Z"
   },
   {
    "duration": 359,
    "start_time": "2021-10-16T08:27:17.791Z"
   },
   {
    "duration": 357,
    "start_time": "2021-10-16T08:27:17.794Z"
   },
   {
    "duration": 356,
    "start_time": "2021-10-16T08:27:17.797Z"
   },
   {
    "duration": 354,
    "start_time": "2021-10-16T08:27:17.800Z"
   },
   {
    "duration": 346,
    "start_time": "2021-10-16T08:27:17.811Z"
   },
   {
    "duration": 345,
    "start_time": "2021-10-16T08:27:17.814Z"
   },
   {
    "duration": 344,
    "start_time": "2021-10-16T08:27:17.817Z"
   },
   {
    "duration": 271,
    "start_time": "2021-10-16T08:27:50.230Z"
   },
   {
    "duration": 422,
    "start_time": "2021-10-16T08:29:27.928Z"
   },
   {
    "duration": 417,
    "start_time": "2021-10-16T08:29:27.934Z"
   },
   {
    "duration": 404,
    "start_time": "2021-10-16T08:29:27.950Z"
   },
   {
    "duration": 401,
    "start_time": "2021-10-16T08:29:27.955Z"
   },
   {
    "duration": 400,
    "start_time": "2021-10-16T08:29:27.958Z"
   },
   {
    "duration": 374,
    "start_time": "2021-10-16T08:29:27.986Z"
   },
   {
    "duration": 365,
    "start_time": "2021-10-16T08:29:27.997Z"
   },
   {
    "duration": 362,
    "start_time": "2021-10-16T08:29:28.002Z"
   },
   {
    "duration": 359,
    "start_time": "2021-10-16T08:29:28.007Z"
   },
   {
    "duration": 358,
    "start_time": "2021-10-16T08:29:28.011Z"
   },
   {
    "duration": 357,
    "start_time": "2021-10-16T08:29:28.014Z"
   },
   {
    "duration": 355,
    "start_time": "2021-10-16T08:29:28.018Z"
   },
   {
    "duration": 354,
    "start_time": "2021-10-16T08:29:28.021Z"
   },
   {
    "duration": 353,
    "start_time": "2021-10-16T08:29:28.024Z"
   },
   {
    "duration": 352,
    "start_time": "2021-10-16T08:29:28.027Z"
   },
   {
    "duration": 352,
    "start_time": "2021-10-16T08:29:28.030Z"
   },
   {
    "duration": 351,
    "start_time": "2021-10-16T08:29:28.033Z"
   },
   {
    "duration": 350,
    "start_time": "2021-10-16T08:29:28.036Z"
   },
   {
    "duration": 383,
    "start_time": "2021-10-16T08:29:28.038Z"
   },
   {
    "duration": 383,
    "start_time": "2021-10-16T08:29:28.041Z"
   },
   {
    "duration": 8514,
    "start_time": "2021-10-16T08:29:30.515Z"
   },
   {
    "duration": 6938,
    "start_time": "2021-10-16T08:29:39.508Z"
   },
   {
    "duration": 389,
    "start_time": "2021-10-16T08:29:46.060Z"
   },
   {
    "duration": 385,
    "start_time": "2021-10-16T08:29:46.066Z"
   },
   {
    "duration": 384,
    "start_time": "2021-10-16T08:29:46.069Z"
   },
   {
    "duration": 382,
    "start_time": "2021-10-16T08:29:46.072Z"
   },
   {
    "duration": 380,
    "start_time": "2021-10-16T08:29:46.075Z"
   },
   {
    "duration": 378,
    "start_time": "2021-10-16T08:29:46.079Z"
   },
   {
    "duration": 376,
    "start_time": "2021-10-16T08:29:46.082Z"
   },
   {
    "duration": 376,
    "start_time": "2021-10-16T08:29:46.084Z"
   },
   {
    "duration": 374,
    "start_time": "2021-10-16T08:29:46.087Z"
   },
   {
    "duration": 371,
    "start_time": "2021-10-16T08:29:46.092Z"
   },
   {
    "duration": 369,
    "start_time": "2021-10-16T08:29:46.095Z"
   },
   {
    "duration": 367,
    "start_time": "2021-10-16T08:29:46.098Z"
   },
   {
    "duration": 365,
    "start_time": "2021-10-16T08:29:46.101Z"
   },
   {
    "duration": 363,
    "start_time": "2021-10-16T08:29:46.105Z"
   },
   {
    "duration": 361,
    "start_time": "2021-10-16T08:29:46.108Z"
   },
   {
    "duration": 361,
    "start_time": "2021-10-16T08:29:46.110Z"
   },
   {
    "duration": 358,
    "start_time": "2021-10-16T08:29:46.114Z"
   },
   {
    "duration": 356,
    "start_time": "2021-10-16T08:29:46.117Z"
   },
   {
    "duration": 355,
    "start_time": "2021-10-16T08:29:46.120Z"
   },
   {
    "duration": 866,
    "start_time": "2021-10-16T08:30:32.116Z"
   },
   {
    "duration": 331,
    "start_time": "2021-10-16T08:30:46.709Z"
   },
   {
    "duration": 64,
    "start_time": "2021-10-16T08:37:05.119Z"
   },
   {
    "duration": 20,
    "start_time": "2021-10-16T08:37:06.351Z"
   },
   {
    "duration": 15,
    "start_time": "2021-10-16T08:37:09.631Z"
   },
   {
    "duration": 12,
    "start_time": "2021-10-16T08:37:24.783Z"
   },
   {
    "duration": 6,
    "start_time": "2021-10-16T08:37:27.760Z"
   },
   {
    "duration": 6,
    "start_time": "2021-10-16T08:37:31.071Z"
   },
   {
    "duration": 14,
    "start_time": "2021-10-16T08:37:32.943Z"
   },
   {
    "duration": 7,
    "start_time": "2021-10-16T08:37:36.016Z"
   },
   {
    "duration": 16,
    "start_time": "2021-10-16T08:37:40.206Z"
   },
   {
    "duration": 16,
    "start_time": "2021-10-16T08:37:42.814Z"
   },
   {
    "duration": 21,
    "start_time": "2021-10-16T08:37:46.703Z"
   },
   {
    "duration": 23,
    "start_time": "2021-10-16T08:37:48.863Z"
   },
   {
    "duration": 22,
    "start_time": "2021-10-16T08:37:51.137Z"
   },
   {
    "duration": 10,
    "start_time": "2021-10-16T08:37:53.471Z"
   },
   {
    "duration": 17,
    "start_time": "2021-10-16T08:37:55.983Z"
   },
   {
    "duration": 28,
    "start_time": "2021-10-16T08:37:58.894Z"
   },
   {
    "duration": 26,
    "start_time": "2021-10-16T08:38:04.558Z"
   },
   {
    "duration": 11,
    "start_time": "2021-10-16T08:38:06.590Z"
   },
   {
    "duration": 9,
    "start_time": "2021-10-16T08:38:09.535Z"
   },
   {
    "duration": 9,
    "start_time": "2021-10-16T08:38:11.662Z"
   },
   {
    "duration": 5164,
    "start_time": "2021-10-16T08:41:40.871Z"
   },
   {
    "duration": 3,
    "start_time": "2021-10-16T08:41:46.039Z"
   },
   {
    "duration": 110,
    "start_time": "2021-10-16T08:41:46.045Z"
   },
   {
    "duration": 20,
    "start_time": "2021-10-16T08:41:46.158Z"
   },
   {
    "duration": 51,
    "start_time": "2021-10-16T08:41:46.181Z"
   },
   {
    "duration": 28,
    "start_time": "2021-10-16T08:41:46.235Z"
   },
   {
    "duration": 6,
    "start_time": "2021-10-16T08:41:46.265Z"
   },
   {
    "duration": 13,
    "start_time": "2021-10-16T08:41:46.275Z"
   },
   {
    "duration": 36,
    "start_time": "2021-10-16T08:41:46.291Z"
   },
   {
    "duration": 27,
    "start_time": "2021-10-16T08:41:46.329Z"
   },
   {
    "duration": 16,
    "start_time": "2021-10-16T08:41:46.358Z"
   },
   {
    "duration": 57,
    "start_time": "2021-10-16T08:41:46.377Z"
   },
   {
    "duration": 23,
    "start_time": "2021-10-16T08:41:46.436Z"
   },
   {
    "duration": 22,
    "start_time": "2021-10-16T08:41:46.461Z"
   },
   {
    "duration": 36,
    "start_time": "2021-10-16T08:41:46.485Z"
   },
   {
    "duration": 14,
    "start_time": "2021-10-16T08:41:46.524Z"
   },
   {
    "duration": 29,
    "start_time": "2021-10-16T08:41:46.541Z"
   },
   {
    "duration": 10,
    "start_time": "2021-10-16T08:41:46.572Z"
   },
   {
    "duration": 38,
    "start_time": "2021-10-16T08:41:46.584Z"
   },
   {
    "duration": 9,
    "start_time": "2021-10-16T08:41:46.624Z"
   },
   {
    "duration": 5312,
    "start_time": "2021-10-16T08:42:50.039Z"
   },
   {
    "duration": 297,
    "start_time": "2021-10-16T08:46:56.003Z"
   },
   {
    "duration": 4,
    "start_time": "2021-10-16T08:47:12.139Z"
   },
   {
    "duration": 95,
    "start_time": "2021-10-16T08:47:12.145Z"
   },
   {
    "duration": 47,
    "start_time": "2021-10-16T08:47:12.243Z"
   },
   {
    "duration": 45,
    "start_time": "2021-10-16T08:47:12.292Z"
   },
   {
    "duration": 67,
    "start_time": "2021-10-16T08:47:12.339Z"
   },
   {
    "duration": 62,
    "start_time": "2021-10-16T08:47:12.409Z"
   },
   {
    "duration": 49,
    "start_time": "2021-10-16T08:47:12.473Z"
   },
   {
    "duration": 26,
    "start_time": "2021-10-16T08:47:12.526Z"
   },
   {
    "duration": 40,
    "start_time": "2021-10-16T08:47:12.555Z"
   },
   {
    "duration": 80,
    "start_time": "2021-10-16T08:47:12.597Z"
   },
   {
    "duration": 73,
    "start_time": "2021-10-16T08:47:12.679Z"
   },
   {
    "duration": 62,
    "start_time": "2021-10-16T08:47:12.754Z"
   },
   {
    "duration": 54,
    "start_time": "2021-10-16T08:47:12.819Z"
   },
   {
    "duration": 41,
    "start_time": "2021-10-16T08:47:12.876Z"
   },
   {
    "duration": 56,
    "start_time": "2021-10-16T08:47:12.920Z"
   },
   {
    "duration": 62,
    "start_time": "2021-10-16T08:47:12.979Z"
   },
   {
    "duration": 25,
    "start_time": "2021-10-16T08:47:13.043Z"
   },
   {
    "duration": 86,
    "start_time": "2021-10-16T08:47:13.071Z"
   },
   {
    "duration": 41,
    "start_time": "2021-10-16T08:47:13.159Z"
   },
   {
    "duration": 278,
    "start_time": "2021-10-16T08:47:15.090Z"
   },
   {
    "duration": 5290,
    "start_time": "2021-10-16T08:47:26.019Z"
   },
   {
    "duration": 4,
    "start_time": "2021-10-16T08:47:31.323Z"
   },
   {
    "duration": 84,
    "start_time": "2021-10-16T08:47:31.330Z"
   },
   {
    "duration": 20,
    "start_time": "2021-10-16T08:47:31.417Z"
   },
   {
    "duration": 34,
    "start_time": "2021-10-16T08:47:31.439Z"
   },
   {
    "duration": 29,
    "start_time": "2021-10-16T08:47:31.475Z"
   },
   {
    "duration": 27,
    "start_time": "2021-10-16T08:47:31.507Z"
   },
   {
    "duration": 41,
    "start_time": "2021-10-16T08:47:31.538Z"
   },
   {
    "duration": 28,
    "start_time": "2021-10-16T08:47:31.582Z"
   },
   {
    "duration": 34,
    "start_time": "2021-10-16T08:47:31.612Z"
   },
   {
    "duration": 33,
    "start_time": "2021-10-16T08:47:31.648Z"
   },
   {
    "duration": 49,
    "start_time": "2021-10-16T08:47:31.684Z"
   },
   {
    "duration": 23,
    "start_time": "2021-10-16T08:47:31.735Z"
   },
   {
    "duration": 50,
    "start_time": "2021-10-16T08:47:31.760Z"
   },
   {
    "duration": 31,
    "start_time": "2021-10-16T08:47:31.813Z"
   },
   {
    "duration": 46,
    "start_time": "2021-10-16T08:47:31.846Z"
   },
   {
    "duration": 66,
    "start_time": "2021-10-16T08:47:31.894Z"
   },
   {
    "duration": 14,
    "start_time": "2021-10-16T08:47:31.962Z"
   },
   {
    "duration": 39,
    "start_time": "2021-10-16T08:47:31.978Z"
   },
   {
    "duration": 32,
    "start_time": "2021-10-16T08:47:32.019Z"
   },
   {
    "duration": 27,
    "start_time": "2021-10-16T08:54:59.235Z"
   },
   {
    "duration": 3,
    "start_time": "2021-10-16T08:55:04.142Z"
   },
   {
    "duration": 5598,
    "start_time": "2021-10-16T08:59:58.840Z"
   },
   {
    "duration": 33,
    "start_time": "2021-10-16T09:01:21.226Z"
   },
   {
    "duration": 90,
    "start_time": "2021-10-16T09:02:27.514Z"
   },
   {
    "duration": 23,
    "start_time": "2021-10-16T09:02:56.716Z"
   },
   {
    "duration": 7,
    "start_time": "2021-10-16T09:15:55.523Z"
   },
   {
    "duration": 116,
    "start_time": "2021-10-16T09:37:30.946Z"
   },
   {
    "duration": 104,
    "start_time": "2021-10-16T09:37:36.117Z"
   },
   {
    "duration": 10,
    "start_time": "2021-10-16T09:37:45.702Z"
   },
   {
    "duration": 7,
    "start_time": "2021-10-16T09:38:11.766Z"
   },
   {
    "duration": 16,
    "start_time": "2021-10-16T09:38:47.831Z"
   },
   {
    "duration": 13,
    "start_time": "2021-10-16T09:41:17.076Z"
   },
   {
    "duration": 12,
    "start_time": "2021-10-16T09:43:50.320Z"
   },
   {
    "duration": 12,
    "start_time": "2021-10-16T09:44:20.753Z"
   },
   {
    "duration": 14,
    "start_time": "2021-10-16T09:44:40.025Z"
   },
   {
    "duration": 388,
    "start_time": "2021-10-16T09:45:34.480Z"
   },
   {
    "duration": 14,
    "start_time": "2021-10-16T09:45:39.328Z"
   },
   {
    "duration": 8,
    "start_time": "2021-10-16T09:46:09.632Z"
   },
   {
    "duration": 9,
    "start_time": "2021-10-16T09:46:13.280Z"
   },
   {
    "duration": 7,
    "start_time": "2021-10-16T09:46:22.320Z"
   },
   {
    "duration": 16,
    "start_time": "2021-10-16T09:46:54.847Z"
   },
   {
    "duration": 12,
    "start_time": "2021-10-16T09:47:08.463Z"
   },
   {
    "duration": 12,
    "start_time": "2021-10-16T09:48:14.416Z"
   },
   {
    "duration": 12,
    "start_time": "2021-10-16T09:48:38.224Z"
   },
   {
    "duration": 15,
    "start_time": "2021-10-16T09:49:04.308Z"
   },
   {
    "duration": 7,
    "start_time": "2021-10-16T09:53:35.027Z"
   },
   {
    "duration": 253,
    "start_time": "2021-10-16T10:05:02.632Z"
   },
   {
    "duration": 3,
    "start_time": "2021-10-16T10:05:12.058Z"
   },
   {
    "duration": 80,
    "start_time": "2021-10-16T10:05:12.064Z"
   },
   {
    "duration": 20,
    "start_time": "2021-10-16T10:05:12.147Z"
   },
   {
    "duration": 21,
    "start_time": "2021-10-16T10:05:12.170Z"
   },
   {
    "duration": 31,
    "start_time": "2021-10-16T10:05:12.193Z"
   },
   {
    "duration": 6,
    "start_time": "2021-10-16T10:05:12.226Z"
   },
   {
    "duration": 14,
    "start_time": "2021-10-16T10:05:12.235Z"
   },
   {
    "duration": 7,
    "start_time": "2021-10-16T10:05:12.252Z"
   },
   {
    "duration": 16,
    "start_time": "2021-10-16T10:05:12.262Z"
   },
   {
    "duration": 58,
    "start_time": "2021-10-16T10:05:12.280Z"
   },
   {
    "duration": 27,
    "start_time": "2021-10-16T10:05:12.340Z"
   },
   {
    "duration": 54,
    "start_time": "2021-10-16T10:05:12.369Z"
   },
   {
    "duration": 23,
    "start_time": "2021-10-16T10:05:12.426Z"
   },
   {
    "duration": 11,
    "start_time": "2021-10-16T10:05:12.452Z"
   },
   {
    "duration": 29,
    "start_time": "2021-10-16T10:05:12.465Z"
   },
   {
    "duration": 61,
    "start_time": "2021-10-16T10:05:12.496Z"
   },
   {
    "duration": 12,
    "start_time": "2021-10-16T10:05:12.559Z"
   },
   {
    "duration": 26,
    "start_time": "2021-10-16T10:05:12.573Z"
   },
   {
    "duration": 35,
    "start_time": "2021-10-16T10:05:12.602Z"
   },
   {
    "duration": 37,
    "start_time": "2021-10-16T10:05:12.639Z"
   },
   {
    "duration": 5191,
    "start_time": "2021-10-16T10:05:12.678Z"
   },
   {
    "duration": 17,
    "start_time": "2021-10-16T10:05:17.871Z"
   },
   {
    "duration": 30,
    "start_time": "2021-10-16T10:05:17.892Z"
   },
   {
    "duration": 8,
    "start_time": "2021-10-16T10:05:17.925Z"
   },
   {
    "duration": 36,
    "start_time": "2021-10-16T10:05:17.936Z"
   },
   {
    "duration": 34,
    "start_time": "2021-10-16T10:05:17.975Z"
   },
   {
    "duration": 25,
    "start_time": "2021-10-16T10:05:18.012Z"
   },
   {
    "duration": 17,
    "start_time": "2021-10-16T10:05:18.040Z"
   },
   {
    "duration": 39,
    "start_time": "2021-10-16T10:05:18.060Z"
   },
   {
    "duration": 17,
    "start_time": "2021-10-16T10:05:18.102Z"
   },
   {
    "duration": 101,
    "start_time": "2021-10-16T10:05:18.122Z"
   },
   {
    "duration": 367,
    "start_time": "2021-10-16T10:05:17.860Z"
   },
   {
    "duration": 5,
    "start_time": "2021-10-16T10:05:37.959Z"
   },
   {
    "duration": 5,
    "start_time": "2021-10-16T10:05:40.103Z"
   },
   {
    "duration": 4,
    "start_time": "2021-10-16T10:06:06.887Z"
   },
   {
    "duration": 259,
    "start_time": "2021-10-16T10:06:55.501Z"
   },
   {
    "duration": 4,
    "start_time": "2021-10-16T10:07:02.176Z"
   },
   {
    "duration": 105,
    "start_time": "2021-10-16T10:07:02.183Z"
   },
   {
    "duration": 33,
    "start_time": "2021-10-16T10:07:02.292Z"
   },
   {
    "duration": 26,
    "start_time": "2021-10-16T10:07:02.329Z"
   },
   {
    "duration": 26,
    "start_time": "2021-10-16T10:07:02.358Z"
   },
   {
    "duration": 17,
    "start_time": "2021-10-16T10:07:02.387Z"
   },
   {
    "duration": 22,
    "start_time": "2021-10-16T10:07:02.409Z"
   },
   {
    "duration": 16,
    "start_time": "2021-10-16T10:07:02.435Z"
   },
   {
    "duration": 73,
    "start_time": "2021-10-16T10:07:02.453Z"
   },
   {
    "duration": 21,
    "start_time": "2021-10-16T10:07:02.528Z"
   },
   {
    "duration": 36,
    "start_time": "2021-10-16T10:07:02.552Z"
   },
   {
    "duration": 48,
    "start_time": "2021-10-16T10:07:02.591Z"
   },
   {
    "duration": 22,
    "start_time": "2021-10-16T10:07:02.642Z"
   },
   {
    "duration": 9,
    "start_time": "2021-10-16T10:07:02.666Z"
   },
   {
    "duration": 46,
    "start_time": "2021-10-16T10:07:02.678Z"
   },
   {
    "duration": 28,
    "start_time": "2021-10-16T10:07:02.726Z"
   },
   {
    "duration": 18,
    "start_time": "2021-10-16T10:07:02.757Z"
   },
   {
    "duration": 18,
    "start_time": "2021-10-16T10:07:02.777Z"
   },
   {
    "duration": 33,
    "start_time": "2021-10-16T10:07:02.800Z"
   },
   {
    "duration": 45,
    "start_time": "2021-10-16T10:07:02.835Z"
   },
   {
    "duration": 5164,
    "start_time": "2021-10-16T10:07:02.883Z"
   },
   {
    "duration": 17,
    "start_time": "2021-10-16T10:07:08.049Z"
   },
   {
    "duration": 11,
    "start_time": "2021-10-16T10:07:08.068Z"
   },
   {
    "duration": 8,
    "start_time": "2021-10-16T10:07:08.081Z"
   },
   {
    "duration": 40,
    "start_time": "2021-10-16T10:07:08.091Z"
   },
   {
    "duration": 17,
    "start_time": "2021-10-16T10:07:08.134Z"
   },
   {
    "duration": 15,
    "start_time": "2021-10-16T10:07:08.154Z"
   },
   {
    "duration": 11,
    "start_time": "2021-10-16T10:07:08.172Z"
   },
   {
    "duration": 48,
    "start_time": "2021-10-16T10:07:08.185Z"
   },
   {
    "duration": 6,
    "start_time": "2021-10-16T10:07:08.236Z"
   },
   {
    "duration": 6,
    "start_time": "2021-10-16T10:07:08.245Z"
   },
   {
    "duration": 6,
    "start_time": "2021-10-16T10:07:08.282Z"
   },
   {
    "duration": 32,
    "start_time": "2021-10-16T10:07:08.291Z"
   },
   {
    "duration": 30,
    "start_time": "2021-10-16T10:08:27.829Z"
   },
   {
    "duration": 6,
    "start_time": "2021-10-16T10:08:54.711Z"
   },
   {
    "duration": 30,
    "start_time": "2021-10-16T10:14:48.898Z"
   },
   {
    "duration": 6,
    "start_time": "2021-10-16T10:19:08.910Z"
   },
   {
    "duration": 4,
    "start_time": "2021-10-16T10:19:12.493Z"
   },
   {
    "duration": 4,
    "start_time": "2021-10-16T10:19:14.574Z"
   },
   {
    "duration": 3,
    "start_time": "2021-10-16T10:19:20.145Z"
   },
   {
    "duration": 88,
    "start_time": "2021-10-16T10:19:20.151Z"
   },
   {
    "duration": 19,
    "start_time": "2021-10-16T10:19:20.242Z"
   },
   {
    "duration": 27,
    "start_time": "2021-10-16T10:19:20.264Z"
   },
   {
    "duration": 33,
    "start_time": "2021-10-16T10:19:20.294Z"
   },
   {
    "duration": 15,
    "start_time": "2021-10-16T10:19:20.329Z"
   },
   {
    "duration": 30,
    "start_time": "2021-10-16T10:19:20.346Z"
   },
   {
    "duration": 14,
    "start_time": "2021-10-16T10:19:20.379Z"
   },
   {
    "duration": 47,
    "start_time": "2021-10-16T10:19:20.397Z"
   },
   {
    "duration": 36,
    "start_time": "2021-10-16T10:19:20.447Z"
   },
   {
    "duration": 39,
    "start_time": "2021-10-16T10:19:20.485Z"
   },
   {
    "duration": 38,
    "start_time": "2021-10-16T10:19:20.526Z"
   },
   {
    "duration": 19,
    "start_time": "2021-10-16T10:19:20.566Z"
   },
   {
    "duration": 17,
    "start_time": "2021-10-16T10:19:20.588Z"
   },
   {
    "duration": 47,
    "start_time": "2021-10-16T10:19:20.607Z"
   },
   {
    "duration": 53,
    "start_time": "2021-10-16T10:19:20.656Z"
   },
   {
    "duration": 10,
    "start_time": "2021-10-16T10:19:20.712Z"
   },
   {
    "duration": 31,
    "start_time": "2021-10-16T10:19:20.725Z"
   },
   {
    "duration": 41,
    "start_time": "2021-10-16T10:19:20.758Z"
   },
   {
    "duration": 48,
    "start_time": "2021-10-16T10:19:20.801Z"
   },
   {
    "duration": 5179,
    "start_time": "2021-10-16T10:19:20.851Z"
   },
   {
    "duration": 16,
    "start_time": "2021-10-16T10:19:26.033Z"
   },
   {
    "duration": 29,
    "start_time": "2021-10-16T10:19:26.052Z"
   },
   {
    "duration": 13,
    "start_time": "2021-10-16T10:19:26.083Z"
   },
   {
    "duration": 35,
    "start_time": "2021-10-16T10:19:26.099Z"
   },
   {
    "duration": 28,
    "start_time": "2021-10-16T10:19:26.137Z"
   },
   {
    "duration": 23,
    "start_time": "2021-10-16T10:19:26.170Z"
   },
   {
    "duration": 12,
    "start_time": "2021-10-16T10:19:26.196Z"
   },
   {
    "duration": 14,
    "start_time": "2021-10-16T10:19:26.223Z"
   },
   {
    "duration": 5,
    "start_time": "2021-10-16T10:19:26.240Z"
   },
   {
    "duration": 10,
    "start_time": "2021-10-16T10:19:26.248Z"
   },
   {
    "duration": 17,
    "start_time": "2021-10-16T10:19:26.260Z"
   },
   {
    "duration": 10,
    "start_time": "2021-10-16T10:19:26.280Z"
   },
   {
    "duration": 29,
    "start_time": "2021-10-16T10:19:26.352Z"
   },
   {
    "duration": 6,
    "start_time": "2021-10-16T10:21:23.880Z"
   },
   {
    "duration": 5,
    "start_time": "2021-10-16T10:21:26.028Z"
   },
   {
    "duration": 4,
    "start_time": "2021-10-16T10:21:28.364Z"
   },
   {
    "duration": 28,
    "start_time": "2021-10-16T10:21:30.606Z"
   },
   {
    "duration": 3,
    "start_time": "2021-10-16T10:21:38.183Z"
   },
   {
    "duration": 103,
    "start_time": "2021-10-16T10:21:38.191Z"
   },
   {
    "duration": 25,
    "start_time": "2021-10-16T10:21:38.297Z"
   },
   {
    "duration": 29,
    "start_time": "2021-10-16T10:21:38.325Z"
   },
   {
    "duration": 45,
    "start_time": "2021-10-16T10:21:38.358Z"
   },
   {
    "duration": 14,
    "start_time": "2021-10-16T10:21:38.406Z"
   },
   {
    "duration": 27,
    "start_time": "2021-10-16T10:21:38.423Z"
   },
   {
    "duration": 20,
    "start_time": "2021-10-16T10:21:38.453Z"
   },
   {
    "duration": 44,
    "start_time": "2021-10-16T10:21:38.476Z"
   },
   {
    "duration": 24,
    "start_time": "2021-10-16T10:21:38.526Z"
   },
   {
    "duration": 47,
    "start_time": "2021-10-16T10:21:38.555Z"
   },
   {
    "duration": 27,
    "start_time": "2021-10-16T10:21:38.605Z"
   },
   {
    "duration": 23,
    "start_time": "2021-10-16T10:21:38.635Z"
   },
   {
    "duration": 20,
    "start_time": "2021-10-16T10:21:38.660Z"
   },
   {
    "duration": 30,
    "start_time": "2021-10-16T10:21:38.683Z"
   },
   {
    "duration": 51,
    "start_time": "2021-10-16T10:21:38.715Z"
   },
   {
    "duration": 11,
    "start_time": "2021-10-16T10:21:38.769Z"
   },
   {
    "duration": 43,
    "start_time": "2021-10-16T10:21:38.782Z"
   },
   {
    "duration": 41,
    "start_time": "2021-10-16T10:21:38.828Z"
   },
   {
    "duration": 50,
    "start_time": "2021-10-16T10:21:38.872Z"
   },
   {
    "duration": 5120,
    "start_time": "2021-10-16T10:21:38.925Z"
   },
   {
    "duration": 16,
    "start_time": "2021-10-16T10:21:44.048Z"
   },
   {
    "duration": 24,
    "start_time": "2021-10-16T10:21:44.066Z"
   },
   {
    "duration": 17,
    "start_time": "2021-10-16T10:21:44.093Z"
   },
   {
    "duration": 21,
    "start_time": "2021-10-16T10:21:44.112Z"
   },
   {
    "duration": 27,
    "start_time": "2021-10-16T10:21:44.136Z"
   },
   {
    "duration": 16,
    "start_time": "2021-10-16T10:21:44.166Z"
   },
   {
    "duration": 37,
    "start_time": "2021-10-16T10:21:44.186Z"
   },
   {
    "duration": 13,
    "start_time": "2021-10-16T10:21:44.226Z"
   },
   {
    "duration": 6,
    "start_time": "2021-10-16T10:21:44.242Z"
   },
   {
    "duration": 7,
    "start_time": "2021-10-16T10:21:44.251Z"
   },
   {
    "duration": 10,
    "start_time": "2021-10-16T10:21:44.261Z"
   },
   {
    "duration": 7,
    "start_time": "2021-10-16T10:21:44.274Z"
   },
   {
    "duration": 30,
    "start_time": "2021-10-16T10:21:51.694Z"
   },
   {
    "duration": 297,
    "start_time": "2021-10-16T10:23:03.374Z"
   },
   {
    "duration": 266,
    "start_time": "2021-10-16T10:23:25.309Z"
   },
   {
    "duration": 264,
    "start_time": "2021-10-16T10:23:35.596Z"
   },
   {
    "duration": 30,
    "start_time": "2021-10-16T10:23:54.235Z"
   },
   {
    "duration": 267,
    "start_time": "2021-10-16T10:24:35.788Z"
   },
   {
    "duration": 45,
    "start_time": "2021-10-16T10:24:53.628Z"
   },
   {
    "duration": 6,
    "start_time": "2021-10-16T10:25:33.500Z"
   },
   {
    "duration": 6,
    "start_time": "2021-10-16T10:25:36.313Z"
   },
   {
    "duration": 4,
    "start_time": "2021-10-16T10:25:38.201Z"
   },
   {
    "duration": 29,
    "start_time": "2021-10-16T10:25:42.284Z"
   },
   {
    "duration": 261,
    "start_time": "2021-10-16T10:25:46.619Z"
   },
   {
    "duration": 17,
    "start_time": "2021-10-16T10:29:36.505Z"
   },
   {
    "duration": 29,
    "start_time": "2021-10-16T10:30:16.791Z"
   },
   {
    "duration": 32,
    "start_time": "2021-10-16T10:31:20.217Z"
   },
   {
    "duration": 53,
    "start_time": "2021-10-16T10:31:45.793Z"
   },
   {
    "duration": 33,
    "start_time": "2021-10-16T10:32:26.056Z"
   },
   {
    "duration": 302,
    "start_time": "2021-10-16T10:32:42.743Z"
   },
   {
    "duration": 318,
    "start_time": "2021-10-16T10:32:50.358Z"
   },
   {
    "duration": 5,
    "start_time": "2021-10-16T10:34:00.246Z"
   },
   {
    "duration": 5,
    "start_time": "2021-10-16T10:34:08.983Z"
   },
   {
    "duration": 6,
    "start_time": "2021-10-16T10:34:11.109Z"
   },
   {
    "duration": 5,
    "start_time": "2021-10-16T10:34:13.689Z"
   },
   {
    "duration": 4,
    "start_time": "2021-10-16T10:34:18.934Z"
   },
   {
    "duration": 79,
    "start_time": "2021-10-16T10:34:18.941Z"
   },
   {
    "duration": 19,
    "start_time": "2021-10-16T10:34:19.022Z"
   },
   {
    "duration": 33,
    "start_time": "2021-10-16T10:34:19.044Z"
   },
   {
    "duration": 26,
    "start_time": "2021-10-16T10:34:19.080Z"
   },
   {
    "duration": 21,
    "start_time": "2021-10-16T10:34:19.108Z"
   },
   {
    "duration": 43,
    "start_time": "2021-10-16T10:34:19.131Z"
   },
   {
    "duration": 29,
    "start_time": "2021-10-16T10:34:19.176Z"
   },
   {
    "duration": 56,
    "start_time": "2021-10-16T10:34:19.207Z"
   },
   {
    "duration": 39,
    "start_time": "2021-10-16T10:34:19.266Z"
   },
   {
    "duration": 39,
    "start_time": "2021-10-16T10:34:19.308Z"
   },
   {
    "duration": 33,
    "start_time": "2021-10-16T10:34:19.350Z"
   },
   {
    "duration": 45,
    "start_time": "2021-10-16T10:34:19.385Z"
   },
   {
    "duration": 9,
    "start_time": "2021-10-16T10:34:19.432Z"
   },
   {
    "duration": 26,
    "start_time": "2021-10-16T10:34:19.443Z"
   },
   {
    "duration": 30,
    "start_time": "2021-10-16T10:34:19.471Z"
   },
   {
    "duration": 11,
    "start_time": "2021-10-16T10:34:19.522Z"
   },
   {
    "duration": 15,
    "start_time": "2021-10-16T10:34:19.536Z"
   },
   {
    "duration": 14,
    "start_time": "2021-10-16T10:34:19.553Z"
   },
   {
    "duration": 34,
    "start_time": "2021-10-16T10:34:19.569Z"
   },
   {
    "duration": 5058,
    "start_time": "2021-10-16T10:34:19.605Z"
   },
   {
    "duration": 20,
    "start_time": "2021-10-16T10:34:24.666Z"
   },
   {
    "duration": 12,
    "start_time": "2021-10-16T10:34:24.689Z"
   },
   {
    "duration": 11,
    "start_time": "2021-10-16T10:34:24.723Z"
   },
   {
    "duration": 21,
    "start_time": "2021-10-16T10:34:24.737Z"
   },
   {
    "duration": 14,
    "start_time": "2021-10-16T10:34:24.760Z"
   },
   {
    "duration": 47,
    "start_time": "2021-10-16T10:34:24.777Z"
   },
   {
    "duration": 12,
    "start_time": "2021-10-16T10:34:24.829Z"
   },
   {
    "duration": 15,
    "start_time": "2021-10-16T10:34:24.844Z"
   },
   {
    "duration": 6,
    "start_time": "2021-10-16T10:34:24.861Z"
   },
   {
    "duration": 6,
    "start_time": "2021-10-16T10:34:24.869Z"
   },
   {
    "duration": 47,
    "start_time": "2021-10-16T10:34:24.877Z"
   },
   {
    "duration": 8,
    "start_time": "2021-10-16T10:34:24.927Z"
   },
   {
    "duration": 274,
    "start_time": "2021-10-16T10:34:24.937Z"
   },
   {
    "duration": 282,
    "start_time": "2021-10-16T10:35:12.918Z"
   },
   {
    "duration": 4,
    "start_time": "2021-10-16T10:35:18.094Z"
   },
   {
    "duration": 75,
    "start_time": "2021-10-16T10:35:18.101Z"
   },
   {
    "duration": 19,
    "start_time": "2021-10-16T10:35:18.179Z"
   },
   {
    "duration": 16,
    "start_time": "2021-10-16T10:35:18.223Z"
   },
   {
    "duration": 20,
    "start_time": "2021-10-16T10:35:18.242Z"
   },
   {
    "duration": 19,
    "start_time": "2021-10-16T10:35:18.265Z"
   },
   {
    "duration": 36,
    "start_time": "2021-10-16T10:35:18.288Z"
   },
   {
    "duration": 8,
    "start_time": "2021-10-16T10:35:18.328Z"
   },
   {
    "duration": 19,
    "start_time": "2021-10-16T10:35:18.339Z"
   },
   {
    "duration": 18,
    "start_time": "2021-10-16T10:35:18.361Z"
   },
   {
    "duration": 59,
    "start_time": "2021-10-16T10:35:18.382Z"
   },
   {
    "duration": 23,
    "start_time": "2021-10-16T10:35:18.443Z"
   },
   {
    "duration": 21,
    "start_time": "2021-10-16T10:35:18.468Z"
   },
   {
    "duration": 39,
    "start_time": "2021-10-16T10:35:18.491Z"
   },
   {
    "duration": 34,
    "start_time": "2021-10-16T10:35:18.532Z"
   },
   {
    "duration": 50,
    "start_time": "2021-10-16T10:35:18.568Z"
   },
   {
    "duration": 13,
    "start_time": "2021-10-16T10:35:18.620Z"
   },
   {
    "duration": 21,
    "start_time": "2021-10-16T10:35:18.635Z"
   },
   {
    "duration": 15,
    "start_time": "2021-10-16T10:35:18.660Z"
   },
   {
    "duration": 48,
    "start_time": "2021-10-16T10:35:18.678Z"
   },
   {
    "duration": 5208,
    "start_time": "2021-10-16T10:35:18.729Z"
   },
   {
    "duration": 16,
    "start_time": "2021-10-16T10:35:23.940Z"
   },
   {
    "duration": 9,
    "start_time": "2021-10-16T10:35:23.959Z"
   },
   {
    "duration": 13,
    "start_time": "2021-10-16T10:35:23.971Z"
   },
   {
    "duration": 46,
    "start_time": "2021-10-16T10:35:23.987Z"
   },
   {
    "duration": 18,
    "start_time": "2021-10-16T10:35:24.035Z"
   },
   {
    "duration": 15,
    "start_time": "2021-10-16T10:35:24.056Z"
   },
   {
    "duration": 11,
    "start_time": "2021-10-16T10:35:24.073Z"
   },
   {
    "duration": 47,
    "start_time": "2021-10-16T10:35:24.087Z"
   },
   {
    "duration": 6,
    "start_time": "2021-10-16T10:35:24.136Z"
   },
   {
    "duration": 6,
    "start_time": "2021-10-16T10:35:24.145Z"
   },
   {
    "duration": 17,
    "start_time": "2021-10-16T10:35:24.153Z"
   },
   {
    "duration": 6,
    "start_time": "2021-10-16T10:35:24.173Z"
   },
   {
    "duration": 313,
    "start_time": "2021-10-16T10:35:24.183Z"
   },
   {
    "duration": 15,
    "start_time": "2021-10-16T10:36:43.349Z"
   },
   {
    "duration": 92,
    "start_time": "2021-10-16T10:37:03.283Z"
   },
   {
    "duration": 15,
    "start_time": "2021-10-16T10:37:20.055Z"
   },
   {
    "duration": 17,
    "start_time": "2021-10-16T10:37:45.747Z"
   },
   {
    "duration": 27,
    "start_time": "2021-10-16T10:38:04.020Z"
   },
   {
    "duration": 5,
    "start_time": "2021-10-16T10:40:03.252Z"
   },
   {
    "duration": 4,
    "start_time": "2021-10-16T10:40:07.058Z"
   },
   {
    "duration": 4,
    "start_time": "2021-10-16T10:40:09.089Z"
   },
   {
    "duration": 14,
    "start_time": "2021-10-16T10:40:11.154Z"
   },
   {
    "duration": 3,
    "start_time": "2021-10-16T10:40:15.283Z"
   },
   {
    "duration": 77,
    "start_time": "2021-10-16T10:40:15.289Z"
   },
   {
    "duration": 58,
    "start_time": "2021-10-16T10:40:15.369Z"
   },
   {
    "duration": 24,
    "start_time": "2021-10-16T10:40:15.430Z"
   },
   {
    "duration": 15,
    "start_time": "2021-10-16T10:40:15.457Z"
   },
   {
    "duration": 48,
    "start_time": "2021-10-16T10:40:15.476Z"
   },
   {
    "duration": 14,
    "start_time": "2021-10-16T10:40:15.529Z"
   },
   {
    "duration": 10,
    "start_time": "2021-10-16T10:40:15.546Z"
   },
   {
    "duration": 22,
    "start_time": "2021-10-16T10:40:15.559Z"
   },
   {
    "duration": 41,
    "start_time": "2021-10-16T10:40:15.583Z"
   },
   {
    "duration": 22,
    "start_time": "2021-10-16T10:40:15.627Z"
   },
   {
    "duration": 25,
    "start_time": "2021-10-16T10:40:15.651Z"
   },
   {
    "duration": 49,
    "start_time": "2021-10-16T10:40:15.678Z"
   },
   {
    "duration": 9,
    "start_time": "2021-10-16T10:40:15.729Z"
   },
   {
    "duration": 16,
    "start_time": "2021-10-16T10:40:15.740Z"
   },
   {
    "duration": 32,
    "start_time": "2021-10-16T10:40:15.758Z"
   },
   {
    "duration": 35,
    "start_time": "2021-10-16T10:40:15.792Z"
   },
   {
    "duration": 15,
    "start_time": "2021-10-16T10:40:15.829Z"
   },
   {
    "duration": 11,
    "start_time": "2021-10-16T10:40:15.849Z"
   },
   {
    "duration": 60,
    "start_time": "2021-10-16T10:40:15.863Z"
   },
   {
    "duration": 5054,
    "start_time": "2021-10-16T10:40:15.926Z"
   },
   {
    "duration": 16,
    "start_time": "2021-10-16T10:40:20.983Z"
   },
   {
    "duration": 26,
    "start_time": "2021-10-16T10:40:21.001Z"
   },
   {
    "duration": 22,
    "start_time": "2021-10-16T10:40:21.030Z"
   },
   {
    "duration": 27,
    "start_time": "2021-10-16T10:40:21.054Z"
   },
   {
    "duration": 20,
    "start_time": "2021-10-16T10:40:21.084Z"
   },
   {
    "duration": 25,
    "start_time": "2021-10-16T10:40:21.106Z"
   },
   {
    "duration": 12,
    "start_time": "2021-10-16T10:40:21.133Z"
   },
   {
    "duration": 16,
    "start_time": "2021-10-16T10:40:21.147Z"
   },
   {
    "duration": 13,
    "start_time": "2021-10-16T10:40:21.166Z"
   },
   {
    "duration": 8,
    "start_time": "2021-10-16T10:40:21.182Z"
   },
   {
    "duration": 4,
    "start_time": "2021-10-16T10:40:21.223Z"
   },
   {
    "duration": 15,
    "start_time": "2021-10-16T10:40:21.229Z"
   },
   {
    "duration": 22,
    "start_time": "2021-10-16T10:40:21.248Z"
   },
   {
    "duration": 14,
    "start_time": "2021-10-16T10:42:10.016Z"
   },
   {
    "duration": 93,
    "start_time": "2021-10-16T10:43:42.482Z"
   },
   {
    "duration": 86,
    "start_time": "2021-10-16T10:43:55.519Z"
   },
   {
    "duration": 21,
    "start_time": "2021-10-16T10:44:14.399Z"
   },
   {
    "duration": 16,
    "start_time": "2021-10-16T10:44:43.871Z"
   },
   {
    "duration": 18,
    "start_time": "2021-10-16T10:45:14.592Z"
   },
   {
    "duration": 4,
    "start_time": "2021-10-16T10:45:20.282Z"
   },
   {
    "duration": 94,
    "start_time": "2021-10-16T10:45:20.290Z"
   },
   {
    "duration": 19,
    "start_time": "2021-10-16T10:45:20.387Z"
   },
   {
    "duration": 32,
    "start_time": "2021-10-16T10:45:20.409Z"
   },
   {
    "duration": 34,
    "start_time": "2021-10-16T10:45:20.443Z"
   },
   {
    "duration": 22,
    "start_time": "2021-10-16T10:45:20.480Z"
   },
   {
    "duration": 45,
    "start_time": "2021-10-16T10:45:20.504Z"
   },
   {
    "duration": 35,
    "start_time": "2021-10-16T10:45:20.552Z"
   },
   {
    "duration": 50,
    "start_time": "2021-10-16T10:45:20.591Z"
   },
   {
    "duration": 33,
    "start_time": "2021-10-16T10:45:20.644Z"
   },
   {
    "duration": 93,
    "start_time": "2021-10-16T10:45:20.679Z"
   },
   {
    "duration": 32,
    "start_time": "2021-10-16T10:45:20.775Z"
   },
   {
    "duration": 60,
    "start_time": "2021-10-16T10:45:20.809Z"
   },
   {
    "duration": 30,
    "start_time": "2021-10-16T10:45:20.872Z"
   },
   {
    "duration": 37,
    "start_time": "2021-10-16T10:45:20.905Z"
   },
   {
    "duration": 72,
    "start_time": "2021-10-16T10:45:20.945Z"
   },
   {
    "duration": 27,
    "start_time": "2021-10-16T10:45:21.020Z"
   },
   {
    "duration": 32,
    "start_time": "2021-10-16T10:45:21.050Z"
   },
   {
    "duration": 32,
    "start_time": "2021-10-16T10:45:21.084Z"
   },
   {
    "duration": 53,
    "start_time": "2021-10-16T10:45:21.118Z"
   },
   {
    "duration": 5280,
    "start_time": "2021-10-16T10:45:21.173Z"
   },
   {
    "duration": 17,
    "start_time": "2021-10-16T10:45:26.457Z"
   },
   {
    "duration": 22,
    "start_time": "2021-10-16T10:45:26.477Z"
   },
   {
    "duration": 29,
    "start_time": "2021-10-16T10:45:26.501Z"
   },
   {
    "duration": 38,
    "start_time": "2021-10-16T10:45:26.533Z"
   },
   {
    "duration": 26,
    "start_time": "2021-10-16T10:45:26.574Z"
   },
   {
    "duration": 20,
    "start_time": "2021-10-16T10:45:26.605Z"
   },
   {
    "duration": 33,
    "start_time": "2021-10-16T10:45:26.628Z"
   },
   {
    "duration": 45,
    "start_time": "2021-10-16T10:45:26.664Z"
   },
   {
    "duration": 21,
    "start_time": "2021-10-16T10:45:26.711Z"
   },
   {
    "duration": 27,
    "start_time": "2021-10-16T10:45:26.734Z"
   },
   {
    "duration": 35,
    "start_time": "2021-10-16T10:45:26.763Z"
   },
   {
    "duration": 54,
    "start_time": "2021-10-16T10:45:26.801Z"
   },
   {
    "duration": 61,
    "start_time": "2021-10-16T10:45:26.857Z"
   },
   {
    "duration": 30,
    "start_time": "2021-10-16T10:46:09.358Z"
   },
   {
    "duration": 268,
    "start_time": "2021-10-16T10:47:06.543Z"
   },
   {
    "duration": 5,
    "start_time": "2021-10-16T10:49:37.180Z"
   },
   {
    "duration": 5,
    "start_time": "2021-10-16T10:49:39.519Z"
   },
   {
    "duration": 4,
    "start_time": "2021-10-16T10:49:42.268Z"
   },
   {
    "duration": 4,
    "start_time": "2021-10-16T10:49:44.699Z"
   },
   {
    "duration": 4,
    "start_time": "2021-10-16T10:49:46.685Z"
   },
   {
    "duration": 4,
    "start_time": "2021-10-16T10:49:48.765Z"
   },
   {
    "duration": 4,
    "start_time": "2021-10-16T10:49:52.108Z"
   },
   {
    "duration": 4,
    "start_time": "2021-10-16T10:49:56.380Z"
   },
   {
    "duration": 13,
    "start_time": "2021-10-16T10:50:28.077Z"
   },
   {
    "duration": 3,
    "start_time": "2021-10-16T10:50:30.462Z"
   },
   {
    "duration": 4,
    "start_time": "2021-10-16T10:50:32.557Z"
   },
   {
    "duration": 14,
    "start_time": "2021-10-16T10:50:37.899Z"
   },
   {
    "duration": 29,
    "start_time": "2021-10-16T10:50:41.710Z"
   },
   {
    "duration": 371,
    "start_time": "2021-10-16T10:50:55.309Z"
   },
   {
    "duration": 319,
    "start_time": "2021-10-16T10:51:57.757Z"
   },
   {
    "duration": 30,
    "start_time": "2021-10-16T10:52:21.787Z"
   },
   {
    "duration": 280,
    "start_time": "2021-10-16T10:53:25.307Z"
   },
   {
    "duration": 264,
    "start_time": "2021-10-16T10:54:06.395Z"
   },
   {
    "duration": 289,
    "start_time": "2021-10-16T10:55:03.963Z"
   },
   {
    "duration": 17,
    "start_time": "2021-10-16T10:57:58.415Z"
   },
   {
    "duration": 18,
    "start_time": "2021-10-16T10:58:28.744Z"
   },
   {
    "duration": 17,
    "start_time": "2021-10-16T11:00:42.008Z"
   },
   {
    "duration": 21,
    "start_time": "2021-10-16T11:01:26.040Z"
   },
   {
    "duration": 275,
    "start_time": "2021-10-16T11:02:38.358Z"
   },
   {
    "duration": 90,
    "start_time": "2021-10-16T11:02:59.975Z"
   },
   {
    "duration": 86,
    "start_time": "2021-10-16T11:03:09.205Z"
   },
   {
    "duration": 24,
    "start_time": "2021-10-16T11:03:26.309Z"
   },
   {
    "duration": 317,
    "start_time": "2021-10-16T11:03:45.558Z"
   },
   {
    "duration": 751,
    "start_time": "2021-10-16T11:03:57.237Z"
   },
   {
    "duration": 22,
    "start_time": "2021-10-16T11:04:14.182Z"
   },
   {
    "duration": 20,
    "start_time": "2021-10-16T11:04:21.285Z"
   },
   {
    "duration": 20,
    "start_time": "2021-10-16T11:05:16.566Z"
   },
   {
    "duration": 23,
    "start_time": "2021-10-16T11:05:21.797Z"
   },
   {
    "duration": 4,
    "start_time": "2021-10-16T11:05:25.854Z"
   },
   {
    "duration": 86,
    "start_time": "2021-10-16T11:05:25.860Z"
   },
   {
    "duration": 20,
    "start_time": "2021-10-16T11:05:25.949Z"
   },
   {
    "duration": 50,
    "start_time": "2021-10-16T11:05:25.973Z"
   },
   {
    "duration": 18,
    "start_time": "2021-10-16T11:05:26.026Z"
   },
   {
    "duration": 17,
    "start_time": "2021-10-16T11:05:26.046Z"
   },
   {
    "duration": 29,
    "start_time": "2021-10-16T11:05:26.067Z"
   },
   {
    "duration": 18,
    "start_time": "2021-10-16T11:05:26.098Z"
   },
   {
    "duration": 28,
    "start_time": "2021-10-16T11:05:26.118Z"
   },
   {
    "duration": 29,
    "start_time": "2021-10-16T11:05:26.148Z"
   },
   {
    "duration": 46,
    "start_time": "2021-10-16T11:05:26.179Z"
   },
   {
    "duration": 23,
    "start_time": "2021-10-16T11:05:26.227Z"
   },
   {
    "duration": 22,
    "start_time": "2021-10-16T11:05:26.252Z"
   },
   {
    "duration": 10,
    "start_time": "2021-10-16T11:05:26.277Z"
   },
   {
    "duration": 45,
    "start_time": "2021-10-16T11:05:26.289Z"
   },
   {
    "duration": 43,
    "start_time": "2021-10-16T11:05:26.336Z"
   },
   {
    "duration": 12,
    "start_time": "2021-10-16T11:05:26.381Z"
   },
   {
    "duration": 29,
    "start_time": "2021-10-16T11:05:26.395Z"
   },
   {
    "duration": 17,
    "start_time": "2021-10-16T11:05:26.428Z"
   },
   {
    "duration": 52,
    "start_time": "2021-10-16T11:05:26.448Z"
   },
   {
    "duration": 5087,
    "start_time": "2021-10-16T11:05:26.502Z"
   },
   {
    "duration": 29,
    "start_time": "2021-10-16T11:05:31.592Z"
   },
   {
    "duration": 11,
    "start_time": "2021-10-16T11:05:31.624Z"
   },
   {
    "duration": 17,
    "start_time": "2021-10-16T11:05:31.637Z"
   },
   {
    "duration": 31,
    "start_time": "2021-10-16T11:05:31.657Z"
   },
   {
    "duration": 20,
    "start_time": "2021-10-16T11:05:31.691Z"
   },
   {
    "duration": 14,
    "start_time": "2021-10-16T11:05:31.723Z"
   },
   {
    "duration": 11,
    "start_time": "2021-10-16T11:05:31.740Z"
   },
   {
    "duration": 21,
    "start_time": "2021-10-16T11:05:31.754Z"
   },
   {
    "duration": 7,
    "start_time": "2021-10-16T11:05:31.777Z"
   },
   {
    "duration": 5,
    "start_time": "2021-10-16T11:05:31.824Z"
   },
   {
    "duration": 23,
    "start_time": "2021-10-16T11:05:31.832Z"
   },
   {
    "duration": 8,
    "start_time": "2021-10-16T11:05:31.857Z"
   },
   {
    "duration": 13,
    "start_time": "2021-10-16T11:05:31.867Z"
   },
   {
    "duration": 13,
    "start_time": "2021-10-16T11:05:31.883Z"
   },
   {
    "duration": 23,
    "start_time": "2021-10-16T11:05:31.899Z"
   },
   {
    "duration": 6,
    "start_time": "2021-10-16T11:05:31.924Z"
   },
   {
    "duration": 15,
    "start_time": "2021-10-16T11:05:31.933Z"
   },
   {
    "duration": 14,
    "start_time": "2021-10-16T11:05:31.951Z"
   },
   {
    "duration": 39,
    "start_time": "2021-10-16T11:05:31.970Z"
   },
   {
    "duration": 456,
    "start_time": "2021-10-16T11:21:26.987Z"
   },
   {
    "duration": 551,
    "start_time": "2021-10-17T08:03:27.585Z"
   },
   {
    "duration": 50,
    "start_time": "2021-10-17T08:03:28.138Z"
   },
   {
    "duration": 17,
    "start_time": "2021-10-17T08:03:28.190Z"
   },
   {
    "duration": 10,
    "start_time": "2021-10-17T08:03:28.210Z"
   },
   {
    "duration": 25,
    "start_time": "2021-10-17T08:03:28.222Z"
   },
   {
    "duration": 4,
    "start_time": "2021-10-17T08:03:28.249Z"
   },
   {
    "duration": 27,
    "start_time": "2021-10-17T08:03:28.255Z"
   },
   {
    "duration": 14,
    "start_time": "2021-10-17T08:03:28.284Z"
   },
   {
    "duration": 28,
    "start_time": "2021-10-17T08:03:28.300Z"
   },
   {
    "duration": 12,
    "start_time": "2021-10-17T08:03:28.330Z"
   },
   {
    "duration": 33,
    "start_time": "2021-10-17T08:03:28.343Z"
   },
   {
    "duration": 20,
    "start_time": "2021-10-17T08:03:28.378Z"
   },
   {
    "duration": 14,
    "start_time": "2021-10-17T08:03:28.399Z"
   },
   {
    "duration": 7,
    "start_time": "2021-10-17T08:03:28.415Z"
   },
   {
    "duration": 23,
    "start_time": "2021-10-17T08:03:28.423Z"
   },
   {
    "duration": 28,
    "start_time": "2021-10-17T08:03:28.448Z"
   },
   {
    "duration": 7,
    "start_time": "2021-10-17T08:03:28.478Z"
   },
   {
    "duration": 10,
    "start_time": "2021-10-17T08:03:28.487Z"
   },
   {
    "duration": 26,
    "start_time": "2021-10-17T08:03:28.498Z"
   },
   {
    "duration": 13,
    "start_time": "2021-10-17T08:03:28.526Z"
   },
   {
    "duration": 3792,
    "start_time": "2021-10-17T08:03:28.540Z"
   },
   {
    "duration": 19,
    "start_time": "2021-10-17T08:03:32.335Z"
   },
   {
    "duration": 8,
    "start_time": "2021-10-17T08:03:32.357Z"
   },
   {
    "duration": 6,
    "start_time": "2021-10-17T08:03:32.366Z"
   },
   {
    "duration": 11,
    "start_time": "2021-10-17T08:03:32.373Z"
   },
   {
    "duration": 9,
    "start_time": "2021-10-17T08:03:32.386Z"
   },
   {
    "duration": 13,
    "start_time": "2021-10-17T08:03:32.397Z"
   },
   {
    "duration": 34,
    "start_time": "2021-10-17T08:03:32.411Z"
   },
   {
    "duration": 9,
    "start_time": "2021-10-17T08:03:32.447Z"
   },
   {
    "duration": 7,
    "start_time": "2021-10-17T08:03:32.457Z"
   },
   {
    "duration": 14,
    "start_time": "2021-10-17T08:03:32.465Z"
   },
   {
    "duration": 12,
    "start_time": "2021-10-17T08:03:32.481Z"
   },
   {
    "duration": 6,
    "start_time": "2021-10-17T08:03:32.494Z"
   },
   {
    "duration": 11,
    "start_time": "2021-10-17T08:03:32.502Z"
   },
   {
    "duration": 9,
    "start_time": "2021-10-17T08:03:32.514Z"
   },
   {
    "duration": 6,
    "start_time": "2021-10-17T08:03:32.524Z"
   },
   {
    "duration": 6,
    "start_time": "2021-10-17T08:03:32.532Z"
   },
   {
    "duration": 14,
    "start_time": "2021-10-17T08:03:32.539Z"
   },
   {
    "duration": 5,
    "start_time": "2021-10-17T08:03:32.555Z"
   },
   {
    "duration": 614,
    "start_time": "2021-10-17T08:03:32.561Z"
   },
   {
    "duration": 1505,
    "start_time": "2021-10-17T08:03:31.672Z"
   },
   {
    "duration": 246,
    "start_time": "2021-10-17T08:03:41.952Z"
   },
   {
    "duration": 12,
    "start_time": "2021-10-17T08:04:10.786Z"
   },
   {
    "duration": 241,
    "start_time": "2021-10-17T08:04:14.721Z"
   },
   {
    "duration": 19,
    "start_time": "2021-10-17T08:04:20.417Z"
   },
   {
    "duration": 11,
    "start_time": "2021-10-17T08:05:09.519Z"
   },
   {
    "duration": 11,
    "start_time": "2021-10-17T08:09:13.545Z"
   },
   {
    "duration": 19,
    "start_time": "2021-10-17T08:09:38.061Z"
   },
   {
    "duration": 240,
    "start_time": "2021-10-17T08:11:40.093Z"
   },
   {
    "duration": 290,
    "start_time": "2021-10-17T08:12:42.751Z"
   },
   {
    "duration": 603,
    "start_time": "2021-10-17T08:12:48.455Z"
   },
   {
    "duration": 53,
    "start_time": "2021-10-17T08:12:49.060Z"
   },
   {
    "duration": 20,
    "start_time": "2021-10-17T08:12:49.115Z"
   },
   {
    "duration": 13,
    "start_time": "2021-10-17T08:12:49.137Z"
   },
   {
    "duration": 11,
    "start_time": "2021-10-17T08:12:49.152Z"
   },
   {
    "duration": 5,
    "start_time": "2021-10-17T08:12:49.165Z"
   },
   {
    "duration": 14,
    "start_time": "2021-10-17T08:12:49.171Z"
   },
   {
    "duration": 6,
    "start_time": "2021-10-17T08:12:49.187Z"
   },
   {
    "duration": 50,
    "start_time": "2021-10-17T08:12:49.196Z"
   },
   {
    "duration": 11,
    "start_time": "2021-10-17T08:12:49.248Z"
   },
   {
    "duration": 15,
    "start_time": "2021-10-17T08:12:49.261Z"
   },
   {
    "duration": 17,
    "start_time": "2021-10-17T08:12:49.278Z"
   },
   {
    "duration": 15,
    "start_time": "2021-10-17T08:12:49.296Z"
   },
   {
    "duration": 7,
    "start_time": "2021-10-17T08:12:49.344Z"
   },
   {
    "duration": 13,
    "start_time": "2021-10-17T08:12:49.353Z"
   },
   {
    "duration": 21,
    "start_time": "2021-10-17T08:12:49.368Z"
   },
   {
    "duration": 8,
    "start_time": "2021-10-17T08:12:49.391Z"
   },
   {
    "duration": 12,
    "start_time": "2021-10-17T08:12:49.401Z"
   },
   {
    "duration": 32,
    "start_time": "2021-10-17T08:12:49.415Z"
   },
   {
    "duration": 5,
    "start_time": "2021-10-17T08:12:49.449Z"
   },
   {
    "duration": 3771,
    "start_time": "2021-10-17T08:12:49.456Z"
   },
   {
    "duration": 20,
    "start_time": "2021-10-17T08:12:53.229Z"
   },
   {
    "duration": 15,
    "start_time": "2021-10-17T08:12:53.251Z"
   },
   {
    "duration": 6,
    "start_time": "2021-10-17T08:12:53.267Z"
   },
   {
    "duration": 13,
    "start_time": "2021-10-17T08:12:53.274Z"
   },
   {
    "duration": 9,
    "start_time": "2021-10-17T08:12:53.289Z"
   },
   {
    "duration": 10,
    "start_time": "2021-10-17T08:12:53.301Z"
   },
   {
    "duration": 8,
    "start_time": "2021-10-17T08:12:53.312Z"
   },
   {
    "duration": 10,
    "start_time": "2021-10-17T08:12:53.345Z"
   },
   {
    "duration": 4,
    "start_time": "2021-10-17T08:12:53.357Z"
   },
   {
    "duration": 4,
    "start_time": "2021-10-17T08:12:53.362Z"
   },
   {
    "duration": 9,
    "start_time": "2021-10-17T08:12:53.368Z"
   },
   {
    "duration": 6,
    "start_time": "2021-10-17T08:12:53.378Z"
   },
   {
    "duration": 24,
    "start_time": "2021-10-17T08:12:53.386Z"
   },
   {
    "duration": 8,
    "start_time": "2021-10-17T08:12:53.412Z"
   },
   {
    "duration": 4,
    "start_time": "2021-10-17T08:12:53.422Z"
   },
   {
    "duration": 5,
    "start_time": "2021-10-17T08:12:53.428Z"
   },
   {
    "duration": 3,
    "start_time": "2021-10-17T08:12:53.444Z"
   },
   {
    "duration": 8,
    "start_time": "2021-10-17T08:12:53.448Z"
   },
   {
    "duration": 23,
    "start_time": "2021-10-17T08:12:53.457Z"
   },
   {
    "duration": 274,
    "start_time": "2021-10-17T08:13:15.048Z"
   },
   {
    "duration": 562,
    "start_time": "2021-10-17T08:13:37.759Z"
   },
   {
    "duration": 48,
    "start_time": "2021-10-17T08:13:38.323Z"
   },
   {
    "duration": 18,
    "start_time": "2021-10-17T08:13:38.373Z"
   },
   {
    "duration": 11,
    "start_time": "2021-10-17T08:13:38.393Z"
   },
   {
    "duration": 8,
    "start_time": "2021-10-17T08:13:38.406Z"
   },
   {
    "duration": 4,
    "start_time": "2021-10-17T08:13:38.416Z"
   },
   {
    "duration": 26,
    "start_time": "2021-10-17T08:13:38.421Z"
   },
   {
    "duration": 4,
    "start_time": "2021-10-17T08:13:38.450Z"
   },
   {
    "duration": 13,
    "start_time": "2021-10-17T08:13:38.456Z"
   },
   {
    "duration": 9,
    "start_time": "2021-10-17T08:13:38.471Z"
   },
   {
    "duration": 13,
    "start_time": "2021-10-17T08:13:38.482Z"
   },
   {
    "duration": 16,
    "start_time": "2021-10-17T08:13:38.497Z"
   },
   {
    "duration": 14,
    "start_time": "2021-10-17T08:13:38.544Z"
   },
   {
    "duration": 7,
    "start_time": "2021-10-17T08:13:38.560Z"
   },
   {
    "duration": 12,
    "start_time": "2021-10-17T08:13:38.569Z"
   },
   {
    "duration": 20,
    "start_time": "2021-10-17T08:13:38.583Z"
   },
   {
    "duration": 7,
    "start_time": "2021-10-17T08:13:38.605Z"
   },
   {
    "duration": 33,
    "start_time": "2021-10-17T08:13:38.614Z"
   },
   {
    "duration": 8,
    "start_time": "2021-10-17T08:13:38.648Z"
   },
   {
    "duration": 17,
    "start_time": "2021-10-17T08:13:38.658Z"
   },
   {
    "duration": 3649,
    "start_time": "2021-10-17T08:13:38.676Z"
   },
   {
    "duration": 19,
    "start_time": "2021-10-17T08:13:42.327Z"
   },
   {
    "duration": 20,
    "start_time": "2021-10-17T08:13:42.349Z"
   },
   {
    "duration": 13,
    "start_time": "2021-10-17T08:13:42.370Z"
   },
   {
    "duration": 29,
    "start_time": "2021-10-17T08:13:42.384Z"
   },
   {
    "duration": 12,
    "start_time": "2021-10-17T08:13:42.415Z"
   },
   {
    "duration": 29,
    "start_time": "2021-10-17T08:13:42.429Z"
   },
   {
    "duration": 17,
    "start_time": "2021-10-17T08:13:42.460Z"
   },
   {
    "duration": 24,
    "start_time": "2021-10-17T08:13:42.479Z"
   },
   {
    "duration": 12,
    "start_time": "2021-10-17T08:13:42.504Z"
   },
   {
    "duration": 9,
    "start_time": "2021-10-17T08:13:42.518Z"
   },
   {
    "duration": 21,
    "start_time": "2021-10-17T08:13:42.528Z"
   },
   {
    "duration": 10,
    "start_time": "2021-10-17T08:13:42.550Z"
   },
   {
    "duration": 17,
    "start_time": "2021-10-17T08:13:42.562Z"
   },
   {
    "duration": 16,
    "start_time": "2021-10-17T08:13:42.581Z"
   },
   {
    "duration": 13,
    "start_time": "2021-10-17T08:13:42.599Z"
   },
   {
    "duration": 13,
    "start_time": "2021-10-17T08:13:42.614Z"
   },
   {
    "duration": 17,
    "start_time": "2021-10-17T08:13:42.629Z"
   },
   {
    "duration": 19,
    "start_time": "2021-10-17T08:13:42.648Z"
   },
   {
    "duration": 32,
    "start_time": "2021-10-17T08:13:42.668Z"
   },
   {
    "duration": 283,
    "start_time": "2021-10-17T08:13:54.904Z"
   },
   {
    "duration": 275,
    "start_time": "2021-10-17T08:14:24.814Z"
   },
   {
    "duration": 242,
    "start_time": "2021-10-17T08:15:12.390Z"
   },
   {
    "duration": 246,
    "start_time": "2021-10-17T08:15:28.486Z"
   },
   {
    "duration": 246,
    "start_time": "2021-10-17T08:15:45.561Z"
   },
   {
    "duration": 566,
    "start_time": "2021-10-17T08:15:56.501Z"
   },
   {
    "duration": 51,
    "start_time": "2021-10-17T08:15:57.069Z"
   },
   {
    "duration": 18,
    "start_time": "2021-10-17T08:15:57.122Z"
   },
   {
    "duration": 12,
    "start_time": "2021-10-17T08:15:57.142Z"
   },
   {
    "duration": 9,
    "start_time": "2021-10-17T08:15:57.156Z"
   },
   {
    "duration": 5,
    "start_time": "2021-10-17T08:15:57.166Z"
   },
   {
    "duration": 12,
    "start_time": "2021-10-17T08:15:57.172Z"
   },
   {
    "duration": 5,
    "start_time": "2021-10-17T08:15:57.186Z"
   },
   {
    "duration": 12,
    "start_time": "2021-10-17T08:15:57.193Z"
   },
   {
    "duration": 45,
    "start_time": "2021-10-17T08:15:57.206Z"
   },
   {
    "duration": 18,
    "start_time": "2021-10-17T08:15:57.253Z"
   },
   {
    "duration": 16,
    "start_time": "2021-10-17T08:15:57.273Z"
   },
   {
    "duration": 15,
    "start_time": "2021-10-17T08:15:57.291Z"
   },
   {
    "duration": 7,
    "start_time": "2021-10-17T08:15:57.308Z"
   },
   {
    "duration": 37,
    "start_time": "2021-10-17T08:15:57.316Z"
   },
   {
    "duration": 22,
    "start_time": "2021-10-17T08:15:57.355Z"
   },
   {
    "duration": 8,
    "start_time": "2021-10-17T08:15:57.378Z"
   },
   {
    "duration": 9,
    "start_time": "2021-10-17T08:15:57.387Z"
   },
   {
    "duration": 10,
    "start_time": "2021-10-17T08:15:57.397Z"
   },
   {
    "duration": 37,
    "start_time": "2021-10-17T08:15:57.408Z"
   },
   {
    "duration": 3876,
    "start_time": "2021-10-17T08:15:57.447Z"
   },
   {
    "duration": 19,
    "start_time": "2021-10-17T08:16:01.325Z"
   },
   {
    "duration": 10,
    "start_time": "2021-10-17T08:16:01.347Z"
   },
   {
    "duration": 5,
    "start_time": "2021-10-17T08:16:01.862Z"
   },
   {
    "duration": 6,
    "start_time": "2021-10-17T08:16:04.309Z"
   },
   {
    "duration": 10,
    "start_time": "2021-10-17T08:16:07.336Z"
   },
   {
    "duration": 9,
    "start_time": "2021-10-17T08:16:09.909Z"
   },
   {
    "duration": 10,
    "start_time": "2021-10-17T08:16:12.281Z"
   },
   {
    "duration": 8,
    "start_time": "2021-10-17T08:16:14.566Z"
   },
   {
    "duration": 9,
    "start_time": "2021-10-17T08:16:17.077Z"
   },
   {
    "duration": 6,
    "start_time": "2021-10-17T08:16:19.237Z"
   },
   {
    "duration": 4,
    "start_time": "2021-10-17T08:16:22.789Z"
   },
   {
    "duration": 3,
    "start_time": "2021-10-17T08:16:24.182Z"
   },
   {
    "duration": 4,
    "start_time": "2021-10-17T08:16:24.889Z"
   },
   {
    "duration": 3,
    "start_time": "2021-10-17T08:16:25.413Z"
   },
   {
    "duration": 3,
    "start_time": "2021-10-17T08:16:25.959Z"
   },
   {
    "duration": 3,
    "start_time": "2021-10-17T08:16:26.500Z"
   },
   {
    "duration": 3,
    "start_time": "2021-10-17T08:16:28.741Z"
   },
   {
    "duration": 3,
    "start_time": "2021-10-17T08:16:29.318Z"
   },
   {
    "duration": 3,
    "start_time": "2021-10-17T08:16:29.845Z"
   },
   {
    "duration": 22,
    "start_time": "2021-10-17T08:16:30.743Z"
   },
   {
    "duration": 10,
    "start_time": "2021-10-17T08:16:33.909Z"
   },
   {
    "duration": 277,
    "start_time": "2021-10-17T08:16:46.379Z"
   },
   {
    "duration": 246,
    "start_time": "2021-10-17T08:16:55.607Z"
   },
   {
    "duration": 559,
    "start_time": "2021-10-17T08:17:01.189Z"
   },
   {
    "duration": 51,
    "start_time": "2021-10-17T08:17:01.749Z"
   },
   {
    "duration": 19,
    "start_time": "2021-10-17T08:17:01.802Z"
   },
   {
    "duration": 18,
    "start_time": "2021-10-17T08:17:01.823Z"
   },
   {
    "duration": 21,
    "start_time": "2021-10-17T08:17:01.842Z"
   },
   {
    "duration": 15,
    "start_time": "2021-10-17T08:17:01.865Z"
   },
   {
    "duration": 28,
    "start_time": "2021-10-17T08:17:01.882Z"
   },
   {
    "duration": 22,
    "start_time": "2021-10-17T08:17:01.913Z"
   },
   {
    "duration": 19,
    "start_time": "2021-10-17T08:17:01.937Z"
   },
   {
    "duration": 32,
    "start_time": "2021-10-17T08:17:01.958Z"
   },
   {
    "duration": 29,
    "start_time": "2021-10-17T08:17:01.992Z"
   },
   {
    "duration": 30,
    "start_time": "2021-10-17T08:17:02.023Z"
   },
   {
    "duration": 27,
    "start_time": "2021-10-17T08:17:02.055Z"
   },
   {
    "duration": 9,
    "start_time": "2021-10-17T08:17:02.085Z"
   },
   {
    "duration": 34,
    "start_time": "2021-10-17T08:17:02.096Z"
   },
   {
    "duration": 32,
    "start_time": "2021-10-17T08:17:02.132Z"
   },
   {
    "duration": 13,
    "start_time": "2021-10-17T08:17:02.166Z"
   },
   {
    "duration": 14,
    "start_time": "2021-10-17T08:17:02.181Z"
   },
   {
    "duration": 28,
    "start_time": "2021-10-17T08:17:02.197Z"
   },
   {
    "duration": 24,
    "start_time": "2021-10-17T08:17:02.227Z"
   },
   {
    "duration": 3964,
    "start_time": "2021-10-17T08:17:02.253Z"
   },
   {
    "duration": 11,
    "start_time": "2021-10-17T08:17:06.219Z"
   },
   {
    "duration": 14,
    "start_time": "2021-10-17T08:17:06.234Z"
   },
   {
    "duration": 6,
    "start_time": "2021-10-17T08:17:06.249Z"
   },
   {
    "duration": 14,
    "start_time": "2021-10-17T08:17:06.256Z"
   },
   {
    "duration": 14,
    "start_time": "2021-10-17T08:17:06.272Z"
   },
   {
    "duration": 13,
    "start_time": "2021-10-17T08:17:06.287Z"
   },
   {
    "duration": 8,
    "start_time": "2021-10-17T08:17:06.301Z"
   },
   {
    "duration": 39,
    "start_time": "2021-10-17T08:17:06.310Z"
   },
   {
    "duration": 4,
    "start_time": "2021-10-17T08:17:06.351Z"
   },
   {
    "duration": 6,
    "start_time": "2021-10-17T08:17:06.356Z"
   },
   {
    "duration": 9,
    "start_time": "2021-10-17T08:17:06.363Z"
   },
   {
    "duration": 15,
    "start_time": "2021-10-17T08:17:06.373Z"
   },
   {
    "duration": 10,
    "start_time": "2021-10-17T08:17:06.389Z"
   },
   {
    "duration": 9,
    "start_time": "2021-10-17T08:17:06.401Z"
   },
   {
    "duration": 4,
    "start_time": "2021-10-17T08:17:06.412Z"
   },
   {
    "duration": 7,
    "start_time": "2021-10-17T08:17:06.418Z"
   },
   {
    "duration": 17,
    "start_time": "2021-10-17T08:17:06.427Z"
   },
   {
    "duration": 3,
    "start_time": "2021-10-17T08:17:06.445Z"
   },
   {
    "duration": 23,
    "start_time": "2021-10-17T08:17:06.449Z"
   },
   {
    "duration": 12,
    "start_time": "2021-10-17T08:17:13.061Z"
   },
   {
    "duration": 81,
    "start_time": "2021-10-17T08:33:58.628Z"
   },
   {
    "duration": 77,
    "start_time": "2021-10-17T08:34:11.535Z"
   },
   {
    "duration": 2,
    "start_time": "2021-10-17T08:34:19.860Z"
   },
   {
    "duration": 50,
    "start_time": "2021-10-17T08:34:19.865Z"
   },
   {
    "duration": 11,
    "start_time": "2021-10-17T08:34:19.916Z"
   },
   {
    "duration": 12,
    "start_time": "2021-10-17T08:34:19.929Z"
   },
   {
    "duration": 8,
    "start_time": "2021-10-17T08:34:19.943Z"
   },
   {
    "duration": 4,
    "start_time": "2021-10-17T08:34:19.952Z"
   },
   {
    "duration": 9,
    "start_time": "2021-10-17T08:34:19.957Z"
   },
   {
    "duration": 4,
    "start_time": "2021-10-17T08:34:19.967Z"
   },
   {
    "duration": 11,
    "start_time": "2021-10-17T08:34:19.973Z"
   },
   {
    "duration": 10,
    "start_time": "2021-10-17T08:34:19.985Z"
   },
   {
    "duration": 17,
    "start_time": "2021-10-17T08:34:19.996Z"
   },
   {
    "duration": 46,
    "start_time": "2021-10-17T08:34:20.014Z"
   },
   {
    "duration": 14,
    "start_time": "2021-10-17T08:34:20.061Z"
   },
   {
    "duration": 7,
    "start_time": "2021-10-17T08:34:20.077Z"
   },
   {
    "duration": 16,
    "start_time": "2021-10-17T08:34:20.085Z"
   },
   {
    "duration": 49,
    "start_time": "2021-10-17T08:34:20.103Z"
   },
   {
    "duration": 8,
    "start_time": "2021-10-17T08:34:20.154Z"
   },
   {
    "duration": 11,
    "start_time": "2021-10-17T08:34:20.163Z"
   },
   {
    "duration": 7,
    "start_time": "2021-10-17T08:34:20.176Z"
   },
   {
    "duration": 25,
    "start_time": "2021-10-17T08:34:20.185Z"
   },
   {
    "duration": 3719,
    "start_time": "2021-10-17T08:34:20.212Z"
   },
   {
    "duration": 19,
    "start_time": "2021-10-17T08:34:23.933Z"
   },
   {
    "duration": 8,
    "start_time": "2021-10-17T08:34:23.954Z"
   },
   {
    "duration": 11,
    "start_time": "2021-10-17T08:34:23.963Z"
   },
   {
    "duration": 17,
    "start_time": "2021-10-17T08:34:23.976Z"
   },
   {
    "duration": 10,
    "start_time": "2021-10-17T08:34:23.994Z"
   },
   {
    "duration": 12,
    "start_time": "2021-10-17T08:34:24.006Z"
   },
   {
    "duration": 10,
    "start_time": "2021-10-17T08:34:24.019Z"
   },
   {
    "duration": 21,
    "start_time": "2021-10-17T08:34:24.030Z"
   },
   {
    "duration": 3,
    "start_time": "2021-10-17T08:34:24.053Z"
   },
   {
    "duration": 12,
    "start_time": "2021-10-17T08:34:24.058Z"
   },
   {
    "duration": 8,
    "start_time": "2021-10-17T08:34:24.072Z"
   },
   {
    "duration": 7,
    "start_time": "2021-10-17T08:34:24.082Z"
   },
   {
    "duration": 5,
    "start_time": "2021-10-17T08:34:24.091Z"
   },
   {
    "duration": 5,
    "start_time": "2021-10-17T08:34:24.098Z"
   },
   {
    "duration": 6,
    "start_time": "2021-10-17T08:34:24.104Z"
   },
   {
    "duration": 11,
    "start_time": "2021-10-17T08:34:24.111Z"
   },
   {
    "duration": 7,
    "start_time": "2021-10-17T08:34:24.123Z"
   },
   {
    "duration": 3,
    "start_time": "2021-10-17T08:34:24.144Z"
   },
   {
    "duration": 481,
    "start_time": "2021-10-17T08:34:24.149Z"
   },
   {
    "duration": 18,
    "start_time": "2021-10-17T08:34:33.868Z"
   },
   {
    "duration": 503,
    "start_time": "2021-10-17T08:35:01.761Z"
   },
   {
    "duration": 2,
    "start_time": "2021-10-17T08:35:15.607Z"
   },
   {
    "duration": 56,
    "start_time": "2021-10-17T08:35:15.612Z"
   },
   {
    "duration": 13,
    "start_time": "2021-10-17T08:35:15.669Z"
   },
   {
    "duration": 13,
    "start_time": "2021-10-17T08:35:15.684Z"
   },
   {
    "duration": 14,
    "start_time": "2021-10-17T08:35:15.699Z"
   },
   {
    "duration": 31,
    "start_time": "2021-10-17T08:35:15.714Z"
   },
   {
    "duration": 10,
    "start_time": "2021-10-17T08:35:15.746Z"
   },
   {
    "duration": 8,
    "start_time": "2021-10-17T08:35:15.757Z"
   },
   {
    "duration": 19,
    "start_time": "2021-10-17T08:35:15.767Z"
   },
   {
    "duration": 11,
    "start_time": "2021-10-17T08:35:15.789Z"
   },
   {
    "duration": 42,
    "start_time": "2021-10-17T08:35:15.802Z"
   },
   {
    "duration": 17,
    "start_time": "2021-10-17T08:35:15.846Z"
   },
   {
    "duration": 13,
    "start_time": "2021-10-17T08:35:15.865Z"
   },
   {
    "duration": 6,
    "start_time": "2021-10-17T08:35:15.880Z"
   },
   {
    "duration": 18,
    "start_time": "2021-10-17T08:35:15.888Z"
   },
   {
    "duration": 44,
    "start_time": "2021-10-17T08:35:15.907Z"
   },
   {
    "duration": 8,
    "start_time": "2021-10-17T08:35:15.952Z"
   },
   {
    "duration": 10,
    "start_time": "2021-10-17T08:35:15.962Z"
   },
   {
    "duration": 12,
    "start_time": "2021-10-17T08:35:15.973Z"
   },
   {
    "duration": 32,
    "start_time": "2021-10-17T08:35:15.987Z"
   },
   {
    "duration": 4049,
    "start_time": "2021-10-17T08:35:16.021Z"
   },
   {
    "duration": 11,
    "start_time": "2021-10-17T08:35:20.073Z"
   },
   {
    "duration": 13,
    "start_time": "2021-10-17T08:35:20.085Z"
   },
   {
    "duration": 10,
    "start_time": "2021-10-17T08:35:20.102Z"
   },
   {
    "duration": 20,
    "start_time": "2021-10-17T08:35:20.114Z"
   },
   {
    "duration": 22,
    "start_time": "2021-10-17T08:35:20.135Z"
   },
   {
    "duration": 28,
    "start_time": "2021-10-17T08:35:20.159Z"
   },
   {
    "duration": 17,
    "start_time": "2021-10-17T08:35:20.190Z"
   },
   {
    "duration": 26,
    "start_time": "2021-10-17T08:35:20.209Z"
   },
   {
    "duration": 18,
    "start_time": "2021-10-17T08:35:20.237Z"
   },
   {
    "duration": 19,
    "start_time": "2021-10-17T08:35:20.257Z"
   },
   {
    "duration": 22,
    "start_time": "2021-10-17T08:35:20.278Z"
   },
   {
    "duration": 16,
    "start_time": "2021-10-17T08:35:20.302Z"
   },
   {
    "duration": 14,
    "start_time": "2021-10-17T08:35:20.320Z"
   },
   {
    "duration": 14,
    "start_time": "2021-10-17T08:35:20.336Z"
   },
   {
    "duration": 12,
    "start_time": "2021-10-17T08:35:20.352Z"
   },
   {
    "duration": 15,
    "start_time": "2021-10-17T08:35:20.365Z"
   },
   {
    "duration": 12,
    "start_time": "2021-10-17T08:35:20.382Z"
   },
   {
    "duration": 21,
    "start_time": "2021-10-17T08:35:20.396Z"
   },
   {
    "duration": 36,
    "start_time": "2021-10-17T08:35:20.419Z"
   },
   {
    "duration": 13,
    "start_time": "2021-10-17T08:36:56.450Z"
   },
   {
    "duration": 244,
    "start_time": "2021-10-17T10:01:13.324Z"
   },
   {
    "duration": 79,
    "start_time": "2021-10-17T10:01:17.692Z"
   },
   {
    "duration": 80,
    "start_time": "2021-10-17T10:01:25.914Z"
   },
   {
    "duration": 1403,
    "start_time": "2021-10-17T10:01:44.796Z"
   },
   {
    "duration": 519,
    "start_time": "2021-10-17T10:02:01.322Z"
   },
   {
    "duration": 2,
    "start_time": "2021-10-17T10:02:04.939Z"
   },
   {
    "duration": 427,
    "start_time": "2021-10-17T10:02:16.091Z"
   },
   {
    "duration": 133,
    "start_time": "2021-10-17T10:02:48.589Z"
   },
   {
    "duration": 413,
    "start_time": "2021-10-17T10:03:31.003Z"
   },
   {
    "duration": 92,
    "start_time": "2021-10-17T10:03:50.443Z"
   },
   {
    "duration": 411,
    "start_time": "2021-10-17T10:04:09.114Z"
   },
   {
    "duration": 102,
    "start_time": "2021-10-17T10:04:34.362Z"
   },
   {
    "duration": 3,
    "start_time": "2021-10-17T10:04:40.330Z"
   },
   {
    "duration": 4,
    "start_time": "2021-10-17T10:04:43.461Z"
   },
   {
    "duration": 4,
    "start_time": "2021-10-17T10:05:13.930Z"
   },
   {
    "duration": 4,
    "start_time": "2021-10-17T10:05:30.169Z"
   },
   {
    "duration": 4,
    "start_time": "2021-10-17T10:06:13.577Z"
   },
   {
    "duration": 4,
    "start_time": "2021-10-17T10:06:42.295Z"
   },
   {
    "duration": 3,
    "start_time": "2021-10-17T10:06:54.760Z"
   },
   {
    "duration": 1688,
    "start_time": "2021-10-17T10:10:35.286Z"
   },
   {
    "duration": 4,
    "start_time": "2021-10-17T10:11:30.680Z"
   },
   {
    "duration": 1724,
    "start_time": "2021-10-17T10:11:33.160Z"
   },
   {
    "duration": 4,
    "start_time": "2021-10-17T10:14:23.236Z"
   },
   {
    "duration": 1855,
    "start_time": "2021-10-17T10:14:25.476Z"
   },
   {
    "duration": 4,
    "start_time": "2021-10-17T10:15:58.675Z"
   },
   {
    "duration": 1861,
    "start_time": "2021-10-17T10:16:01.012Z"
   },
   {
    "duration": 3,
    "start_time": "2021-10-17T10:16:21.157Z"
   },
   {
    "duration": 6302,
    "start_time": "2021-10-17T10:16:27.586Z"
   },
   {
    "duration": 82,
    "start_time": "2021-10-17T10:17:12.743Z"
   },
   {
    "duration": 4,
    "start_time": "2021-10-17T10:17:19.204Z"
   },
   {
    "duration": 4,
    "start_time": "2021-10-17T10:17:29.042Z"
   },
   {
    "duration": 6136,
    "start_time": "2021-10-17T10:17:31.775Z"
   },
   {
    "duration": 5,
    "start_time": "2021-10-17T10:18:36.160Z"
   },
   {
    "duration": 6143,
    "start_time": "2021-10-17T10:19:05.201Z"
   },
   {
    "duration": 4,
    "start_time": "2021-10-17T10:20:22.513Z"
   },
   {
    "duration": 6448,
    "start_time": "2021-10-17T10:20:24.957Z"
   },
   {
    "duration": 6335,
    "start_time": "2021-10-17T10:20:34.078Z"
   },
   {
    "duration": 4,
    "start_time": "2021-10-17T10:23:13.553Z"
   },
   {
    "duration": 1714,
    "start_time": "2021-10-17T10:23:14.654Z"
   },
   {
    "duration": 4,
    "start_time": "2021-10-17T10:23:38.654Z"
   },
   {
    "duration": 1687,
    "start_time": "2021-10-17T10:23:41.039Z"
   },
   {
    "duration": 4,
    "start_time": "2021-10-17T10:23:55.519Z"
   },
   {
    "duration": 1846,
    "start_time": "2021-10-17T10:23:57.775Z"
   },
   {
    "duration": 4,
    "start_time": "2021-10-17T10:25:23.294Z"
   },
   {
    "duration": 1696,
    "start_time": "2021-10-17T10:25:26.878Z"
   },
   {
    "duration": 4,
    "start_time": "2021-10-17T10:31:42.331Z"
   },
   {
    "duration": 1982,
    "start_time": "2021-10-17T10:31:43.946Z"
   },
   {
    "duration": 3,
    "start_time": "2021-10-17T10:39:28.711Z"
   },
   {
    "duration": 5939,
    "start_time": "2021-10-17T10:39:31.446Z"
   },
   {
    "duration": 3,
    "start_time": "2021-10-17T10:39:51.207Z"
   },
   {
    "duration": 1229,
    "start_time": "2021-10-17T10:39:54.694Z"
   },
   {
    "duration": 3,
    "start_time": "2021-10-17T10:49:08.338Z"
   },
   {
    "duration": 1237,
    "start_time": "2021-10-17T10:49:22.160Z"
   },
   {
    "duration": 4,
    "start_time": "2021-10-17T10:57:56.893Z"
   },
   {
    "duration": 2759,
    "start_time": "2021-10-17T10:57:59.275Z"
   },
   {
    "duration": 3015,
    "start_time": "2021-10-17T10:58:23.868Z"
   },
   {
    "duration": 4,
    "start_time": "2021-10-17T10:58:54.619Z"
   },
   {
    "duration": 2762,
    "start_time": "2021-10-17T10:59:00.987Z"
   },
   {
    "duration": 113,
    "start_time": "2021-10-17T10:59:29.034Z"
   },
   {
    "duration": 3,
    "start_time": "2021-10-17T10:59:39.469Z"
   },
   {
    "duration": 2795,
    "start_time": "2021-10-17T10:59:42.269Z"
   },
   {
    "duration": 77,
    "start_time": "2021-10-17T11:00:19.706Z"
   },
   {
    "duration": 4,
    "start_time": "2021-10-17T11:00:23.353Z"
   },
   {
    "duration": 3,
    "start_time": "2021-10-17T11:00:28.362Z"
   },
   {
    "duration": 2672,
    "start_time": "2021-10-17T11:00:30.714Z"
   },
   {
    "duration": 2775,
    "start_time": "2021-10-17T11:01:03.530Z"
   },
   {
    "duration": 252,
    "start_time": "2021-10-17T11:07:40.439Z"
   },
   {
    "duration": 3,
    "start_time": "2021-10-17T11:07:45.917Z"
   },
   {
    "duration": 65,
    "start_time": "2021-10-17T11:07:45.923Z"
   },
   {
    "duration": 12,
    "start_time": "2021-10-17T11:07:45.990Z"
   },
   {
    "duration": 16,
    "start_time": "2021-10-17T11:07:46.004Z"
   },
   {
    "duration": 26,
    "start_time": "2021-10-17T11:07:46.022Z"
   },
   {
    "duration": 7,
    "start_time": "2021-10-17T11:07:46.050Z"
   },
   {
    "duration": 20,
    "start_time": "2021-10-17T11:07:46.059Z"
   },
   {
    "duration": 10,
    "start_time": "2021-10-17T11:07:46.080Z"
   },
   {
    "duration": 22,
    "start_time": "2021-10-17T11:07:46.093Z"
   },
   {
    "duration": 10,
    "start_time": "2021-10-17T11:07:46.117Z"
   },
   {
    "duration": 27,
    "start_time": "2021-10-17T11:07:46.128Z"
   },
   {
    "duration": 16,
    "start_time": "2021-10-17T11:07:46.157Z"
   },
   {
    "duration": 14,
    "start_time": "2021-10-17T11:07:46.174Z"
   },
   {
    "duration": 8,
    "start_time": "2021-10-17T11:07:46.189Z"
   },
   {
    "duration": 24,
    "start_time": "2021-10-17T11:07:46.198Z"
   },
   {
    "duration": 34,
    "start_time": "2021-10-17T11:07:46.224Z"
   },
   {
    "duration": 7,
    "start_time": "2021-10-17T11:07:46.260Z"
   },
   {
    "duration": 9,
    "start_time": "2021-10-17T11:07:46.269Z"
   },
   {
    "duration": 10,
    "start_time": "2021-10-17T11:07:46.279Z"
   },
   {
    "duration": 4,
    "start_time": "2021-10-17T11:07:46.291Z"
   },
   {
    "duration": 3903,
    "start_time": "2021-10-17T11:07:46.296Z"
   },
   {
    "duration": 12,
    "start_time": "2021-10-17T11:07:50.201Z"
   },
   {
    "duration": 11,
    "start_time": "2021-10-17T11:07:50.214Z"
   },
   {
    "duration": 15,
    "start_time": "2021-10-17T11:07:50.229Z"
   },
   {
    "duration": 17,
    "start_time": "2021-10-17T11:07:50.246Z"
   },
   {
    "duration": 13,
    "start_time": "2021-10-17T11:07:50.265Z"
   },
   {
    "duration": 13,
    "start_time": "2021-10-17T11:07:50.279Z"
   },
   {
    "duration": 7,
    "start_time": "2021-10-17T11:07:50.294Z"
   },
   {
    "duration": 19,
    "start_time": "2021-10-17T11:07:50.303Z"
   },
   {
    "duration": 4,
    "start_time": "2021-10-17T11:07:50.323Z"
   },
   {
    "duration": 4,
    "start_time": "2021-10-17T11:07:50.344Z"
   },
   {
    "duration": 6,
    "start_time": "2021-10-17T11:07:50.349Z"
   },
   {
    "duration": 8,
    "start_time": "2021-10-17T11:07:50.357Z"
   },
   {
    "duration": 7,
    "start_time": "2021-10-17T11:07:50.367Z"
   },
   {
    "duration": 16,
    "start_time": "2021-10-17T11:07:50.375Z"
   },
   {
    "duration": 5,
    "start_time": "2021-10-17T11:07:50.393Z"
   },
   {
    "duration": 6,
    "start_time": "2021-10-17T11:07:50.399Z"
   },
   {
    "duration": 9,
    "start_time": "2021-10-17T11:07:50.406Z"
   },
   {
    "duration": 6,
    "start_time": "2021-10-17T11:07:50.416Z"
   },
   {
    "duration": 34,
    "start_time": "2021-10-17T11:07:50.423Z"
   },
   {
    "duration": 13,
    "start_time": "2021-10-17T11:07:50.459Z"
   },
   {
    "duration": 3,
    "start_time": "2021-10-17T11:07:50.474Z"
   },
   {
    "duration": 2971,
    "start_time": "2021-10-17T11:07:50.478Z"
   },
   {
    "duration": 3,
    "start_time": "2021-10-17T11:07:53.450Z"
   },
   {
    "duration": 20,
    "start_time": "2021-10-17T11:07:53.483Z"
   },
   {
    "duration": 12,
    "start_time": "2021-10-17T11:10:43.431Z"
   },
   {
    "duration": 9,
    "start_time": "2021-10-17T11:11:20.932Z"
   },
   {
    "duration": 12,
    "start_time": "2021-10-17T11:11:36.597Z"
   },
   {
    "duration": 8,
    "start_time": "2021-10-17T11:22:07.182Z"
   },
   {
    "duration": 267,
    "start_time": "2021-10-17T11:25:30.315Z"
   },
   {
    "duration": 5,
    "start_time": "2021-10-17T11:29:25.164Z"
   },
   {
    "duration": 10,
    "start_time": "2021-10-17T11:29:47.432Z"
   },
   {
    "duration": 10,
    "start_time": "2021-10-17T11:30:08.122Z"
   },
   {
    "duration": 4,
    "start_time": "2021-10-17T11:30:15.054Z"
   },
   {
    "duration": 4,
    "start_time": "2021-10-17T11:30:18.776Z"
   },
   {
    "duration": 4,
    "start_time": "2021-10-17T11:37:15.447Z"
   },
   {
    "duration": 16,
    "start_time": "2021-10-17T11:39:16.518Z"
   },
   {
    "duration": 11,
    "start_time": "2021-10-17T11:40:29.012Z"
   },
   {
    "duration": 8,
    "start_time": "2021-10-17T11:44:38.657Z"
   },
   {
    "duration": 10,
    "start_time": "2021-10-17T11:44:56.001Z"
   },
   {
    "duration": 13,
    "start_time": "2021-10-17T11:46:20.352Z"
   },
   {
    "duration": 96,
    "start_time": "2021-10-17T13:33:18.644Z"
   },
   {
    "duration": 5,
    "start_time": "2021-10-17T13:41:40.288Z"
   },
   {
    "duration": 11,
    "start_time": "2021-10-17T13:42:28.766Z"
   },
   {
    "duration": 8,
    "start_time": "2021-10-17T13:44:23.727Z"
   },
   {
    "duration": 12,
    "start_time": "2021-10-17T13:44:35.630Z"
   },
   {
    "duration": 14,
    "start_time": "2021-10-17T13:44:40.637Z"
   },
   {
    "duration": 9,
    "start_time": "2021-10-17T13:44:52.015Z"
   },
   {
    "duration": 9,
    "start_time": "2021-10-17T13:45:28.539Z"
   },
   {
    "duration": 8,
    "start_time": "2021-10-17T13:45:42.220Z"
   },
   {
    "duration": 9,
    "start_time": "2021-10-17T13:47:06.011Z"
   },
   {
    "duration": 8,
    "start_time": "2021-10-17T13:47:17.146Z"
   },
   {
    "duration": 10,
    "start_time": "2021-10-17T13:47:19.850Z"
   },
   {
    "duration": 7,
    "start_time": "2021-10-17T13:48:36.410Z"
   },
   {
    "duration": 10,
    "start_time": "2021-10-17T13:48:57.210Z"
   },
   {
    "duration": 5,
    "start_time": "2021-10-17T13:55:35.078Z"
   },
   {
    "duration": 5,
    "start_time": "2021-10-17T13:56:15.925Z"
   },
   {
    "duration": 4,
    "start_time": "2021-10-17T13:57:47.142Z"
   },
   {
    "duration": 3,
    "start_time": "2021-10-17T13:58:24.678Z"
   },
   {
    "duration": 3,
    "start_time": "2021-10-17T13:58:33.301Z"
   },
   {
    "duration": 3,
    "start_time": "2021-10-17T13:58:46.596Z"
   },
   {
    "duration": 3,
    "start_time": "2021-10-17T13:58:55.908Z"
   },
   {
    "duration": 3,
    "start_time": "2021-10-17T13:59:05.508Z"
   },
   {
    "duration": 5,
    "start_time": "2021-10-17T13:59:14.293Z"
   },
   {
    "duration": 8,
    "start_time": "2021-10-17T13:59:22.380Z"
   },
   {
    "duration": 5,
    "start_time": "2021-10-17T13:59:28.259Z"
   },
   {
    "duration": 5,
    "start_time": "2021-10-17T14:00:29.956Z"
   },
   {
    "duration": 275,
    "start_time": "2021-10-17T14:07:14.368Z"
   },
   {
    "duration": 3,
    "start_time": "2021-10-17T14:07:22.198Z"
   },
   {
    "duration": 55,
    "start_time": "2021-10-17T14:07:22.203Z"
   },
   {
    "duration": 13,
    "start_time": "2021-10-17T14:07:22.260Z"
   },
   {
    "duration": 16,
    "start_time": "2021-10-17T14:07:22.275Z"
   },
   {
    "duration": 9,
    "start_time": "2021-10-17T14:07:22.293Z"
   },
   {
    "duration": 4,
    "start_time": "2021-10-17T14:07:22.304Z"
   },
   {
    "duration": 39,
    "start_time": "2021-10-17T14:07:22.310Z"
   },
   {
    "duration": 5,
    "start_time": "2021-10-17T14:07:22.351Z"
   },
   {
    "duration": 16,
    "start_time": "2021-10-17T14:07:22.357Z"
   },
   {
    "duration": 12,
    "start_time": "2021-10-17T14:07:22.375Z"
   },
   {
    "duration": 24,
    "start_time": "2021-10-17T14:07:22.389Z"
   },
   {
    "duration": 36,
    "start_time": "2021-10-17T14:07:22.415Z"
   },
   {
    "duration": 14,
    "start_time": "2021-10-17T14:07:22.453Z"
   },
   {
    "duration": 7,
    "start_time": "2021-10-17T14:07:22.469Z"
   },
   {
    "duration": 18,
    "start_time": "2021-10-17T14:07:22.478Z"
   },
   {
    "duration": 34,
    "start_time": "2021-10-17T14:07:22.498Z"
   },
   {
    "duration": 14,
    "start_time": "2021-10-17T14:07:22.533Z"
   },
   {
    "duration": 13,
    "start_time": "2021-10-17T14:07:22.549Z"
   },
   {
    "duration": 19,
    "start_time": "2021-10-17T14:07:22.565Z"
   },
   {
    "duration": 31,
    "start_time": "2021-10-17T14:07:22.586Z"
   },
   {
    "duration": 4040,
    "start_time": "2021-10-17T14:07:22.619Z"
   },
   {
    "duration": 11,
    "start_time": "2021-10-17T14:07:26.661Z"
   },
   {
    "duration": 18,
    "start_time": "2021-10-17T14:07:26.674Z"
   },
   {
    "duration": 20,
    "start_time": "2021-10-17T14:07:26.694Z"
   },
   {
    "duration": 16,
    "start_time": "2021-10-17T14:07:26.716Z"
   },
   {
    "duration": 17,
    "start_time": "2021-10-17T14:07:26.734Z"
   },
   {
    "duration": 20,
    "start_time": "2021-10-17T14:07:26.753Z"
   },
   {
    "duration": 7,
    "start_time": "2021-10-17T14:07:26.775Z"
   },
   {
    "duration": 10,
    "start_time": "2021-10-17T14:07:26.784Z"
   },
   {
    "duration": 14,
    "start_time": "2021-10-17T14:07:26.796Z"
   },
   {
    "duration": 35,
    "start_time": "2021-10-17T14:07:26.813Z"
   },
   {
    "duration": 274,
    "start_time": "2021-10-17T14:08:23.697Z"
   },
   {
    "duration": 3,
    "start_time": "2021-10-17T14:08:44.430Z"
   },
   {
    "duration": 53,
    "start_time": "2021-10-17T14:08:44.436Z"
   },
   {
    "duration": 12,
    "start_time": "2021-10-17T14:08:44.491Z"
   },
   {
    "duration": 18,
    "start_time": "2021-10-17T14:08:44.505Z"
   },
   {
    "duration": 25,
    "start_time": "2021-10-17T14:08:44.526Z"
   },
   {
    "duration": 5,
    "start_time": "2021-10-17T14:08:44.552Z"
   },
   {
    "duration": 16,
    "start_time": "2021-10-17T14:08:44.559Z"
   },
   {
    "duration": 5,
    "start_time": "2021-10-17T14:08:44.577Z"
   },
   {
    "duration": 16,
    "start_time": "2021-10-17T14:08:44.585Z"
   },
   {
    "duration": 10,
    "start_time": "2021-10-17T14:08:44.603Z"
   },
   {
    "duration": 14,
    "start_time": "2021-10-17T14:08:44.645Z"
   },
   {
    "duration": 16,
    "start_time": "2021-10-17T14:08:44.661Z"
   },
   {
    "duration": 14,
    "start_time": "2021-10-17T14:08:44.679Z"
   },
   {
    "duration": 7,
    "start_time": "2021-10-17T14:08:44.694Z"
   },
   {
    "duration": 44,
    "start_time": "2021-10-17T14:08:44.703Z"
   },
   {
    "duration": 28,
    "start_time": "2021-10-17T14:08:44.749Z"
   },
   {
    "duration": 9,
    "start_time": "2021-10-17T14:08:44.779Z"
   },
   {
    "duration": 9,
    "start_time": "2021-10-17T14:08:44.790Z"
   },
   {
    "duration": 8,
    "start_time": "2021-10-17T14:08:44.801Z"
   },
   {
    "duration": 39,
    "start_time": "2021-10-17T14:08:44.811Z"
   },
   {
    "duration": 3758,
    "start_time": "2021-10-17T14:08:44.851Z"
   },
   {
    "duration": 12,
    "start_time": "2021-10-17T14:08:48.611Z"
   },
   {
    "duration": 39,
    "start_time": "2021-10-17T14:08:48.625Z"
   },
   {
    "duration": 9,
    "start_time": "2021-10-17T14:08:48.667Z"
   },
   {
    "duration": 15,
    "start_time": "2021-10-17T14:08:48.677Z"
   },
   {
    "duration": 8,
    "start_time": "2021-10-17T14:08:48.695Z"
   },
   {
    "duration": 13,
    "start_time": "2021-10-17T14:08:48.705Z"
   },
   {
    "duration": 25,
    "start_time": "2021-10-17T14:08:48.720Z"
   },
   {
    "duration": 4,
    "start_time": "2021-10-17T14:08:48.747Z"
   },
   {
    "duration": 11,
    "start_time": "2021-10-17T14:08:48.752Z"
   },
   {
    "duration": 21,
    "start_time": "2021-10-17T14:08:48.765Z"
   },
   {
    "duration": 10,
    "start_time": "2021-10-17T14:11:47.965Z"
   },
   {
    "duration": 10,
    "start_time": "2021-10-17T14:12:13.189Z"
   },
   {
    "duration": 13,
    "start_time": "2021-10-17T14:14:53.931Z"
   },
   {
    "duration": 12,
    "start_time": "2021-10-17T14:15:07.531Z"
   },
   {
    "duration": 244,
    "start_time": "2021-10-17T14:21:55.335Z"
   },
   {
    "duration": 250,
    "start_time": "2021-10-17T14:25:08.925Z"
   },
   {
    "duration": 6,
    "start_time": "2021-10-17T14:25:23.445Z"
   },
   {
    "duration": 5,
    "start_time": "2021-10-17T14:25:59.479Z"
   },
   {
    "duration": 3,
    "start_time": "2021-10-17T14:28:09.670Z"
   },
   {
    "duration": 2784,
    "start_time": "2021-10-17T14:28:12.617Z"
   },
   {
    "duration": 4,
    "start_time": "2021-10-17T14:30:29.571Z"
   },
   {
    "duration": 4,
    "start_time": "2021-10-17T14:31:01.570Z"
   },
   {
    "duration": 5,
    "start_time": "2021-10-17T14:31:27.105Z"
   },
   {
    "duration": 5,
    "start_time": "2021-10-17T14:31:54.818Z"
   },
   {
    "duration": 2965,
    "start_time": "2021-10-17T14:34:43.233Z"
   },
   {
    "duration": 2685,
    "start_time": "2021-10-17T14:35:44.448Z"
   },
   {
    "duration": 4,
    "start_time": "2021-10-17T14:44:29.338Z"
   },
   {
    "duration": 20,
    "start_time": "2021-10-17T14:44:32.125Z"
   },
   {
    "duration": 21,
    "start_time": "2021-10-17T14:46:19.964Z"
   },
   {
    "duration": 11,
    "start_time": "2021-10-17T14:52:03.271Z"
   },
   {
    "duration": 7,
    "start_time": "2021-10-17T14:52:17.895Z"
   },
   {
    "duration": 9,
    "start_time": "2021-10-17T14:52:52.102Z"
   },
   {
    "duration": 8,
    "start_time": "2021-10-17T14:54:01.573Z"
   },
   {
    "duration": 9,
    "start_time": "2021-10-17T14:55:06.807Z"
   },
   {
    "duration": 8,
    "start_time": "2021-10-17T14:55:29.509Z"
   },
   {
    "duration": 13,
    "start_time": "2021-10-17T14:55:39.846Z"
   },
   {
    "duration": 12,
    "start_time": "2021-10-17T14:57:36.294Z"
   },
   {
    "duration": 2150,
    "start_time": "2021-10-19T18:10:39.118Z"
   },
   {
    "duration": 3,
    "start_time": "2021-10-19T18:10:51.107Z"
   },
   {
    "duration": 69,
    "start_time": "2021-10-19T18:10:51.113Z"
   },
   {
    "duration": 34,
    "start_time": "2021-10-19T18:10:51.186Z"
   },
   {
    "duration": 50,
    "start_time": "2021-10-19T18:10:51.224Z"
   },
   {
    "duration": 18,
    "start_time": "2021-10-19T18:10:51.276Z"
   },
   {
    "duration": 7,
    "start_time": "2021-10-19T18:10:51.297Z"
   },
   {
    "duration": 61,
    "start_time": "2021-10-19T18:10:51.307Z"
   },
   {
    "duration": 8,
    "start_time": "2021-10-19T18:10:51.373Z"
   },
   {
    "duration": 24,
    "start_time": "2021-10-19T18:10:51.384Z"
   },
   {
    "duration": 22,
    "start_time": "2021-10-19T18:10:51.411Z"
   },
   {
    "duration": 30,
    "start_time": "2021-10-19T18:10:51.468Z"
   },
   {
    "duration": 26,
    "start_time": "2021-10-19T18:10:51.500Z"
   },
   {
    "duration": 49,
    "start_time": "2021-10-19T18:10:51.528Z"
   },
   {
    "duration": 11,
    "start_time": "2021-10-19T18:10:51.580Z"
   },
   {
    "duration": 18,
    "start_time": "2021-10-19T18:10:51.595Z"
   },
   {
    "duration": 65,
    "start_time": "2021-10-19T18:10:51.616Z"
   },
   {
    "duration": 13,
    "start_time": "2021-10-19T18:10:51.684Z"
   },
   {
    "duration": 14,
    "start_time": "2021-10-19T18:10:51.700Z"
   },
   {
    "duration": 11,
    "start_time": "2021-10-19T18:10:51.716Z"
   },
   {
    "duration": 40,
    "start_time": "2021-10-19T18:10:51.729Z"
   },
   {
    "duration": 5646,
    "start_time": "2021-10-19T18:10:51.771Z"
   },
   {
    "duration": 17,
    "start_time": "2021-10-19T18:10:57.419Z"
   },
   {
    "duration": 41,
    "start_time": "2021-10-19T18:10:57.442Z"
   },
   {
    "duration": 13,
    "start_time": "2021-10-19T18:10:57.485Z"
   },
   {
    "duration": 16,
    "start_time": "2021-10-19T18:10:57.500Z"
   },
   {
    "duration": 48,
    "start_time": "2021-10-19T18:10:57.519Z"
   },
   {
    "duration": 16,
    "start_time": "2021-10-19T18:10:57.570Z"
   },
   {
    "duration": 7,
    "start_time": "2021-10-19T18:10:57.589Z"
   },
   {
    "duration": 7,
    "start_time": "2021-10-19T18:10:57.600Z"
   },
   {
    "duration": 10,
    "start_time": "2021-10-19T18:10:57.610Z"
   },
   {
    "duration": 33,
    "start_time": "2021-10-19T18:10:57.668Z"
   },
   {
    "duration": 14,
    "start_time": "2021-10-19T18:10:57.704Z"
   },
   {
    "duration": 49,
    "start_time": "2021-10-19T18:10:57.720Z"
   },
   {
    "duration": 20,
    "start_time": "2021-10-19T18:10:57.771Z"
   },
   {
    "duration": 18,
    "start_time": "2021-10-19T18:10:57.793Z"
   },
   {
    "duration": 5,
    "start_time": "2021-10-19T18:10:57.813Z"
   },
   {
    "duration": 11,
    "start_time": "2021-10-19T18:10:57.820Z"
   },
   {
    "duration": 4034,
    "start_time": "2021-10-19T18:10:57.833Z"
   },
   {
    "duration": 4,
    "start_time": "2021-10-19T18:11:01.870Z"
   },
   {
    "duration": 49,
    "start_time": "2021-10-19T18:11:01.877Z"
   },
   {
    "duration": 19,
    "start_time": "2021-10-19T18:11:01.928Z"
   },
   {
    "duration": 29,
    "start_time": "2021-10-19T18:11:01.949Z"
   },
   {
    "duration": 18,
    "start_time": "2021-10-19T18:11:01.981Z"
   },
   {
    "duration": 1131,
    "start_time": "2021-10-19T18:11:02.001Z"
   },
   {
    "duration": 6,
    "start_time": "2021-10-19T18:14:17.369Z"
   },
   {
    "duration": 5,
    "start_time": "2021-10-19T18:15:56.267Z"
   },
   {
    "duration": 7,
    "start_time": "2021-10-19T18:16:56.400Z"
   },
   {
    "duration": 4,
    "start_time": "2021-10-19T18:20:34.256Z"
   },
   {
    "duration": 69,
    "start_time": "2021-10-19T18:20:34.263Z"
   },
   {
    "duration": 35,
    "start_time": "2021-10-19T18:20:34.335Z"
   },
   {
    "duration": 18,
    "start_time": "2021-10-19T18:20:34.372Z"
   },
   {
    "duration": 12,
    "start_time": "2021-10-19T18:20:34.393Z"
   },
   {
    "duration": 6,
    "start_time": "2021-10-19T18:20:34.407Z"
   },
   {
    "duration": 60,
    "start_time": "2021-10-19T18:20:34.417Z"
   },
   {
    "duration": 7,
    "start_time": "2021-10-19T18:20:34.480Z"
   },
   {
    "duration": 20,
    "start_time": "2021-10-19T18:20:34.489Z"
   },
   {
    "duration": 18,
    "start_time": "2021-10-19T18:20:34.512Z"
   },
   {
    "duration": 5,
    "start_time": "2021-10-19T18:20:34.568Z"
   },
   {
    "duration": 5,
    "start_time": "2021-10-19T18:20:34.576Z"
   },
   {
    "duration": 23,
    "start_time": "2021-10-19T18:20:34.583Z"
   },
   {
    "duration": 63,
    "start_time": "2021-10-19T18:20:34.608Z"
   },
   {
    "duration": 33,
    "start_time": "2021-10-19T18:20:34.675Z"
   },
   {
    "duration": 15,
    "start_time": "2021-10-19T18:20:34.711Z"
   },
   {
    "duration": 47,
    "start_time": "2021-10-19T18:20:34.729Z"
   },
   {
    "duration": 31,
    "start_time": "2021-10-19T18:20:34.779Z"
   },
   {
    "duration": 12,
    "start_time": "2021-10-19T18:20:34.815Z"
   },
   {
    "duration": 39,
    "start_time": "2021-10-19T18:20:34.830Z"
   },
   {
    "duration": 10,
    "start_time": "2021-10-19T18:20:34.872Z"
   },
   {
    "duration": 39,
    "start_time": "2021-10-19T18:20:34.885Z"
   },
   {
    "duration": 6208,
    "start_time": "2021-10-19T18:20:34.927Z"
   },
   {
    "duration": 31,
    "start_time": "2021-10-19T18:20:41.138Z"
   },
   {
    "duration": 21,
    "start_time": "2021-10-19T18:20:41.172Z"
   },
   {
    "duration": 18,
    "start_time": "2021-10-19T18:20:41.196Z"
   },
   {
    "duration": 56,
    "start_time": "2021-10-19T18:20:41.216Z"
   },
   {
    "duration": 12,
    "start_time": "2021-10-19T18:20:41.275Z"
   },
   {
    "duration": 21,
    "start_time": "2021-10-19T18:20:41.290Z"
   },
   {
    "duration": 6,
    "start_time": "2021-10-19T18:20:41.314Z"
   },
   {
    "duration": 49,
    "start_time": "2021-10-19T18:20:41.323Z"
   },
   {
    "duration": 15,
    "start_time": "2021-10-19T18:20:41.374Z"
   },
   {
    "duration": 35,
    "start_time": "2021-10-19T18:20:41.391Z"
   },
   {
    "duration": 42,
    "start_time": "2021-10-19T18:20:41.428Z"
   },
   {
    "duration": 15,
    "start_time": "2021-10-19T18:20:41.473Z"
   },
   {
    "duration": 18,
    "start_time": "2021-10-19T18:20:41.490Z"
   },
   {
    "duration": 12,
    "start_time": "2021-10-19T18:20:41.510Z"
   },
   {
    "duration": 5,
    "start_time": "2021-10-19T18:20:41.567Z"
   },
   {
    "duration": 17,
    "start_time": "2021-10-19T18:20:41.575Z"
   },
   {
    "duration": 4323,
    "start_time": "2021-10-19T18:20:41.595Z"
   },
   {
    "duration": 5,
    "start_time": "2021-10-19T18:20:45.921Z"
   },
   {
    "duration": 53,
    "start_time": "2021-10-19T18:20:45.929Z"
   },
   {
    "duration": 16,
    "start_time": "2021-10-19T18:20:45.985Z"
   },
   {
    "duration": 14,
    "start_time": "2021-10-19T18:20:46.003Z"
   },
   {
    "duration": 18,
    "start_time": "2021-10-19T18:20:46.019Z"
   },
   {
    "duration": 7,
    "start_time": "2021-10-19T18:20:46.078Z"
   },
   {
    "duration": 265,
    "start_time": "2021-10-19T18:21:28.263Z"
   },
   {
    "duration": 214,
    "start_time": "2021-10-19T18:25:32.934Z"
   },
   {
    "duration": 259,
    "start_time": "2021-10-19T18:26:03.749Z"
   },
   {
    "duration": 5,
    "start_time": "2021-10-19T18:26:40.997Z"
   },
   {
    "duration": 201,
    "start_time": "2021-10-19T18:28:10.607Z"
   },
   {
    "duration": 201,
    "start_time": "2021-10-19T18:28:13.620Z"
   },
   {
    "duration": 207,
    "start_time": "2021-10-19T18:28:17.796Z"
   },
   {
    "duration": 308,
    "start_time": "2021-10-19T18:28:20.999Z"
   },
   {
    "duration": 177,
    "start_time": "2021-10-19T18:28:25.102Z"
   },
   {
    "duration": 211,
    "start_time": "2021-10-19T18:28:29.906Z"
   },
   {
    "duration": 11,
    "start_time": "2021-10-19T18:38:42.410Z"
   },
   {
    "duration": 205,
    "start_time": "2021-10-19T18:40:45.917Z"
   },
   {
    "duration": 15,
    "start_time": "2021-10-19T18:41:15.502Z"
   },
   {
    "duration": 76,
    "start_time": "2021-10-19T18:42:47.883Z"
   },
   {
    "duration": 321,
    "start_time": "2021-10-19T18:42:52.763Z"
   },
   {
    "duration": 11,
    "start_time": "2021-10-19T18:43:30.637Z"
   },
   {
    "duration": 9,
    "start_time": "2021-10-19T18:43:58.283Z"
   },
   {
    "duration": 3,
    "start_time": "2021-10-19T18:44:31.595Z"
   },
   {
    "duration": 4,
    "start_time": "2021-10-19T18:44:35.962Z"
   },
   {
    "duration": 7,
    "start_time": "2021-10-19T18:52:54.167Z"
   },
   {
    "duration": 10,
    "start_time": "2021-10-19T18:56:40.813Z"
   },
   {
    "duration": 7,
    "start_time": "2021-10-19T18:59:17.554Z"
   },
   {
    "duration": 129,
    "start_time": "2021-10-19T19:12:19.963Z"
   },
   {
    "duration": 288,
    "start_time": "2021-10-19T19:14:10.601Z"
   },
   {
    "duration": 202,
    "start_time": "2021-10-19T19:15:23.483Z"
   },
   {
    "duration": 325,
    "start_time": "2021-10-19T19:16:06.313Z"
   },
   {
    "duration": 8,
    "start_time": "2021-10-19T19:17:55.092Z"
   },
   {
    "duration": 9,
    "start_time": "2021-10-19T19:18:00.792Z"
   },
   {
    "duration": 3,
    "start_time": "2021-10-19T19:18:05.320Z"
   },
   {
    "duration": 97,
    "start_time": "2021-10-19T19:18:05.326Z"
   },
   {
    "duration": 51,
    "start_time": "2021-10-19T19:18:05.427Z"
   },
   {
    "duration": 17,
    "start_time": "2021-10-19T19:18:05.482Z"
   },
   {
    "duration": 18,
    "start_time": "2021-10-19T19:18:05.501Z"
   },
   {
    "duration": 54,
    "start_time": "2021-10-19T19:18:05.521Z"
   },
   {
    "duration": 17,
    "start_time": "2021-10-19T19:18:05.580Z"
   },
   {
    "duration": 9,
    "start_time": "2021-10-19T19:18:05.600Z"
   },
   {
    "duration": 64,
    "start_time": "2021-10-19T19:18:05.612Z"
   },
   {
    "duration": 23,
    "start_time": "2021-10-19T19:18:05.679Z"
   },
   {
    "duration": 12,
    "start_time": "2021-10-19T19:18:05.706Z"
   },
   {
    "duration": 12,
    "start_time": "2021-10-19T19:18:05.721Z"
   },
   {
    "duration": 63,
    "start_time": "2021-10-19T19:18:05.736Z"
   },
   {
    "duration": 26,
    "start_time": "2021-10-19T19:18:05.802Z"
   },
   {
    "duration": 22,
    "start_time": "2021-10-19T19:18:05.831Z"
   },
   {
    "duration": 10,
    "start_time": "2021-10-19T19:18:05.867Z"
   },
   {
    "duration": 18,
    "start_time": "2021-10-19T19:18:05.880Z"
   },
   {
    "duration": 66,
    "start_time": "2021-10-19T19:18:05.901Z"
   },
   {
    "duration": 15,
    "start_time": "2021-10-19T19:18:05.977Z"
   },
   {
    "duration": 17,
    "start_time": "2021-10-19T19:18:05.995Z"
   },
   {
    "duration": 12,
    "start_time": "2021-10-19T19:18:06.014Z"
   },
   {
    "duration": 75,
    "start_time": "2021-10-19T19:18:06.028Z"
   },
   {
    "duration": 6207,
    "start_time": "2021-10-19T19:18:06.106Z"
   },
   {
    "duration": 29,
    "start_time": "2021-10-19T19:18:12.317Z"
   },
   {
    "duration": 40,
    "start_time": "2021-10-19T19:18:12.350Z"
   },
   {
    "duration": 31,
    "start_time": "2021-10-19T19:18:12.393Z"
   },
   {
    "duration": 18,
    "start_time": "2021-10-19T19:18:12.427Z"
   },
   {
    "duration": 37,
    "start_time": "2021-10-19T19:18:12.448Z"
   },
   {
    "duration": 18,
    "start_time": "2021-10-19T19:18:12.488Z"
   },
   {
    "duration": 7,
    "start_time": "2021-10-19T19:18:12.509Z"
   },
   {
    "duration": 53,
    "start_time": "2021-10-19T19:18:12.519Z"
   },
   {
    "duration": 13,
    "start_time": "2021-10-19T19:18:12.575Z"
   },
   {
    "duration": 34,
    "start_time": "2021-10-19T19:18:12.590Z"
   },
   {
    "duration": 50,
    "start_time": "2021-10-19T19:18:12.626Z"
   },
   {
    "duration": 22,
    "start_time": "2021-10-19T19:18:12.680Z"
   },
   {
    "duration": 24,
    "start_time": "2021-10-19T19:18:12.706Z"
   },
   {
    "duration": 44,
    "start_time": "2021-10-19T19:18:12.732Z"
   },
   {
    "duration": 5,
    "start_time": "2021-10-19T19:18:12.780Z"
   },
   {
    "duration": 11,
    "start_time": "2021-10-19T19:18:12.788Z"
   },
   {
    "duration": 4379,
    "start_time": "2021-10-19T19:18:12.802Z"
   },
   {
    "duration": 5,
    "start_time": "2021-10-19T19:18:17.183Z"
   },
   {
    "duration": 48,
    "start_time": "2021-10-19T19:18:17.191Z"
   },
   {
    "duration": 39,
    "start_time": "2021-10-19T19:18:17.241Z"
   },
   {
    "duration": 22,
    "start_time": "2021-10-19T19:18:17.283Z"
   },
   {
    "duration": 18,
    "start_time": "2021-10-19T19:18:17.308Z"
   },
   {
    "duration": 10,
    "start_time": "2021-10-19T19:18:17.328Z"
   },
   {
    "duration": 256,
    "start_time": "2021-10-19T19:18:17.366Z"
   },
   {
    "duration": 360,
    "start_time": "2021-10-19T19:18:17.624Z"
   },
   {
    "duration": 9,
    "start_time": "2021-10-19T19:18:17.987Z"
   },
   {
    "duration": 289,
    "start_time": "2021-10-19T19:18:18.267Z"
   },
   {
    "duration": 250,
    "start_time": "2021-10-19T19:18:18.819Z"
   },
   {
    "duration": 7,
    "start_time": "2021-10-19T19:18:26.283Z"
   },
   {
    "duration": 9,
    "start_time": "2021-10-19T19:18:54.949Z"
   },
   {
    "duration": 11,
    "start_time": "2021-10-19T19:19:19.767Z"
   },
   {
    "duration": 7,
    "start_time": "2021-10-19T19:19:45.559Z"
   },
   {
    "duration": -114,
    "start_time": "2021-10-19T19:39:04.789Z"
   },
   {
    "duration": 4,
    "start_time": "2021-10-19T19:39:08.854Z"
   },
   {
    "duration": 117,
    "start_time": "2021-10-19T19:39:08.862Z"
   },
   {
    "duration": 21,
    "start_time": "2021-10-19T19:39:08.981Z"
   },
   {
    "duration": 23,
    "start_time": "2021-10-19T19:39:09.005Z"
   },
   {
    "duration": 38,
    "start_time": "2021-10-19T19:39:09.031Z"
   },
   {
    "duration": 6,
    "start_time": "2021-10-19T19:39:09.072Z"
   },
   {
    "duration": 14,
    "start_time": "2021-10-19T19:39:09.082Z"
   },
   {
    "duration": 6,
    "start_time": "2021-10-19T19:39:09.099Z"
   },
   {
    "duration": 66,
    "start_time": "2021-10-19T19:39:09.108Z"
   },
   {
    "duration": 16,
    "start_time": "2021-10-19T19:39:09.176Z"
   },
   {
    "duration": 8,
    "start_time": "2021-10-19T19:39:09.195Z"
   },
   {
    "duration": 6,
    "start_time": "2021-10-19T19:39:09.205Z"
   },
   {
    "duration": 61,
    "start_time": "2021-10-19T19:39:09.214Z"
   },
   {
    "duration": 25,
    "start_time": "2021-10-19T19:39:09.277Z"
   },
   {
    "duration": 22,
    "start_time": "2021-10-19T19:39:09.304Z"
   },
   {
    "duration": 40,
    "start_time": "2021-10-19T19:39:09.329Z"
   },
   {
    "duration": 17,
    "start_time": "2021-10-19T19:39:09.371Z"
   },
   {
    "duration": 32,
    "start_time": "2021-10-19T19:39:09.391Z"
   },
   {
    "duration": 37,
    "start_time": "2021-10-19T19:39:09.430Z"
   },
   {
    "duration": 11,
    "start_time": "2021-10-19T19:39:09.470Z"
   },
   {
    "duration": 9,
    "start_time": "2021-10-19T19:39:09.484Z"
   },
   {
    "duration": 34,
    "start_time": "2021-10-19T19:39:09.495Z"
   },
   {
    "duration": 6281,
    "start_time": "2021-10-19T19:39:09.531Z"
   },
   {
    "duration": 31,
    "start_time": "2021-10-19T19:39:15.816Z"
   },
   {
    "duration": 36,
    "start_time": "2021-10-19T19:39:15.851Z"
   },
   {
    "duration": 14,
    "start_time": "2021-10-19T19:39:15.890Z"
   },
   {
    "duration": 21,
    "start_time": "2021-10-19T19:39:15.907Z"
   },
   {
    "duration": 42,
    "start_time": "2021-10-19T19:39:15.930Z"
   },
   {
    "duration": 20,
    "start_time": "2021-10-19T19:39:15.976Z"
   },
   {
    "duration": 7,
    "start_time": "2021-10-19T19:39:15.998Z"
   },
   {
    "duration": 8,
    "start_time": "2021-10-19T19:39:16.009Z"
   },
   {
    "duration": 8,
    "start_time": "2021-10-19T19:39:16.069Z"
   },
   {
    "duration": 54,
    "start_time": "2021-10-19T19:39:16.080Z"
   },
   {
    "duration": 19,
    "start_time": "2021-10-19T19:39:16.168Z"
   },
   {
    "duration": 20,
    "start_time": "2021-10-19T19:39:16.189Z"
   },
   {
    "duration": 58,
    "start_time": "2021-10-19T19:39:16.212Z"
   },
   {
    "duration": 8,
    "start_time": "2021-10-19T19:39:16.273Z"
   },
   {
    "duration": 6,
    "start_time": "2021-10-19T19:39:16.284Z"
   },
   {
    "duration": 17,
    "start_time": "2021-10-19T19:39:16.293Z"
   },
   {
    "duration": 4430,
    "start_time": "2021-10-19T19:39:16.312Z"
   },
   {
    "duration": 23,
    "start_time": "2021-10-19T19:39:20.744Z"
   },
   {
    "duration": 36,
    "start_time": "2021-10-19T19:39:20.771Z"
   },
   {
    "duration": 18,
    "start_time": "2021-10-19T19:39:20.810Z"
   },
   {
    "duration": 54,
    "start_time": "2021-10-19T19:39:20.831Z"
   },
   {
    "duration": 29,
    "start_time": "2021-10-19T19:39:20.888Z"
   },
   {
    "duration": 9,
    "start_time": "2021-10-19T19:39:20.920Z"
   },
   {
    "duration": 379,
    "start_time": "2021-10-19T19:39:20.933Z"
   },
   {
    "duration": 227,
    "start_time": "2021-10-19T19:39:21.314Z"
   },
   {
    "duration": 22,
    "start_time": "2021-10-19T19:39:21.544Z"
   },
   {
    "duration": 232,
    "start_time": "2021-10-19T19:39:21.570Z"
   },
   {
    "duration": 230,
    "start_time": "2021-10-19T19:39:21.804Z"
   },
   {
    "duration": 7,
    "start_time": "2021-10-19T19:39:22.036Z"
   },
   {
    "duration": -113,
    "start_time": "2021-10-19T19:39:28.735Z"
   },
   {
    "duration": 6605,
    "start_time": "2021-10-19T19:39:28.702Z"
   },
   {
    "duration": 18,
    "start_time": "2021-10-19T19:39:58.044Z"
   },
   {
    "duration": 13,
    "start_time": "2021-10-19T19:40:03.196Z"
   },
   {
    "duration": 446,
    "start_time": "2021-10-19T19:40:20.426Z"
   },
   {
    "duration": 5,
    "start_time": "2021-10-19T19:40:55.018Z"
   },
   {
    "duration": 14,
    "start_time": "2021-10-19T19:41:19.275Z"
   },
   {
    "duration": 8,
    "start_time": "2021-10-19T19:41:36.507Z"
   },
   {
    "duration": 6,
    "start_time": "2021-10-19T19:42:04.441Z"
   },
   {
    "duration": 8,
    "start_time": "2021-10-19T19:42:16.363Z"
   },
   {
    "duration": 6,
    "start_time": "2021-10-19T19:42:34.730Z"
   },
   {
    "duration": 7,
    "start_time": "2021-10-19T19:42:47.913Z"
   },
   {
    "duration": -121,
    "start_time": "2021-10-19T19:44:06.121Z"
   },
   {
    "duration": 4,
    "start_time": "2021-10-19T19:44:14.825Z"
   },
   {
    "duration": 68,
    "start_time": "2021-10-19T19:44:14.832Z"
   },
   {
    "duration": 20,
    "start_time": "2021-10-19T19:44:14.903Z"
   },
   {
    "duration": 46,
    "start_time": "2021-10-19T19:44:14.926Z"
   },
   {
    "duration": 14,
    "start_time": "2021-10-19T19:44:14.975Z"
   },
   {
    "duration": 8,
    "start_time": "2021-10-19T19:44:14.992Z"
   },
   {
    "duration": 63,
    "start_time": "2021-10-19T19:44:15.005Z"
   },
   {
    "duration": 7,
    "start_time": "2021-10-19T19:44:15.071Z"
   },
   {
    "duration": 16,
    "start_time": "2021-10-19T19:44:15.081Z"
   },
   {
    "duration": 17,
    "start_time": "2021-10-19T19:44:15.099Z"
   },
   {
    "duration": 49,
    "start_time": "2021-10-19T19:44:15.119Z"
   },
   {
    "duration": 6,
    "start_time": "2021-10-19T19:44:15.171Z"
   },
   {
    "duration": 24,
    "start_time": "2021-10-19T19:44:15.179Z"
   },
   {
    "duration": 24,
    "start_time": "2021-10-19T19:44:15.206Z"
   },
   {
    "duration": 55,
    "start_time": "2021-10-19T19:44:15.233Z"
   },
   {
    "duration": 10,
    "start_time": "2021-10-19T19:44:15.291Z"
   },
   {
    "duration": 16,
    "start_time": "2021-10-19T19:44:15.304Z"
   },
   {
    "duration": 64,
    "start_time": "2021-10-19T19:44:15.323Z"
   },
   {
    "duration": 11,
    "start_time": "2021-10-19T19:44:15.393Z"
   },
   {
    "duration": 12,
    "start_time": "2021-10-19T19:44:15.408Z"
   },
   {
    "duration": 13,
    "start_time": "2021-10-19T19:44:15.423Z"
   },
   {
    "duration": 55,
    "start_time": "2021-10-19T19:44:15.438Z"
   },
   {
    "duration": 5789,
    "start_time": "2021-10-19T19:44:15.495Z"
   },
   {
    "duration": 18,
    "start_time": "2021-10-19T19:44:21.287Z"
   },
   {
    "duration": 23,
    "start_time": "2021-10-19T19:44:21.308Z"
   },
   {
    "duration": 38,
    "start_time": "2021-10-19T19:44:21.333Z"
   },
   {
    "duration": 18,
    "start_time": "2021-10-19T19:44:21.374Z"
   },
   {
    "duration": 12,
    "start_time": "2021-10-19T19:44:21.394Z"
   },
   {
    "duration": 65,
    "start_time": "2021-10-19T19:44:21.409Z"
   },
   {
    "duration": 7,
    "start_time": "2021-10-19T19:44:21.476Z"
   },
   {
    "duration": 7,
    "start_time": "2021-10-19T19:44:21.487Z"
   },
   {
    "duration": 13,
    "start_time": "2021-10-19T19:44:21.497Z"
   },
   {
    "duration": 67,
    "start_time": "2021-10-19T19:44:21.513Z"
   },
   {
    "duration": 17,
    "start_time": "2021-10-19T19:44:21.583Z"
   },
   {
    "duration": 17,
    "start_time": "2021-10-19T19:44:21.603Z"
   },
   {
    "duration": 62,
    "start_time": "2021-10-19T19:44:21.623Z"
   },
   {
    "duration": 10,
    "start_time": "2021-10-19T19:44:21.688Z"
   },
   {
    "duration": 7,
    "start_time": "2021-10-19T19:44:21.701Z"
   },
   {
    "duration": 12,
    "start_time": "2021-10-19T19:44:21.711Z"
   },
   {
    "duration": 4344,
    "start_time": "2021-10-19T19:44:21.726Z"
   },
   {
    "duration": 4,
    "start_time": "2021-10-19T19:44:26.073Z"
   },
   {
    "duration": 43,
    "start_time": "2021-10-19T19:44:26.079Z"
   },
   {
    "duration": 18,
    "start_time": "2021-10-19T19:44:26.125Z"
   },
   {
    "duration": 14,
    "start_time": "2021-10-19T19:44:26.168Z"
   },
   {
    "duration": 18,
    "start_time": "2021-10-19T19:44:26.184Z"
   },
   {
    "duration": 9,
    "start_time": "2021-10-19T19:44:26.205Z"
   },
   {
    "duration": 250,
    "start_time": "2021-10-19T19:44:26.217Z"
   },
   {
    "duration": 226,
    "start_time": "2021-10-19T19:44:26.469Z"
   },
   {
    "duration": 6,
    "start_time": "2021-10-19T19:44:26.698Z"
   },
   {
    "duration": 232,
    "start_time": "2021-10-19T19:44:26.707Z"
   },
   {
    "duration": 238,
    "start_time": "2021-10-19T19:44:26.941Z"
   },
   {
    "duration": 9,
    "start_time": "2021-10-19T19:44:27.182Z"
   },
   {
    "duration": 6228,
    "start_time": "2021-10-19T19:44:27.209Z"
   },
   {
    "duration": -178,
    "start_time": "2021-10-19T19:44:33.621Z"
   },
   {
    "duration": 7,
    "start_time": "2021-10-19T19:44:36.600Z"
   },
   {
    "duration": 6077,
    "start_time": "2021-10-19T19:44:40.079Z"
   },
   {
    "duration": 208,
    "start_time": "2021-10-19T19:44:52.744Z"
   },
   {
    "duration": 294,
    "start_time": "2021-10-19T19:48:50.055Z"
   },
   {
    "duration": 204,
    "start_time": "2021-10-19T19:49:22.230Z"
   },
   {
    "duration": 230,
    "start_time": "2021-10-19T19:50:03.207Z"
   },
   {
    "duration": 7,
    "start_time": "2021-10-19T19:50:25.386Z"
   },
   {
    "duration": 8,
    "start_time": "2021-10-19T19:52:12.628Z"
   },
   {
    "duration": 8,
    "start_time": "2021-10-19T19:52:18.388Z"
   },
   {
    "duration": 8,
    "start_time": "2021-10-19T19:52:40.691Z"
   },
   {
    "duration": 8,
    "start_time": "2021-10-19T19:53:50.469Z"
   },
   {
    "duration": 8,
    "start_time": "2021-10-19T19:54:16.602Z"
   },
   {
    "duration": 7,
    "start_time": "2021-10-19T20:03:21.725Z"
   },
   {
    "duration": 8,
    "start_time": "2021-10-19T20:03:49.982Z"
   },
   {
    "duration": 7,
    "start_time": "2021-10-19T20:04:07.439Z"
   },
   {
    "duration": 259,
    "start_time": "2021-10-19T20:21:07.941Z"
   },
   {
    "duration": 5844,
    "start_time": "2021-10-19T20:21:13.987Z"
   },
   {
    "duration": 8,
    "start_time": "2021-10-19T20:21:27.172Z"
   },
   {
    "duration": 6,
    "start_time": "2021-10-19T20:22:46.691Z"
   },
   {
    "duration": 5,
    "start_time": "2021-10-19T20:24:04.324Z"
   },
   {
    "duration": 7,
    "start_time": "2021-10-19T20:24:37.810Z"
   },
   {
    "duration": 7,
    "start_time": "2021-10-19T20:25:37.410Z"
   },
   {
    "duration": 13,
    "start_time": "2021-10-19T20:26:22.704Z"
   },
   {
    "duration": 12,
    "start_time": "2021-10-19T20:26:31.522Z"
   },
   {
    "duration": 6,
    "start_time": "2021-10-19T20:27:53.696Z"
   },
   {
    "duration": 131,
    "start_time": "2021-10-19T20:27:56.039Z"
   },
   {
    "duration": 3,
    "start_time": "2021-10-19T20:28:17.050Z"
   },
   {
    "duration": 69,
    "start_time": "2021-10-19T20:28:17.056Z"
   },
   {
    "duration": 39,
    "start_time": "2021-10-19T20:28:17.128Z"
   },
   {
    "duration": 15,
    "start_time": "2021-10-19T20:28:17.170Z"
   },
   {
    "duration": 14,
    "start_time": "2021-10-19T20:28:17.188Z"
   },
   {
    "duration": 7,
    "start_time": "2021-10-19T20:28:17.204Z"
   },
   {
    "duration": 60,
    "start_time": "2021-10-19T20:28:17.215Z"
   },
   {
    "duration": 9,
    "start_time": "2021-10-19T20:28:17.278Z"
   },
   {
    "duration": 28,
    "start_time": "2021-10-19T20:28:17.290Z"
   },
   {
    "duration": 60,
    "start_time": "2021-10-19T20:28:17.321Z"
   },
   {
    "duration": 12,
    "start_time": "2021-10-19T20:28:17.384Z"
   },
   {
    "duration": 19,
    "start_time": "2021-10-19T20:28:17.399Z"
   },
   {
    "duration": 51,
    "start_time": "2021-10-19T20:28:17.421Z"
   },
   {
    "duration": 26,
    "start_time": "2021-10-19T20:28:17.474Z"
   },
   {
    "duration": 26,
    "start_time": "2021-10-19T20:28:17.503Z"
   },
   {
    "duration": 40,
    "start_time": "2021-10-19T20:28:17.531Z"
   },
   {
    "duration": 21,
    "start_time": "2021-10-19T20:28:17.574Z"
   },
   {
    "duration": 29,
    "start_time": "2021-10-19T20:28:17.598Z"
   },
   {
    "duration": 36,
    "start_time": "2021-10-19T20:28:17.633Z"
   },
   {
    "duration": 11,
    "start_time": "2021-10-19T20:28:17.673Z"
   },
   {
    "duration": 12,
    "start_time": "2021-10-19T20:28:17.686Z"
   },
   {
    "duration": 66,
    "start_time": "2021-10-19T20:28:17.701Z"
   },
   {
    "duration": 5724,
    "start_time": "2021-10-19T20:28:17.770Z"
   },
   {
    "duration": 17,
    "start_time": "2021-10-19T20:28:23.497Z"
   },
   {
    "duration": 23,
    "start_time": "2021-10-19T20:28:23.517Z"
   },
   {
    "duration": 35,
    "start_time": "2021-10-19T20:28:23.543Z"
   },
   {
    "duration": 20,
    "start_time": "2021-10-19T20:28:23.580Z"
   },
   {
    "duration": 12,
    "start_time": "2021-10-19T20:28:23.602Z"
   },
   {
    "duration": 14,
    "start_time": "2021-10-19T20:28:23.616Z"
   },
   {
    "duration": 38,
    "start_time": "2021-10-19T20:28:23.633Z"
   },
   {
    "duration": 7,
    "start_time": "2021-10-19T20:28:23.674Z"
   },
   {
    "duration": 22,
    "start_time": "2021-10-19T20:28:23.684Z"
   },
   {
    "duration": 32,
    "start_time": "2021-10-19T20:28:23.709Z"
   },
   {
    "duration": 14,
    "start_time": "2021-10-19T20:28:23.768Z"
   },
   {
    "duration": 13,
    "start_time": "2021-10-19T20:28:23.785Z"
   },
   {
    "duration": 18,
    "start_time": "2021-10-19T20:28:23.801Z"
   },
   {
    "duration": 48,
    "start_time": "2021-10-19T20:28:23.822Z"
   },
   {
    "duration": 5,
    "start_time": "2021-10-19T20:28:23.873Z"
   },
   {
    "duration": 15,
    "start_time": "2021-10-19T20:28:23.880Z"
   },
   {
    "duration": 4231,
    "start_time": "2021-10-19T20:28:23.897Z"
   },
   {
    "duration": 5,
    "start_time": "2021-10-19T20:28:28.131Z"
   },
   {
    "duration": 76,
    "start_time": "2021-10-19T20:28:28.138Z"
   },
   {
    "duration": 24,
    "start_time": "2021-10-19T20:28:28.216Z"
   },
   {
    "duration": 35,
    "start_time": "2021-10-19T20:28:28.243Z"
   },
   {
    "duration": 17,
    "start_time": "2021-10-19T20:28:28.281Z"
   },
   {
    "duration": 9,
    "start_time": "2021-10-19T20:28:28.300Z"
   },
   {
    "duration": 341,
    "start_time": "2021-10-19T20:28:28.311Z"
   },
   {
    "duration": 325,
    "start_time": "2021-10-19T20:28:28.655Z"
   },
   {
    "duration": 10,
    "start_time": "2021-10-19T20:28:28.982Z"
   },
   {
    "duration": 231,
    "start_time": "2021-10-19T20:28:28.995Z"
   },
   {
    "duration": 244,
    "start_time": "2021-10-19T20:28:29.229Z"
   },
   {
    "duration": 9,
    "start_time": "2021-10-19T20:28:29.476Z"
   },
   {
    "duration": 9,
    "start_time": "2021-10-19T20:28:29.488Z"
   },
   {
    "duration": 244,
    "start_time": "2021-10-19T20:28:29.500Z"
   },
   {
    "duration": 256,
    "start_time": "2021-10-19T20:28:29.751Z"
   },
   {
    "duration": 106,
    "start_time": "2021-10-20T18:23:44.607Z"
   },
   {
    "duration": 417,
    "start_time": "2021-10-20T18:23:50.051Z"
   },
   {
    "duration": 758,
    "start_time": "2021-10-20T18:23:55.848Z"
   },
   {
    "duration": 65,
    "start_time": "2021-10-20T18:23:56.608Z"
   },
   {
    "duration": 33,
    "start_time": "2021-10-20T18:23:56.676Z"
   },
   {
    "duration": 17,
    "start_time": "2021-10-20T18:23:56.724Z"
   },
   {
    "duration": 14,
    "start_time": "2021-10-20T18:23:56.744Z"
   },
   {
    "duration": 5,
    "start_time": "2021-10-20T18:23:56.761Z"
   },
   {
    "duration": 56,
    "start_time": "2021-10-20T18:23:56.768Z"
   },
   {
    "duration": 7,
    "start_time": "2021-10-20T18:23:56.827Z"
   },
   {
    "duration": 20,
    "start_time": "2021-10-20T18:23:56.837Z"
   },
   {
    "duration": 16,
    "start_time": "2021-10-20T18:23:56.860Z"
   },
   {
    "duration": 8,
    "start_time": "2021-10-20T18:23:56.878Z"
   },
   {
    "duration": 44,
    "start_time": "2021-10-20T18:23:56.888Z"
   },
   {
    "duration": 28,
    "start_time": "2021-10-20T18:23:56.934Z"
   },
   {
    "duration": 23,
    "start_time": "2021-10-20T18:23:56.964Z"
   },
   {
    "duration": 49,
    "start_time": "2021-10-20T18:23:56.989Z"
   },
   {
    "duration": 10,
    "start_time": "2021-10-20T18:23:57.041Z"
   },
   {
    "duration": 18,
    "start_time": "2021-10-20T18:23:57.054Z"
   },
   {
    "duration": 57,
    "start_time": "2021-10-20T18:23:57.075Z"
   },
   {
    "duration": 13,
    "start_time": "2021-10-20T18:23:57.135Z"
   },
   {
    "duration": 13,
    "start_time": "2021-10-20T18:23:57.151Z"
   },
   {
    "duration": 14,
    "start_time": "2021-10-20T18:23:57.166Z"
   },
   {
    "duration": 46,
    "start_time": "2021-10-20T18:23:57.183Z"
   },
   {
    "duration": 5037,
    "start_time": "2021-10-20T18:23:57.237Z"
   },
   {
    "duration": 16,
    "start_time": "2021-10-20T18:24:02.278Z"
   },
   {
    "duration": 40,
    "start_time": "2021-10-20T18:24:02.297Z"
   },
   {
    "duration": 13,
    "start_time": "2021-10-20T18:24:02.340Z"
   },
   {
    "duration": 31,
    "start_time": "2021-10-20T18:24:02.356Z"
   },
   {
    "duration": 39,
    "start_time": "2021-10-20T18:24:02.390Z"
   },
   {
    "duration": 21,
    "start_time": "2021-10-20T18:24:02.432Z"
   },
   {
    "duration": 7,
    "start_time": "2021-10-20T18:24:02.456Z"
   },
   {
    "duration": 8,
    "start_time": "2021-10-20T18:24:02.466Z"
   },
   {
    "duration": 30,
    "start_time": "2021-10-20T18:24:02.477Z"
   },
   {
    "duration": 32,
    "start_time": "2021-10-20T18:24:02.522Z"
   },
   {
    "duration": 18,
    "start_time": "2021-10-20T18:24:02.557Z"
   },
   {
    "duration": 53,
    "start_time": "2021-10-20T18:24:02.578Z"
   },
   {
    "duration": 22,
    "start_time": "2021-10-20T18:24:02.634Z"
   },
   {
    "duration": 16,
    "start_time": "2021-10-20T18:24:02.659Z"
   },
   {
    "duration": 14,
    "start_time": "2021-10-20T18:24:02.678Z"
   },
   {
    "duration": 40,
    "start_time": "2021-10-20T18:24:02.695Z"
   },
   {
    "duration": 3527,
    "start_time": "2021-10-20T18:24:02.737Z"
   },
   {
    "duration": 4,
    "start_time": "2021-10-20T18:24:06.267Z"
   },
   {
    "duration": 50,
    "start_time": "2021-10-20T18:24:06.274Z"
   },
   {
    "duration": 15,
    "start_time": "2021-10-20T18:24:06.327Z"
   },
   {
    "duration": 13,
    "start_time": "2021-10-20T18:24:06.345Z"
   },
   {
    "duration": 17,
    "start_time": "2021-10-20T18:24:06.360Z"
   },
   {
    "duration": 725,
    "start_time": "2021-10-20T18:24:06.380Z"
   },
   {
    "duration": 214,
    "start_time": "2021-10-20T18:24:07.108Z"
   },
   {
    "duration": 217,
    "start_time": "2021-10-20T18:24:07.324Z"
   },
   {
    "duration": 8,
    "start_time": "2021-10-20T18:24:07.543Z"
   },
   {
    "duration": 228,
    "start_time": "2021-10-20T18:24:07.553Z"
   },
   {
    "duration": 229,
    "start_time": "2021-10-20T18:24:07.784Z"
   },
   {
    "duration": 11,
    "start_time": "2021-10-20T18:24:08.016Z"
   },
   {
    "duration": 16,
    "start_time": "2021-10-20T18:24:08.029Z"
   },
   {
    "duration": 216,
    "start_time": "2021-10-20T18:24:08.047Z"
   },
   {
    "duration": 222,
    "start_time": "2021-10-20T18:24:08.265Z"
   },
   {
    "duration": 7,
    "start_time": "2021-10-20T18:24:08.489Z"
   },
   {
    "duration": 213,
    "start_time": "2021-10-20T18:24:34.923Z"
   },
   {
    "duration": 265,
    "start_time": "2021-10-20T18:25:24.748Z"
   },
   {
    "duration": 213,
    "start_time": "2021-10-20T18:26:14.975Z"
   },
   {
    "duration": 210,
    "start_time": "2021-10-20T18:26:43.661Z"
   },
   {
    "duration": 10,
    "start_time": "2021-10-20T18:31:08.598Z"
   },
   {
    "duration": 9,
    "start_time": "2021-10-20T18:31:35.612Z"
   },
   {
    "duration": 6,
    "start_time": "2021-10-20T18:41:03.108Z"
   },
   {
    "duration": 10,
    "start_time": "2021-10-20T18:43:11.637Z"
   },
   {
    "duration": 751,
    "start_time": "2021-10-21T18:11:14.917Z"
   },
   {
    "duration": 67,
    "start_time": "2021-10-21T18:11:16.342Z"
   },
   {
    "duration": 29,
    "start_time": "2021-10-21T18:11:17.361Z"
   },
   {
    "duration": 23,
    "start_time": "2021-10-21T18:11:20.626Z"
   },
   {
    "duration": 15,
    "start_time": "2021-10-21T18:12:30.755Z"
   },
   {
    "duration": 6,
    "start_time": "2021-10-21T18:12:53.503Z"
   },
   {
    "duration": 19,
    "start_time": "2021-10-21T18:12:56.625Z"
   },
   {
    "duration": 7,
    "start_time": "2021-10-21T18:13:43.073Z"
   },
   {
    "duration": 19,
    "start_time": "2021-10-21T18:13:43.712Z"
   },
   {
    "duration": 17,
    "start_time": "2021-10-21T18:13:46.159Z"
   },
   {
    "duration": 7,
    "start_time": "2021-10-21T18:14:25.407Z"
   },
   {
    "duration": 11,
    "start_time": "2021-10-21T18:14:26.692Z"
   },
   {
    "duration": 26,
    "start_time": "2021-10-21T18:14:55.952Z"
   },
   {
    "duration": 36,
    "start_time": "2021-10-21T18:14:58.733Z"
   },
   {
    "duration": 23,
    "start_time": "2021-10-21T18:15:00.173Z"
   },
   {
    "duration": 10,
    "start_time": "2021-10-21T18:15:10.861Z"
   },
   {
    "duration": 21,
    "start_time": "2021-10-21T18:15:15.612Z"
   },
   {
    "duration": 29,
    "start_time": "2021-10-21T18:15:19.262Z"
   },
   {
    "duration": 11,
    "start_time": "2021-10-21T18:15:23.053Z"
   },
   {
    "duration": 15,
    "start_time": "2021-10-21T18:15:30.236Z"
   },
   {
    "duration": 11,
    "start_time": "2021-10-21T18:15:34.188Z"
   },
   {
    "duration": 11,
    "start_time": "2021-10-21T18:15:47.612Z"
   },
   {
    "duration": 5818,
    "start_time": "2021-10-21T18:15:50.877Z"
   },
   {
    "duration": 20,
    "start_time": "2021-10-21T18:15:56.698Z"
   },
   {
    "duration": 31,
    "start_time": "2021-10-21T18:16:20.525Z"
   },
   {
    "duration": 13,
    "start_time": "2021-10-21T18:16:21.965Z"
   },
   {
    "duration": 14,
    "start_time": "2021-10-21T18:16:23.454Z"
   },
   {
    "duration": 15,
    "start_time": "2021-10-21T18:16:25.230Z"
   },
   {
    "duration": 20,
    "start_time": "2021-10-21T18:16:27.230Z"
   },
   {
    "duration": 6,
    "start_time": "2021-10-21T18:16:58.415Z"
   },
   {
    "duration": 6,
    "start_time": "2021-10-21T18:17:00.573Z"
   },
   {
    "duration": 7,
    "start_time": "2021-10-21T18:17:02.091Z"
   },
   {
    "duration": 32,
    "start_time": "2021-10-21T18:17:12.861Z"
   },
   {
    "duration": 14,
    "start_time": "2021-10-21T18:17:21.261Z"
   },
   {
    "duration": 17,
    "start_time": "2021-10-21T18:17:22.236Z"
   },
   {
    "duration": 25,
    "start_time": "2021-10-21T18:17:27.708Z"
   },
   {
    "duration": 12,
    "start_time": "2021-10-21T18:18:30.184Z"
   },
   {
    "duration": 27,
    "start_time": "2021-10-21T18:18:32.316Z"
   },
   {
    "duration": 21,
    "start_time": "2021-10-21T18:18:34.412Z"
   },
   {
    "duration": 7,
    "start_time": "2021-10-21T18:18:56.699Z"
   },
   {
    "duration": 6,
    "start_time": "2021-10-21T18:18:58.044Z"
   },
   {
    "duration": 7,
    "start_time": "2021-10-21T18:18:59.452Z"
   },
   {
    "duration": 3881,
    "start_time": "2021-10-21T18:19:02.908Z"
   },
   {
    "duration": 5,
    "start_time": "2021-10-21T18:19:06.791Z"
   },
   {
    "duration": 44,
    "start_time": "2021-10-21T18:19:07.516Z"
   },
   {
    "duration": 16,
    "start_time": "2021-10-21T18:19:11.403Z"
   },
   {
    "duration": 23,
    "start_time": "2021-10-21T18:19:12.125Z"
   },
   {
    "duration": 759,
    "start_time": "2021-10-22T05:33:45.119Z"
   },
   {
    "duration": 68,
    "start_time": "2021-10-22T05:33:45.881Z"
   },
   {
    "duration": 33,
    "start_time": "2021-10-22T05:33:45.952Z"
   },
   {
    "duration": 42,
    "start_time": "2021-10-22T05:33:45.988Z"
   },
   {
    "duration": 14,
    "start_time": "2021-10-22T05:33:46.033Z"
   },
   {
    "duration": 7,
    "start_time": "2021-10-22T05:33:46.051Z"
   },
   {
    "duration": 14,
    "start_time": "2021-10-22T05:33:46.061Z"
   },
   {
    "duration": 50,
    "start_time": "2021-10-22T05:33:46.079Z"
   },
   {
    "duration": 16,
    "start_time": "2021-10-22T05:33:46.135Z"
   },
   {
    "duration": 19,
    "start_time": "2021-10-22T05:33:46.155Z"
   },
   {
    "duration": 50,
    "start_time": "2021-10-22T05:33:46.176Z"
   },
   {
    "duration": 16,
    "start_time": "2021-10-22T05:33:46.228Z"
   },
   {
    "duration": 22,
    "start_time": "2021-10-22T05:33:46.247Z"
   },
   {
    "duration": 25,
    "start_time": "2021-10-22T05:33:46.272Z"
   },
   {
    "duration": 23,
    "start_time": "2021-10-22T05:33:46.323Z"
   },
   {
    "duration": 11,
    "start_time": "2021-10-22T05:33:46.349Z"
   },
   {
    "duration": 18,
    "start_time": "2021-10-22T05:33:46.363Z"
   },
   {
    "duration": 69,
    "start_time": "2021-10-22T05:33:46.384Z"
   },
   {
    "duration": 14,
    "start_time": "2021-10-22T05:33:46.456Z"
   },
   {
    "duration": 14,
    "start_time": "2021-10-22T05:33:46.473Z"
   },
   {
    "duration": 12,
    "start_time": "2021-10-22T05:33:46.522Z"
   },
   {
    "duration": 12,
    "start_time": "2021-10-22T05:33:46.537Z"
   },
   {
    "duration": 5015,
    "start_time": "2021-10-22T05:33:46.552Z"
   },
   {
    "duration": 17,
    "start_time": "2021-10-22T05:33:51.570Z"
   },
   {
    "duration": 43,
    "start_time": "2021-10-22T05:33:51.590Z"
   },
   {
    "duration": 11,
    "start_time": "2021-10-22T05:33:51.636Z"
   },
   {
    "duration": 15,
    "start_time": "2021-10-22T05:33:51.654Z"
   },
   {
    "duration": 11,
    "start_time": "2021-10-22T05:33:51.672Z"
   },
   {
    "duration": 48,
    "start_time": "2021-10-22T05:33:51.686Z"
   },
   {
    "duration": 6,
    "start_time": "2021-10-22T05:33:51.737Z"
   },
   {
    "duration": 6,
    "start_time": "2021-10-22T05:33:51.745Z"
   },
   {
    "duration": 13,
    "start_time": "2021-10-22T05:33:51.753Z"
   },
   {
    "duration": 65,
    "start_time": "2021-10-22T05:33:51.768Z"
   },
   {
    "duration": 13,
    "start_time": "2021-10-22T05:33:51.835Z"
   },
   {
    "duration": 13,
    "start_time": "2021-10-22T05:33:51.850Z"
   },
   {
    "duration": 18,
    "start_time": "2021-10-22T05:33:51.866Z"
   },
   {
    "duration": 41,
    "start_time": "2021-10-22T05:33:51.886Z"
   },
   {
    "duration": 5,
    "start_time": "2021-10-22T05:33:51.930Z"
   },
   {
    "duration": 15,
    "start_time": "2021-10-22T05:33:51.937Z"
   },
   {
    "duration": 3475,
    "start_time": "2021-10-22T05:33:51.954Z"
   },
   {
    "duration": 4,
    "start_time": "2021-10-22T05:33:55.431Z"
   },
   {
    "duration": 45,
    "start_time": "2021-10-22T05:33:55.437Z"
   },
   {
    "duration": 16,
    "start_time": "2021-10-22T05:33:55.484Z"
   },
   {
    "duration": 14,
    "start_time": "2021-10-22T05:33:55.523Z"
   },
   {
    "duration": 17,
    "start_time": "2021-10-22T05:33:55.540Z"
   },
   {
    "duration": 780,
    "start_time": "2021-10-22T05:33:55.560Z"
   },
   {
    "duration": 213,
    "start_time": "2021-10-22T05:33:56.342Z"
   },
   {
    "duration": 218,
    "start_time": "2021-10-22T05:33:56.557Z"
   },
   {
    "duration": 7,
    "start_time": "2021-10-22T05:33:56.777Z"
   },
   {
    "duration": 219,
    "start_time": "2021-10-22T05:33:56.786Z"
   },
   {
    "duration": 229,
    "start_time": "2021-10-22T05:33:57.007Z"
   },
   {
    "duration": 6,
    "start_time": "2021-10-22T05:33:57.239Z"
   },
   {
    "duration": 11,
    "start_time": "2021-10-22T05:33:57.248Z"
   },
   {
    "duration": 221,
    "start_time": "2021-10-22T05:33:57.262Z"
   },
   {
    "duration": 228,
    "start_time": "2021-10-22T05:33:57.486Z"
   },
   {
    "duration": 7,
    "start_time": "2021-10-22T05:33:57.717Z"
   },
   {
    "duration": 230,
    "start_time": "2021-10-22T05:33:57.728Z"
   },
   {
    "duration": 278,
    "start_time": "2021-10-22T05:33:57.961Z"
   },
   {
    "duration": 219,
    "start_time": "2021-10-22T05:33:58.242Z"
   },
   {
    "duration": 219,
    "start_time": "2021-10-22T05:33:58.463Z"
   },
   {
    "duration": 8,
    "start_time": "2021-10-22T05:33:58.685Z"
   },
   {
    "duration": 33,
    "start_time": "2021-10-22T05:43:23.298Z"
   },
   {
    "duration": 586,
    "start_time": "2021-10-22T05:49:27.230Z"
   },
   {
    "duration": 11,
    "start_time": "2021-10-22T05:49:33.028Z"
   },
   {
    "duration": 7,
    "start_time": "2021-10-22T05:49:41.018Z"
   },
   {
    "duration": 7,
    "start_time": "2021-10-22T05:50:28.439Z"
   },
   {
    "duration": 39,
    "start_time": "2021-10-22T05:50:33.698Z"
   },
   {
    "duration": 19,
    "start_time": "2021-10-22T05:53:49.298Z"
   },
   {
    "duration": 6,
    "start_time": "2021-10-22T05:54:12.537Z"
   },
   {
    "duration": 7,
    "start_time": "2021-10-22T05:54:17.978Z"
   },
   {
    "duration": 806,
    "start_time": "2021-10-24T10:12:36.649Z"
   },
   {
    "duration": 69,
    "start_time": "2021-10-24T10:12:37.458Z"
   },
   {
    "duration": 12,
    "start_time": "2021-10-24T10:12:45.039Z"
   },
   {
    "duration": 28,
    "start_time": "2021-10-24T10:12:53.176Z"
   },
   {
    "duration": 11,
    "start_time": "2021-10-24T10:13:00.061Z"
   },
   {
    "duration": 19,
    "start_time": "2021-10-24T10:16:20.077Z"
   },
   {
    "duration": 92,
    "start_time": "2021-10-24T10:17:00.057Z"
   },
   {
    "duration": 4,
    "start_time": "2021-10-24T10:19:15.540Z"
   },
   {
    "duration": 75,
    "start_time": "2021-10-24T10:19:16.199Z"
   },
   {
    "duration": 19,
    "start_time": "2021-10-24T10:19:16.903Z"
   },
   {
    "duration": 20,
    "start_time": "2021-10-24T10:19:22.774Z"
   },
   {
    "duration": 65,
    "start_time": "2021-10-24T10:19:54.550Z"
   },
   {
    "duration": 72,
    "start_time": "2021-10-24T10:40:36.101Z"
   },
   {
    "duration": 14,
    "start_time": "2021-10-24T10:45:47.318Z"
   },
   {
    "duration": 90,
    "start_time": "2021-10-24T10:46:35.042Z"
   },
   {
    "duration": 38,
    "start_time": "2021-10-24T11:19:03.961Z"
   },
   {
    "duration": 54,
    "start_time": "2021-10-24T11:19:56.074Z"
   },
   {
    "duration": 365,
    "start_time": "2021-10-24T11:22:00.892Z"
   },
   {
    "duration": 8,
    "start_time": "2021-10-24T11:22:12.524Z"
   },
   {
    "duration": 284,
    "start_time": "2021-10-24T11:22:24.128Z"
   },
   {
    "duration": 279,
    "start_time": "2021-10-24T11:22:41.948Z"
   },
   {
    "duration": 8,
    "start_time": "2021-10-24T11:23:15.835Z"
   },
   {
    "duration": 273,
    "start_time": "2021-10-24T11:23:17.275Z"
   },
   {
    "duration": 316,
    "start_time": "2021-10-24T11:23:45.084Z"
   },
   {
    "duration": 286,
    "start_time": "2021-10-24T11:23:55.304Z"
   },
   {
    "duration": 303,
    "start_time": "2021-10-24T11:23:59.100Z"
   },
   {
    "duration": 4,
    "start_time": "2021-10-24T11:24:07.408Z"
   },
   {
    "duration": 66,
    "start_time": "2021-10-24T11:24:07.414Z"
   },
   {
    "duration": 18,
    "start_time": "2021-10-24T11:24:07.483Z"
   },
   {
    "duration": 27,
    "start_time": "2021-10-24T11:24:07.503Z"
   },
   {
    "duration": 46,
    "start_time": "2021-10-24T11:24:07.532Z"
   },
   {
    "duration": 12,
    "start_time": "2021-10-24T11:24:07.581Z"
   },
   {
    "duration": 64,
    "start_time": "2021-10-24T11:24:07.595Z"
   },
   {
    "duration": 39,
    "start_time": "2021-10-24T11:24:12.202Z"
   },
   {
    "duration": 5,
    "start_time": "2021-10-24T11:24:15.993Z"
   },
   {
    "duration": 39,
    "start_time": "2021-10-24T11:24:17.225Z"
   },
   {
    "duration": 39,
    "start_time": "2021-10-24T11:26:56.649Z"
   },
   {
    "duration": 31,
    "start_time": "2021-10-24T11:27:22.553Z"
   },
   {
    "duration": 3,
    "start_time": "2021-10-24T11:27:29.784Z"
   },
   {
    "duration": 71,
    "start_time": "2021-10-24T11:27:29.790Z"
   },
   {
    "duration": 19,
    "start_time": "2021-10-24T11:27:29.864Z"
   },
   {
    "duration": 45,
    "start_time": "2021-10-24T11:27:29.888Z"
   },
   {
    "duration": 48,
    "start_time": "2021-10-24T11:27:29.937Z"
   },
   {
    "duration": 40,
    "start_time": "2021-10-24T11:27:29.988Z"
   },
   {
    "duration": 38,
    "start_time": "2021-10-24T11:27:30.031Z"
   },
   {
    "duration": 7,
    "start_time": "2021-10-24T11:27:30.072Z"
   },
   {
    "duration": 43,
    "start_time": "2021-10-24T11:27:30.081Z"
   },
   {
    "duration": 33,
    "start_time": "2021-10-24T11:27:35.000Z"
   },
   {
    "duration": 8,
    "start_time": "2021-10-24T11:30:13.002Z"
   },
   {
    "duration": 3,
    "start_time": "2021-10-24T11:30:36.416Z"
   },
   {
    "duration": 73,
    "start_time": "2021-10-24T11:30:36.424Z"
   },
   {
    "duration": 26,
    "start_time": "2021-10-24T11:30:36.500Z"
   },
   {
    "duration": 17,
    "start_time": "2021-10-24T11:30:36.530Z"
   },
   {
    "duration": 83,
    "start_time": "2021-10-24T11:30:36.550Z"
   },
   {
    "duration": 15,
    "start_time": "2021-10-24T11:30:36.636Z"
   },
   {
    "duration": 69,
    "start_time": "2021-10-24T11:30:36.653Z"
   },
   {
    "duration": 10,
    "start_time": "2021-10-24T11:30:36.725Z"
   },
   {
    "duration": 17,
    "start_time": "2021-10-24T11:30:36.738Z"
   },
   {
    "duration": 7,
    "start_time": "2021-10-24T11:30:36.757Z"
   },
   {
    "duration": 7,
    "start_time": "2021-10-24T11:30:39.969Z"
   },
   {
    "duration": 48,
    "start_time": "2021-10-24T11:30:43.399Z"
   },
   {
    "duration": 7,
    "start_time": "2021-10-24T11:31:16.871Z"
   },
   {
    "duration": 32,
    "start_time": "2021-10-24T11:31:18.101Z"
   },
   {
    "duration": 10,
    "start_time": "2021-10-24T11:31:37.702Z"
   },
   {
    "duration": 32,
    "start_time": "2021-10-24T11:32:55.412Z"
   },
   {
    "duration": 7,
    "start_time": "2021-10-24T11:35:22.500Z"
   },
   {
    "duration": 4,
    "start_time": "2021-10-24T11:35:34.868Z"
   },
   {
    "duration": 273,
    "start_time": "2021-10-24T11:35:43.636Z"
   },
   {
    "duration": 19,
    "start_time": "2021-10-24T11:36:01.413Z"
   },
   {
    "duration": 18,
    "start_time": "2021-10-24T11:36:08.739Z"
   },
   {
    "duration": 269,
    "start_time": "2021-10-24T11:37:09.924Z"
   },
   {
    "duration": 4,
    "start_time": "2021-10-24T11:37:20.538Z"
   },
   {
    "duration": 69,
    "start_time": "2021-10-24T11:37:20.546Z"
   },
   {
    "duration": 18,
    "start_time": "2021-10-24T11:37:20.617Z"
   },
   {
    "duration": 23,
    "start_time": "2021-10-24T11:37:20.638Z"
   },
   {
    "duration": 45,
    "start_time": "2021-10-24T11:37:20.663Z"
   },
   {
    "duration": 23,
    "start_time": "2021-10-24T11:37:20.710Z"
   },
   {
    "duration": 41,
    "start_time": "2021-10-24T11:37:20.735Z"
   },
   {
    "duration": 7,
    "start_time": "2021-10-24T11:37:20.778Z"
   },
   {
    "duration": 35,
    "start_time": "2021-10-24T11:37:20.788Z"
   },
   {
    "duration": 16,
    "start_time": "2021-10-24T11:37:20.825Z"
   },
   {
    "duration": 5,
    "start_time": "2021-10-24T11:37:20.843Z"
   },
   {
    "duration": 32,
    "start_time": "2021-10-24T11:37:23.153Z"
   },
   {
    "duration": 32,
    "start_time": "2021-10-24T11:38:40.639Z"
   },
   {
    "duration": 12,
    "start_time": "2021-10-24T11:57:27.471Z"
   },
   {
    "duration": 268,
    "start_time": "2021-10-24T11:57:42.407Z"
   },
   {
    "duration": 12,
    "start_time": "2021-10-24T11:57:48.583Z"
   },
   {
    "duration": 99,
    "start_time": "2021-10-24T11:58:01.175Z"
   },
   {
    "duration": 5,
    "start_time": "2021-10-24T11:58:04.967Z"
   },
   {
    "duration": 6,
    "start_time": "2021-10-24T11:58:12.713Z"
   },
   {
    "duration": 6,
    "start_time": "2021-10-24T11:58:17.223Z"
   },
   {
    "duration": 6,
    "start_time": "2021-10-24T11:58:43.925Z"
   },
   {
    "duration": 8,
    "start_time": "2021-10-24T12:09:29.329Z"
   },
   {
    "duration": 22,
    "start_time": "2021-10-24T12:10:25.455Z"
   },
   {
    "duration": 59,
    "start_time": "2021-10-24T12:10:34.720Z"
   },
   {
    "duration": 10,
    "start_time": "2021-10-24T12:35:22.258Z"
   },
   {
    "duration": 9,
    "start_time": "2021-10-24T12:35:42.817Z"
   },
   {
    "duration": 1246,
    "start_time": "2021-10-24T12:40:19.983Z"
   },
   {
    "duration": 4,
    "start_time": "2021-10-24T12:40:36.791Z"
   },
   {
    "duration": 68,
    "start_time": "2021-10-24T12:40:36.797Z"
   },
   {
    "duration": 19,
    "start_time": "2021-10-24T12:40:36.868Z"
   },
   {
    "duration": 43,
    "start_time": "2021-10-24T12:40:36.891Z"
   },
   {
    "duration": 47,
    "start_time": "2021-10-24T12:40:36.937Z"
   },
   {
    "duration": 44,
    "start_time": "2021-10-24T12:40:36.987Z"
   },
   {
    "duration": 38,
    "start_time": "2021-10-24T12:40:37.036Z"
   },
   {
    "duration": 8,
    "start_time": "2021-10-24T12:40:37.077Z"
   },
   {
    "duration": 40,
    "start_time": "2021-10-24T12:40:37.087Z"
   },
   {
    "duration": 14,
    "start_time": "2021-10-24T12:40:37.129Z"
   },
   {
    "duration": 7,
    "start_time": "2021-10-24T12:40:37.146Z"
   },
   {
    "duration": 68,
    "start_time": "2021-10-24T12:40:37.156Z"
   },
   {
    "duration": 4,
    "start_time": "2021-10-24T12:40:37.227Z"
   },
   {
    "duration": 12,
    "start_time": "2021-10-24T12:40:37.234Z"
   },
   {
    "duration": 1074,
    "start_time": "2021-10-24T12:40:40.637Z"
   },
   {
    "duration": 1336,
    "start_time": "2021-10-24T12:40:52.415Z"
   },
   {
    "duration": 2077,
    "start_time": "2021-10-24T12:42:57.070Z"
   },
   {
    "duration": 1105,
    "start_time": "2021-10-24T12:44:07.085Z"
   },
   {
    "duration": 3,
    "start_time": "2021-10-24T12:44:20.325Z"
   },
   {
    "duration": 71,
    "start_time": "2021-10-24T12:44:20.331Z"
   },
   {
    "duration": 19,
    "start_time": "2021-10-24T12:44:20.405Z"
   },
   {
    "duration": 22,
    "start_time": "2021-10-24T12:44:20.426Z"
   },
   {
    "duration": 47,
    "start_time": "2021-10-24T12:44:20.450Z"
   },
   {
    "duration": 35,
    "start_time": "2021-10-24T12:44:20.500Z"
   },
   {
    "duration": 5,
    "start_time": "2021-10-24T12:44:52.863Z"
   },
   {
    "duration": 292,
    "start_time": "2021-10-24T13:13:10.877Z"
   },
   {
    "duration": 6,
    "start_time": "2021-10-24T13:13:29.647Z"
   },
   {
    "duration": -177,
    "start_time": "2021-10-24T13:20:16.009Z"
   },
   {
    "duration": 3,
    "start_time": "2021-10-24T13:20:18.809Z"
   },
   {
    "duration": 64,
    "start_time": "2021-10-24T13:20:18.818Z"
   },
   {
    "duration": 18,
    "start_time": "2021-10-24T13:20:18.885Z"
   },
   {
    "duration": 28,
    "start_time": "2021-10-24T13:20:18.906Z"
   },
   {
    "duration": 43,
    "start_time": "2021-10-24T13:20:18.937Z"
   },
   {
    "duration": 39,
    "start_time": "2021-10-24T13:20:18.983Z"
   },
   {
    "duration": 41,
    "start_time": "2021-10-24T13:20:19.025Z"
   },
   {
    "duration": 7,
    "start_time": "2021-10-24T13:20:19.068Z"
   },
   {
    "duration": 26,
    "start_time": "2021-10-24T13:20:19.078Z"
   },
   {
    "duration": 18,
    "start_time": "2021-10-24T13:20:19.107Z"
   },
   {
    "duration": 17,
    "start_time": "2021-10-24T13:20:19.128Z"
   },
   {
    "duration": 47,
    "start_time": "2021-10-24T13:20:19.148Z"
   },
   {
    "duration": 26,
    "start_time": "2021-10-24T13:20:19.198Z"
   },
   {
    "duration": 31,
    "start_time": "2021-10-24T13:20:19.227Z"
   },
   {
    "duration": 7095,
    "start_time": "2021-10-24T13:20:27.288Z"
   },
   {
    "duration": 6791,
    "start_time": "2021-10-24T13:22:15.177Z"
   },
   {
    "duration": 6817,
    "start_time": "2021-10-24T13:22:27.800Z"
   },
   {
    "duration": 7591,
    "start_time": "2021-10-24T13:26:11.366Z"
   },
   {
    "duration": 341,
    "start_time": "2021-10-24T13:27:42.197Z"
   },
   {
    "duration": 283,
    "start_time": "2021-10-24T13:27:49.252Z"
   },
   {
    "duration": 38,
    "start_time": "2021-10-24T13:34:15.345Z"
   },
   {
    "duration": 36,
    "start_time": "2021-10-24T13:34:57.953Z"
   },
   {
    "duration": 272,
    "start_time": "2021-10-24T13:49:02.779Z"
   },
   {
    "duration": 4,
    "start_time": "2021-10-24T13:49:16.825Z"
   },
   {
    "duration": 71,
    "start_time": "2021-10-24T13:49:16.832Z"
   },
   {
    "duration": 35,
    "start_time": "2021-10-24T13:49:16.907Z"
   },
   {
    "duration": 23,
    "start_time": "2021-10-24T13:49:16.946Z"
   },
   {
    "duration": 72,
    "start_time": "2021-10-24T13:49:16.971Z"
   },
   {
    "duration": 16,
    "start_time": "2021-10-24T13:49:17.046Z"
   },
   {
    "duration": 64,
    "start_time": "2021-10-24T13:49:17.068Z"
   },
   {
    "duration": 9,
    "start_time": "2021-10-24T13:49:17.135Z"
   },
   {
    "duration": 22,
    "start_time": "2021-10-24T13:49:17.146Z"
   },
   {
    "duration": 34,
    "start_time": "2021-10-24T13:49:17.170Z"
   },
   {
    "duration": 17,
    "start_time": "2021-10-24T13:49:17.206Z"
   },
   {
    "duration": 42,
    "start_time": "2021-10-24T13:49:17.225Z"
   },
   {
    "duration": 11,
    "start_time": "2021-10-24T13:49:17.270Z"
   },
   {
    "duration": 10,
    "start_time": "2021-10-24T13:49:17.283Z"
   },
   {
    "duration": 53,
    "start_time": "2021-10-24T13:49:17.295Z"
   },
   {
    "duration": 5,
    "start_time": "2021-10-24T13:49:17.351Z"
   },
   {
    "duration": 5,
    "start_time": "2021-10-24T13:49:19.624Z"
   },
   {
    "duration": 6,
    "start_time": "2021-10-24T13:49:57.400Z"
   },
   {
    "duration": 6,
    "start_time": "2021-10-24T13:50:00.135Z"
   },
   {
    "duration": 8,
    "start_time": "2021-10-24T13:50:32.989Z"
   },
   {
    "duration": 311,
    "start_time": "2021-10-24T13:52:49.174Z"
   },
   {
    "duration": 372,
    "start_time": "2021-10-24T13:57:34.485Z"
   },
   {
    "duration": 308,
    "start_time": "2021-10-24T14:01:39.942Z"
   },
   {
    "duration": 302,
    "start_time": "2021-10-24T14:03:03.473Z"
   },
   {
    "duration": 292,
    "start_time": "2021-10-24T14:03:24.017Z"
   },
   {
    "duration": 261,
    "start_time": "2021-10-24T14:03:40.559Z"
   },
   {
    "duration": 358,
    "start_time": "2021-10-24T14:03:50.352Z"
   },
   {
    "duration": 39,
    "start_time": "2021-10-24T14:04:02.465Z"
   },
   {
    "duration": 25,
    "start_time": "2021-10-24T14:04:31.217Z"
   },
   {
    "duration": 97,
    "start_time": "2021-10-24T14:04:43.792Z"
   },
   {
    "duration": 38,
    "start_time": "2021-10-24T14:04:57.568Z"
   },
   {
    "duration": 291,
    "start_time": "2021-10-24T14:06:01.104Z"
   },
   {
    "duration": 589,
    "start_time": "2021-10-24T14:06:10.815Z"
   },
   {
    "duration": 279,
    "start_time": "2021-10-24T14:06:18.702Z"
   },
   {
    "duration": 286,
    "start_time": "2021-10-24T14:06:23.760Z"
   },
   {
    "duration": 302,
    "start_time": "2021-10-24T14:06:32.606Z"
   },
   {
    "duration": 269,
    "start_time": "2021-10-24T14:06:43.647Z"
   },
   {
    "duration": 30,
    "start_time": "2021-10-24T14:06:52.862Z"
   },
   {
    "duration": 313,
    "start_time": "2021-10-24T14:06:59.023Z"
   },
   {
    "duration": 286,
    "start_time": "2021-10-24T14:07:05.793Z"
   },
   {
    "duration": 403,
    "start_time": "2021-10-24T14:07:14.174Z"
   },
   {
    "duration": 284,
    "start_time": "2021-10-24T14:07:21.173Z"
   },
   {
    "duration": 124,
    "start_time": "2021-10-24T14:10:00.813Z"
   },
   {
    "duration": 278,
    "start_time": "2021-10-24T14:10:04.637Z"
   },
   {
    "duration": 294,
    "start_time": "2021-10-24T14:11:45.002Z"
   },
   {
    "duration": 406,
    "start_time": "2021-10-24T14:19:16.679Z"
   },
   {
    "duration": 271,
    "start_time": "2021-10-24T14:19:34.950Z"
   },
   {
    "duration": 28,
    "start_time": "2021-10-24T14:20:03.318Z"
   },
   {
    "duration": 26,
    "start_time": "2021-10-24T14:21:29.655Z"
   },
   {
    "duration": 43,
    "start_time": "2021-10-24T14:23:16.549Z"
   },
   {
    "duration": 26,
    "start_time": "2021-10-24T14:23:52.934Z"
   },
   {
    "duration": 27,
    "start_time": "2021-10-24T14:25:58.325Z"
   },
   {
    "duration": 3,
    "start_time": "2021-10-24T14:26:12.518Z"
   },
   {
    "duration": 66,
    "start_time": "2021-10-24T14:26:12.528Z"
   },
   {
    "duration": 31,
    "start_time": "2021-10-24T14:26:12.597Z"
   },
   {
    "duration": 28,
    "start_time": "2021-10-24T14:26:12.631Z"
   },
   {
    "duration": 61,
    "start_time": "2021-10-24T14:26:12.661Z"
   },
   {
    "duration": 13,
    "start_time": "2021-10-24T14:26:12.724Z"
   },
   {
    "duration": 45,
    "start_time": "2021-10-24T14:26:12.740Z"
   },
   {
    "duration": 8,
    "start_time": "2021-10-24T14:26:12.787Z"
   },
   {
    "duration": 8,
    "start_time": "2021-10-24T14:26:12.823Z"
   },
   {
    "duration": 13,
    "start_time": "2021-10-24T14:26:12.835Z"
   },
   {
    "duration": 5,
    "start_time": "2021-10-24T14:26:12.851Z"
   },
   {
    "duration": 66,
    "start_time": "2021-10-24T14:26:12.859Z"
   },
   {
    "duration": 4,
    "start_time": "2021-10-24T14:26:12.928Z"
   },
   {
    "duration": 10,
    "start_time": "2021-10-24T14:26:12.934Z"
   },
   {
    "duration": 35,
    "start_time": "2021-10-24T14:26:12.947Z"
   },
   {
    "duration": 42,
    "start_time": "2021-10-24T14:26:12.984Z"
   },
   {
    "duration": 10,
    "start_time": "2021-10-24T14:26:13.029Z"
   },
   {
    "duration": 28,
    "start_time": "2021-10-24T14:26:16.900Z"
   },
   {
    "duration": 89,
    "start_time": "2021-10-24T14:27:36.900Z"
   },
   {
    "duration": 36,
    "start_time": "2021-10-24T14:27:41.426Z"
   },
   {
    "duration": 116,
    "start_time": "2021-10-24T14:28:35.236Z"
   },
   {
    "duration": 32,
    "start_time": "2021-10-24T14:28:40.257Z"
   },
   {
    "duration": 4,
    "start_time": "2021-10-24T14:28:48.458Z"
   },
   {
    "duration": 91,
    "start_time": "2021-10-24T14:28:48.466Z"
   },
   {
    "duration": 30,
    "start_time": "2021-10-24T14:28:48.561Z"
   },
   {
    "duration": 37,
    "start_time": "2021-10-24T14:28:48.595Z"
   },
   {
    "duration": 48,
    "start_time": "2021-10-24T14:28:48.635Z"
   },
   {
    "duration": 43,
    "start_time": "2021-10-24T14:28:48.686Z"
   },
   {
    "duration": 38,
    "start_time": "2021-10-24T14:28:48.734Z"
   },
   {
    "duration": 10,
    "start_time": "2021-10-24T14:28:48.776Z"
   },
   {
    "duration": 8,
    "start_time": "2021-10-24T14:28:48.823Z"
   },
   {
    "duration": 15,
    "start_time": "2021-10-24T14:28:48.834Z"
   },
   {
    "duration": 6,
    "start_time": "2021-10-24T14:28:48.851Z"
   },
   {
    "duration": 63,
    "start_time": "2021-10-24T14:28:48.859Z"
   },
   {
    "duration": 3,
    "start_time": "2021-10-24T14:28:48.925Z"
   },
   {
    "duration": 11,
    "start_time": "2021-10-24T14:28:48.931Z"
   },
   {
    "duration": 41,
    "start_time": "2021-10-24T14:28:48.945Z"
   },
   {
    "duration": 5,
    "start_time": "2021-10-24T14:28:48.989Z"
   },
   {
    "duration": 7,
    "start_time": "2021-10-24T14:28:49.023Z"
   },
   {
    "duration": 27,
    "start_time": "2021-10-24T14:28:51.170Z"
   },
   {
    "duration": 361,
    "start_time": "2021-10-24T14:29:11.442Z"
   },
   {
    "duration": 286,
    "start_time": "2021-10-24T14:29:18.288Z"
   },
   {
    "duration": 298,
    "start_time": "2021-10-24T14:29:26.134Z"
   },
   {
    "duration": 275,
    "start_time": "2021-10-24T14:29:30.913Z"
   },
   {
    "duration": 27,
    "start_time": "2021-10-24T14:29:45.555Z"
   },
   {
    "duration": 37,
    "start_time": "2021-10-24T14:30:02.611Z"
   },
   {
    "duration": 30,
    "start_time": "2021-10-24T14:30:41.154Z"
   },
   {
    "duration": 11,
    "start_time": "2021-10-24T14:37:22.445Z"
   },
   {
    "duration": 29,
    "start_time": "2021-10-24T14:37:38.767Z"
   },
   {
    "duration": 15,
    "start_time": "2021-10-24T14:39:01.420Z"
   },
   {
    "duration": 8,
    "start_time": "2021-10-24T14:39:06.966Z"
   },
   {
    "duration": 262,
    "start_time": "2021-10-24T14:40:20.109Z"
   },
   {
    "duration": 382,
    "start_time": "2021-10-24T14:40:35.227Z"
   },
   {
    "duration": 280,
    "start_time": "2021-10-24T14:40:49.101Z"
   },
   {
    "duration": 22,
    "start_time": "2021-10-24T14:41:49.978Z"
   },
   {
    "duration": 285,
    "start_time": "2021-10-24T14:51:40.404Z"
   },
   {
    "duration": 4,
    "start_time": "2021-10-24T14:51:51.799Z"
   },
   {
    "duration": 72,
    "start_time": "2021-10-24T14:51:51.808Z"
   },
   {
    "duration": 40,
    "start_time": "2021-10-24T14:51:51.884Z"
   },
   {
    "duration": 22,
    "start_time": "2021-10-24T14:51:51.927Z"
   },
   {
    "duration": 47,
    "start_time": "2021-10-24T14:51:51.952Z"
   },
   {
    "duration": 13,
    "start_time": "2021-10-24T14:51:52.022Z"
   },
   {
    "duration": 43,
    "start_time": "2021-10-24T14:51:52.038Z"
   },
   {
    "duration": 6,
    "start_time": "2021-10-24T14:51:52.083Z"
   },
   {
    "duration": 8,
    "start_time": "2021-10-24T14:51:52.122Z"
   },
   {
    "duration": 18,
    "start_time": "2021-10-24T14:51:52.133Z"
   },
   {
    "duration": 5,
    "start_time": "2021-10-24T14:51:52.154Z"
   },
   {
    "duration": 63,
    "start_time": "2021-10-24T14:51:52.161Z"
   },
   {
    "duration": 3,
    "start_time": "2021-10-24T14:51:52.226Z"
   },
   {
    "duration": 15,
    "start_time": "2021-10-24T14:51:52.232Z"
   },
   {
    "duration": 37,
    "start_time": "2021-10-24T14:51:52.249Z"
   },
   {
    "duration": 3,
    "start_time": "2021-10-24T14:51:52.289Z"
   },
   {
    "duration": 29,
    "start_time": "2021-10-24T14:51:52.295Z"
   },
   {
    "duration": 7,
    "start_time": "2021-10-24T14:51:52.327Z"
   },
   {
    "duration": 35,
    "start_time": "2021-10-24T14:51:52.336Z"
   },
   {
    "duration": 69,
    "start_time": "2021-10-24T14:51:52.374Z"
   },
   {
    "duration": 7,
    "start_time": "2021-10-24T14:51:52.446Z"
   },
   {
    "duration": 24,
    "start_time": "2021-10-24T14:51:52.456Z"
   },
   {
    "duration": 352,
    "start_time": "2021-10-24T14:51:55.574Z"
   },
   {
    "duration": 375,
    "start_time": "2021-10-24T14:52:39.777Z"
   },
   {
    "duration": 4,
    "start_time": "2021-10-24T14:52:49.519Z"
   },
   {
    "duration": 66,
    "start_time": "2021-10-24T14:52:49.525Z"
   },
   {
    "duration": 30,
    "start_time": "2021-10-24T14:52:49.594Z"
   },
   {
    "duration": 15,
    "start_time": "2021-10-24T14:52:49.628Z"
   },
   {
    "duration": 77,
    "start_time": "2021-10-24T14:52:49.645Z"
   },
   {
    "duration": 12,
    "start_time": "2021-10-24T14:52:49.725Z"
   },
   {
    "duration": 38,
    "start_time": "2021-10-24T14:52:49.741Z"
   },
   {
    "duration": 8,
    "start_time": "2021-10-24T14:52:49.781Z"
   },
   {
    "duration": 8,
    "start_time": "2021-10-24T14:52:49.823Z"
   },
   {
    "duration": 16,
    "start_time": "2021-10-24T14:52:49.833Z"
   },
   {
    "duration": 6,
    "start_time": "2021-10-24T14:52:49.851Z"
   },
   {
    "duration": 63,
    "start_time": "2021-10-24T14:52:49.859Z"
   },
   {
    "duration": 3,
    "start_time": "2021-10-24T14:52:49.925Z"
   },
   {
    "duration": 9,
    "start_time": "2021-10-24T14:52:49.930Z"
   },
   {
    "duration": 36,
    "start_time": "2021-10-24T14:52:49.941Z"
   },
   {
    "duration": 43,
    "start_time": "2021-10-24T14:52:49.980Z"
   },
   {
    "duration": 6,
    "start_time": "2021-10-24T14:52:50.026Z"
   },
   {
    "duration": 8,
    "start_time": "2021-10-24T14:52:50.034Z"
   },
   {
    "duration": 34,
    "start_time": "2021-10-24T14:52:50.048Z"
   },
   {
    "duration": 62,
    "start_time": "2021-10-24T14:52:50.084Z"
   },
   {
    "duration": 8,
    "start_time": "2021-10-24T14:52:50.148Z"
   },
   {
    "duration": 25,
    "start_time": "2021-10-24T14:52:50.158Z"
   },
   {
    "duration": 1085,
    "start_time": "2021-10-24T14:53:27.270Z"
   },
   {
    "duration": 1060,
    "start_time": "2021-10-24T14:55:40.403Z"
   },
   {
    "duration": 3,
    "start_time": "2021-10-24T14:55:49.148Z"
   },
   {
    "duration": 66,
    "start_time": "2021-10-24T14:55:49.156Z"
   },
   {
    "duration": 20,
    "start_time": "2021-10-24T14:55:49.225Z"
   },
   {
    "duration": 16,
    "start_time": "2021-10-24T14:55:49.249Z"
   },
   {
    "duration": 86,
    "start_time": "2021-10-24T14:55:49.268Z"
   },
   {
    "duration": 14,
    "start_time": "2021-10-24T14:55:49.357Z"
   },
   {
    "duration": 291,
    "start_time": "2021-10-24T14:55:52.131Z"
   },
   {
    "duration": 91,
    "start_time": "2021-10-24T14:58:12.281Z"
   },
   {
    "duration": 101,
    "start_time": "2021-10-24T14:58:29.359Z"
   },
   {
    "duration": 7,
    "start_time": "2021-10-24T14:58:36.835Z"
   },
   {
    "duration": 394,
    "start_time": "2021-10-24T15:00:03.906Z"
   },
   {
    "duration": 4,
    "start_time": "2021-10-24T15:00:14.945Z"
   },
   {
    "duration": 79,
    "start_time": "2021-10-24T15:00:14.955Z"
   },
   {
    "duration": 22,
    "start_time": "2021-10-24T15:00:15.037Z"
   },
   {
    "duration": 35,
    "start_time": "2021-10-24T15:00:15.062Z"
   },
   {
    "duration": 71,
    "start_time": "2021-10-24T15:00:15.100Z"
   },
   {
    "duration": 13,
    "start_time": "2021-10-24T15:00:15.174Z"
   },
   {
    "duration": 73,
    "start_time": "2021-10-24T15:00:15.189Z"
   },
   {
    "duration": 11,
    "start_time": "2021-10-24T15:00:15.265Z"
   },
   {
    "duration": 13,
    "start_time": "2021-10-24T15:00:15.282Z"
   },
   {
    "duration": 17,
    "start_time": "2021-10-24T15:00:15.328Z"
   },
   {
    "duration": 16,
    "start_time": "2021-10-24T15:00:15.348Z"
   },
   {
    "duration": 39,
    "start_time": "2021-10-24T15:00:15.367Z"
   },
   {
    "duration": 16,
    "start_time": "2021-10-24T15:00:15.409Z"
   },
   {
    "duration": 30,
    "start_time": "2021-10-24T15:00:15.428Z"
   },
   {
    "duration": 74,
    "start_time": "2021-10-24T15:00:15.461Z"
   },
   {
    "duration": 4,
    "start_time": "2021-10-24T15:00:15.538Z"
   },
   {
    "duration": 31,
    "start_time": "2021-10-24T15:00:15.545Z"
   },
   {
    "duration": 12,
    "start_time": "2021-10-24T15:00:15.578Z"
   },
   {
    "duration": 52,
    "start_time": "2021-10-24T15:00:15.592Z"
   },
   {
    "duration": 41,
    "start_time": "2021-10-24T15:00:15.646Z"
   },
   {
    "duration": 8,
    "start_time": "2021-10-24T15:00:15.690Z"
   },
   {
    "duration": 42,
    "start_time": "2021-10-24T15:00:15.701Z"
   },
   {
    "duration": 27,
    "start_time": "2021-10-24T15:00:15.746Z"
   },
   {
    "duration": 9,
    "start_time": "2021-10-24T15:00:17.887Z"
   },
   {
    "duration": 9,
    "start_time": "2021-10-24T15:01:01.507Z"
   },
   {
    "duration": 19,
    "start_time": "2021-10-24T15:02:49.552Z"
   },
   {
    "duration": 8,
    "start_time": "2021-10-24T15:27:10.002Z"
   },
   {
    "duration": 8,
    "start_time": "2021-10-24T15:27:48.343Z"
   },
   {
    "duration": 99,
    "start_time": "2021-10-24T15:29:44.209Z"
   },
   {
    "duration": 494,
    "start_time": "2021-10-24T15:29:53.135Z"
   },
   {
    "duration": 91,
    "start_time": "2021-10-24T15:29:59.824Z"
   },
   {
    "duration": 364,
    "start_time": "2021-10-24T15:30:58.496Z"
   },
   {
    "duration": 10,
    "start_time": "2021-10-24T15:31:06.977Z"
   },
   {
    "duration": 7,
    "start_time": "2021-10-24T15:31:13.977Z"
   },
   {
    "duration": 67,
    "start_time": "2021-10-24T15:31:13.987Z"
   },
   {
    "duration": 20,
    "start_time": "2021-10-24T15:31:14.057Z"
   },
   {
    "duration": 44,
    "start_time": "2021-10-24T15:31:14.081Z"
   },
   {
    "duration": 50,
    "start_time": "2021-10-24T15:31:14.128Z"
   },
   {
    "duration": 47,
    "start_time": "2021-10-24T15:31:14.181Z"
   },
   {
    "duration": 44,
    "start_time": "2021-10-24T15:31:14.230Z"
   },
   {
    "duration": 7,
    "start_time": "2021-10-24T15:31:14.278Z"
   },
   {
    "duration": 38,
    "start_time": "2021-10-24T15:31:14.288Z"
   },
   {
    "duration": 23,
    "start_time": "2021-10-24T15:31:14.329Z"
   },
   {
    "duration": 5,
    "start_time": "2021-10-24T15:31:14.356Z"
   },
   {
    "duration": 64,
    "start_time": "2021-10-24T15:31:14.364Z"
   },
   {
    "duration": 6,
    "start_time": "2021-10-24T15:31:14.430Z"
   },
   {
    "duration": 13,
    "start_time": "2021-10-24T15:31:14.439Z"
   },
   {
    "duration": 66,
    "start_time": "2021-10-24T15:31:14.456Z"
   },
   {
    "duration": 3,
    "start_time": "2021-10-24T15:31:14.526Z"
   },
   {
    "duration": 11,
    "start_time": "2021-10-24T15:31:14.532Z"
   },
   {
    "duration": 10,
    "start_time": "2021-10-24T15:31:14.546Z"
   },
   {
    "duration": 74,
    "start_time": "2021-10-24T15:31:14.558Z"
   },
   {
    "duration": 58,
    "start_time": "2021-10-24T15:31:14.634Z"
   },
   {
    "duration": 9,
    "start_time": "2021-10-24T15:31:14.695Z"
   },
   {
    "duration": 39,
    "start_time": "2021-10-24T15:31:14.707Z"
   },
   {
    "duration": 13,
    "start_time": "2021-10-24T15:31:14.754Z"
   },
   {
    "duration": 10,
    "start_time": "2021-10-24T15:31:14.770Z"
   },
   {
    "duration": 42,
    "start_time": "2021-10-24T15:31:14.783Z"
   },
   {
    "duration": 19,
    "start_time": "2021-10-24T15:31:14.827Z"
   },
   {
    "duration": 10,
    "start_time": "2021-10-24T15:31:14.850Z"
   },
   {
    "duration": 280,
    "start_time": "2021-10-24T15:31:17.199Z"
   },
   {
    "duration": 10,
    "start_time": "2021-10-24T15:33:12.478Z"
   },
   {
    "duration": 10,
    "start_time": "2021-10-24T15:33:19.358Z"
   },
   {
    "duration": 9,
    "start_time": "2021-10-24T15:34:04.493Z"
   },
   {
    "duration": 11,
    "start_time": "2021-10-24T15:34:34.926Z"
   },
   {
    "duration": 12,
    "start_time": "2021-10-24T15:34:43.181Z"
   },
   {
    "duration": 9,
    "start_time": "2021-10-24T15:34:50.382Z"
   },
   {
    "duration": 372,
    "start_time": "2021-10-24T15:37:47.371Z"
   },
   {
    "duration": 4,
    "start_time": "2021-10-24T15:37:54.134Z"
   },
   {
    "duration": 70,
    "start_time": "2021-10-24T15:37:54.141Z"
   },
   {
    "duration": 25,
    "start_time": "2021-10-24T15:37:54.214Z"
   },
   {
    "duration": 20,
    "start_time": "2021-10-24T15:37:54.242Z"
   },
   {
    "duration": 85,
    "start_time": "2021-10-24T15:37:54.264Z"
   },
   {
    "duration": 12,
    "start_time": "2021-10-24T15:37:54.352Z"
   },
   {
    "duration": 64,
    "start_time": "2021-10-24T15:37:54.368Z"
   },
   {
    "duration": 8,
    "start_time": "2021-10-24T15:37:54.435Z"
   },
   {
    "duration": 17,
    "start_time": "2021-10-24T15:37:54.445Z"
   },
   {
    "duration": 20,
    "start_time": "2021-10-24T15:37:54.464Z"
   },
   {
    "duration": 6,
    "start_time": "2021-10-24T15:37:54.487Z"
   },
   {
    "duration": 60,
    "start_time": "2021-10-24T15:37:54.495Z"
   },
   {
    "duration": 3,
    "start_time": "2021-10-24T15:37:54.558Z"
   },
   {
    "duration": 14,
    "start_time": "2021-10-24T15:37:54.563Z"
   },
   {
    "duration": 71,
    "start_time": "2021-10-24T15:37:54.579Z"
   },
   {
    "duration": 3,
    "start_time": "2021-10-24T15:37:54.652Z"
   },
   {
    "duration": 6,
    "start_time": "2021-10-24T15:37:54.658Z"
   },
   {
    "duration": 10,
    "start_time": "2021-10-24T15:37:54.667Z"
   },
   {
    "duration": 69,
    "start_time": "2021-10-24T15:37:54.683Z"
   },
   {
    "duration": 31,
    "start_time": "2021-10-24T15:37:54.756Z"
   },
   {
    "duration": 36,
    "start_time": "2021-10-24T15:37:54.790Z"
   },
   {
    "duration": 31,
    "start_time": "2021-10-24T15:37:54.828Z"
   },
   {
    "duration": 19,
    "start_time": "2021-10-24T15:37:54.862Z"
   },
   {
    "duration": 15,
    "start_time": "2021-10-24T15:37:54.883Z"
   },
   {
    "duration": 27,
    "start_time": "2021-10-24T15:37:54.900Z"
   },
   {
    "duration": 25,
    "start_time": "2021-10-24T15:37:54.930Z"
   },
   {
    "duration": 10,
    "start_time": "2021-10-24T15:37:54.957Z"
   },
   {
    "duration": 20,
    "start_time": "2021-10-24T15:37:54.970Z"
   },
   {
    "duration": 36,
    "start_time": "2021-10-24T15:37:54.993Z"
   },
   {
    "duration": 7,
    "start_time": "2021-10-24T15:37:55.032Z"
   },
   {
    "duration": 6,
    "start_time": "2021-10-24T15:37:57.435Z"
   },
   {
    "duration": 39,
    "start_time": "2021-10-24T15:40:28.718Z"
   },
   {
    "duration": 26,
    "start_time": "2021-10-24T15:42:00.874Z"
   },
   {
    "duration": 6,
    "start_time": "2021-10-24T15:42:49.356Z"
   },
   {
    "duration": 21,
    "start_time": "2021-10-24T15:43:15.131Z"
   },
   {
    "duration": 14,
    "start_time": "2021-10-24T15:43:46.076Z"
   },
   {
    "duration": 16,
    "start_time": "2021-10-24T15:45:01.303Z"
   },
   {
    "duration": 22,
    "start_time": "2021-10-24T15:45:27.624Z"
   },
   {
    "duration": 17,
    "start_time": "2021-10-24T15:45:38.263Z"
   },
   {
    "duration": 21,
    "start_time": "2021-10-24T15:48:40.028Z"
   },
   {
    "duration": 41,
    "start_time": "2021-10-24T15:48:56.694Z"
   },
   {
    "duration": 277,
    "start_time": "2021-10-24T15:49:45.381Z"
   },
   {
    "duration": 6,
    "start_time": "2021-10-24T15:50:21.510Z"
   },
   {
    "duration": 8,
    "start_time": "2021-10-24T15:50:31.781Z"
   },
   {
    "duration": 20,
    "start_time": "2021-10-24T15:52:26.612Z"
   },
   {
    "duration": 4,
    "start_time": "2021-10-24T15:57:14.688Z"
   },
   {
    "duration": 5,
    "start_time": "2021-10-24T15:57:30.012Z"
   },
   {
    "duration": 5,
    "start_time": "2021-10-24T15:57:43.440Z"
   },
   {
    "duration": 6,
    "start_time": "2021-10-24T15:57:46.560Z"
   },
   {
    "duration": 290,
    "start_time": "2021-10-24T16:01:10.752Z"
   },
   {
    "duration": 25,
    "start_time": "2021-10-24T16:02:32.719Z"
   },
   {
    "duration": 8,
    "start_time": "2021-10-24T16:06:34.588Z"
   },
   {
    "duration": 856,
    "start_time": "2021-10-24T16:07:15.292Z"
   },
   {
    "duration": 4,
    "start_time": "2021-10-24T16:07:25.208Z"
   },
   {
    "duration": 77,
    "start_time": "2021-10-24T16:07:25.217Z"
   },
   {
    "duration": 27,
    "start_time": "2021-10-24T16:07:25.298Z"
   },
   {
    "duration": 27,
    "start_time": "2021-10-24T16:07:25.330Z"
   },
   {
    "duration": 71,
    "start_time": "2021-10-24T16:07:25.360Z"
   },
   {
    "duration": 15,
    "start_time": "2021-10-24T16:07:25.434Z"
   },
   {
    "duration": 9,
    "start_time": "2021-10-24T16:07:25.452Z"
   },
   {
    "duration": 10,
    "start_time": "2021-10-24T16:07:25.464Z"
   },
   {
    "duration": 48,
    "start_time": "2021-10-24T16:07:25.478Z"
   },
   {
    "duration": 8,
    "start_time": "2021-10-24T16:07:25.529Z"
   },
   {
    "duration": 36,
    "start_time": "2021-10-24T16:07:25.541Z"
   },
   {
    "duration": 16,
    "start_time": "2021-10-24T16:07:25.579Z"
   },
   {
    "duration": 47,
    "start_time": "2021-10-24T16:07:25.622Z"
   },
   {
    "duration": 5,
    "start_time": "2021-10-24T16:07:25.672Z"
   },
   {
    "duration": 17,
    "start_time": "2021-10-24T16:07:25.679Z"
   },
   {
    "duration": 357,
    "start_time": "2021-10-24T16:07:28.286Z"
   },
   {
    "duration": 34,
    "start_time": "2021-10-24T16:07:33.739Z"
   },
   {
    "duration": 288,
    "start_time": "2021-10-24T16:08:50.526Z"
   },
   {
    "duration": 36,
    "start_time": "2021-10-24T16:09:06.603Z"
   },
   {
    "duration": 8,
    "start_time": "2021-10-24T16:09:10.366Z"
   },
   {
    "duration": 5,
    "start_time": "2021-10-24T16:09:14.563Z"
   },
   {
    "duration": 91,
    "start_time": "2021-10-24T16:09:14.570Z"
   },
   {
    "duration": 20,
    "start_time": "2021-10-24T16:09:14.664Z"
   },
   {
    "duration": 48,
    "start_time": "2021-10-24T16:09:14.687Z"
   },
   {
    "duration": 58,
    "start_time": "2021-10-24T16:09:14.738Z"
   },
   {
    "duration": 26,
    "start_time": "2021-10-24T16:09:14.799Z"
   },
   {
    "duration": 13,
    "start_time": "2021-10-24T16:09:14.831Z"
   },
   {
    "duration": 21,
    "start_time": "2021-10-24T16:09:14.847Z"
   },
   {
    "duration": 26,
    "start_time": "2021-10-24T16:09:14.871Z"
   },
   {
    "duration": 22,
    "start_time": "2021-10-24T16:09:14.900Z"
   },
   {
    "duration": 60,
    "start_time": "2021-10-24T16:09:14.925Z"
   },
   {
    "duration": 23,
    "start_time": "2021-10-24T16:09:14.988Z"
   },
   {
    "duration": 63,
    "start_time": "2021-10-24T16:09:15.013Z"
   },
   {
    "duration": 5,
    "start_time": "2021-10-24T16:09:15.079Z"
   },
   {
    "duration": 23,
    "start_time": "2021-10-24T16:09:15.087Z"
   },
   {
    "duration": 55,
    "start_time": "2021-10-24T16:09:15.112Z"
   },
   {
    "duration": 3,
    "start_time": "2021-10-24T16:09:36.909Z"
   },
   {
    "duration": 94,
    "start_time": "2021-10-24T16:09:36.920Z"
   },
   {
    "duration": 27,
    "start_time": "2021-10-24T16:09:37.017Z"
   },
   {
    "duration": 38,
    "start_time": "2021-10-24T16:09:37.049Z"
   },
   {
    "duration": 65,
    "start_time": "2021-10-24T16:09:37.091Z"
   },
   {
    "duration": 13,
    "start_time": "2021-10-24T16:09:37.159Z"
   },
   {
    "duration": 24,
    "start_time": "2021-10-24T16:09:37.175Z"
   },
   {
    "duration": 38,
    "start_time": "2021-10-24T16:09:37.202Z"
   },
   {
    "duration": 35,
    "start_time": "2021-10-24T16:09:37.242Z"
   },
   {
    "duration": 22,
    "start_time": "2021-10-24T16:09:37.282Z"
   },
   {
    "duration": 51,
    "start_time": "2021-10-24T16:09:37.308Z"
   },
   {
    "duration": 30,
    "start_time": "2021-10-24T16:09:37.362Z"
   },
   {
    "duration": 60,
    "start_time": "2021-10-24T16:09:37.395Z"
   },
   {
    "duration": 6,
    "start_time": "2021-10-24T16:09:37.458Z"
   },
   {
    "duration": 25,
    "start_time": "2021-10-24T16:09:37.466Z"
   },
   {
    "duration": 74,
    "start_time": "2021-10-24T16:09:37.493Z"
   },
   {
    "duration": 30,
    "start_time": "2021-10-24T16:09:37.569Z"
   },
   {
    "duration": 14,
    "start_time": "2021-10-24T16:09:37.602Z"
   },
   {
    "duration": 46,
    "start_time": "2021-10-24T16:09:37.624Z"
   },
   {
    "duration": 41,
    "start_time": "2021-10-24T16:09:37.673Z"
   },
   {
    "duration": 32,
    "start_time": "2021-10-24T16:09:37.716Z"
   },
   {
    "duration": 36,
    "start_time": "2021-10-24T16:09:37.750Z"
   },
   {
    "duration": 59,
    "start_time": "2021-10-24T16:09:37.789Z"
   },
   {
    "duration": 27,
    "start_time": "2021-10-24T16:09:37.851Z"
   },
   {
    "duration": 26,
    "start_time": "2021-10-24T16:09:37.880Z"
   },
   {
    "duration": 31,
    "start_time": "2021-10-24T16:09:37.910Z"
   },
   {
    "duration": 23,
    "start_time": "2021-10-24T16:09:37.944Z"
   },
   {
    "duration": 28,
    "start_time": "2021-10-24T16:09:37.971Z"
   },
   {
    "duration": 64,
    "start_time": "2021-10-24T16:09:38.002Z"
   },
   {
    "duration": 32,
    "start_time": "2021-10-24T16:09:38.069Z"
   },
   {
    "duration": 8,
    "start_time": "2021-10-24T16:09:38.103Z"
   },
   {
    "duration": 58,
    "start_time": "2021-10-24T16:09:38.113Z"
   },
   {
    "duration": 15,
    "start_time": "2021-10-24T16:09:40.777Z"
   },
   {
    "duration": 14,
    "start_time": "2021-10-24T16:09:58.377Z"
   },
   {
    "duration": 24,
    "start_time": "2021-10-24T16:10:04.218Z"
   },
   {
    "duration": 5,
    "start_time": "2021-10-24T16:10:51.323Z"
   },
   {
    "duration": 89,
    "start_time": "2021-10-24T16:10:51.331Z"
   },
   {
    "duration": 29,
    "start_time": "2021-10-24T16:10:51.424Z"
   },
   {
    "duration": 16,
    "start_time": "2021-10-24T16:10:51.456Z"
   },
   {
    "duration": 93,
    "start_time": "2021-10-24T16:10:51.475Z"
   },
   {
    "duration": 13,
    "start_time": "2021-10-24T16:10:51.570Z"
   },
   {
    "duration": 8,
    "start_time": "2021-10-24T16:10:51.586Z"
   },
   {
    "duration": 10,
    "start_time": "2021-10-24T16:10:51.625Z"
   },
   {
    "duration": 14,
    "start_time": "2021-10-24T16:10:51.639Z"
   },
   {
    "duration": 9,
    "start_time": "2021-10-24T16:10:51.656Z"
   },
   {
    "duration": 57,
    "start_time": "2021-10-24T16:10:51.668Z"
   },
   {
    "duration": 13,
    "start_time": "2021-10-24T16:10:51.728Z"
   },
   {
    "duration": 37,
    "start_time": "2021-10-24T16:10:51.745Z"
   },
   {
    "duration": 4,
    "start_time": "2021-10-24T16:10:51.785Z"
   },
   {
    "duration": 37,
    "start_time": "2021-10-24T16:10:51.791Z"
   },
   {
    "duration": 49,
    "start_time": "2021-10-24T16:10:51.831Z"
   },
   {
    "duration": 54,
    "start_time": "2021-10-24T16:10:51.882Z"
   },
   {
    "duration": 11,
    "start_time": "2021-10-24T16:10:51.939Z"
   },
   {
    "duration": 43,
    "start_time": "2021-10-24T16:10:51.954Z"
   },
   {
    "duration": 23,
    "start_time": "2021-10-24T16:10:52.000Z"
   },
   {
    "duration": 32,
    "start_time": "2021-10-24T16:10:52.026Z"
   },
   {
    "duration": 28,
    "start_time": "2021-10-24T16:10:52.061Z"
   },
   {
    "duration": 38,
    "start_time": "2021-10-24T16:10:52.092Z"
   },
   {
    "duration": 20,
    "start_time": "2021-10-24T16:10:52.133Z"
   },
   {
    "duration": 31,
    "start_time": "2021-10-24T16:10:52.155Z"
   },
   {
    "duration": 38,
    "start_time": "2021-10-24T16:10:52.189Z"
   },
   {
    "duration": 30,
    "start_time": "2021-10-24T16:10:52.230Z"
   },
   {
    "duration": 21,
    "start_time": "2021-10-24T16:10:52.262Z"
   },
   {
    "duration": 60,
    "start_time": "2021-10-24T16:10:52.286Z"
   },
   {
    "duration": 48,
    "start_time": "2021-10-24T16:10:52.349Z"
   },
   {
    "duration": 12,
    "start_time": "2021-10-24T16:10:52.399Z"
   },
   {
    "duration": 46,
    "start_time": "2021-10-24T16:10:52.414Z"
   },
   {
    "duration": 27,
    "start_time": "2021-10-24T16:10:52.463Z"
   },
   {
    "duration": 11,
    "start_time": "2021-10-24T16:10:52.493Z"
   },
   {
    "duration": 15,
    "start_time": "2021-10-24T16:10:54.858Z"
   },
   {
    "duration": 4,
    "start_time": "2021-10-24T16:11:19.804Z"
   },
   {
    "duration": 72,
    "start_time": "2021-10-24T16:11:19.810Z"
   },
   {
    "duration": 21,
    "start_time": "2021-10-24T16:11:24.008Z"
   },
   {
    "duration": 4,
    "start_time": "2021-10-24T16:11:29.096Z"
   },
   {
    "duration": 28,
    "start_time": "2021-10-24T16:11:31.710Z"
   },
   {
    "duration": 5,
    "start_time": "2021-10-24T16:12:37.006Z"
   },
   {
    "duration": 134,
    "start_time": "2021-10-24T16:12:37.015Z"
   },
   {
    "duration": 20,
    "start_time": "2021-10-24T16:12:39.362Z"
   },
   {
    "duration": 4,
    "start_time": "2021-10-24T16:12:42.722Z"
   },
   {
    "duration": 67,
    "start_time": "2021-10-24T16:12:44.129Z"
   },
   {
    "duration": 20,
    "start_time": "2021-10-24T16:12:44.899Z"
   },
   {
    "duration": 18,
    "start_time": "2021-10-24T16:12:54.708Z"
   },
   {
    "duration": 5,
    "start_time": "2021-10-24T16:14:18.802Z"
   },
   {
    "duration": 5,
    "start_time": "2021-10-24T16:14:23.170Z"
   },
   {
    "duration": 35,
    "start_time": "2021-10-24T16:14:27.441Z"
   },
   {
    "duration": 28,
    "start_time": "2021-10-24T16:14:32.480Z"
   },
   {
    "duration": 8,
    "start_time": "2021-10-24T16:14:35.856Z"
   },
   {
    "duration": 23,
    "start_time": "2021-10-24T16:14:39.776Z"
   },
   {
    "duration": 8,
    "start_time": "2021-10-24T16:14:47.743Z"
   },
   {
    "duration": 287,
    "start_time": "2021-10-24T16:14:48.768Z"
   },
   {
    "duration": 295,
    "start_time": "2021-10-24T16:14:53.056Z"
   },
   {
    "duration": 4,
    "start_time": "2021-10-24T16:14:56.466Z"
   },
   {
    "duration": 83,
    "start_time": "2021-10-24T16:14:56.473Z"
   },
   {
    "duration": 22,
    "start_time": "2021-10-24T16:14:56.560Z"
   },
   {
    "duration": 54,
    "start_time": "2021-10-24T16:14:56.585Z"
   },
   {
    "duration": 48,
    "start_time": "2021-10-24T16:14:56.641Z"
   },
   {
    "duration": 39,
    "start_time": "2021-10-24T16:14:56.691Z"
   },
   {
    "duration": 9,
    "start_time": "2021-10-24T16:14:56.735Z"
   },
   {
    "duration": 9,
    "start_time": "2021-10-24T16:14:56.748Z"
   },
   {
    "duration": 19,
    "start_time": "2021-10-24T16:14:56.760Z"
   },
   {
    "duration": 14,
    "start_time": "2021-10-24T16:14:56.781Z"
   },
   {
    "duration": 42,
    "start_time": "2021-10-24T16:14:56.822Z"
   },
   {
    "duration": 8,
    "start_time": "2021-10-24T16:14:56.867Z"
   },
   {
    "duration": 75,
    "start_time": "2021-10-24T16:14:56.878Z"
   },
   {
    "duration": 5,
    "start_time": "2021-10-24T16:14:56.955Z"
   },
   {
    "duration": 8,
    "start_time": "2021-10-24T16:14:56.964Z"
   },
   {
    "duration": 66,
    "start_time": "2021-10-24T16:14:56.974Z"
   },
   {
    "duration": 30,
    "start_time": "2021-10-24T16:14:57.043Z"
   },
   {
    "duration": 9,
    "start_time": "2021-10-24T16:14:57.076Z"
   },
   {
    "duration": 55,
    "start_time": "2021-10-24T16:14:57.089Z"
   },
   {
    "duration": 10,
    "start_time": "2021-10-24T16:14:57.147Z"
   },
   {
    "duration": 15,
    "start_time": "2021-10-24T16:14:57.160Z"
   },
   {
    "duration": 9,
    "start_time": "2021-10-24T16:15:03.284Z"
   },
   {
    "duration": 19,
    "start_time": "2021-10-24T16:15:06.049Z"
   },
   {
    "duration": 4,
    "start_time": "2021-10-24T16:15:14.324Z"
   },
   {
    "duration": 73,
    "start_time": "2021-10-24T16:15:14.331Z"
   },
   {
    "duration": 35,
    "start_time": "2021-10-24T16:15:14.408Z"
   },
   {
    "duration": 17,
    "start_time": "2021-10-24T16:15:14.446Z"
   },
   {
    "duration": 92,
    "start_time": "2021-10-24T16:15:14.466Z"
   },
   {
    "duration": 14,
    "start_time": "2021-10-24T16:15:14.561Z"
   },
   {
    "duration": 8,
    "start_time": "2021-10-24T16:15:14.579Z"
   },
   {
    "duration": 36,
    "start_time": "2021-10-24T16:15:14.590Z"
   },
   {
    "duration": 19,
    "start_time": "2021-10-24T16:15:14.629Z"
   },
   {
    "duration": 10,
    "start_time": "2021-10-24T16:15:14.651Z"
   },
   {
    "duration": 61,
    "start_time": "2021-10-24T16:15:14.664Z"
   },
   {
    "duration": 19,
    "start_time": "2021-10-24T16:15:14.729Z"
   },
   {
    "duration": 49,
    "start_time": "2021-10-24T16:15:14.751Z"
   },
   {
    "duration": 5,
    "start_time": "2021-10-24T16:15:14.803Z"
   },
   {
    "duration": 16,
    "start_time": "2021-10-24T16:15:14.810Z"
   },
   {
    "duration": 48,
    "start_time": "2021-10-24T16:15:14.830Z"
   },
   {
    "duration": 62,
    "start_time": "2021-10-24T16:15:14.880Z"
   },
   {
    "duration": 9,
    "start_time": "2021-10-24T16:15:14.945Z"
   },
   {
    "duration": 22,
    "start_time": "2021-10-24T16:15:14.959Z"
   },
   {
    "duration": 46,
    "start_time": "2021-10-24T16:15:14.984Z"
   },
   {
    "duration": 14,
    "start_time": "2021-10-24T16:15:15.034Z"
   },
   {
    "duration": 14,
    "start_time": "2021-10-24T16:15:15.050Z"
   },
   {
    "duration": 25,
    "start_time": "2021-10-24T16:15:15.067Z"
   },
   {
    "duration": 39,
    "start_time": "2021-10-24T16:15:15.094Z"
   },
   {
    "duration": 11,
    "start_time": "2021-10-24T16:15:15.136Z"
   },
   {
    "duration": 11,
    "start_time": "2021-10-24T16:15:15.150Z"
   },
   {
    "duration": 4,
    "start_time": "2021-10-24T16:15:15.164Z"
   },
   {
    "duration": 11,
    "start_time": "2021-10-24T16:15:15.170Z"
   },
   {
    "duration": 80,
    "start_time": "2021-10-24T16:15:15.184Z"
   },
   {
    "duration": 28,
    "start_time": "2021-10-24T16:15:15.266Z"
   },
   {
    "duration": 30,
    "start_time": "2021-10-24T16:15:15.297Z"
   },
   {
    "duration": 33,
    "start_time": "2021-10-24T16:15:15.331Z"
   },
   {
    "duration": 4,
    "start_time": "2021-10-24T16:15:20.083Z"
   },
   {
    "duration": 85,
    "start_time": "2021-10-24T16:15:20.090Z"
   },
   {
    "duration": 19,
    "start_time": "2021-10-24T16:15:20.178Z"
   },
   {
    "duration": 20,
    "start_time": "2021-10-24T16:15:20.224Z"
   },
   {
    "duration": 86,
    "start_time": "2021-10-24T16:15:20.247Z"
   },
   {
    "duration": 14,
    "start_time": "2021-10-24T16:15:20.337Z"
   },
   {
    "duration": 22,
    "start_time": "2021-10-24T16:15:20.355Z"
   },
   {
    "duration": 22,
    "start_time": "2021-10-24T16:15:20.380Z"
   },
   {
    "duration": 42,
    "start_time": "2021-10-24T16:15:20.404Z"
   },
   {
    "duration": 16,
    "start_time": "2021-10-24T16:15:20.448Z"
   },
   {
    "duration": 54,
    "start_time": "2021-10-24T16:15:20.466Z"
   },
   {
    "duration": 20,
    "start_time": "2021-10-24T16:15:20.524Z"
   },
   {
    "duration": 46,
    "start_time": "2021-10-24T16:15:20.547Z"
   },
   {
    "duration": 6,
    "start_time": "2021-10-24T16:15:20.596Z"
   },
   {
    "duration": 22,
    "start_time": "2021-10-24T16:15:20.605Z"
   },
   {
    "duration": 50,
    "start_time": "2021-10-24T16:15:20.630Z"
   },
   {
    "duration": 47,
    "start_time": "2021-10-24T16:15:20.683Z"
   },
   {
    "duration": 10,
    "start_time": "2021-10-24T16:15:20.733Z"
   },
   {
    "duration": 34,
    "start_time": "2021-10-24T16:15:20.747Z"
   },
   {
    "duration": 28,
    "start_time": "2021-10-24T16:15:20.784Z"
   },
   {
    "duration": 29,
    "start_time": "2021-10-24T16:15:20.815Z"
   },
   {
    "duration": 23,
    "start_time": "2021-10-24T16:15:20.847Z"
   },
   {
    "duration": 38,
    "start_time": "2021-10-24T16:15:20.873Z"
   },
   {
    "duration": 33,
    "start_time": "2021-10-24T16:15:20.913Z"
   },
   {
    "duration": 33,
    "start_time": "2021-10-24T16:15:20.948Z"
   },
   {
    "duration": 31,
    "start_time": "2021-10-24T16:15:20.983Z"
   },
   {
    "duration": 9,
    "start_time": "2021-10-24T16:15:21.017Z"
   },
   {
    "duration": 29,
    "start_time": "2021-10-24T16:15:21.029Z"
   },
   {
    "duration": 53,
    "start_time": "2021-10-24T16:15:21.061Z"
   },
   {
    "duration": 38,
    "start_time": "2021-10-24T16:15:21.117Z"
   },
   {
    "duration": 7,
    "start_time": "2021-10-24T16:15:21.157Z"
   },
   {
    "duration": 32,
    "start_time": "2021-10-24T16:15:21.167Z"
   },
   {
    "duration": 46,
    "start_time": "2021-10-24T16:15:21.202Z"
   },
   {
    "duration": 20,
    "start_time": "2021-10-24T16:15:21.250Z"
   },
   {
    "duration": 17,
    "start_time": "2021-10-24T16:15:24.703Z"
   },
   {
    "duration": 39,
    "start_time": "2021-10-24T16:16:11.204Z"
   },
   {
    "duration": 6,
    "start_time": "2021-10-24T16:16:33.311Z"
   },
   {
    "duration": 6,
    "start_time": "2021-10-24T16:16:34.159Z"
   },
   {
    "duration": 32,
    "start_time": "2021-10-24T16:16:36.864Z"
   },
   {
    "duration": 33,
    "start_time": "2021-10-24T16:16:41.679Z"
   },
   {
    "duration": 302,
    "start_time": "2021-10-24T16:16:58.018Z"
   },
   {
    "duration": 33,
    "start_time": "2021-10-24T16:17:24.912Z"
   },
   {
    "duration": 9,
    "start_time": "2021-10-24T16:17:29.166Z"
   },
   {
    "duration": 27,
    "start_time": "2021-10-24T16:17:32.929Z"
   },
   {
    "duration": 8,
    "start_time": "2021-10-24T16:17:37.838Z"
   },
   {
    "duration": 5,
    "start_time": "2021-10-24T16:17:38.606Z"
   },
   {
    "duration": 12,
    "start_time": "2021-10-24T16:17:42.926Z"
   },
   {
    "duration": 21,
    "start_time": "2021-10-24T16:17:45.936Z"
   },
   {
    "duration": 5,
    "start_time": "2021-10-24T16:17:55.624Z"
   },
   {
    "duration": 69,
    "start_time": "2021-10-24T16:17:55.633Z"
   },
   {
    "duration": 36,
    "start_time": "2021-10-24T16:17:55.705Z"
   },
   {
    "duration": 16,
    "start_time": "2021-10-24T16:17:55.744Z"
   },
   {
    "duration": 99,
    "start_time": "2021-10-24T16:17:55.763Z"
   },
   {
    "duration": 14,
    "start_time": "2021-10-24T16:17:55.864Z"
   },
   {
    "duration": 21,
    "start_time": "2021-10-24T16:17:55.881Z"
   },
   {
    "duration": 15,
    "start_time": "2021-10-24T16:17:55.923Z"
   },
   {
    "duration": 17,
    "start_time": "2021-10-24T16:17:55.942Z"
   },
   {
    "duration": 25,
    "start_time": "2021-10-24T16:17:55.961Z"
   },
   {
    "duration": 54,
    "start_time": "2021-10-24T16:17:55.989Z"
   },
   {
    "duration": 12,
    "start_time": "2021-10-24T16:17:56.046Z"
   },
   {
    "duration": 76,
    "start_time": "2021-10-24T16:17:56.061Z"
   },
   {
    "duration": 7,
    "start_time": "2021-10-24T16:17:56.141Z"
   },
   {
    "duration": 30,
    "start_time": "2021-10-24T16:17:56.150Z"
   },
   {
    "duration": 48,
    "start_time": "2021-10-24T16:17:56.183Z"
   },
   {
    "duration": 32,
    "start_time": "2021-10-24T16:17:56.234Z"
   },
   {
    "duration": 9,
    "start_time": "2021-10-24T16:17:56.268Z"
   },
   {
    "duration": 56,
    "start_time": "2021-10-24T16:17:56.282Z"
   },
   {
    "duration": 9,
    "start_time": "2021-10-24T16:17:56.342Z"
   },
   {
    "duration": 15,
    "start_time": "2021-10-24T16:17:56.354Z"
   },
   {
    "duration": 14,
    "start_time": "2021-10-24T16:17:56.372Z"
   },
   {
    "duration": 54,
    "start_time": "2021-10-24T16:17:56.389Z"
   },
   {
    "duration": 9,
    "start_time": "2021-10-24T16:17:56.445Z"
   },
   {
    "duration": 18,
    "start_time": "2021-10-24T16:17:56.456Z"
   },
   {
    "duration": 20,
    "start_time": "2021-10-24T16:17:56.477Z"
   },
   {
    "duration": 26,
    "start_time": "2021-10-24T16:17:56.499Z"
   },
   {
    "duration": 11,
    "start_time": "2021-10-24T16:17:56.528Z"
   },
   {
    "duration": 40,
    "start_time": "2021-10-24T16:17:56.543Z"
   },
   {
    "duration": 59,
    "start_time": "2021-10-24T16:17:56.587Z"
   },
   {
    "duration": 7,
    "start_time": "2021-10-24T16:17:56.649Z"
   },
   {
    "duration": 23,
    "start_time": "2021-10-24T16:17:56.659Z"
   },
   {
    "duration": 55,
    "start_time": "2021-10-24T16:17:56.684Z"
   },
   {
    "duration": 3,
    "start_time": "2021-10-24T16:17:56.741Z"
   },
   {
    "duration": 1143,
    "start_time": "2021-10-24T16:18:21.903Z"
   },
   {
    "duration": 9,
    "start_time": "2021-10-24T16:18:53.982Z"
   },
   {
    "duration": 18,
    "start_time": "2021-10-24T16:19:07.680Z"
   },
   {
    "duration": 17,
    "start_time": "2021-10-24T16:19:39.906Z"
   },
   {
    "duration": 4,
    "start_time": "2021-10-24T16:19:45.808Z"
   },
   {
    "duration": 69,
    "start_time": "2021-10-24T16:19:45.817Z"
   },
   {
    "duration": 19,
    "start_time": "2021-10-24T16:19:45.889Z"
   },
   {
    "duration": 21,
    "start_time": "2021-10-24T16:19:45.923Z"
   },
   {
    "duration": 99,
    "start_time": "2021-10-24T16:19:45.948Z"
   },
   {
    "duration": 16,
    "start_time": "2021-10-24T16:19:46.050Z"
   },
   {
    "duration": 11,
    "start_time": "2021-10-24T16:19:46.069Z"
   },
   {
    "duration": 12,
    "start_time": "2021-10-24T16:19:46.123Z"
   },
   {
    "duration": 15,
    "start_time": "2021-10-24T16:19:46.140Z"
   },
   {
    "duration": 8,
    "start_time": "2021-10-24T16:19:46.159Z"
   },
   {
    "duration": 70,
    "start_time": "2021-10-24T16:19:46.171Z"
   },
   {
    "duration": 15,
    "start_time": "2021-10-24T16:19:46.244Z"
   },
   {
    "duration": 61,
    "start_time": "2021-10-24T16:19:46.261Z"
   },
   {
    "duration": 6,
    "start_time": "2021-10-24T16:19:46.326Z"
   },
   {
    "duration": 24,
    "start_time": "2021-10-24T16:19:46.336Z"
   },
   {
    "duration": 44,
    "start_time": "2021-10-24T16:19:46.363Z"
   },
   {
    "duration": 42,
    "start_time": "2021-10-24T16:19:46.423Z"
   },
   {
    "duration": 11,
    "start_time": "2021-10-24T16:19:46.468Z"
   },
   {
    "duration": 53,
    "start_time": "2021-10-24T16:19:46.482Z"
   },
   {
    "duration": 16,
    "start_time": "2021-10-24T16:19:46.538Z"
   },
   {
    "duration": 14,
    "start_time": "2021-10-24T16:19:46.556Z"
   },
   {
    "duration": 9,
    "start_time": "2021-10-24T16:19:46.573Z"
   },
   {
    "duration": 51,
    "start_time": "2021-10-24T16:19:46.585Z"
   },
   {
    "duration": 9,
    "start_time": "2021-10-24T16:19:46.641Z"
   },
   {
    "duration": 11,
    "start_time": "2021-10-24T16:19:46.654Z"
   },
   {
    "duration": 9,
    "start_time": "2021-10-24T16:19:46.668Z"
   },
   {
    "duration": 45,
    "start_time": "2021-10-24T16:19:46.679Z"
   },
   {
    "duration": 9,
    "start_time": "2021-10-24T16:19:46.726Z"
   },
   {
    "duration": 37,
    "start_time": "2021-10-24T16:19:46.738Z"
   },
   {
    "duration": 57,
    "start_time": "2021-10-24T16:19:46.778Z"
   },
   {
    "duration": 7,
    "start_time": "2021-10-24T16:19:46.838Z"
   },
   {
    "duration": 25,
    "start_time": "2021-10-24T16:19:46.849Z"
   },
   {
    "duration": 13,
    "start_time": "2021-10-24T16:19:46.876Z"
   },
   {
    "duration": 4,
    "start_time": "2021-10-24T16:19:46.926Z"
   },
   {
    "duration": 22,
    "start_time": "2021-10-24T16:19:46.932Z"
   },
   {
    "duration": 8,
    "start_time": "2021-10-24T16:19:46.956Z"
   },
   {
    "duration": 21,
    "start_time": "2021-10-24T16:19:46.966Z"
   },
   {
    "duration": 37,
    "start_time": "2021-10-24T16:19:46.990Z"
   },
   {
    "duration": 5,
    "start_time": "2021-10-24T16:19:47.030Z"
   },
   {
    "duration": 9,
    "start_time": "2021-10-24T16:19:47.038Z"
   },
   {
    "duration": 8,
    "start_time": "2021-10-24T16:19:49.581Z"
   },
   {
    "duration": 5,
    "start_time": "2021-10-24T16:19:55.661Z"
   },
   {
    "duration": 78,
    "start_time": "2021-10-24T16:20:56.204Z"
   },
   {
    "duration": 36,
    "start_time": "2021-10-24T16:21:07.036Z"
   },
   {
    "duration": 31,
    "start_time": "2021-10-24T16:21:11.147Z"
   },
   {
    "duration": 41,
    "start_time": "2021-10-24T16:21:17.725Z"
   },
   {
    "duration": 12,
    "start_time": "2021-10-24T16:21:21.532Z"
   },
   {
    "duration": 17,
    "start_time": "2021-10-24T16:21:25.451Z"
   },
   {
    "duration": 34,
    "start_time": "2021-10-24T16:21:28.748Z"
   },
   {
    "duration": 16,
    "start_time": "2021-10-24T16:22:01.020Z"
   },
   {
    "duration": 19,
    "start_time": "2021-10-24T16:22:10.526Z"
   },
   {
    "duration": 13,
    "start_time": "2021-10-24T16:22:17.261Z"
   },
   {
    "duration": 72,
    "start_time": "2021-10-24T16:22:24.652Z"
   },
   {
    "duration": 296,
    "start_time": "2021-10-24T16:32:02.854Z"
   },
   {
    "duration": 3,
    "start_time": "2021-10-24T16:32:12.063Z"
   },
   {
    "duration": 91,
    "start_time": "2021-10-24T16:32:12.074Z"
   },
   {
    "duration": 20,
    "start_time": "2021-10-24T16:32:12.168Z"
   },
   {
    "duration": 49,
    "start_time": "2021-10-24T16:32:12.190Z"
   },
   {
    "duration": 50,
    "start_time": "2021-10-24T16:32:12.242Z"
   },
   {
    "duration": 46,
    "start_time": "2021-10-24T16:32:12.294Z"
   },
   {
    "duration": 8,
    "start_time": "2021-10-24T16:32:12.342Z"
   },
   {
    "duration": 19,
    "start_time": "2021-10-24T16:32:12.353Z"
   },
   {
    "duration": 48,
    "start_time": "2021-10-24T16:32:12.376Z"
   },
   {
    "duration": 8,
    "start_time": "2021-10-24T16:32:12.428Z"
   },
   {
    "duration": 44,
    "start_time": "2021-10-24T16:32:12.439Z"
   },
   {
    "duration": 44,
    "start_time": "2021-10-24T16:32:12.486Z"
   },
   {
    "duration": 40,
    "start_time": "2021-10-24T16:32:12.533Z"
   },
   {
    "duration": 5,
    "start_time": "2021-10-24T16:32:12.575Z"
   },
   {
    "duration": 43,
    "start_time": "2021-10-24T16:32:12.582Z"
   },
   {
    "duration": 40,
    "start_time": "2021-10-24T16:32:12.627Z"
   },
   {
    "duration": 55,
    "start_time": "2021-10-24T16:32:12.670Z"
   },
   {
    "duration": 11,
    "start_time": "2021-10-24T16:32:12.729Z"
   },
   {
    "duration": 27,
    "start_time": "2021-10-24T16:32:12.743Z"
   },
   {
    "duration": 13,
    "start_time": "2021-10-24T16:32:12.772Z"
   },
   {
    "duration": 44,
    "start_time": "2021-10-24T16:32:12.788Z"
   },
   {
    "duration": 12,
    "start_time": "2021-10-24T16:32:12.835Z"
   },
   {
    "duration": 22,
    "start_time": "2021-10-24T16:32:12.850Z"
   },
   {
    "duration": 44,
    "start_time": "2021-10-24T16:32:12.879Z"
   },
   {
    "duration": 16,
    "start_time": "2021-10-24T16:32:12.929Z"
   },
   {
    "duration": 13,
    "start_time": "2021-10-24T16:32:12.948Z"
   },
   {
    "duration": 9,
    "start_time": "2021-10-24T16:32:12.963Z"
   },
   {
    "duration": 9,
    "start_time": "2021-10-24T16:32:12.975Z"
   },
   {
    "duration": 80,
    "start_time": "2021-10-24T16:32:12.986Z"
   },
   {
    "duration": 30,
    "start_time": "2021-10-24T16:32:13.069Z"
   },
   {
    "duration": 12,
    "start_time": "2021-10-24T16:32:13.123Z"
   },
   {
    "duration": 22,
    "start_time": "2021-10-24T16:32:13.139Z"
   },
   {
    "duration": 18,
    "start_time": "2021-10-24T16:32:13.164Z"
   },
   {
    "duration": 38,
    "start_time": "2021-10-24T16:32:13.185Z"
   },
   {
    "duration": 25,
    "start_time": "2021-10-24T16:32:13.226Z"
   },
   {
    "duration": 10,
    "start_time": "2021-10-24T16:32:13.254Z"
   },
   {
    "duration": 26,
    "start_time": "2021-10-24T16:32:13.266Z"
   },
   {
    "duration": 30,
    "start_time": "2021-10-24T16:32:13.294Z"
   },
   {
    "duration": 9,
    "start_time": "2021-10-24T16:32:13.327Z"
   },
   {
    "duration": 7,
    "start_time": "2021-10-24T16:32:13.340Z"
   },
   {
    "duration": 16,
    "start_time": "2021-10-24T16:32:13.349Z"
   },
   {
    "duration": 88,
    "start_time": "2021-10-24T16:32:13.368Z"
   },
   {
    "duration": 34,
    "start_time": "2021-10-24T16:32:13.458Z"
   },
   {
    "duration": 57,
    "start_time": "2021-10-24T16:32:13.494Z"
   },
   {
    "duration": 24,
    "start_time": "2021-10-24T16:32:13.554Z"
   },
   {
    "duration": 12,
    "start_time": "2021-10-24T16:32:13.580Z"
   },
   {
    "duration": 42,
    "start_time": "2021-10-24T16:32:13.594Z"
   },
   {
    "duration": 14,
    "start_time": "2021-10-24T16:32:13.639Z"
   },
   {
    "duration": 21,
    "start_time": "2021-10-24T16:32:13.655Z"
   },
   {
    "duration": 5562,
    "start_time": "2021-10-24T16:32:13.678Z"
   },
   {
    "duration": 18,
    "start_time": "2021-10-24T16:32:19.244Z"
   },
   {
    "duration": 58,
    "start_time": "2021-10-24T16:32:19.265Z"
   },
   {
    "duration": 18,
    "start_time": "2021-10-24T16:32:19.326Z"
   },
   {
    "duration": 18,
    "start_time": "2021-10-24T16:32:19.347Z"
   },
   {
    "duration": 18,
    "start_time": "2021-10-24T16:32:19.368Z"
   },
   {
    "duration": 23,
    "start_time": "2021-10-24T16:32:19.423Z"
   },
   {
    "duration": 7,
    "start_time": "2021-10-24T16:32:19.449Z"
   },
   {
    "duration": 8,
    "start_time": "2021-10-24T16:32:19.460Z"
   },
   {
    "duration": 55,
    "start_time": "2021-10-24T16:32:19.470Z"
   },
   {
    "duration": 37,
    "start_time": "2021-10-24T16:32:19.528Z"
   },
   {
    "duration": 15,
    "start_time": "2021-10-24T16:32:19.567Z"
   },
   {
    "duration": 52,
    "start_time": "2021-10-24T16:32:19.584Z"
   },
   {
    "duration": 25,
    "start_time": "2021-10-24T16:32:19.639Z"
   },
   {
    "duration": 22,
    "start_time": "2021-10-24T16:32:19.666Z"
   },
   {
    "duration": 5,
    "start_time": "2021-10-24T16:32:19.690Z"
   },
   {
    "duration": 38,
    "start_time": "2021-10-24T16:32:19.698Z"
   },
   {
    "duration": 3830,
    "start_time": "2021-10-24T16:32:19.740Z"
   },
   {
    "duration": 4,
    "start_time": "2021-10-24T16:32:23.572Z"
   },
   {
    "duration": 59,
    "start_time": "2021-10-24T16:32:23.584Z"
   },
   {
    "duration": 20,
    "start_time": "2021-10-24T16:32:23.645Z"
   },
   {
    "duration": 14,
    "start_time": "2021-10-24T16:32:23.667Z"
   },
   {
    "duration": 51,
    "start_time": "2021-10-24T16:32:23.683Z"
   },
   {
    "duration": 780,
    "start_time": "2021-10-24T16:32:23.737Z"
   },
   {
    "duration": 224,
    "start_time": "2021-10-24T16:32:24.745Z"
   },
   {
    "duration": 212,
    "start_time": "2021-10-24T16:35:08.022Z"
   },
   {
    "duration": 215,
    "start_time": "2021-10-24T16:35:26.427Z"
   },
   {
    "duration": 287,
    "start_time": "2021-10-24T16:36:00.613Z"
   },
   {
    "duration": 220,
    "start_time": "2021-10-24T16:36:35.334Z"
   },
   {
    "duration": 219,
    "start_time": "2021-10-24T16:37:19.562Z"
   },
   {
    "duration": 8,
    "start_time": "2021-10-24T16:37:27.780Z"
   },
   {
    "duration": 4,
    "start_time": "2021-10-24T16:37:42.478Z"
   },
   {
    "duration": 90,
    "start_time": "2021-10-24T16:37:42.484Z"
   },
   {
    "duration": 19,
    "start_time": "2021-10-24T16:37:42.577Z"
   },
   {
    "duration": 20,
    "start_time": "2021-10-24T16:37:42.623Z"
   },
   {
    "duration": 85,
    "start_time": "2021-10-24T16:37:42.646Z"
   },
   {
    "duration": 18,
    "start_time": "2021-10-24T16:37:42.734Z"
   },
   {
    "duration": 21,
    "start_time": "2021-10-24T16:37:42.756Z"
   },
   {
    "duration": 27,
    "start_time": "2021-10-24T16:37:42.780Z"
   },
   {
    "duration": 17,
    "start_time": "2021-10-24T16:37:42.824Z"
   },
   {
    "duration": 16,
    "start_time": "2021-10-24T16:37:42.844Z"
   },
   {
    "duration": 64,
    "start_time": "2021-10-24T16:37:42.862Z"
   },
   {
    "duration": 16,
    "start_time": "2021-10-24T16:37:42.930Z"
   },
   {
    "duration": 40,
    "start_time": "2021-10-24T16:37:42.948Z"
   },
   {
    "duration": 35,
    "start_time": "2021-10-24T16:37:42.991Z"
   },
   {
    "duration": 12,
    "start_time": "2021-10-24T16:37:43.030Z"
   },
   {
    "duration": 38,
    "start_time": "2021-10-24T16:37:43.044Z"
   },
   {
    "duration": 58,
    "start_time": "2021-10-24T16:37:43.085Z"
   },
   {
    "duration": 9,
    "start_time": "2021-10-24T16:37:43.146Z"
   },
   {
    "duration": 25,
    "start_time": "2021-10-24T16:37:43.160Z"
   },
   {
    "duration": 42,
    "start_time": "2021-10-24T16:37:43.190Z"
   },
   {
    "duration": 15,
    "start_time": "2021-10-24T16:37:43.236Z"
   },
   {
    "duration": 31,
    "start_time": "2021-10-24T16:37:43.254Z"
   },
   {
    "duration": 31,
    "start_time": "2021-10-24T16:37:43.287Z"
   },
   {
    "duration": 31,
    "start_time": "2021-10-24T16:37:43.321Z"
   },
   {
    "duration": 24,
    "start_time": "2021-10-24T16:37:43.355Z"
   },
   {
    "duration": 13,
    "start_time": "2021-10-24T16:37:43.381Z"
   },
   {
    "duration": 16,
    "start_time": "2021-10-24T16:37:43.396Z"
   },
   {
    "duration": 31,
    "start_time": "2021-10-24T16:37:43.415Z"
   },
   {
    "duration": 44,
    "start_time": "2021-10-24T16:37:43.448Z"
   },
   {
    "duration": 26,
    "start_time": "2021-10-24T16:37:43.494Z"
   },
   {
    "duration": 8,
    "start_time": "2021-10-24T16:37:43.524Z"
   },
   {
    "duration": 33,
    "start_time": "2021-10-24T16:37:43.536Z"
   },
   {
    "duration": 25,
    "start_time": "2021-10-24T16:37:43.572Z"
   },
   {
    "duration": 25,
    "start_time": "2021-10-24T16:37:43.600Z"
   },
   {
    "duration": 31,
    "start_time": "2021-10-24T16:37:43.627Z"
   },
   {
    "duration": 9,
    "start_time": "2021-10-24T16:37:43.660Z"
   },
   {
    "duration": 23,
    "start_time": "2021-10-24T16:37:43.671Z"
   },
   {
    "duration": 7,
    "start_time": "2021-10-24T16:37:43.697Z"
   },
   {
    "duration": 10,
    "start_time": "2021-10-24T16:37:43.725Z"
   },
   {
    "duration": 6,
    "start_time": "2021-10-24T16:37:43.738Z"
   },
   {
    "duration": 13,
    "start_time": "2021-10-24T16:37:43.746Z"
   },
   {
    "duration": 100,
    "start_time": "2021-10-24T16:37:43.761Z"
   },
   {
    "duration": 34,
    "start_time": "2021-10-24T16:37:43.864Z"
   },
   {
    "duration": 48,
    "start_time": "2021-10-24T16:37:43.900Z"
   },
   {
    "duration": 26,
    "start_time": "2021-10-24T16:37:43.950Z"
   },
   {
    "duration": 11,
    "start_time": "2021-10-24T16:37:43.979Z"
   },
   {
    "duration": 45,
    "start_time": "2021-10-24T16:37:43.992Z"
   },
   {
    "duration": 14,
    "start_time": "2021-10-24T16:37:44.040Z"
   },
   {
    "duration": 32,
    "start_time": "2021-10-24T16:37:44.056Z"
   },
   {
    "duration": 5560,
    "start_time": "2021-10-24T16:37:44.090Z"
   },
   {
    "duration": 18,
    "start_time": "2021-10-24T16:37:49.653Z"
   },
   {
    "duration": 50,
    "start_time": "2021-10-24T16:37:49.675Z"
   },
   {
    "duration": 17,
    "start_time": "2021-10-24T16:37:49.728Z"
   },
   {
    "duration": 16,
    "start_time": "2021-10-24T16:37:49.747Z"
   },
   {
    "duration": 14,
    "start_time": "2021-10-24T16:37:49.770Z"
   },
   {
    "duration": 51,
    "start_time": "2021-10-24T16:37:49.787Z"
   },
   {
    "duration": 7,
    "start_time": "2021-10-24T16:37:49.841Z"
   },
   {
    "duration": 8,
    "start_time": "2021-10-24T16:37:49.852Z"
   },
   {
    "duration": 17,
    "start_time": "2021-10-24T16:37:49.863Z"
   },
   {
    "duration": 43,
    "start_time": "2021-10-24T16:37:49.922Z"
   },
   {
    "duration": 14,
    "start_time": "2021-10-24T16:37:49.968Z"
   },
   {
    "duration": 63,
    "start_time": "2021-10-24T16:37:49.985Z"
   },
   {
    "duration": 20,
    "start_time": "2021-10-24T16:37:50.051Z"
   },
   {
    "duration": 13,
    "start_time": "2021-10-24T16:37:50.074Z"
   },
   {
    "duration": 7,
    "start_time": "2021-10-24T16:37:50.089Z"
   },
   {
    "duration": 27,
    "start_time": "2021-10-24T16:37:50.099Z"
   },
   {
    "duration": 3919,
    "start_time": "2021-10-24T16:37:50.129Z"
   },
   {
    "duration": 4,
    "start_time": "2021-10-24T16:37:54.051Z"
   },
   {
    "duration": 58,
    "start_time": "2021-10-24T16:37:54.058Z"
   },
   {
    "duration": 24,
    "start_time": "2021-10-24T16:37:54.118Z"
   },
   {
    "duration": 20,
    "start_time": "2021-10-24T16:37:54.144Z"
   },
   {
    "duration": 29,
    "start_time": "2021-10-24T16:37:54.166Z"
   },
   {
    "duration": 25,
    "start_time": "2021-10-24T16:37:54.197Z"
   },
   {
    "duration": 232,
    "start_time": "2021-10-24T16:37:54.227Z"
   },
   {
    "duration": 229,
    "start_time": "2021-10-24T16:37:54.461Z"
   },
   {
    "duration": 7,
    "start_time": "2021-10-24T16:37:54.692Z"
   },
   {
    "duration": 4,
    "start_time": "2021-10-24T16:38:16.445Z"
   },
   {
    "duration": 82,
    "start_time": "2021-10-24T16:38:16.451Z"
   },
   {
    "duration": 19,
    "start_time": "2021-10-24T16:38:16.537Z"
   },
   {
    "duration": 23,
    "start_time": "2021-10-24T16:38:16.559Z"
   },
   {
    "duration": 80,
    "start_time": "2021-10-24T16:38:16.585Z"
   },
   {
    "duration": 12,
    "start_time": "2021-10-24T16:38:16.667Z"
   },
   {
    "duration": 47,
    "start_time": "2021-10-24T16:38:16.682Z"
   },
   {
    "duration": 12,
    "start_time": "2021-10-24T16:38:16.736Z"
   },
   {
    "duration": 35,
    "start_time": "2021-10-24T16:38:16.751Z"
   },
   {
    "duration": 11,
    "start_time": "2021-10-24T16:38:16.789Z"
   },
   {
    "duration": 50,
    "start_time": "2021-10-24T16:38:16.802Z"
   },
   {
    "duration": 27,
    "start_time": "2021-10-24T16:38:16.854Z"
   },
   {
    "duration": 65,
    "start_time": "2021-10-24T16:38:16.885Z"
   },
   {
    "duration": 5,
    "start_time": "2021-10-24T16:38:16.953Z"
   },
   {
    "duration": 25,
    "start_time": "2021-10-24T16:38:16.961Z"
   },
   {
    "duration": 55,
    "start_time": "2021-10-24T16:38:16.989Z"
   },
   {
    "duration": 37,
    "start_time": "2021-10-24T16:38:17.047Z"
   },
   {
    "duration": 9,
    "start_time": "2021-10-24T16:38:17.087Z"
   },
   {
    "duration": 49,
    "start_time": "2021-10-24T16:38:17.099Z"
   },
   {
    "duration": 10,
    "start_time": "2021-10-24T16:38:17.150Z"
   },
   {
    "duration": 13,
    "start_time": "2021-10-24T16:38:17.162Z"
   },
   {
    "duration": 15,
    "start_time": "2021-10-24T16:38:17.178Z"
   },
   {
    "duration": 24,
    "start_time": "2021-10-24T16:38:17.228Z"
   },
   {
    "duration": 10,
    "start_time": "2021-10-24T16:38:17.256Z"
   },
   {
    "duration": 11,
    "start_time": "2021-10-24T16:38:17.268Z"
   },
   {
    "duration": 47,
    "start_time": "2021-10-24T16:38:17.281Z"
   },
   {
    "duration": 5,
    "start_time": "2021-10-24T16:38:17.332Z"
   },
   {
    "duration": 10,
    "start_time": "2021-10-24T16:38:17.340Z"
   },
   {
    "duration": 38,
    "start_time": "2021-10-24T16:38:17.352Z"
   },
   {
    "duration": 58,
    "start_time": "2021-10-24T16:38:17.393Z"
   },
   {
    "duration": 6,
    "start_time": "2021-10-24T16:38:17.454Z"
   },
   {
    "duration": 30,
    "start_time": "2021-10-24T16:38:17.462Z"
   },
   {
    "duration": 43,
    "start_time": "2021-10-24T16:38:17.494Z"
   },
   {
    "duration": 6,
    "start_time": "2021-10-24T16:38:17.539Z"
   },
   {
    "duration": 29,
    "start_time": "2021-10-24T16:38:17.548Z"
   },
   {
    "duration": 10,
    "start_time": "2021-10-24T16:38:17.580Z"
   },
   {
    "duration": 50,
    "start_time": "2021-10-24T16:38:17.593Z"
   },
   {
    "duration": 8,
    "start_time": "2021-10-24T16:38:17.645Z"
   },
   {
    "duration": 17,
    "start_time": "2021-10-24T16:38:17.656Z"
   },
   {
    "duration": 15,
    "start_time": "2021-10-24T16:38:17.676Z"
   },
   {
    "duration": 34,
    "start_time": "2021-10-24T16:38:17.693Z"
   },
   {
    "duration": 69,
    "start_time": "2021-10-24T16:38:17.730Z"
   },
   {
    "duration": 56,
    "start_time": "2021-10-24T16:38:17.802Z"
   },
   {
    "duration": 29,
    "start_time": "2021-10-24T16:38:17.861Z"
   },
   {
    "duration": 58,
    "start_time": "2021-10-24T16:38:17.893Z"
   },
   {
    "duration": 12,
    "start_time": "2021-10-24T16:38:17.954Z"
   },
   {
    "duration": 16,
    "start_time": "2021-10-24T16:38:17.969Z"
   },
   {
    "duration": 42,
    "start_time": "2021-10-24T16:38:17.987Z"
   },
   {
    "duration": 21,
    "start_time": "2021-10-24T16:38:18.033Z"
   },
   {
    "duration": 5508,
    "start_time": "2021-10-24T16:38:18.057Z"
   },
   {
    "duration": 19,
    "start_time": "2021-10-24T16:38:23.568Z"
   },
   {
    "duration": 46,
    "start_time": "2021-10-24T16:38:23.589Z"
   },
   {
    "duration": 14,
    "start_time": "2021-10-24T16:38:23.638Z"
   },
   {
    "duration": 23,
    "start_time": "2021-10-24T16:38:23.654Z"
   },
   {
    "duration": 14,
    "start_time": "2021-10-24T16:38:23.679Z"
   },
   {
    "duration": 20,
    "start_time": "2021-10-24T16:38:23.723Z"
   },
   {
    "duration": 7,
    "start_time": "2021-10-24T16:38:23.745Z"
   },
   {
    "duration": 18,
    "start_time": "2021-10-24T16:38:23.754Z"
   },
   {
    "duration": 17,
    "start_time": "2021-10-24T16:38:23.774Z"
   },
   {
    "duration": 44,
    "start_time": "2021-10-24T16:38:23.823Z"
   },
   {
    "duration": 14,
    "start_time": "2021-10-24T16:38:23.870Z"
   },
   {
    "duration": 37,
    "start_time": "2021-10-24T16:38:23.887Z"
   },
   {
    "duration": 23,
    "start_time": "2021-10-24T16:38:23.928Z"
   },
   {
    "duration": 9,
    "start_time": "2021-10-24T16:38:23.954Z"
   },
   {
    "duration": 15,
    "start_time": "2021-10-24T16:38:23.966Z"
   },
   {
    "duration": 39,
    "start_time": "2021-10-24T16:38:23.983Z"
   },
   {
    "duration": 3788,
    "start_time": "2021-10-24T16:38:24.026Z"
   },
   {
    "duration": 7,
    "start_time": "2021-10-24T16:38:27.832Z"
   },
   {
    "duration": 53,
    "start_time": "2021-10-24T16:38:27.843Z"
   },
   {
    "duration": 34,
    "start_time": "2021-10-24T16:38:27.899Z"
   },
   {
    "duration": 20,
    "start_time": "2021-10-24T16:38:27.937Z"
   },
   {
    "duration": 21,
    "start_time": "2021-10-24T16:38:27.959Z"
   },
   {
    "duration": 22,
    "start_time": "2021-10-24T16:38:27.983Z"
   },
   {
    "duration": 235,
    "start_time": "2021-10-24T16:38:28.007Z"
   },
   {
    "duration": 237,
    "start_time": "2021-10-24T16:38:28.244Z"
   },
   {
    "duration": 6,
    "start_time": "2021-10-24T16:38:28.484Z"
   },
   {
    "duration": 253,
    "start_time": "2021-10-24T16:38:28.493Z"
   },
   {
    "duration": 231,
    "start_time": "2021-10-24T16:38:28.749Z"
   },
   {
    "duration": 342,
    "start_time": "2021-10-24T16:39:08.611Z"
   },
   {
    "duration": 3,
    "start_time": "2021-10-24T16:39:18.468Z"
   },
   {
    "duration": 83,
    "start_time": "2021-10-24T16:39:18.474Z"
   },
   {
    "duration": 20,
    "start_time": "2021-10-24T16:39:18.561Z"
   },
   {
    "duration": 57,
    "start_time": "2021-10-24T16:39:18.584Z"
   },
   {
    "duration": 47,
    "start_time": "2021-10-24T16:39:18.643Z"
   },
   {
    "duration": 18,
    "start_time": "2021-10-24T16:39:18.723Z"
   },
   {
    "duration": 8,
    "start_time": "2021-10-24T16:39:18.744Z"
   },
   {
    "duration": 12,
    "start_time": "2021-10-24T16:39:18.754Z"
   },
   {
    "duration": 16,
    "start_time": "2021-10-24T16:39:18.768Z"
   },
   {
    "duration": 10,
    "start_time": "2021-10-24T16:39:18.826Z"
   },
   {
    "duration": 35,
    "start_time": "2021-10-24T16:39:18.839Z"
   },
   {
    "duration": 8,
    "start_time": "2021-10-24T16:39:18.877Z"
   },
   {
    "duration": 44,
    "start_time": "2021-10-24T16:39:18.923Z"
   },
   {
    "duration": 5,
    "start_time": "2021-10-24T16:39:18.969Z"
   },
   {
    "duration": 46,
    "start_time": "2021-10-24T16:39:18.976Z"
   },
   {
    "duration": 42,
    "start_time": "2021-10-24T16:39:19.025Z"
   },
   {
    "duration": 63,
    "start_time": "2021-10-24T16:39:19.070Z"
   },
   {
    "duration": 9,
    "start_time": "2021-10-24T16:39:19.135Z"
   },
   {
    "duration": 24,
    "start_time": "2021-10-24T16:39:19.150Z"
   },
   {
    "duration": 11,
    "start_time": "2021-10-24T16:39:19.178Z"
   },
   {
    "duration": 35,
    "start_time": "2021-10-24T16:39:19.192Z"
   },
   {
    "duration": 15,
    "start_time": "2021-10-24T16:39:19.230Z"
   },
   {
    "duration": 21,
    "start_time": "2021-10-24T16:39:19.247Z"
   },
   {
    "duration": 13,
    "start_time": "2021-10-24T16:39:19.270Z"
   },
   {
    "duration": 49,
    "start_time": "2021-10-24T16:39:19.285Z"
   },
   {
    "duration": 10,
    "start_time": "2021-10-24T16:39:19.338Z"
   },
   {
    "duration": 8,
    "start_time": "2021-10-24T16:39:19.351Z"
   },
   {
    "duration": 12,
    "start_time": "2021-10-24T16:39:19.361Z"
   },
   {
    "duration": 81,
    "start_time": "2021-10-24T16:39:19.375Z"
   },
   {
    "duration": 28,
    "start_time": "2021-10-24T16:39:19.458Z"
   },
   {
    "duration": 7,
    "start_time": "2021-10-24T16:39:19.489Z"
   },
   {
    "duration": 27,
    "start_time": "2021-10-24T16:39:19.522Z"
   },
   {
    "duration": 19,
    "start_time": "2021-10-24T16:39:19.552Z"
   },
   {
    "duration": 9,
    "start_time": "2021-10-24T16:39:19.573Z"
   },
   {
    "duration": 51,
    "start_time": "2021-10-24T16:39:19.584Z"
   },
   {
    "duration": 8,
    "start_time": "2021-10-24T16:39:19.637Z"
   },
   {
    "duration": 24,
    "start_time": "2021-10-24T16:39:19.647Z"
   },
   {
    "duration": 8,
    "start_time": "2021-10-24T16:39:19.673Z"
   },
   {
    "duration": 40,
    "start_time": "2021-10-24T16:39:19.684Z"
   },
   {
    "duration": 11,
    "start_time": "2021-10-24T16:39:19.727Z"
   },
   {
    "duration": 9,
    "start_time": "2021-10-24T16:39:19.741Z"
   },
   {
    "duration": 86,
    "start_time": "2021-10-24T16:39:19.753Z"
   },
   {
    "duration": 32,
    "start_time": "2021-10-24T16:39:19.842Z"
   },
   {
    "duration": 46,
    "start_time": "2021-10-24T16:39:19.876Z"
   },
   {
    "duration": 29,
    "start_time": "2021-10-24T16:39:19.926Z"
   },
   {
    "duration": 11,
    "start_time": "2021-10-24T16:39:19.957Z"
   },
   {
    "duration": 28,
    "start_time": "2021-10-24T16:39:19.971Z"
   },
   {
    "duration": 39,
    "start_time": "2021-10-24T16:39:20.001Z"
   },
   {
    "duration": 36,
    "start_time": "2021-10-24T16:39:20.042Z"
   },
   {
    "duration": 5516,
    "start_time": "2021-10-24T16:39:20.081Z"
   },
   {
    "duration": 29,
    "start_time": "2021-10-24T16:39:25.600Z"
   },
   {
    "duration": 29,
    "start_time": "2021-10-24T16:39:25.632Z"
   },
   {
    "duration": 35,
    "start_time": "2021-10-24T16:39:25.664Z"
   },
   {
    "duration": 36,
    "start_time": "2021-10-24T16:39:25.701Z"
   },
   {
    "duration": 14,
    "start_time": "2021-10-24T16:39:25.746Z"
   },
   {
    "duration": 16,
    "start_time": "2021-10-24T16:39:25.763Z"
   },
   {
    "duration": 43,
    "start_time": "2021-10-24T16:39:25.782Z"
   },
   {
    "duration": 6,
    "start_time": "2021-10-24T16:39:25.828Z"
   },
   {
    "duration": 14,
    "start_time": "2021-10-24T16:39:25.838Z"
   },
   {
    "duration": 35,
    "start_time": "2021-10-24T16:39:25.855Z"
   },
   {
    "duration": 47,
    "start_time": "2021-10-24T16:39:25.893Z"
   },
   {
    "duration": 17,
    "start_time": "2021-10-24T16:39:25.944Z"
   },
   {
    "duration": 69,
    "start_time": "2021-10-24T16:39:25.964Z"
   },
   {
    "duration": 9,
    "start_time": "2021-10-24T16:39:26.037Z"
   },
   {
    "duration": 6,
    "start_time": "2021-10-24T16:39:26.049Z"
   },
   {
    "duration": 14,
    "start_time": "2021-10-24T16:39:26.058Z"
   },
   {
    "duration": 4023,
    "start_time": "2021-10-24T16:39:26.075Z"
   },
   {
    "duration": 5,
    "start_time": "2021-10-24T16:39:30.100Z"
   },
   {
    "duration": 42,
    "start_time": "2021-10-24T16:39:30.124Z"
   },
   {
    "duration": 20,
    "start_time": "2021-10-24T16:39:30.169Z"
   },
   {
    "duration": 44,
    "start_time": "2021-10-24T16:39:30.191Z"
   },
   {
    "duration": 39,
    "start_time": "2021-10-24T16:39:30.238Z"
   },
   {
    "duration": 40,
    "start_time": "2021-10-24T16:39:30.280Z"
   },
   {
    "duration": 242,
    "start_time": "2021-10-24T16:39:30.324Z"
   },
   {
    "duration": 240,
    "start_time": "2021-10-24T16:39:30.568Z"
   },
   {
    "duration": 18,
    "start_time": "2021-10-24T16:39:30.811Z"
   },
   {
    "duration": 244,
    "start_time": "2021-10-24T16:39:30.832Z"
   },
   {
    "duration": 286,
    "start_time": "2021-10-24T16:39:31.079Z"
   },
   {
    "duration": 9,
    "start_time": "2021-10-24T16:39:31.368Z"
   },
   {
    "duration": 26,
    "start_time": "2021-10-24T16:39:31.380Z"
   },
   {
    "duration": 356,
    "start_time": "2021-10-24T16:39:31.409Z"
   },
   {
    "duration": 214,
    "start_time": "2021-10-24T16:39:55.123Z"
   },
   {
    "duration": 4,
    "start_time": "2021-10-24T16:40:00.972Z"
   },
   {
    "duration": 108,
    "start_time": "2021-10-24T16:40:00.978Z"
   },
   {
    "duration": 54,
    "start_time": "2021-10-24T16:40:01.090Z"
   },
   {
    "duration": 18,
    "start_time": "2021-10-24T16:40:01.147Z"
   },
   {
    "duration": 89,
    "start_time": "2021-10-24T16:40:01.167Z"
   },
   {
    "duration": 14,
    "start_time": "2021-10-24T16:40:01.258Z"
   },
   {
    "duration": 51,
    "start_time": "2021-10-24T16:40:01.278Z"
   },
   {
    "duration": 14,
    "start_time": "2021-10-24T16:40:01.333Z"
   },
   {
    "duration": 30,
    "start_time": "2021-10-24T16:40:01.350Z"
   },
   {
    "duration": 32,
    "start_time": "2021-10-24T16:40:01.382Z"
   },
   {
    "duration": 54,
    "start_time": "2021-10-24T16:40:01.416Z"
   },
   {
    "duration": 20,
    "start_time": "2021-10-24T16:40:01.473Z"
   },
   {
    "duration": 61,
    "start_time": "2021-10-24T16:40:01.495Z"
   },
   {
    "duration": 6,
    "start_time": "2021-10-24T16:40:01.559Z"
   },
   {
    "duration": 50,
    "start_time": "2021-10-24T16:40:01.569Z"
   },
   {
    "duration": 69,
    "start_time": "2021-10-24T16:40:01.623Z"
   },
   {
    "duration": 94,
    "start_time": "2021-10-24T16:40:01.695Z"
   },
   {
    "duration": 11,
    "start_time": "2021-10-24T16:40:01.792Z"
   },
   {
    "duration": 54,
    "start_time": "2021-10-24T16:40:01.808Z"
   },
   {
    "duration": 19,
    "start_time": "2021-10-24T16:40:01.866Z"
   },
   {
    "duration": 29,
    "start_time": "2021-10-24T16:40:01.887Z"
   },
   {
    "duration": 24,
    "start_time": "2021-10-24T16:40:01.919Z"
   },
   {
    "duration": 35,
    "start_time": "2021-10-24T16:40:01.946Z"
   },
   {
    "duration": 22,
    "start_time": "2021-10-24T16:40:01.984Z"
   },
   {
    "duration": 27,
    "start_time": "2021-10-24T16:40:02.009Z"
   },
   {
    "duration": 41,
    "start_time": "2021-10-24T16:40:02.038Z"
   },
   {
    "duration": 13,
    "start_time": "2021-10-24T16:40:02.081Z"
   },
   {
    "duration": 35,
    "start_time": "2021-10-24T16:40:02.096Z"
   },
   {
    "duration": 47,
    "start_time": "2021-10-24T16:40:02.134Z"
   },
   {
    "duration": 27,
    "start_time": "2021-10-24T16:40:02.183Z"
   },
   {
    "duration": 14,
    "start_time": "2021-10-24T16:40:02.213Z"
   },
   {
    "duration": 36,
    "start_time": "2021-10-24T16:40:02.229Z"
   },
   {
    "duration": 21,
    "start_time": "2021-10-24T16:40:02.269Z"
   },
   {
    "duration": 7,
    "start_time": "2021-10-24T16:40:02.293Z"
   },
   {
    "duration": 22,
    "start_time": "2021-10-24T16:40:02.323Z"
   },
   {
    "duration": 15,
    "start_time": "2021-10-24T16:40:02.348Z"
   },
   {
    "duration": 23,
    "start_time": "2021-10-24T16:40:02.366Z"
   },
   {
    "duration": 39,
    "start_time": "2021-10-24T16:40:02.392Z"
   },
   {
    "duration": 37,
    "start_time": "2021-10-24T16:40:02.434Z"
   },
   {
    "duration": 11,
    "start_time": "2021-10-24T16:40:02.473Z"
   },
   {
    "duration": 16,
    "start_time": "2021-10-24T16:40:02.486Z"
   },
   {
    "duration": 72,
    "start_time": "2021-10-24T16:40:02.505Z"
   },
   {
    "duration": 44,
    "start_time": "2021-10-24T16:40:02.579Z"
   },
   {
    "duration": 37,
    "start_time": "2021-10-24T16:40:02.629Z"
   },
   {
    "duration": 61,
    "start_time": "2021-10-24T16:40:02.669Z"
   },
   {
    "duration": 16,
    "start_time": "2021-10-24T16:40:02.734Z"
   },
   {
    "duration": 19,
    "start_time": "2021-10-24T16:40:02.753Z"
   },
   {
    "duration": 21,
    "start_time": "2021-10-24T16:40:02.774Z"
   },
   {
    "duration": 53,
    "start_time": "2021-10-24T16:40:02.797Z"
   },
   {
    "duration": 5717,
    "start_time": "2021-10-24T16:40:02.853Z"
   },
   {
    "duration": 20,
    "start_time": "2021-10-24T16:40:08.573Z"
   },
   {
    "duration": 49,
    "start_time": "2021-10-24T16:40:08.596Z"
   },
   {
    "duration": 13,
    "start_time": "2021-10-24T16:40:08.647Z"
   },
   {
    "duration": 36,
    "start_time": "2021-10-24T16:40:08.663Z"
   },
   {
    "duration": 19,
    "start_time": "2021-10-24T16:40:08.721Z"
   },
   {
    "duration": 22,
    "start_time": "2021-10-24T16:40:08.744Z"
   },
   {
    "duration": 12,
    "start_time": "2021-10-24T16:40:08.768Z"
   },
   {
    "duration": 23,
    "start_time": "2021-10-24T16:40:08.782Z"
   },
   {
    "duration": 32,
    "start_time": "2021-10-24T16:40:08.808Z"
   },
   {
    "duration": 44,
    "start_time": "2021-10-24T16:40:08.844Z"
   },
   {
    "duration": 32,
    "start_time": "2021-10-24T16:40:08.891Z"
   },
   {
    "duration": 33,
    "start_time": "2021-10-24T16:40:08.927Z"
   },
   {
    "duration": 39,
    "start_time": "2021-10-24T16:40:08.963Z"
   },
   {
    "duration": 33,
    "start_time": "2021-10-24T16:40:09.005Z"
   },
   {
    "duration": 23,
    "start_time": "2021-10-24T16:40:09.041Z"
   },
   {
    "duration": 33,
    "start_time": "2021-10-24T16:40:09.067Z"
   },
   {
    "duration": 3871,
    "start_time": "2021-10-24T16:40:09.103Z"
   },
   {
    "duration": 5,
    "start_time": "2021-10-24T16:40:12.976Z"
   },
   {
    "duration": 54,
    "start_time": "2021-10-24T16:40:12.984Z"
   },
   {
    "duration": 20,
    "start_time": "2021-10-24T16:40:13.040Z"
   },
   {
    "duration": 14,
    "start_time": "2021-10-24T16:40:13.063Z"
   },
   {
    "duration": 64,
    "start_time": "2021-10-24T16:40:13.080Z"
   },
   {
    "duration": 5,
    "start_time": "2021-10-24T16:40:13.147Z"
   },
   {
    "duration": 236,
    "start_time": "2021-10-24T16:40:13.154Z"
   },
   {
    "duration": 232,
    "start_time": "2021-10-24T16:40:13.393Z"
   },
   {
    "duration": 9,
    "start_time": "2021-10-24T16:40:13.630Z"
   },
   {
    "duration": 244,
    "start_time": "2021-10-24T16:40:13.641Z"
   },
   {
    "duration": 238,
    "start_time": "2021-10-24T16:40:13.887Z"
   },
   {
    "duration": 11,
    "start_time": "2021-10-24T16:40:14.127Z"
   },
   {
    "duration": 6,
    "start_time": "2021-10-24T16:40:14.141Z"
   },
   {
    "duration": 248,
    "start_time": "2021-10-24T16:40:14.150Z"
   },
   {
    "duration": 236,
    "start_time": "2021-10-24T16:40:14.401Z"
   },
   {
    "duration": 7,
    "start_time": "2021-10-24T16:40:17.681Z"
   },
   {
    "duration": 215,
    "start_time": "2021-10-24T16:41:09.987Z"
   },
   {
    "duration": 216,
    "start_time": "2021-10-24T16:41:17.074Z"
   },
   {
    "duration": 281,
    "start_time": "2021-10-24T16:41:42.610Z"
   },
   {
    "duration": 231,
    "start_time": "2021-10-24T16:42:09.446Z"
   },
   {
    "duration": 234,
    "start_time": "2021-10-24T16:42:29.122Z"
   },
   {
    "duration": 17,
    "start_time": "2021-10-24T18:12:51.663Z"
   },
   {
    "duration": 3,
    "start_time": "2021-10-24T18:13:01.444Z"
   },
   {
    "duration": 104,
    "start_time": "2021-10-24T18:13:01.453Z"
   },
   {
    "duration": 25,
    "start_time": "2021-10-24T18:13:01.561Z"
   },
   {
    "duration": 42,
    "start_time": "2021-10-24T18:13:01.588Z"
   },
   {
    "duration": 56,
    "start_time": "2021-10-24T18:13:01.634Z"
   },
   {
    "duration": 12,
    "start_time": "2021-10-24T18:13:01.693Z"
   },
   {
    "duration": 47,
    "start_time": "2021-10-24T18:13:04.733Z"
   },
   {
    "duration": 11,
    "start_time": "2021-10-24T18:20:23.479Z"
   },
   {
    "duration": 23,
    "start_time": "2021-10-24T18:21:01.900Z"
   },
   {
    "duration": 20,
    "start_time": "2021-10-24T18:21:12.471Z"
   },
   {
    "duration": 15,
    "start_time": "2021-10-24T18:21:46.651Z"
   },
   {
    "duration": 21,
    "start_time": "2021-10-24T18:21:57.223Z"
   },
   {
    "duration": 42,
    "start_time": "2021-10-24T18:36:08.935Z"
   },
   {
    "duration": 27,
    "start_time": "2021-10-24T18:36:18.958Z"
   },
   {
    "duration": 42,
    "start_time": "2021-10-24T18:36:30.723Z"
   },
   {
    "duration": 36,
    "start_time": "2021-10-24T18:38:10.460Z"
   },
   {
    "duration": 9,
    "start_time": "2021-10-24T18:38:58.715Z"
   },
   {
    "duration": 5,
    "start_time": "2021-10-24T18:45:54.065Z"
   },
   {
    "duration": 6,
    "start_time": "2021-10-24T18:46:12.711Z"
   },
   {
    "duration": 35,
    "start_time": "2021-10-24T18:48:49.895Z"
   },
   {
    "duration": 31,
    "start_time": "2021-10-24T18:51:01.783Z"
   },
   {
    "duration": 16,
    "start_time": "2021-10-24T18:52:36.533Z"
   },
   {
    "duration": 8,
    "start_time": "2021-10-24T18:52:51.396Z"
   },
   {
    "duration": 21,
    "start_time": "2021-10-24T18:54:18.374Z"
   },
   {
    "duration": 288,
    "start_time": "2021-10-24T18:57:39.297Z"
   },
   {
    "duration": 4,
    "start_time": "2021-10-24T18:57:46.008Z"
   },
   {
    "duration": 83,
    "start_time": "2021-10-24T18:57:46.017Z"
   },
   {
    "duration": 18,
    "start_time": "2021-10-24T18:57:46.102Z"
   },
   {
    "duration": 28,
    "start_time": "2021-10-24T18:57:46.124Z"
   },
   {
    "duration": 71,
    "start_time": "2021-10-24T18:57:46.155Z"
   },
   {
    "duration": 19,
    "start_time": "2021-10-24T18:57:46.230Z"
   },
   {
    "duration": 13,
    "start_time": "2021-10-24T18:57:46.253Z"
   },
   {
    "duration": 20,
    "start_time": "2021-10-24T18:57:46.269Z"
   },
   {
    "duration": 41,
    "start_time": "2021-10-24T18:57:46.325Z"
   },
   {
    "duration": 20,
    "start_time": "2021-10-24T18:57:46.369Z"
   },
   {
    "duration": 64,
    "start_time": "2021-10-24T18:57:46.392Z"
   },
   {
    "duration": 6,
    "start_time": "2021-10-24T18:57:46.459Z"
   },
   {
    "duration": 27,
    "start_time": "2021-10-24T18:57:46.467Z"
   },
   {
    "duration": 52,
    "start_time": "2021-10-24T18:57:46.496Z"
   },
   {
    "duration": 32,
    "start_time": "2021-10-24T18:57:46.551Z"
   },
   {
    "duration": 8,
    "start_time": "2021-10-24T18:57:46.585Z"
   },
   {
    "duration": 21,
    "start_time": "2021-10-24T18:57:49.361Z"
   },
   {
    "duration": 10,
    "start_time": "2021-10-24T19:11:18.569Z"
   },
   {
    "duration": 8,
    "start_time": "2021-10-24T19:12:00.425Z"
   },
   {
    "duration": 8,
    "start_time": "2021-10-24T19:15:25.226Z"
   },
   {
    "duration": 7,
    "start_time": "2021-10-24T19:15:46.279Z"
   },
   {
    "duration": 18,
    "start_time": "2021-10-24T19:16:05.271Z"
   },
   {
    "duration": 9,
    "start_time": "2021-10-24T19:18:35.017Z"
   },
   {
    "duration": 6,
    "start_time": "2021-10-24T19:21:09.300Z"
   },
   {
    "duration": 6,
    "start_time": "2021-10-24T19:21:53.271Z"
   },
   {
    "duration": 43,
    "start_time": "2021-10-24T19:23:15.107Z"
   },
   {
    "duration": 40,
    "start_time": "2021-10-24T19:25:40.305Z"
   },
   {
    "duration": 8,
    "start_time": "2021-10-24T19:26:03.664Z"
   },
   {
    "duration": 8,
    "start_time": "2021-10-24T19:27:14.384Z"
   },
   {
    "duration": 32,
    "start_time": "2021-10-24T19:28:03.023Z"
   },
   {
    "duration": 19,
    "start_time": "2021-10-24T19:28:11.024Z"
   },
   {
    "duration": 14,
    "start_time": "2021-10-24T19:30:51.470Z"
   },
   {
    "duration": 15,
    "start_time": "2021-10-24T19:37:10.217Z"
   },
   {
    "duration": 24,
    "start_time": "2021-10-24T19:39:12.008Z"
   },
   {
    "duration": 8,
    "start_time": "2021-10-24T19:42:28.406Z"
   },
   {
    "duration": 7,
    "start_time": "2021-10-24T19:48:26.340Z"
   },
   {
    "duration": 5,
    "start_time": "2021-10-24T19:54:07.807Z"
   },
   {
    "duration": 8,
    "start_time": "2021-10-24T19:54:15.664Z"
   },
   {
    "duration": 63,
    "start_time": "2021-10-24T20:01:14.030Z"
   },
   {
    "duration": 34,
    "start_time": "2021-10-24T20:01:47.437Z"
   },
   {
    "duration": 32,
    "start_time": "2021-10-24T20:02:04.202Z"
   },
   {
    "duration": 27,
    "start_time": "2021-10-24T20:02:15.898Z"
   },
   {
    "duration": 11,
    "start_time": "2021-10-24T20:02:26.171Z"
   },
   {
    "duration": 14,
    "start_time": "2021-10-24T20:02:32.732Z"
   },
   {
    "duration": 12,
    "start_time": "2021-10-24T20:02:38.185Z"
   },
   {
    "duration": 6,
    "start_time": "2021-10-24T20:04:59.642Z"
   },
   {
    "duration": 36,
    "start_time": "2021-10-24T20:05:03.499Z"
   },
   {
    "duration": 13,
    "start_time": "2021-10-24T20:05:06.299Z"
   },
   {
    "duration": 17,
    "start_time": "2021-10-24T20:05:08.920Z"
   },
   {
    "duration": 20,
    "start_time": "2021-10-24T20:05:16.138Z"
   },
   {
    "duration": 4,
    "start_time": "2021-10-24T20:05:28.635Z"
   },
   {
    "duration": 75,
    "start_time": "2021-10-24T20:05:28.641Z"
   },
   {
    "duration": 20,
    "start_time": "2021-10-24T20:05:28.719Z"
   },
   {
    "duration": 20,
    "start_time": "2021-10-24T20:05:28.742Z"
   },
   {
    "duration": 69,
    "start_time": "2021-10-24T20:05:28.765Z"
   },
   {
    "duration": 17,
    "start_time": "2021-10-24T20:05:28.837Z"
   },
   {
    "duration": 12,
    "start_time": "2021-10-24T20:05:28.857Z"
   },
   {
    "duration": 54,
    "start_time": "2021-10-24T20:05:28.873Z"
   },
   {
    "duration": 37,
    "start_time": "2021-10-24T20:05:28.930Z"
   },
   {
    "duration": 9,
    "start_time": "2021-10-24T20:05:28.969Z"
   },
   {
    "duration": 77,
    "start_time": "2021-10-24T20:05:28.981Z"
   },
   {
    "duration": 5,
    "start_time": "2021-10-24T20:05:29.061Z"
   },
   {
    "duration": 12,
    "start_time": "2021-10-24T20:05:29.069Z"
   },
   {
    "duration": 67,
    "start_time": "2021-10-24T20:05:29.084Z"
   },
   {
    "duration": 34,
    "start_time": "2021-10-24T20:05:29.153Z"
   },
   {
    "duration": 37,
    "start_time": "2021-10-24T20:05:29.189Z"
   },
   {
    "duration": 44,
    "start_time": "2021-10-24T20:05:29.229Z"
   },
   {
    "duration": 29,
    "start_time": "2021-10-24T20:05:29.276Z"
   },
   {
    "duration": 25,
    "start_time": "2021-10-24T20:05:29.307Z"
   },
   {
    "duration": 28,
    "start_time": "2021-10-24T20:05:29.335Z"
   },
   {
    "duration": 44,
    "start_time": "2021-10-24T20:05:29.366Z"
   },
   {
    "duration": 13,
    "start_time": "2021-10-24T20:05:29.413Z"
   },
   {
    "duration": 21,
    "start_time": "2021-10-24T20:05:29.432Z"
   },
   {
    "duration": 17,
    "start_time": "2021-10-24T20:05:29.456Z"
   },
   {
    "duration": 15,
    "start_time": "2021-10-24T20:05:29.476Z"
   },
   {
    "duration": 17,
    "start_time": "2021-10-24T20:05:29.494Z"
   },
   {
    "duration": 35,
    "start_time": "2021-10-24T20:05:29.523Z"
   },
   {
    "duration": 31,
    "start_time": "2021-10-24T20:05:29.560Z"
   },
   {
    "duration": 7,
    "start_time": "2021-10-24T20:05:29.623Z"
   },
   {
    "duration": 35,
    "start_time": "2021-10-24T20:05:29.634Z"
   },
   {
    "duration": 26,
    "start_time": "2021-10-24T20:05:29.671Z"
   },
   {
    "duration": 35,
    "start_time": "2021-10-24T20:05:29.700Z"
   },
   {
    "duration": 22,
    "start_time": "2021-10-24T20:05:29.738Z"
   },
   {
    "duration": 25,
    "start_time": "2021-10-24T20:05:29.762Z"
   },
   {
    "duration": 11,
    "start_time": "2021-10-24T20:05:29.790Z"
   },
   {
    "duration": 20,
    "start_time": "2021-10-24T20:05:29.804Z"
   },
   {
    "duration": 26,
    "start_time": "2021-10-24T20:05:29.827Z"
   },
   {
    "duration": 25,
    "start_time": "2021-10-24T20:05:29.856Z"
   },
   {
    "duration": 74,
    "start_time": "2021-10-24T20:05:29.883Z"
   },
   {
    "duration": 33,
    "start_time": "2021-10-24T20:05:29.960Z"
   },
   {
    "duration": 46,
    "start_time": "2021-10-24T20:05:29.996Z"
   },
   {
    "duration": 29,
    "start_time": "2021-10-24T20:05:30.045Z"
   },
   {
    "duration": 60,
    "start_time": "2021-10-24T20:05:30.076Z"
   },
   {
    "duration": 5149,
    "start_time": "2021-10-24T20:05:30.139Z"
   },
   {
    "duration": 17,
    "start_time": "2021-10-24T20:05:35.291Z"
   },
   {
    "duration": 44,
    "start_time": "2021-10-24T20:05:35.311Z"
   },
   {
    "duration": 23,
    "start_time": "2021-10-24T20:05:35.358Z"
   },
   {
    "duration": 31,
    "start_time": "2021-10-24T20:05:35.384Z"
   },
   {
    "duration": 19,
    "start_time": "2021-10-24T20:05:35.418Z"
   },
   {
    "duration": 30,
    "start_time": "2021-10-24T20:05:35.439Z"
   },
   {
    "duration": 14,
    "start_time": "2021-10-24T20:05:35.471Z"
   },
   {
    "duration": 21,
    "start_time": "2021-10-24T20:05:35.487Z"
   },
   {
    "duration": 19,
    "start_time": "2021-10-24T20:05:35.510Z"
   },
   {
    "duration": 42,
    "start_time": "2021-10-24T20:05:35.531Z"
   },
   {
    "duration": 25,
    "start_time": "2021-10-24T20:05:35.576Z"
   },
   {
    "duration": 26,
    "start_time": "2021-10-24T20:05:35.603Z"
   },
   {
    "duration": 22,
    "start_time": "2021-10-24T20:05:35.631Z"
   },
   {
    "duration": 25,
    "start_time": "2021-10-24T20:05:35.656Z"
   },
   {
    "duration": 18,
    "start_time": "2021-10-24T20:05:35.684Z"
   },
   {
    "duration": 31,
    "start_time": "2021-10-24T20:05:35.704Z"
   },
   {
    "duration": 3527,
    "start_time": "2021-10-24T20:05:35.738Z"
   },
   {
    "duration": 5,
    "start_time": "2021-10-24T20:05:39.267Z"
   },
   {
    "duration": 56,
    "start_time": "2021-10-24T20:05:39.275Z"
   },
   {
    "duration": 25,
    "start_time": "2021-10-24T20:05:39.334Z"
   },
   {
    "duration": 19,
    "start_time": "2021-10-24T20:05:39.362Z"
   },
   {
    "duration": 20,
    "start_time": "2021-10-24T20:05:39.514Z"
   },
   {
    "duration": 4,
    "start_time": "2021-10-24T20:06:04.909Z"
   },
   {
    "duration": 90,
    "start_time": "2021-10-24T20:06:04.917Z"
   },
   {
    "duration": 20,
    "start_time": "2021-10-24T20:06:05.010Z"
   },
   {
    "duration": 31,
    "start_time": "2021-10-24T20:06:05.034Z"
   },
   {
    "duration": 63,
    "start_time": "2021-10-24T20:06:05.067Z"
   },
   {
    "duration": 16,
    "start_time": "2021-10-24T20:06:05.133Z"
   },
   {
    "duration": 27,
    "start_time": "2021-10-24T20:06:05.152Z"
   },
   {
    "duration": 50,
    "start_time": "2021-10-24T20:06:05.182Z"
   },
   {
    "duration": 42,
    "start_time": "2021-10-24T20:06:05.237Z"
   },
   {
    "duration": 45,
    "start_time": "2021-10-24T20:06:05.283Z"
   },
   {
    "duration": 59,
    "start_time": "2021-10-24T20:06:05.332Z"
   },
   {
    "duration": 32,
    "start_time": "2021-10-24T20:06:05.394Z"
   },
   {
    "duration": 23,
    "start_time": "2021-10-24T20:06:05.429Z"
   },
   {
    "duration": 55,
    "start_time": "2021-10-24T20:06:05.455Z"
   },
   {
    "duration": 42,
    "start_time": "2021-10-24T20:06:05.512Z"
   },
   {
    "duration": 17,
    "start_time": "2021-10-24T20:06:05.558Z"
   },
   {
    "duration": 57,
    "start_time": "2021-10-24T20:06:05.578Z"
   },
   {
    "duration": 25,
    "start_time": "2021-10-24T20:06:05.638Z"
   },
   {
    "duration": 26,
    "start_time": "2021-10-24T20:06:05.666Z"
   },
   {
    "duration": 18,
    "start_time": "2021-10-24T20:06:05.695Z"
   },
   {
    "duration": 32,
    "start_time": "2021-10-24T20:06:05.716Z"
   },
   {
    "duration": 19,
    "start_time": "2021-10-24T20:06:05.751Z"
   },
   {
    "duration": 15,
    "start_time": "2021-10-24T20:06:05.773Z"
   },
   {
    "duration": 22,
    "start_time": "2021-10-24T20:06:05.800Z"
   },
   {
    "duration": 4,
    "start_time": "2021-10-24T20:06:05.827Z"
   },
   {
    "duration": 25,
    "start_time": "2021-10-24T20:06:05.834Z"
   },
   {
    "duration": 57,
    "start_time": "2021-10-24T20:06:05.861Z"
   },
   {
    "duration": 28,
    "start_time": "2021-10-24T20:06:05.920Z"
   },
   {
    "duration": 11,
    "start_time": "2021-10-24T20:06:05.951Z"
   },
   {
    "duration": 41,
    "start_time": "2021-10-24T20:06:05.965Z"
   },
   {
    "duration": 29,
    "start_time": "2021-10-24T20:06:06.009Z"
   },
   {
    "duration": 28,
    "start_time": "2021-10-24T20:06:06.041Z"
   },
   {
    "duration": 17,
    "start_time": "2021-10-24T20:06:06.072Z"
   },
   {
    "duration": 38,
    "start_time": "2021-10-24T20:06:06.092Z"
   },
   {
    "duration": 8,
    "start_time": "2021-10-24T20:06:06.132Z"
   },
   {
    "duration": 29,
    "start_time": "2021-10-24T20:06:06.142Z"
   },
   {
    "duration": 32,
    "start_time": "2021-10-24T20:06:06.173Z"
   },
   {
    "duration": 31,
    "start_time": "2021-10-24T20:06:06.208Z"
   },
   {
    "duration": 180,
    "start_time": "2021-10-24T20:06:06.242Z"
   },
   {
    "duration": 37,
    "start_time": "2021-10-24T20:06:06.424Z"
   },
   {
    "duration": 30,
    "start_time": "2021-10-24T20:06:06.463Z"
   },
   {
    "duration": 46,
    "start_time": "2021-10-24T20:06:06.495Z"
   },
   {
    "duration": 26,
    "start_time": "2021-10-24T20:06:06.543Z"
   },
   {
    "duration": 5488,
    "start_time": "2021-10-24T20:06:06.571Z"
   },
   {
    "duration": 20,
    "start_time": "2021-10-24T20:06:12.063Z"
   },
   {
    "duration": 52,
    "start_time": "2021-10-24T20:06:12.086Z"
   },
   {
    "duration": 36,
    "start_time": "2021-10-24T20:06:12.141Z"
   },
   {
    "duration": 47,
    "start_time": "2021-10-24T20:06:12.180Z"
   },
   {
    "duration": 24,
    "start_time": "2021-10-24T20:06:12.230Z"
   },
   {
    "duration": 34,
    "start_time": "2021-10-24T20:06:12.257Z"
   },
   {
    "duration": 24,
    "start_time": "2021-10-24T20:06:12.294Z"
   },
   {
    "duration": 27,
    "start_time": "2021-10-24T20:06:12.320Z"
   },
   {
    "duration": 33,
    "start_time": "2021-10-24T20:06:12.350Z"
   },
   {
    "duration": 56,
    "start_time": "2021-10-24T20:06:12.386Z"
   },
   {
    "duration": 28,
    "start_time": "2021-10-24T20:06:12.444Z"
   },
   {
    "duration": 31,
    "start_time": "2021-10-24T20:06:12.475Z"
   },
   {
    "duration": 25,
    "start_time": "2021-10-24T20:06:12.509Z"
   },
   {
    "duration": 22,
    "start_time": "2021-10-24T20:06:12.536Z"
   },
   {
    "duration": 19,
    "start_time": "2021-10-24T20:06:12.560Z"
   },
   {
    "duration": 39,
    "start_time": "2021-10-24T20:06:12.581Z"
   },
   {
    "duration": 3755,
    "start_time": "2021-10-24T20:06:12.623Z"
   },
   {
    "duration": 4,
    "start_time": "2021-10-24T20:06:16.380Z"
   },
   {
    "duration": 66,
    "start_time": "2021-10-24T20:06:16.387Z"
   },
   {
    "duration": 31,
    "start_time": "2021-10-24T20:06:16.455Z"
   },
   {
    "duration": 14,
    "start_time": "2021-10-24T20:06:16.488Z"
   },
   {
    "duration": 38,
    "start_time": "2021-10-24T20:06:16.505Z"
   },
   {
    "duration": 31,
    "start_time": "2021-10-24T20:06:16.545Z"
   },
   {
    "duration": 233,
    "start_time": "2021-10-24T20:06:16.578Z"
   },
   {
    "duration": 319,
    "start_time": "2021-10-24T20:06:16.823Z"
   },
   {
    "duration": 8,
    "start_time": "2021-10-24T20:06:17.145Z"
   },
   {
    "duration": 341,
    "start_time": "2021-10-24T20:06:17.156Z"
   },
   {
    "duration": 338,
    "start_time": "2021-10-24T20:06:17.501Z"
   },
   {
    "duration": 8,
    "start_time": "2021-10-24T20:06:17.842Z"
   },
   {
    "duration": 8,
    "start_time": "2021-10-24T20:06:17.853Z"
   },
   {
    "duration": 258,
    "start_time": "2021-10-24T20:06:17.864Z"
   },
   {
    "duration": 233,
    "start_time": "2021-10-24T20:06:18.124Z"
   },
   {
    "duration": 8,
    "start_time": "2021-10-24T20:06:18.360Z"
   },
   {
    "duration": 232,
    "start_time": "2021-10-24T20:06:18.371Z"
   },
   {
    "duration": 223,
    "start_time": "2021-10-24T20:06:18.606Z"
   },
   {
    "duration": 231,
    "start_time": "2021-10-24T20:06:18.832Z"
   },
   {
    "duration": 232,
    "start_time": "2021-10-24T20:06:19.066Z"
   },
   {
    "duration": 9,
    "start_time": "2021-10-24T20:06:23.648Z"
   },
   {
    "duration": 311,
    "start_time": "2021-10-25T14:55:32.536Z"
   },
   {
    "duration": 430,
    "start_time": "2021-10-25T17:40:12.313Z"
   },
   {
    "duration": 771,
    "start_time": "2021-10-25T17:40:19.450Z"
   },
   {
    "duration": 66,
    "start_time": "2021-10-25T17:40:20.223Z"
   },
   {
    "duration": 29,
    "start_time": "2021-10-25T17:40:23.265Z"
   },
   {
    "duration": 21,
    "start_time": "2021-10-25T17:40:30.690Z"
   },
   {
    "duration": 421,
    "start_time": "2021-10-25T17:40:55.364Z"
   },
   {
    "duration": 3,
    "start_time": "2021-10-25T17:41:01.310Z"
   },
   {
    "duration": 68,
    "start_time": "2021-10-25T17:41:01.319Z"
   },
   {
    "duration": 19,
    "start_time": "2021-10-25T17:41:01.391Z"
   },
   {
    "duration": 26,
    "start_time": "2021-10-25T17:41:01.413Z"
   },
   {
    "duration": 45,
    "start_time": "2021-10-25T17:41:01.459Z"
   },
   {
    "duration": 13,
    "start_time": "2021-10-25T17:41:01.507Z"
   },
   {
    "duration": 43,
    "start_time": "2021-10-25T17:41:01.522Z"
   },
   {
    "duration": 17,
    "start_time": "2021-10-25T17:41:01.568Z"
   },
   {
    "duration": 68,
    "start_time": "2021-10-25T17:41:01.589Z"
   },
   {
    "duration": 7,
    "start_time": "2021-10-25T17:41:01.660Z"
   },
   {
    "duration": 53,
    "start_time": "2021-10-25T17:41:01.669Z"
   },
   {
    "duration": 5,
    "start_time": "2021-10-25T17:41:01.724Z"
   },
   {
    "duration": 34,
    "start_time": "2021-10-25T17:41:01.732Z"
   },
   {
    "duration": 50,
    "start_time": "2021-10-25T17:41:01.768Z"
   },
   {
    "duration": 39,
    "start_time": "2021-10-25T17:41:01.821Z"
   },
   {
    "duration": 19,
    "start_time": "2021-10-25T17:41:01.863Z"
   },
   {
    "duration": 51,
    "start_time": "2021-10-25T17:41:01.884Z"
   },
   {
    "duration": 23,
    "start_time": "2021-10-25T17:41:01.938Z"
   },
   {
    "duration": 22,
    "start_time": "2021-10-25T17:41:01.963Z"
   },
   {
    "duration": 26,
    "start_time": "2021-10-25T17:41:01.987Z"
   },
   {
    "duration": 28,
    "start_time": "2021-10-25T17:41:02.016Z"
   },
   {
    "duration": 10,
    "start_time": "2021-10-25T17:41:02.046Z"
   },
   {
    "duration": 20,
    "start_time": "2021-10-25T17:41:02.058Z"
   },
   {
    "duration": 13,
    "start_time": "2021-10-25T17:41:02.084Z"
   },
   {
    "duration": 16,
    "start_time": "2021-10-25T17:41:02.101Z"
   },
   {
    "duration": 26,
    "start_time": "2021-10-25T17:41:02.120Z"
   },
   {
    "duration": 41,
    "start_time": "2021-10-25T17:41:02.148Z"
   },
   {
    "duration": 26,
    "start_time": "2021-10-25T17:41:02.192Z"
   },
   {
    "duration": 7,
    "start_time": "2021-10-25T17:41:02.221Z"
   },
   {
    "duration": 41,
    "start_time": "2021-10-25T17:41:02.230Z"
   },
   {
    "duration": 37,
    "start_time": "2021-10-25T17:41:02.273Z"
   },
   {
    "duration": 24,
    "start_time": "2021-10-25T17:41:02.313Z"
   },
   {
    "duration": 14,
    "start_time": "2021-10-25T17:41:02.340Z"
   },
   {
    "duration": 18,
    "start_time": "2021-10-25T17:41:02.358Z"
   },
   {
    "duration": 24,
    "start_time": "2021-10-25T17:41:02.379Z"
   },
   {
    "duration": 30,
    "start_time": "2021-10-25T17:41:02.405Z"
   },
   {
    "duration": 11,
    "start_time": "2021-10-25T17:41:02.437Z"
   },
   {
    "duration": 32,
    "start_time": "2021-10-25T17:41:02.450Z"
   },
   {
    "duration": 79,
    "start_time": "2021-10-25T17:41:02.485Z"
   },
   {
    "duration": 33,
    "start_time": "2021-10-25T17:41:02.567Z"
   },
   {
    "duration": 30,
    "start_time": "2021-10-25T17:41:02.603Z"
   },
   {
    "duration": 25,
    "start_time": "2021-10-25T17:41:02.658Z"
   },
   {
    "duration": 13,
    "start_time": "2021-10-25T17:41:02.685Z"
   },
   {
    "duration": 5117,
    "start_time": "2021-10-25T17:41:02.700Z"
   },
   {
    "duration": 17,
    "start_time": "2021-10-25T17:41:07.820Z"
   },
   {
    "duration": 44,
    "start_time": "2021-10-25T17:41:07.840Z"
   },
   {
    "duration": 14,
    "start_time": "2021-10-25T17:41:07.886Z"
   },
   {
    "duration": 32,
    "start_time": "2021-10-25T17:41:07.903Z"
   },
   {
    "duration": 21,
    "start_time": "2021-10-25T17:41:07.938Z"
   },
   {
    "duration": 19,
    "start_time": "2021-10-25T17:41:07.961Z"
   },
   {
    "duration": 5,
    "start_time": "2021-10-25T17:41:07.983Z"
   },
   {
    "duration": 6,
    "start_time": "2021-10-25T17:41:07.990Z"
   },
   {
    "duration": 20,
    "start_time": "2021-10-25T17:41:07.999Z"
   },
   {
    "duration": 56,
    "start_time": "2021-10-25T17:41:08.021Z"
   },
   {
    "duration": 13,
    "start_time": "2021-10-25T17:41:08.079Z"
   },
   {
    "duration": 15,
    "start_time": "2021-10-25T17:41:08.094Z"
   },
   {
    "duration": 47,
    "start_time": "2021-10-25T17:41:08.112Z"
   },
   {
    "duration": 15,
    "start_time": "2021-10-25T17:41:08.162Z"
   },
   {
    "duration": 13,
    "start_time": "2021-10-25T17:41:08.179Z"
   },
   {
    "duration": 19,
    "start_time": "2021-10-25T17:41:08.194Z"
   },
   {
    "duration": 3587,
    "start_time": "2021-10-25T17:41:08.216Z"
   },
   {
    "duration": 4,
    "start_time": "2021-10-25T17:41:11.805Z"
   },
   {
    "duration": 52,
    "start_time": "2021-10-25T17:41:11.812Z"
   },
   {
    "duration": 21,
    "start_time": "2021-10-25T17:41:11.866Z"
   },
   {
    "duration": 14,
    "start_time": "2021-10-25T17:41:11.889Z"
   },
   {
    "duration": 19,
    "start_time": "2021-10-25T17:41:11.905Z"
   },
   {
    "duration": 699,
    "start_time": "2021-10-25T17:41:11.958Z"
   },
   {
    "duration": 213,
    "start_time": "2021-10-25T17:41:12.660Z"
   },
   {
    "duration": 212,
    "start_time": "2021-10-25T17:41:12.883Z"
   },
   {
    "duration": 8,
    "start_time": "2021-10-25T17:41:13.098Z"
   },
   {
    "duration": 237,
    "start_time": "2021-10-25T17:41:13.109Z"
   },
   {
    "duration": 225,
    "start_time": "2021-10-25T17:41:13.357Z"
   },
   {
    "duration": 8,
    "start_time": "2021-10-25T17:41:13.585Z"
   },
   {
    "duration": 10,
    "start_time": "2021-10-25T17:41:13.595Z"
   },
   {
    "duration": 223,
    "start_time": "2021-10-25T17:41:13.608Z"
   },
   {
    "duration": 216,
    "start_time": "2021-10-25T17:41:13.834Z"
   },
   {
    "duration": 7,
    "start_time": "2021-10-25T17:41:14.058Z"
   },
   {
    "duration": 231,
    "start_time": "2021-10-25T17:41:14.069Z"
   },
   {
    "duration": 401,
    "start_time": "2021-10-25T17:41:14.303Z"
   },
   {
    "duration": 210,
    "start_time": "2021-10-25T17:41:14.706Z"
   },
   {
    "duration": 230,
    "start_time": "2021-10-25T17:41:14.919Z"
   },
   {
    "duration": 14,
    "start_time": "2021-10-25T17:41:15.152Z"
   },
   {
    "duration": 431,
    "start_time": "2021-10-25T17:41:26.227Z"
   },
   {
    "duration": 4,
    "start_time": "2021-10-25T17:41:32.095Z"
   },
   {
    "duration": 76,
    "start_time": "2021-10-25T17:41:32.104Z"
   },
   {
    "duration": 19,
    "start_time": "2021-10-25T17:41:32.183Z"
   },
   {
    "duration": 24,
    "start_time": "2021-10-25T17:41:32.205Z"
   },
   {
    "duration": 73,
    "start_time": "2021-10-25T17:41:32.232Z"
   },
   {
    "duration": 12,
    "start_time": "2021-10-25T17:41:32.307Z"
   },
   {
    "duration": 35,
    "start_time": "2021-10-25T17:41:32.322Z"
   },
   {
    "duration": 18,
    "start_time": "2021-10-25T17:41:32.360Z"
   },
   {
    "duration": 35,
    "start_time": "2021-10-25T17:41:32.382Z"
   },
   {
    "duration": 8,
    "start_time": "2021-10-25T17:41:32.420Z"
   },
   {
    "duration": 39,
    "start_time": "2021-10-25T17:41:32.459Z"
   },
   {
    "duration": 6,
    "start_time": "2021-10-25T17:41:32.500Z"
   },
   {
    "duration": 14,
    "start_time": "2021-10-25T17:41:32.509Z"
   },
   {
    "duration": 33,
    "start_time": "2021-10-25T17:41:32.559Z"
   },
   {
    "duration": 36,
    "start_time": "2021-10-25T17:41:32.595Z"
   },
   {
    "duration": 30,
    "start_time": "2021-10-25T17:41:32.634Z"
   },
   {
    "duration": 20,
    "start_time": "2021-10-25T17:41:35.138Z"
   },
   {
    "duration": 281,
    "start_time": "2021-11-07T12:22:49.039Z"
   },
   {
    "duration": 238,
    "start_time": "2021-11-07T12:22:55.584Z"
   }
  ],
  "kernelspec": {
   "display_name": "Python 3 (ipykernel)",
   "language": "python",
   "name": "python3"
  },
  "language_info": {
   "codemirror_mode": {
    "name": "ipython",
    "version": 3
   },
   "file_extension": ".py",
   "mimetype": "text/x-python",
   "name": "python",
   "nbconvert_exporter": "python",
   "pygments_lexer": "ipython3",
   "version": "3.8.9"
  },
  "toc": {
   "base_numbering": 1,
   "nav_menu": {},
   "number_sections": true,
   "sideBar": true,
   "skip_h1_title": true,
   "title_cell": "Table of Contents",
   "title_sidebar": "Contents",
   "toc_cell": false,
   "toc_position": {
    "height": "calc(100% - 180px)",
    "left": "10px",
    "top": "150px",
    "width": "165px"
   },
   "toc_section_display": true,
   "toc_window_display": false
  }
 },
 "nbformat": 4,
 "nbformat_minor": 4
}
